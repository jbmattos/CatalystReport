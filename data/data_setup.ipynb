{
 "cells": [
  {
   "cell_type": "code",
   "execution_count": 1,
   "id": "7015c615-5a7e-41ef-ba1e-4a78aca35018",
   "metadata": {},
   "outputs": [],
   "source": [
    "import numpy as np\n",
    "import pandas as pd\n",
    "import warnings\n",
    "from datasets import get_catalyst_data"
   ]
  },
  {
   "cell_type": "markdown",
   "id": "f190a6e1-2858-45cc-bb52-8b80f4b99236",
   "metadata": {},
   "source": [
    "# DIRECTLY FILE_PATH INFO"
   ]
  },
  {
   "cell_type": "markdown",
   "id": "50ae65f0-e12a-4940-9f71-d7cedce41f49",
   "metadata": {
    "tags": []
   },
   "source": [
    "## LOAD XLSX DATA FROM ALL FUNDS INTO < pd.ExcelFile >"
   ]
  },
  {
   "cell_type": "code",
   "execution_count": 2,
   "id": "05a7766d-6510-4c76-b23c-1cd1c692bbaf",
   "metadata": {},
   "outputs": [
    {
     "name": "stdout",
     "output_type": "stream",
     "text": [
      "Funds loaded: ['f3', 'f4', 'f5', 'f6', 'f7', 'f8']\n"
     ]
    }
   ],
   "source": [
    "path = \"/home/julianabmattos/GitRepositories/CatalystReport/data/data_files/\"\n",
    "funds = ['f3','f4','f5','f6','f7','f8']\n",
    "files = [\"Fund3 Voting results.xlsx\",\n",
    "         \"Fund4 Voting results.xlsx\",\n",
    "         \"Fund5 Voting results.xlsx\",\n",
    "         \"Fund6 Voting results.xlsx\",\n",
    "         \"Fund7 Voting results.xlsx\",\n",
    "         \"Fund8 Voting results.xlsx\"]\n",
    "dbs_from_xls = {}\n",
    "for f, file in zip(funds, files):\n",
    "    dbs_from_xls[f] = pd.ExcelFile(path+file)\n",
    "print('Funds loaded: {}'.format(list(dbs_from_xls.keys())))"
   ]
  },
  {
   "cell_type": "markdown",
   "id": "3c15d43b-3208-4044-aa9c-94eccc757f80",
   "metadata": {},
   "source": [
    "## SHEETS NAMES: the challenges from each fund"
   ]
  },
  {
   "cell_type": "code",
   "execution_count": 3,
   "id": "24ff280b-bf4a-4178-9d16-95cc746ee42e",
   "metadata": {},
   "outputs": [
    {
     "name": "stdout",
     "output_type": "stream",
     "text": [
      "Sheets by fund:\n",
      "\n",
      "f3: ['DApp creation', 'Developer ecosystem', 'Community choice', 'Validation']\n",
      "4\n",
      "\n",
      "f4: ['DApp&Integrations', 'Developer ecosystem', 'Distributed decision making', 'Proposer Outreach', 'Catalyst Value Onboarding', 'Local Community Centers', 'Fund6 Challenge Setting', 'Sponsored by leftovers', 'Validation']\n",
      "9\n",
      "\n",
      "f5: ['Developer ecosystem', 'DApp&Integrations', 'Distributed decision making', 'Proposer Outreach', 'Catalyst Value Onboarding', 'Metadata challenge', 'Grow Africa, Grow Cardano wv', 'Scale-UP Cardanos DeFi Ecosyste', 'Fund7 Challenge Setting wv', 'Sponsored by leftovers', 'Validation']\n",
      "11\n",
      "\n",
      "f6: ['Developer ecosystem', 'DApps & Integrations', 'Distributed decision making', 'Proposer outreach', 'Catalyst value onboarding', 'Metadata', 'Grow Africa, Grow Cardano', 'Scale-UP Cardano’s DeFi Ecosyst', 'Cardano Emerging Threat Alarm', 'Multilingual resources', 'DeFi and Microlending for Afric', 'DLT Entrepreneurship Toolbox', 'Partnerships for Global Adoptio', 'NFT Business models', 'Atala PRISM DID Mass-Scale Adop', 'Disaster When all is at stake', 'Scale-UP Cardano’s Community Hu', 'Improve and Grow Auditability', 'Fund7 challenge setting', 'Sponsored by leftovers', 'Withdrawals', 'Validation']\n",
      "22\n",
      "\n",
      "f7: ['Template', 'A.I. & SingularityNet a $5T mar', 'Accelerate Decentralized Identi', 'Boosting Cardanos DeFi', 'Catalyst - Rapid Funding Mechan', 'Catalyst Accelerator & Mentors', 'Catalyst Natives COTI Pay with ', 'Community Events', 'Connecting Japan日本 Community', 'DAOs ❤ Cardano', 'DApps & Integrations', 'Disarm cyber disinformation att', 'Gamers On-Chained', 'Global Sustainable Indep. SPOs', 'Grow Latin America, Grow Cardan', 'Improve and Grow Auditability', 'Lobbying for favorable legislat', 'MiniLow-Budget Dapps & Integrat', 'Miscellaneous Challenge', 'Multilingual resources', 'Nation Building Dapps', 'New SPO Business Opportunities', 'Open Source Developer Ecosystem', 'Scale-UP Cardanos Community Hub', 'Seeding Cardanos Grassroots DeF', 'Fund8 challenge setting', 'Withdrawals', 'Sponsored by leftovers', 'Validation']\n",
      "29\n",
      "\n",
      "f8: ['Template', 'Accelerate Decentralized Identi', 'Business Solutions (B2B & B2C)', 'Cardano scaling solutions', 'Community Advisor Improvements', 'Cross-Chain Collaboration', 'DApps and Integrations', 'Developer Ecosystem', 'Film + Media (FAM) creatives un', 'Gamers On - Chained', 'Grow Africa, Grow Cardano', 'Grow East Asia, Grow Cardano', 'Grow India, Grow Cardano', 'Improve and Grow Auditability', 'Lobbying for favorable legislat', 'Miscellaneous Challenge', 'Nation Building Dapps', 'New Member Onboarding', 'Open Source Development Ecosyst', 'Open Standards & Interoperabili', 'Scale-UP Cardanos Community Hub', 'Self-Sovereign Identity', 'The Great Migration (from Ether', 'Fund9 challenge setting', 'Funded by leftovers', 'Validation']\n",
      "26\n",
      "\n"
     ]
    }
   ],
   "source": [
    "sheets = {}\n",
    "print('Sheets by fund:\\n')\n",
    "for f, xls in dbs_from_xls.items():\n",
    "    sheets[f] = list(dbs_from_xls[f].sheet_names)\n",
    "    print(\"{}: {}\".format(f, sheets[f]))\n",
    "    print(len(sheets[f]))\n",
    "    print()"
   ]
  },
  {
   "cell_type": "markdown",
   "id": "2f5b96e9-e22c-4c4e-acd7-72924613264b",
   "metadata": {},
   "source": [
    "# VALIDATION DATAFRAME"
   ]
  },
  {
   "cell_type": "markdown",
   "id": "f0187e0a",
   "metadata": {},
   "source": [
    "## RAW VALIDATION DATA"
   ]
  },
  {
   "cell_type": "code",
   "execution_count": 4,
   "id": "4ee51dcb-d0ad-474a-9b79-38e86e0c7aba",
   "metadata": {
    "scrolled": true
   },
   "outputs": [
    {
     "name": "stdout",
     "output_type": "stream",
     "text": [
      ">> FUND: f3\n",
      "Challenges/sheets: ['Template', 'Accelerate Decentralized Identi', 'Business Solutions (B2B & B2C)', 'Cardano scaling solutions', 'Community Advisor Improvements', 'Cross-Chain Collaboration', 'DApps and Integrations', 'Developer Ecosystem', 'Film + Media (FAM) creatives un', 'Gamers On - Chained', 'Grow Africa, Grow Cardano', 'Grow East Asia, Grow Cardano', 'Grow India, Grow Cardano', 'Improve and Grow Auditability', 'Lobbying for favorable legislat', 'Miscellaneous Challenge', 'Nation Building Dapps', 'New Member Onboarding', 'Open Source Development Ecosyst', 'Open Standards & Interoperabili', 'Scale-UP Cardanos Community Hub', 'Self-Sovereign Identity', 'The Great Migration (from Ether', 'Fund9 challenge setting', 'Funded by leftovers', 'Validation']\n",
      "#Challenges/sheets: 26\n",
      "Validation df:\n"
     ]
    },
    {
     "data": {
      "text/html": [
       "<div>\n",
       "<style scoped>\n",
       "    .dataframe tbody tr th:only-of-type {\n",
       "        vertical-align: middle;\n",
       "    }\n",
       "\n",
       "    .dataframe tbody tr th {\n",
       "        vertical-align: top;\n",
       "    }\n",
       "\n",
       "    .dataframe thead th {\n",
       "        text-align: right;\n",
       "    }\n",
       "</style>\n",
       "<table border=\"1\" class=\"dataframe\">\n",
       "  <thead>\n",
       "    <tr style=\"text-align: right;\">\n",
       "      <th></th>\n",
       "      <th>Fund size:</th>\n",
       "      <th>Unnamed: 1</th>\n",
       "      <th>Unnamed: 2</th>\n",
       "    </tr>\n",
       "  </thead>\n",
       "  <tbody>\n",
       "    <tr>\n",
       "      <th>0</th>\n",
       "      <td>NaN</td>\n",
       "      <td>Accelerate Decentralized Identity</td>\n",
       "      <td>5.000000e+05</td>\n",
       "    </tr>\n",
       "    <tr>\n",
       "      <th>1</th>\n",
       "      <td>NaN</td>\n",
       "      <td>Business Solutions (B2B &amp; B2C)</td>\n",
       "      <td>1.000000e+06</td>\n",
       "    </tr>\n",
       "    <tr>\n",
       "      <th>2</th>\n",
       "      <td>NaN</td>\n",
       "      <td>Cardano scaling solutions</td>\n",
       "      <td>1.000000e+06</td>\n",
       "    </tr>\n",
       "    <tr>\n",
       "      <th>3</th>\n",
       "      <td>NaN</td>\n",
       "      <td>Community Advisor Improvements</td>\n",
       "      <td>1.000000e+05</td>\n",
       "    </tr>\n",
       "    <tr>\n",
       "      <th>4</th>\n",
       "      <td>NaN</td>\n",
       "      <td>Cross-Chain Collaboration</td>\n",
       "      <td>4.000000e+05</td>\n",
       "    </tr>\n",
       "    <tr>\n",
       "      <th>5</th>\n",
       "      <td>NaN</td>\n",
       "      <td>DApps and Integrations</td>\n",
       "      <td>2.500000e+06</td>\n",
       "    </tr>\n",
       "    <tr>\n",
       "      <th>6</th>\n",
       "      <td>NaN</td>\n",
       "      <td>Developer Ecosystem</td>\n",
       "      <td>1.000000e+06</td>\n",
       "    </tr>\n",
       "    <tr>\n",
       "      <th>7</th>\n",
       "      <td>NaN</td>\n",
       "      <td>Film + Media (FAM) creatives unite!</td>\n",
       "      <td>1.500000e+05</td>\n",
       "    </tr>\n",
       "    <tr>\n",
       "      <th>8</th>\n",
       "      <td>NaN</td>\n",
       "      <td>Gamers On - Chained</td>\n",
       "      <td>5.000000e+05</td>\n",
       "    </tr>\n",
       "    <tr>\n",
       "      <th>9</th>\n",
       "      <td>NaN</td>\n",
       "      <td>Grow Africa, Grow Cardano</td>\n",
       "      <td>2.500000e+05</td>\n",
       "    </tr>\n",
       "    <tr>\n",
       "      <th>10</th>\n",
       "      <td>NaN</td>\n",
       "      <td>Grow East Asia, Grow Cardano</td>\n",
       "      <td>1.500000e+05</td>\n",
       "    </tr>\n",
       "    <tr>\n",
       "      <th>11</th>\n",
       "      <td>NaN</td>\n",
       "      <td>Grow India, Grow Cardano</td>\n",
       "      <td>1.500000e+05</td>\n",
       "    </tr>\n",
       "    <tr>\n",
       "      <th>12</th>\n",
       "      <td>NaN</td>\n",
       "      <td>Improve and Grow Auditability</td>\n",
       "      <td>2.000000e+05</td>\n",
       "    </tr>\n",
       "    <tr>\n",
       "      <th>13</th>\n",
       "      <td>NaN</td>\n",
       "      <td>Lobbying for favorable legislation</td>\n",
       "      <td>3.000000e+05</td>\n",
       "    </tr>\n",
       "    <tr>\n",
       "      <th>14</th>\n",
       "      <td>NaN</td>\n",
       "      <td>Miscellaneous Challenge</td>\n",
       "      <td>5.000000e+05</td>\n",
       "    </tr>\n",
       "    <tr>\n",
       "      <th>15</th>\n",
       "      <td>NaN</td>\n",
       "      <td>Nation Building Dapps</td>\n",
       "      <td>8.000000e+05</td>\n",
       "    </tr>\n",
       "    <tr>\n",
       "      <th>16</th>\n",
       "      <td>NaN</td>\n",
       "      <td>New Member Onboarding</td>\n",
       "      <td>2.000000e+05</td>\n",
       "    </tr>\n",
       "    <tr>\n",
       "      <th>17</th>\n",
       "      <td>NaN</td>\n",
       "      <td>Open Source Development Ecosystem</td>\n",
       "      <td>1.200000e+06</td>\n",
       "    </tr>\n",
       "    <tr>\n",
       "      <th>18</th>\n",
       "      <td>NaN</td>\n",
       "      <td>Open Standards &amp; Interoperability</td>\n",
       "      <td>5.000000e+05</td>\n",
       "    </tr>\n",
       "    <tr>\n",
       "      <th>19</th>\n",
       "      <td>NaN</td>\n",
       "      <td>Scale-UP Cardano's Community Hubs</td>\n",
       "      <td>5.000000e+05</td>\n",
       "    </tr>\n",
       "    <tr>\n",
       "      <th>20</th>\n",
       "      <td>NaN</td>\n",
       "      <td>Self-Sovereign Identity</td>\n",
       "      <td>4.000000e+05</td>\n",
       "    </tr>\n",
       "    <tr>\n",
       "      <th>21</th>\n",
       "      <td>NaN</td>\n",
       "      <td>The Great Migration (from Ethereum)</td>\n",
       "      <td>5.000000e+05</td>\n",
       "    </tr>\n",
       "    <tr>\n",
       "      <th>22</th>\n",
       "      <td>NaN</td>\n",
       "      <td>Fund9 challenge setting</td>\n",
       "      <td>1.280000e+07</td>\n",
       "    </tr>\n",
       "    <tr>\n",
       "      <th>23</th>\n",
       "      <td>NaN</td>\n",
       "      <td>NaN</td>\n",
       "      <td>NaN</td>\n",
       "    </tr>\n",
       "    <tr>\n",
       "      <th>24</th>\n",
       "      <td>Total registered stake</td>\n",
       "      <td>NaN</td>\n",
       "      <td>3.680777e+09</td>\n",
       "    </tr>\n",
       "    <tr>\n",
       "      <th>25</th>\n",
       "      <td>1%=</td>\n",
       "      <td>NaN</td>\n",
       "      <td>3.680777e+07</td>\n",
       "    </tr>\n",
       "    <tr>\n",
       "      <th>26</th>\n",
       "      <td>NaN</td>\n",
       "      <td>NaN</td>\n",
       "      <td>NaN</td>\n",
       "    </tr>\n",
       "    <tr>\n",
       "      <th>27</th>\n",
       "      <td>Leftovers</td>\n",
       "      <td>NaN</td>\n",
       "      <td>NaN</td>\n",
       "    </tr>\n",
       "    <tr>\n",
       "      <th>28</th>\n",
       "      <td>NaN</td>\n",
       "      <td>Sum of the leftovers</td>\n",
       "      <td>2.628700e+05</td>\n",
       "    </tr>\n",
       "  </tbody>\n",
       "</table>\n",
       "</div>"
      ],
      "text/plain": [
       "                Fund size:                           Unnamed: 1    Unnamed: 2\n",
       "0                      NaN    Accelerate Decentralized Identity  5.000000e+05\n",
       "1                      NaN       Business Solutions (B2B & B2C)  1.000000e+06\n",
       "2                      NaN            Cardano scaling solutions  1.000000e+06\n",
       "3                      NaN       Community Advisor Improvements  1.000000e+05\n",
       "4                      NaN            Cross-Chain Collaboration  4.000000e+05\n",
       "5                      NaN               DApps and Integrations  2.500000e+06\n",
       "6                      NaN                  Developer Ecosystem  1.000000e+06\n",
       "7                      NaN  Film + Media (FAM) creatives unite!  1.500000e+05\n",
       "8                      NaN                  Gamers On - Chained  5.000000e+05\n",
       "9                      NaN            Grow Africa, Grow Cardano  2.500000e+05\n",
       "10                     NaN         Grow East Asia, Grow Cardano  1.500000e+05\n",
       "11                     NaN             Grow India, Grow Cardano  1.500000e+05\n",
       "12                     NaN        Improve and Grow Auditability  2.000000e+05\n",
       "13                     NaN   Lobbying for favorable legislation  3.000000e+05\n",
       "14                     NaN              Miscellaneous Challenge  5.000000e+05\n",
       "15                     NaN                Nation Building Dapps  8.000000e+05\n",
       "16                     NaN                New Member Onboarding  2.000000e+05\n",
       "17                     NaN    Open Source Development Ecosystem  1.200000e+06\n",
       "18                     NaN    Open Standards & Interoperability  5.000000e+05\n",
       "19                     NaN    Scale-UP Cardano's Community Hubs  5.000000e+05\n",
       "20                     NaN              Self-Sovereign Identity  4.000000e+05\n",
       "21                     NaN  The Great Migration (from Ethereum)  5.000000e+05\n",
       "22                     NaN              Fund9 challenge setting  1.280000e+07\n",
       "23                     NaN                                  NaN           NaN\n",
       "24  Total registered stake                                  NaN  3.680777e+09\n",
       "25                     1%=                                  NaN  3.680777e+07\n",
       "26                     NaN                                  NaN           NaN\n",
       "27               Leftovers                                  NaN           NaN\n",
       "28                     NaN                 Sum of the leftovers  2.628700e+05"
      ]
     },
     "metadata": {},
     "output_type": "display_data"
    },
    {
     "name": "stdout",
     "output_type": "stream",
     "text": [
      ">> FUND: f4\n",
      "Challenges/sheets: ['Template', 'Accelerate Decentralized Identi', 'Business Solutions (B2B & B2C)', 'Cardano scaling solutions', 'Community Advisor Improvements', 'Cross-Chain Collaboration', 'DApps and Integrations', 'Developer Ecosystem', 'Film + Media (FAM) creatives un', 'Gamers On - Chained', 'Grow Africa, Grow Cardano', 'Grow East Asia, Grow Cardano', 'Grow India, Grow Cardano', 'Improve and Grow Auditability', 'Lobbying for favorable legislat', 'Miscellaneous Challenge', 'Nation Building Dapps', 'New Member Onboarding', 'Open Source Development Ecosyst', 'Open Standards & Interoperabili', 'Scale-UP Cardanos Community Hub', 'Self-Sovereign Identity', 'The Great Migration (from Ether', 'Fund9 challenge setting', 'Funded by leftovers', 'Validation']\n",
      "#Challenges/sheets: 26\n",
      "Validation df:\n"
     ]
    },
    {
     "data": {
      "text/html": [
       "<div>\n",
       "<style scoped>\n",
       "    .dataframe tbody tr th:only-of-type {\n",
       "        vertical-align: middle;\n",
       "    }\n",
       "\n",
       "    .dataframe tbody tr th {\n",
       "        vertical-align: top;\n",
       "    }\n",
       "\n",
       "    .dataframe thead th {\n",
       "        text-align: right;\n",
       "    }\n",
       "</style>\n",
       "<table border=\"1\" class=\"dataframe\">\n",
       "  <thead>\n",
       "    <tr style=\"text-align: right;\">\n",
       "      <th></th>\n",
       "      <th>Fund size:</th>\n",
       "      <th>Unnamed: 1</th>\n",
       "      <th>Unnamed: 2</th>\n",
       "    </tr>\n",
       "  </thead>\n",
       "  <tbody>\n",
       "    <tr>\n",
       "      <th>0</th>\n",
       "      <td>NaN</td>\n",
       "      <td>Accelerate Decentralized Identity</td>\n",
       "      <td>5.000000e+05</td>\n",
       "    </tr>\n",
       "    <tr>\n",
       "      <th>1</th>\n",
       "      <td>NaN</td>\n",
       "      <td>Business Solutions (B2B &amp; B2C)</td>\n",
       "      <td>1.000000e+06</td>\n",
       "    </tr>\n",
       "    <tr>\n",
       "      <th>2</th>\n",
       "      <td>NaN</td>\n",
       "      <td>Cardano scaling solutions</td>\n",
       "      <td>1.000000e+06</td>\n",
       "    </tr>\n",
       "    <tr>\n",
       "      <th>3</th>\n",
       "      <td>NaN</td>\n",
       "      <td>Community Advisor Improvements</td>\n",
       "      <td>1.000000e+05</td>\n",
       "    </tr>\n",
       "    <tr>\n",
       "      <th>4</th>\n",
       "      <td>NaN</td>\n",
       "      <td>Cross-Chain Collaboration</td>\n",
       "      <td>4.000000e+05</td>\n",
       "    </tr>\n",
       "    <tr>\n",
       "      <th>5</th>\n",
       "      <td>NaN</td>\n",
       "      <td>DApps and Integrations</td>\n",
       "      <td>2.500000e+06</td>\n",
       "    </tr>\n",
       "    <tr>\n",
       "      <th>6</th>\n",
       "      <td>NaN</td>\n",
       "      <td>Developer Ecosystem</td>\n",
       "      <td>1.000000e+06</td>\n",
       "    </tr>\n",
       "    <tr>\n",
       "      <th>7</th>\n",
       "      <td>NaN</td>\n",
       "      <td>Film + Media (FAM) creatives unite!</td>\n",
       "      <td>1.500000e+05</td>\n",
       "    </tr>\n",
       "    <tr>\n",
       "      <th>8</th>\n",
       "      <td>NaN</td>\n",
       "      <td>Gamers On - Chained</td>\n",
       "      <td>5.000000e+05</td>\n",
       "    </tr>\n",
       "    <tr>\n",
       "      <th>9</th>\n",
       "      <td>NaN</td>\n",
       "      <td>Grow Africa, Grow Cardano</td>\n",
       "      <td>2.500000e+05</td>\n",
       "    </tr>\n",
       "    <tr>\n",
       "      <th>10</th>\n",
       "      <td>NaN</td>\n",
       "      <td>Grow East Asia, Grow Cardano</td>\n",
       "      <td>1.500000e+05</td>\n",
       "    </tr>\n",
       "    <tr>\n",
       "      <th>11</th>\n",
       "      <td>NaN</td>\n",
       "      <td>Grow India, Grow Cardano</td>\n",
       "      <td>1.500000e+05</td>\n",
       "    </tr>\n",
       "    <tr>\n",
       "      <th>12</th>\n",
       "      <td>NaN</td>\n",
       "      <td>Improve and Grow Auditability</td>\n",
       "      <td>2.000000e+05</td>\n",
       "    </tr>\n",
       "    <tr>\n",
       "      <th>13</th>\n",
       "      <td>NaN</td>\n",
       "      <td>Lobbying for favorable legislation</td>\n",
       "      <td>3.000000e+05</td>\n",
       "    </tr>\n",
       "    <tr>\n",
       "      <th>14</th>\n",
       "      <td>NaN</td>\n",
       "      <td>Miscellaneous Challenge</td>\n",
       "      <td>5.000000e+05</td>\n",
       "    </tr>\n",
       "    <tr>\n",
       "      <th>15</th>\n",
       "      <td>NaN</td>\n",
       "      <td>Nation Building Dapps</td>\n",
       "      <td>8.000000e+05</td>\n",
       "    </tr>\n",
       "    <tr>\n",
       "      <th>16</th>\n",
       "      <td>NaN</td>\n",
       "      <td>New Member Onboarding</td>\n",
       "      <td>2.000000e+05</td>\n",
       "    </tr>\n",
       "    <tr>\n",
       "      <th>17</th>\n",
       "      <td>NaN</td>\n",
       "      <td>Open Source Development Ecosystem</td>\n",
       "      <td>1.200000e+06</td>\n",
       "    </tr>\n",
       "    <tr>\n",
       "      <th>18</th>\n",
       "      <td>NaN</td>\n",
       "      <td>Open Standards &amp; Interoperability</td>\n",
       "      <td>5.000000e+05</td>\n",
       "    </tr>\n",
       "    <tr>\n",
       "      <th>19</th>\n",
       "      <td>NaN</td>\n",
       "      <td>Scale-UP Cardano's Community Hubs</td>\n",
       "      <td>5.000000e+05</td>\n",
       "    </tr>\n",
       "    <tr>\n",
       "      <th>20</th>\n",
       "      <td>NaN</td>\n",
       "      <td>Self-Sovereign Identity</td>\n",
       "      <td>4.000000e+05</td>\n",
       "    </tr>\n",
       "    <tr>\n",
       "      <th>21</th>\n",
       "      <td>NaN</td>\n",
       "      <td>The Great Migration (from Ethereum)</td>\n",
       "      <td>5.000000e+05</td>\n",
       "    </tr>\n",
       "    <tr>\n",
       "      <th>22</th>\n",
       "      <td>NaN</td>\n",
       "      <td>Fund9 challenge setting</td>\n",
       "      <td>1.280000e+07</td>\n",
       "    </tr>\n",
       "    <tr>\n",
       "      <th>23</th>\n",
       "      <td>NaN</td>\n",
       "      <td>NaN</td>\n",
       "      <td>NaN</td>\n",
       "    </tr>\n",
       "    <tr>\n",
       "      <th>24</th>\n",
       "      <td>Total registered stake</td>\n",
       "      <td>NaN</td>\n",
       "      <td>3.680777e+09</td>\n",
       "    </tr>\n",
       "    <tr>\n",
       "      <th>25</th>\n",
       "      <td>1%=</td>\n",
       "      <td>NaN</td>\n",
       "      <td>3.680777e+07</td>\n",
       "    </tr>\n",
       "    <tr>\n",
       "      <th>26</th>\n",
       "      <td>NaN</td>\n",
       "      <td>NaN</td>\n",
       "      <td>NaN</td>\n",
       "    </tr>\n",
       "    <tr>\n",
       "      <th>27</th>\n",
       "      <td>Leftovers</td>\n",
       "      <td>NaN</td>\n",
       "      <td>NaN</td>\n",
       "    </tr>\n",
       "    <tr>\n",
       "      <th>28</th>\n",
       "      <td>NaN</td>\n",
       "      <td>Sum of the leftovers</td>\n",
       "      <td>2.628700e+05</td>\n",
       "    </tr>\n",
       "  </tbody>\n",
       "</table>\n",
       "</div>"
      ],
      "text/plain": [
       "                Fund size:                           Unnamed: 1    Unnamed: 2\n",
       "0                      NaN    Accelerate Decentralized Identity  5.000000e+05\n",
       "1                      NaN       Business Solutions (B2B & B2C)  1.000000e+06\n",
       "2                      NaN            Cardano scaling solutions  1.000000e+06\n",
       "3                      NaN       Community Advisor Improvements  1.000000e+05\n",
       "4                      NaN            Cross-Chain Collaboration  4.000000e+05\n",
       "5                      NaN               DApps and Integrations  2.500000e+06\n",
       "6                      NaN                  Developer Ecosystem  1.000000e+06\n",
       "7                      NaN  Film + Media (FAM) creatives unite!  1.500000e+05\n",
       "8                      NaN                  Gamers On - Chained  5.000000e+05\n",
       "9                      NaN            Grow Africa, Grow Cardano  2.500000e+05\n",
       "10                     NaN         Grow East Asia, Grow Cardano  1.500000e+05\n",
       "11                     NaN             Grow India, Grow Cardano  1.500000e+05\n",
       "12                     NaN        Improve and Grow Auditability  2.000000e+05\n",
       "13                     NaN   Lobbying for favorable legislation  3.000000e+05\n",
       "14                     NaN              Miscellaneous Challenge  5.000000e+05\n",
       "15                     NaN                Nation Building Dapps  8.000000e+05\n",
       "16                     NaN                New Member Onboarding  2.000000e+05\n",
       "17                     NaN    Open Source Development Ecosystem  1.200000e+06\n",
       "18                     NaN    Open Standards & Interoperability  5.000000e+05\n",
       "19                     NaN    Scale-UP Cardano's Community Hubs  5.000000e+05\n",
       "20                     NaN              Self-Sovereign Identity  4.000000e+05\n",
       "21                     NaN  The Great Migration (from Ethereum)  5.000000e+05\n",
       "22                     NaN              Fund9 challenge setting  1.280000e+07\n",
       "23                     NaN                                  NaN           NaN\n",
       "24  Total registered stake                                  NaN  3.680777e+09\n",
       "25                     1%=                                  NaN  3.680777e+07\n",
       "26                     NaN                                  NaN           NaN\n",
       "27               Leftovers                                  NaN           NaN\n",
       "28                     NaN                 Sum of the leftovers  2.628700e+05"
      ]
     },
     "metadata": {},
     "output_type": "display_data"
    },
    {
     "name": "stdout",
     "output_type": "stream",
     "text": [
      ">> FUND: f5\n",
      "Challenges/sheets: ['Template', 'Accelerate Decentralized Identi', 'Business Solutions (B2B & B2C)', 'Cardano scaling solutions', 'Community Advisor Improvements', 'Cross-Chain Collaboration', 'DApps and Integrations', 'Developer Ecosystem', 'Film + Media (FAM) creatives un', 'Gamers On - Chained', 'Grow Africa, Grow Cardano', 'Grow East Asia, Grow Cardano', 'Grow India, Grow Cardano', 'Improve and Grow Auditability', 'Lobbying for favorable legislat', 'Miscellaneous Challenge', 'Nation Building Dapps', 'New Member Onboarding', 'Open Source Development Ecosyst', 'Open Standards & Interoperabili', 'Scale-UP Cardanos Community Hub', 'Self-Sovereign Identity', 'The Great Migration (from Ether', 'Fund9 challenge setting', 'Funded by leftovers', 'Validation']\n",
      "#Challenges/sheets: 26\n",
      "Validation df:\n"
     ]
    },
    {
     "data": {
      "text/html": [
       "<div>\n",
       "<style scoped>\n",
       "    .dataframe tbody tr th:only-of-type {\n",
       "        vertical-align: middle;\n",
       "    }\n",
       "\n",
       "    .dataframe tbody tr th {\n",
       "        vertical-align: top;\n",
       "    }\n",
       "\n",
       "    .dataframe thead th {\n",
       "        text-align: right;\n",
       "    }\n",
       "</style>\n",
       "<table border=\"1\" class=\"dataframe\">\n",
       "  <thead>\n",
       "    <tr style=\"text-align: right;\">\n",
       "      <th></th>\n",
       "      <th>Fund size:</th>\n",
       "      <th>Unnamed: 1</th>\n",
       "      <th>Unnamed: 2</th>\n",
       "    </tr>\n",
       "  </thead>\n",
       "  <tbody>\n",
       "    <tr>\n",
       "      <th>0</th>\n",
       "      <td>NaN</td>\n",
       "      <td>Accelerate Decentralized Identity</td>\n",
       "      <td>5.000000e+05</td>\n",
       "    </tr>\n",
       "    <tr>\n",
       "      <th>1</th>\n",
       "      <td>NaN</td>\n",
       "      <td>Business Solutions (B2B &amp; B2C)</td>\n",
       "      <td>1.000000e+06</td>\n",
       "    </tr>\n",
       "    <tr>\n",
       "      <th>2</th>\n",
       "      <td>NaN</td>\n",
       "      <td>Cardano scaling solutions</td>\n",
       "      <td>1.000000e+06</td>\n",
       "    </tr>\n",
       "    <tr>\n",
       "      <th>3</th>\n",
       "      <td>NaN</td>\n",
       "      <td>Community Advisor Improvements</td>\n",
       "      <td>1.000000e+05</td>\n",
       "    </tr>\n",
       "    <tr>\n",
       "      <th>4</th>\n",
       "      <td>NaN</td>\n",
       "      <td>Cross-Chain Collaboration</td>\n",
       "      <td>4.000000e+05</td>\n",
       "    </tr>\n",
       "    <tr>\n",
       "      <th>5</th>\n",
       "      <td>NaN</td>\n",
       "      <td>DApps and Integrations</td>\n",
       "      <td>2.500000e+06</td>\n",
       "    </tr>\n",
       "    <tr>\n",
       "      <th>6</th>\n",
       "      <td>NaN</td>\n",
       "      <td>Developer Ecosystem</td>\n",
       "      <td>1.000000e+06</td>\n",
       "    </tr>\n",
       "    <tr>\n",
       "      <th>7</th>\n",
       "      <td>NaN</td>\n",
       "      <td>Film + Media (FAM) creatives unite!</td>\n",
       "      <td>1.500000e+05</td>\n",
       "    </tr>\n",
       "    <tr>\n",
       "      <th>8</th>\n",
       "      <td>NaN</td>\n",
       "      <td>Gamers On - Chained</td>\n",
       "      <td>5.000000e+05</td>\n",
       "    </tr>\n",
       "    <tr>\n",
       "      <th>9</th>\n",
       "      <td>NaN</td>\n",
       "      <td>Grow Africa, Grow Cardano</td>\n",
       "      <td>2.500000e+05</td>\n",
       "    </tr>\n",
       "    <tr>\n",
       "      <th>10</th>\n",
       "      <td>NaN</td>\n",
       "      <td>Grow East Asia, Grow Cardano</td>\n",
       "      <td>1.500000e+05</td>\n",
       "    </tr>\n",
       "    <tr>\n",
       "      <th>11</th>\n",
       "      <td>NaN</td>\n",
       "      <td>Grow India, Grow Cardano</td>\n",
       "      <td>1.500000e+05</td>\n",
       "    </tr>\n",
       "    <tr>\n",
       "      <th>12</th>\n",
       "      <td>NaN</td>\n",
       "      <td>Improve and Grow Auditability</td>\n",
       "      <td>2.000000e+05</td>\n",
       "    </tr>\n",
       "    <tr>\n",
       "      <th>13</th>\n",
       "      <td>NaN</td>\n",
       "      <td>Lobbying for favorable legislation</td>\n",
       "      <td>3.000000e+05</td>\n",
       "    </tr>\n",
       "    <tr>\n",
       "      <th>14</th>\n",
       "      <td>NaN</td>\n",
       "      <td>Miscellaneous Challenge</td>\n",
       "      <td>5.000000e+05</td>\n",
       "    </tr>\n",
       "    <tr>\n",
       "      <th>15</th>\n",
       "      <td>NaN</td>\n",
       "      <td>Nation Building Dapps</td>\n",
       "      <td>8.000000e+05</td>\n",
       "    </tr>\n",
       "    <tr>\n",
       "      <th>16</th>\n",
       "      <td>NaN</td>\n",
       "      <td>New Member Onboarding</td>\n",
       "      <td>2.000000e+05</td>\n",
       "    </tr>\n",
       "    <tr>\n",
       "      <th>17</th>\n",
       "      <td>NaN</td>\n",
       "      <td>Open Source Development Ecosystem</td>\n",
       "      <td>1.200000e+06</td>\n",
       "    </tr>\n",
       "    <tr>\n",
       "      <th>18</th>\n",
       "      <td>NaN</td>\n",
       "      <td>Open Standards &amp; Interoperability</td>\n",
       "      <td>5.000000e+05</td>\n",
       "    </tr>\n",
       "    <tr>\n",
       "      <th>19</th>\n",
       "      <td>NaN</td>\n",
       "      <td>Scale-UP Cardano's Community Hubs</td>\n",
       "      <td>5.000000e+05</td>\n",
       "    </tr>\n",
       "    <tr>\n",
       "      <th>20</th>\n",
       "      <td>NaN</td>\n",
       "      <td>Self-Sovereign Identity</td>\n",
       "      <td>4.000000e+05</td>\n",
       "    </tr>\n",
       "    <tr>\n",
       "      <th>21</th>\n",
       "      <td>NaN</td>\n",
       "      <td>The Great Migration (from Ethereum)</td>\n",
       "      <td>5.000000e+05</td>\n",
       "    </tr>\n",
       "    <tr>\n",
       "      <th>22</th>\n",
       "      <td>NaN</td>\n",
       "      <td>Fund9 challenge setting</td>\n",
       "      <td>1.280000e+07</td>\n",
       "    </tr>\n",
       "    <tr>\n",
       "      <th>23</th>\n",
       "      <td>NaN</td>\n",
       "      <td>NaN</td>\n",
       "      <td>NaN</td>\n",
       "    </tr>\n",
       "    <tr>\n",
       "      <th>24</th>\n",
       "      <td>Total registered stake</td>\n",
       "      <td>NaN</td>\n",
       "      <td>3.680777e+09</td>\n",
       "    </tr>\n",
       "    <tr>\n",
       "      <th>25</th>\n",
       "      <td>1%=</td>\n",
       "      <td>NaN</td>\n",
       "      <td>3.680777e+07</td>\n",
       "    </tr>\n",
       "    <tr>\n",
       "      <th>26</th>\n",
       "      <td>NaN</td>\n",
       "      <td>NaN</td>\n",
       "      <td>NaN</td>\n",
       "    </tr>\n",
       "    <tr>\n",
       "      <th>27</th>\n",
       "      <td>Leftovers</td>\n",
       "      <td>NaN</td>\n",
       "      <td>NaN</td>\n",
       "    </tr>\n",
       "    <tr>\n",
       "      <th>28</th>\n",
       "      <td>NaN</td>\n",
       "      <td>Sum of the leftovers</td>\n",
       "      <td>2.628700e+05</td>\n",
       "    </tr>\n",
       "  </tbody>\n",
       "</table>\n",
       "</div>"
      ],
      "text/plain": [
       "                Fund size:                           Unnamed: 1    Unnamed: 2\n",
       "0                      NaN    Accelerate Decentralized Identity  5.000000e+05\n",
       "1                      NaN       Business Solutions (B2B & B2C)  1.000000e+06\n",
       "2                      NaN            Cardano scaling solutions  1.000000e+06\n",
       "3                      NaN       Community Advisor Improvements  1.000000e+05\n",
       "4                      NaN            Cross-Chain Collaboration  4.000000e+05\n",
       "5                      NaN               DApps and Integrations  2.500000e+06\n",
       "6                      NaN                  Developer Ecosystem  1.000000e+06\n",
       "7                      NaN  Film + Media (FAM) creatives unite!  1.500000e+05\n",
       "8                      NaN                  Gamers On - Chained  5.000000e+05\n",
       "9                      NaN            Grow Africa, Grow Cardano  2.500000e+05\n",
       "10                     NaN         Grow East Asia, Grow Cardano  1.500000e+05\n",
       "11                     NaN             Grow India, Grow Cardano  1.500000e+05\n",
       "12                     NaN        Improve and Grow Auditability  2.000000e+05\n",
       "13                     NaN   Lobbying for favorable legislation  3.000000e+05\n",
       "14                     NaN              Miscellaneous Challenge  5.000000e+05\n",
       "15                     NaN                Nation Building Dapps  8.000000e+05\n",
       "16                     NaN                New Member Onboarding  2.000000e+05\n",
       "17                     NaN    Open Source Development Ecosystem  1.200000e+06\n",
       "18                     NaN    Open Standards & Interoperability  5.000000e+05\n",
       "19                     NaN    Scale-UP Cardano's Community Hubs  5.000000e+05\n",
       "20                     NaN              Self-Sovereign Identity  4.000000e+05\n",
       "21                     NaN  The Great Migration (from Ethereum)  5.000000e+05\n",
       "22                     NaN              Fund9 challenge setting  1.280000e+07\n",
       "23                     NaN                                  NaN           NaN\n",
       "24  Total registered stake                                  NaN  3.680777e+09\n",
       "25                     1%=                                  NaN  3.680777e+07\n",
       "26                     NaN                                  NaN           NaN\n",
       "27               Leftovers                                  NaN           NaN\n",
       "28                     NaN                 Sum of the leftovers  2.628700e+05"
      ]
     },
     "metadata": {},
     "output_type": "display_data"
    },
    {
     "name": "stdout",
     "output_type": "stream",
     "text": [
      ">> FUND: f6\n",
      "Challenges/sheets: ['Template', 'Accelerate Decentralized Identi', 'Business Solutions (B2B & B2C)', 'Cardano scaling solutions', 'Community Advisor Improvements', 'Cross-Chain Collaboration', 'DApps and Integrations', 'Developer Ecosystem', 'Film + Media (FAM) creatives un', 'Gamers On - Chained', 'Grow Africa, Grow Cardano', 'Grow East Asia, Grow Cardano', 'Grow India, Grow Cardano', 'Improve and Grow Auditability', 'Lobbying for favorable legislat', 'Miscellaneous Challenge', 'Nation Building Dapps', 'New Member Onboarding', 'Open Source Development Ecosyst', 'Open Standards & Interoperabili', 'Scale-UP Cardanos Community Hub', 'Self-Sovereign Identity', 'The Great Migration (from Ether', 'Fund9 challenge setting', 'Funded by leftovers', 'Validation']\n",
      "#Challenges/sheets: 26\n",
      "Validation df:\n"
     ]
    },
    {
     "data": {
      "text/html": [
       "<div>\n",
       "<style scoped>\n",
       "    .dataframe tbody tr th:only-of-type {\n",
       "        vertical-align: middle;\n",
       "    }\n",
       "\n",
       "    .dataframe tbody tr th {\n",
       "        vertical-align: top;\n",
       "    }\n",
       "\n",
       "    .dataframe thead th {\n",
       "        text-align: right;\n",
       "    }\n",
       "</style>\n",
       "<table border=\"1\" class=\"dataframe\">\n",
       "  <thead>\n",
       "    <tr style=\"text-align: right;\">\n",
       "      <th></th>\n",
       "      <th>Fund size:</th>\n",
       "      <th>Unnamed: 1</th>\n",
       "      <th>Unnamed: 2</th>\n",
       "    </tr>\n",
       "  </thead>\n",
       "  <tbody>\n",
       "    <tr>\n",
       "      <th>0</th>\n",
       "      <td>NaN</td>\n",
       "      <td>Accelerate Decentralized Identity</td>\n",
       "      <td>5.000000e+05</td>\n",
       "    </tr>\n",
       "    <tr>\n",
       "      <th>1</th>\n",
       "      <td>NaN</td>\n",
       "      <td>Business Solutions (B2B &amp; B2C)</td>\n",
       "      <td>1.000000e+06</td>\n",
       "    </tr>\n",
       "    <tr>\n",
       "      <th>2</th>\n",
       "      <td>NaN</td>\n",
       "      <td>Cardano scaling solutions</td>\n",
       "      <td>1.000000e+06</td>\n",
       "    </tr>\n",
       "    <tr>\n",
       "      <th>3</th>\n",
       "      <td>NaN</td>\n",
       "      <td>Community Advisor Improvements</td>\n",
       "      <td>1.000000e+05</td>\n",
       "    </tr>\n",
       "    <tr>\n",
       "      <th>4</th>\n",
       "      <td>NaN</td>\n",
       "      <td>Cross-Chain Collaboration</td>\n",
       "      <td>4.000000e+05</td>\n",
       "    </tr>\n",
       "    <tr>\n",
       "      <th>5</th>\n",
       "      <td>NaN</td>\n",
       "      <td>DApps and Integrations</td>\n",
       "      <td>2.500000e+06</td>\n",
       "    </tr>\n",
       "    <tr>\n",
       "      <th>6</th>\n",
       "      <td>NaN</td>\n",
       "      <td>Developer Ecosystem</td>\n",
       "      <td>1.000000e+06</td>\n",
       "    </tr>\n",
       "    <tr>\n",
       "      <th>7</th>\n",
       "      <td>NaN</td>\n",
       "      <td>Film + Media (FAM) creatives unite!</td>\n",
       "      <td>1.500000e+05</td>\n",
       "    </tr>\n",
       "    <tr>\n",
       "      <th>8</th>\n",
       "      <td>NaN</td>\n",
       "      <td>Gamers On - Chained</td>\n",
       "      <td>5.000000e+05</td>\n",
       "    </tr>\n",
       "    <tr>\n",
       "      <th>9</th>\n",
       "      <td>NaN</td>\n",
       "      <td>Grow Africa, Grow Cardano</td>\n",
       "      <td>2.500000e+05</td>\n",
       "    </tr>\n",
       "    <tr>\n",
       "      <th>10</th>\n",
       "      <td>NaN</td>\n",
       "      <td>Grow East Asia, Grow Cardano</td>\n",
       "      <td>1.500000e+05</td>\n",
       "    </tr>\n",
       "    <tr>\n",
       "      <th>11</th>\n",
       "      <td>NaN</td>\n",
       "      <td>Grow India, Grow Cardano</td>\n",
       "      <td>1.500000e+05</td>\n",
       "    </tr>\n",
       "    <tr>\n",
       "      <th>12</th>\n",
       "      <td>NaN</td>\n",
       "      <td>Improve and Grow Auditability</td>\n",
       "      <td>2.000000e+05</td>\n",
       "    </tr>\n",
       "    <tr>\n",
       "      <th>13</th>\n",
       "      <td>NaN</td>\n",
       "      <td>Lobbying for favorable legislation</td>\n",
       "      <td>3.000000e+05</td>\n",
       "    </tr>\n",
       "    <tr>\n",
       "      <th>14</th>\n",
       "      <td>NaN</td>\n",
       "      <td>Miscellaneous Challenge</td>\n",
       "      <td>5.000000e+05</td>\n",
       "    </tr>\n",
       "    <tr>\n",
       "      <th>15</th>\n",
       "      <td>NaN</td>\n",
       "      <td>Nation Building Dapps</td>\n",
       "      <td>8.000000e+05</td>\n",
       "    </tr>\n",
       "    <tr>\n",
       "      <th>16</th>\n",
       "      <td>NaN</td>\n",
       "      <td>New Member Onboarding</td>\n",
       "      <td>2.000000e+05</td>\n",
       "    </tr>\n",
       "    <tr>\n",
       "      <th>17</th>\n",
       "      <td>NaN</td>\n",
       "      <td>Open Source Development Ecosystem</td>\n",
       "      <td>1.200000e+06</td>\n",
       "    </tr>\n",
       "    <tr>\n",
       "      <th>18</th>\n",
       "      <td>NaN</td>\n",
       "      <td>Open Standards &amp; Interoperability</td>\n",
       "      <td>5.000000e+05</td>\n",
       "    </tr>\n",
       "    <tr>\n",
       "      <th>19</th>\n",
       "      <td>NaN</td>\n",
       "      <td>Scale-UP Cardano's Community Hubs</td>\n",
       "      <td>5.000000e+05</td>\n",
       "    </tr>\n",
       "    <tr>\n",
       "      <th>20</th>\n",
       "      <td>NaN</td>\n",
       "      <td>Self-Sovereign Identity</td>\n",
       "      <td>4.000000e+05</td>\n",
       "    </tr>\n",
       "    <tr>\n",
       "      <th>21</th>\n",
       "      <td>NaN</td>\n",
       "      <td>The Great Migration (from Ethereum)</td>\n",
       "      <td>5.000000e+05</td>\n",
       "    </tr>\n",
       "    <tr>\n",
       "      <th>22</th>\n",
       "      <td>NaN</td>\n",
       "      <td>Fund9 challenge setting</td>\n",
       "      <td>1.280000e+07</td>\n",
       "    </tr>\n",
       "    <tr>\n",
       "      <th>23</th>\n",
       "      <td>NaN</td>\n",
       "      <td>NaN</td>\n",
       "      <td>NaN</td>\n",
       "    </tr>\n",
       "    <tr>\n",
       "      <th>24</th>\n",
       "      <td>Total registered stake</td>\n",
       "      <td>NaN</td>\n",
       "      <td>3.680777e+09</td>\n",
       "    </tr>\n",
       "    <tr>\n",
       "      <th>25</th>\n",
       "      <td>1%=</td>\n",
       "      <td>NaN</td>\n",
       "      <td>3.680777e+07</td>\n",
       "    </tr>\n",
       "    <tr>\n",
       "      <th>26</th>\n",
       "      <td>NaN</td>\n",
       "      <td>NaN</td>\n",
       "      <td>NaN</td>\n",
       "    </tr>\n",
       "    <tr>\n",
       "      <th>27</th>\n",
       "      <td>Leftovers</td>\n",
       "      <td>NaN</td>\n",
       "      <td>NaN</td>\n",
       "    </tr>\n",
       "    <tr>\n",
       "      <th>28</th>\n",
       "      <td>NaN</td>\n",
       "      <td>Sum of the leftovers</td>\n",
       "      <td>2.628700e+05</td>\n",
       "    </tr>\n",
       "  </tbody>\n",
       "</table>\n",
       "</div>"
      ],
      "text/plain": [
       "                Fund size:                           Unnamed: 1    Unnamed: 2\n",
       "0                      NaN    Accelerate Decentralized Identity  5.000000e+05\n",
       "1                      NaN       Business Solutions (B2B & B2C)  1.000000e+06\n",
       "2                      NaN            Cardano scaling solutions  1.000000e+06\n",
       "3                      NaN       Community Advisor Improvements  1.000000e+05\n",
       "4                      NaN            Cross-Chain Collaboration  4.000000e+05\n",
       "5                      NaN               DApps and Integrations  2.500000e+06\n",
       "6                      NaN                  Developer Ecosystem  1.000000e+06\n",
       "7                      NaN  Film + Media (FAM) creatives unite!  1.500000e+05\n",
       "8                      NaN                  Gamers On - Chained  5.000000e+05\n",
       "9                      NaN            Grow Africa, Grow Cardano  2.500000e+05\n",
       "10                     NaN         Grow East Asia, Grow Cardano  1.500000e+05\n",
       "11                     NaN             Grow India, Grow Cardano  1.500000e+05\n",
       "12                     NaN        Improve and Grow Auditability  2.000000e+05\n",
       "13                     NaN   Lobbying for favorable legislation  3.000000e+05\n",
       "14                     NaN              Miscellaneous Challenge  5.000000e+05\n",
       "15                     NaN                Nation Building Dapps  8.000000e+05\n",
       "16                     NaN                New Member Onboarding  2.000000e+05\n",
       "17                     NaN    Open Source Development Ecosystem  1.200000e+06\n",
       "18                     NaN    Open Standards & Interoperability  5.000000e+05\n",
       "19                     NaN    Scale-UP Cardano's Community Hubs  5.000000e+05\n",
       "20                     NaN              Self-Sovereign Identity  4.000000e+05\n",
       "21                     NaN  The Great Migration (from Ethereum)  5.000000e+05\n",
       "22                     NaN              Fund9 challenge setting  1.280000e+07\n",
       "23                     NaN                                  NaN           NaN\n",
       "24  Total registered stake                                  NaN  3.680777e+09\n",
       "25                     1%=                                  NaN  3.680777e+07\n",
       "26                     NaN                                  NaN           NaN\n",
       "27               Leftovers                                  NaN           NaN\n",
       "28                     NaN                 Sum of the leftovers  2.628700e+05"
      ]
     },
     "metadata": {},
     "output_type": "display_data"
    },
    {
     "name": "stdout",
     "output_type": "stream",
     "text": [
      ">> FUND: f7\n",
      "Challenges/sheets: ['Template', 'Accelerate Decentralized Identi', 'Business Solutions (B2B & B2C)', 'Cardano scaling solutions', 'Community Advisor Improvements', 'Cross-Chain Collaboration', 'DApps and Integrations', 'Developer Ecosystem', 'Film + Media (FAM) creatives un', 'Gamers On - Chained', 'Grow Africa, Grow Cardano', 'Grow East Asia, Grow Cardano', 'Grow India, Grow Cardano', 'Improve and Grow Auditability', 'Lobbying for favorable legislat', 'Miscellaneous Challenge', 'Nation Building Dapps', 'New Member Onboarding', 'Open Source Development Ecosyst', 'Open Standards & Interoperabili', 'Scale-UP Cardanos Community Hub', 'Self-Sovereign Identity', 'The Great Migration (from Ether', 'Fund9 challenge setting', 'Funded by leftovers', 'Validation']\n",
      "#Challenges/sheets: 26\n",
      "Validation df:\n"
     ]
    },
    {
     "data": {
      "text/html": [
       "<div>\n",
       "<style scoped>\n",
       "    .dataframe tbody tr th:only-of-type {\n",
       "        vertical-align: middle;\n",
       "    }\n",
       "\n",
       "    .dataframe tbody tr th {\n",
       "        vertical-align: top;\n",
       "    }\n",
       "\n",
       "    .dataframe thead th {\n",
       "        text-align: right;\n",
       "    }\n",
       "</style>\n",
       "<table border=\"1\" class=\"dataframe\">\n",
       "  <thead>\n",
       "    <tr style=\"text-align: right;\">\n",
       "      <th></th>\n",
       "      <th>Fund size:</th>\n",
       "      <th>Unnamed: 1</th>\n",
       "      <th>Unnamed: 2</th>\n",
       "    </tr>\n",
       "  </thead>\n",
       "  <tbody>\n",
       "    <tr>\n",
       "      <th>0</th>\n",
       "      <td>NaN</td>\n",
       "      <td>Accelerate Decentralized Identity</td>\n",
       "      <td>5.000000e+05</td>\n",
       "    </tr>\n",
       "    <tr>\n",
       "      <th>1</th>\n",
       "      <td>NaN</td>\n",
       "      <td>Business Solutions (B2B &amp; B2C)</td>\n",
       "      <td>1.000000e+06</td>\n",
       "    </tr>\n",
       "    <tr>\n",
       "      <th>2</th>\n",
       "      <td>NaN</td>\n",
       "      <td>Cardano scaling solutions</td>\n",
       "      <td>1.000000e+06</td>\n",
       "    </tr>\n",
       "    <tr>\n",
       "      <th>3</th>\n",
       "      <td>NaN</td>\n",
       "      <td>Community Advisor Improvements</td>\n",
       "      <td>1.000000e+05</td>\n",
       "    </tr>\n",
       "    <tr>\n",
       "      <th>4</th>\n",
       "      <td>NaN</td>\n",
       "      <td>Cross-Chain Collaboration</td>\n",
       "      <td>4.000000e+05</td>\n",
       "    </tr>\n",
       "    <tr>\n",
       "      <th>5</th>\n",
       "      <td>NaN</td>\n",
       "      <td>DApps and Integrations</td>\n",
       "      <td>2.500000e+06</td>\n",
       "    </tr>\n",
       "    <tr>\n",
       "      <th>6</th>\n",
       "      <td>NaN</td>\n",
       "      <td>Developer Ecosystem</td>\n",
       "      <td>1.000000e+06</td>\n",
       "    </tr>\n",
       "    <tr>\n",
       "      <th>7</th>\n",
       "      <td>NaN</td>\n",
       "      <td>Film + Media (FAM) creatives unite!</td>\n",
       "      <td>1.500000e+05</td>\n",
       "    </tr>\n",
       "    <tr>\n",
       "      <th>8</th>\n",
       "      <td>NaN</td>\n",
       "      <td>Gamers On - Chained</td>\n",
       "      <td>5.000000e+05</td>\n",
       "    </tr>\n",
       "    <tr>\n",
       "      <th>9</th>\n",
       "      <td>NaN</td>\n",
       "      <td>Grow Africa, Grow Cardano</td>\n",
       "      <td>2.500000e+05</td>\n",
       "    </tr>\n",
       "    <tr>\n",
       "      <th>10</th>\n",
       "      <td>NaN</td>\n",
       "      <td>Grow East Asia, Grow Cardano</td>\n",
       "      <td>1.500000e+05</td>\n",
       "    </tr>\n",
       "    <tr>\n",
       "      <th>11</th>\n",
       "      <td>NaN</td>\n",
       "      <td>Grow India, Grow Cardano</td>\n",
       "      <td>1.500000e+05</td>\n",
       "    </tr>\n",
       "    <tr>\n",
       "      <th>12</th>\n",
       "      <td>NaN</td>\n",
       "      <td>Improve and Grow Auditability</td>\n",
       "      <td>2.000000e+05</td>\n",
       "    </tr>\n",
       "    <tr>\n",
       "      <th>13</th>\n",
       "      <td>NaN</td>\n",
       "      <td>Lobbying for favorable legislation</td>\n",
       "      <td>3.000000e+05</td>\n",
       "    </tr>\n",
       "    <tr>\n",
       "      <th>14</th>\n",
       "      <td>NaN</td>\n",
       "      <td>Miscellaneous Challenge</td>\n",
       "      <td>5.000000e+05</td>\n",
       "    </tr>\n",
       "    <tr>\n",
       "      <th>15</th>\n",
       "      <td>NaN</td>\n",
       "      <td>Nation Building Dapps</td>\n",
       "      <td>8.000000e+05</td>\n",
       "    </tr>\n",
       "    <tr>\n",
       "      <th>16</th>\n",
       "      <td>NaN</td>\n",
       "      <td>New Member Onboarding</td>\n",
       "      <td>2.000000e+05</td>\n",
       "    </tr>\n",
       "    <tr>\n",
       "      <th>17</th>\n",
       "      <td>NaN</td>\n",
       "      <td>Open Source Development Ecosystem</td>\n",
       "      <td>1.200000e+06</td>\n",
       "    </tr>\n",
       "    <tr>\n",
       "      <th>18</th>\n",
       "      <td>NaN</td>\n",
       "      <td>Open Standards &amp; Interoperability</td>\n",
       "      <td>5.000000e+05</td>\n",
       "    </tr>\n",
       "    <tr>\n",
       "      <th>19</th>\n",
       "      <td>NaN</td>\n",
       "      <td>Scale-UP Cardano's Community Hubs</td>\n",
       "      <td>5.000000e+05</td>\n",
       "    </tr>\n",
       "    <tr>\n",
       "      <th>20</th>\n",
       "      <td>NaN</td>\n",
       "      <td>Self-Sovereign Identity</td>\n",
       "      <td>4.000000e+05</td>\n",
       "    </tr>\n",
       "    <tr>\n",
       "      <th>21</th>\n",
       "      <td>NaN</td>\n",
       "      <td>The Great Migration (from Ethereum)</td>\n",
       "      <td>5.000000e+05</td>\n",
       "    </tr>\n",
       "    <tr>\n",
       "      <th>22</th>\n",
       "      <td>NaN</td>\n",
       "      <td>Fund9 challenge setting</td>\n",
       "      <td>1.280000e+07</td>\n",
       "    </tr>\n",
       "    <tr>\n",
       "      <th>23</th>\n",
       "      <td>NaN</td>\n",
       "      <td>NaN</td>\n",
       "      <td>NaN</td>\n",
       "    </tr>\n",
       "    <tr>\n",
       "      <th>24</th>\n",
       "      <td>Total registered stake</td>\n",
       "      <td>NaN</td>\n",
       "      <td>3.680777e+09</td>\n",
       "    </tr>\n",
       "    <tr>\n",
       "      <th>25</th>\n",
       "      <td>1%=</td>\n",
       "      <td>NaN</td>\n",
       "      <td>3.680777e+07</td>\n",
       "    </tr>\n",
       "    <tr>\n",
       "      <th>26</th>\n",
       "      <td>NaN</td>\n",
       "      <td>NaN</td>\n",
       "      <td>NaN</td>\n",
       "    </tr>\n",
       "    <tr>\n",
       "      <th>27</th>\n",
       "      <td>Leftovers</td>\n",
       "      <td>NaN</td>\n",
       "      <td>NaN</td>\n",
       "    </tr>\n",
       "    <tr>\n",
       "      <th>28</th>\n",
       "      <td>NaN</td>\n",
       "      <td>Sum of the leftovers</td>\n",
       "      <td>2.628700e+05</td>\n",
       "    </tr>\n",
       "  </tbody>\n",
       "</table>\n",
       "</div>"
      ],
      "text/plain": [
       "                Fund size:                           Unnamed: 1    Unnamed: 2\n",
       "0                      NaN    Accelerate Decentralized Identity  5.000000e+05\n",
       "1                      NaN       Business Solutions (B2B & B2C)  1.000000e+06\n",
       "2                      NaN            Cardano scaling solutions  1.000000e+06\n",
       "3                      NaN       Community Advisor Improvements  1.000000e+05\n",
       "4                      NaN            Cross-Chain Collaboration  4.000000e+05\n",
       "5                      NaN               DApps and Integrations  2.500000e+06\n",
       "6                      NaN                  Developer Ecosystem  1.000000e+06\n",
       "7                      NaN  Film + Media (FAM) creatives unite!  1.500000e+05\n",
       "8                      NaN                  Gamers On - Chained  5.000000e+05\n",
       "9                      NaN            Grow Africa, Grow Cardano  2.500000e+05\n",
       "10                     NaN         Grow East Asia, Grow Cardano  1.500000e+05\n",
       "11                     NaN             Grow India, Grow Cardano  1.500000e+05\n",
       "12                     NaN        Improve and Grow Auditability  2.000000e+05\n",
       "13                     NaN   Lobbying for favorable legislation  3.000000e+05\n",
       "14                     NaN              Miscellaneous Challenge  5.000000e+05\n",
       "15                     NaN                Nation Building Dapps  8.000000e+05\n",
       "16                     NaN                New Member Onboarding  2.000000e+05\n",
       "17                     NaN    Open Source Development Ecosystem  1.200000e+06\n",
       "18                     NaN    Open Standards & Interoperability  5.000000e+05\n",
       "19                     NaN    Scale-UP Cardano's Community Hubs  5.000000e+05\n",
       "20                     NaN              Self-Sovereign Identity  4.000000e+05\n",
       "21                     NaN  The Great Migration (from Ethereum)  5.000000e+05\n",
       "22                     NaN              Fund9 challenge setting  1.280000e+07\n",
       "23                     NaN                                  NaN           NaN\n",
       "24  Total registered stake                                  NaN  3.680777e+09\n",
       "25                     1%=                                  NaN  3.680777e+07\n",
       "26                     NaN                                  NaN           NaN\n",
       "27               Leftovers                                  NaN           NaN\n",
       "28                     NaN                 Sum of the leftovers  2.628700e+05"
      ]
     },
     "metadata": {},
     "output_type": "display_data"
    },
    {
     "name": "stdout",
     "output_type": "stream",
     "text": [
      ">> FUND: f8\n",
      "Challenges/sheets: ['Template', 'Accelerate Decentralized Identi', 'Business Solutions (B2B & B2C)', 'Cardano scaling solutions', 'Community Advisor Improvements', 'Cross-Chain Collaboration', 'DApps and Integrations', 'Developer Ecosystem', 'Film + Media (FAM) creatives un', 'Gamers On - Chained', 'Grow Africa, Grow Cardano', 'Grow East Asia, Grow Cardano', 'Grow India, Grow Cardano', 'Improve and Grow Auditability', 'Lobbying for favorable legislat', 'Miscellaneous Challenge', 'Nation Building Dapps', 'New Member Onboarding', 'Open Source Development Ecosyst', 'Open Standards & Interoperabili', 'Scale-UP Cardanos Community Hub', 'Self-Sovereign Identity', 'The Great Migration (from Ether', 'Fund9 challenge setting', 'Funded by leftovers', 'Validation']\n",
      "#Challenges/sheets: 26\n",
      "Validation df:\n"
     ]
    },
    {
     "data": {
      "text/html": [
       "<div>\n",
       "<style scoped>\n",
       "    .dataframe tbody tr th:only-of-type {\n",
       "        vertical-align: middle;\n",
       "    }\n",
       "\n",
       "    .dataframe tbody tr th {\n",
       "        vertical-align: top;\n",
       "    }\n",
       "\n",
       "    .dataframe thead th {\n",
       "        text-align: right;\n",
       "    }\n",
       "</style>\n",
       "<table border=\"1\" class=\"dataframe\">\n",
       "  <thead>\n",
       "    <tr style=\"text-align: right;\">\n",
       "      <th></th>\n",
       "      <th>Fund size:</th>\n",
       "      <th>Unnamed: 1</th>\n",
       "      <th>Unnamed: 2</th>\n",
       "    </tr>\n",
       "  </thead>\n",
       "  <tbody>\n",
       "    <tr>\n",
       "      <th>0</th>\n",
       "      <td>NaN</td>\n",
       "      <td>Accelerate Decentralized Identity</td>\n",
       "      <td>5.000000e+05</td>\n",
       "    </tr>\n",
       "    <tr>\n",
       "      <th>1</th>\n",
       "      <td>NaN</td>\n",
       "      <td>Business Solutions (B2B &amp; B2C)</td>\n",
       "      <td>1.000000e+06</td>\n",
       "    </tr>\n",
       "    <tr>\n",
       "      <th>2</th>\n",
       "      <td>NaN</td>\n",
       "      <td>Cardano scaling solutions</td>\n",
       "      <td>1.000000e+06</td>\n",
       "    </tr>\n",
       "    <tr>\n",
       "      <th>3</th>\n",
       "      <td>NaN</td>\n",
       "      <td>Community Advisor Improvements</td>\n",
       "      <td>1.000000e+05</td>\n",
       "    </tr>\n",
       "    <tr>\n",
       "      <th>4</th>\n",
       "      <td>NaN</td>\n",
       "      <td>Cross-Chain Collaboration</td>\n",
       "      <td>4.000000e+05</td>\n",
       "    </tr>\n",
       "    <tr>\n",
       "      <th>5</th>\n",
       "      <td>NaN</td>\n",
       "      <td>DApps and Integrations</td>\n",
       "      <td>2.500000e+06</td>\n",
       "    </tr>\n",
       "    <tr>\n",
       "      <th>6</th>\n",
       "      <td>NaN</td>\n",
       "      <td>Developer Ecosystem</td>\n",
       "      <td>1.000000e+06</td>\n",
       "    </tr>\n",
       "    <tr>\n",
       "      <th>7</th>\n",
       "      <td>NaN</td>\n",
       "      <td>Film + Media (FAM) creatives unite!</td>\n",
       "      <td>1.500000e+05</td>\n",
       "    </tr>\n",
       "    <tr>\n",
       "      <th>8</th>\n",
       "      <td>NaN</td>\n",
       "      <td>Gamers On - Chained</td>\n",
       "      <td>5.000000e+05</td>\n",
       "    </tr>\n",
       "    <tr>\n",
       "      <th>9</th>\n",
       "      <td>NaN</td>\n",
       "      <td>Grow Africa, Grow Cardano</td>\n",
       "      <td>2.500000e+05</td>\n",
       "    </tr>\n",
       "    <tr>\n",
       "      <th>10</th>\n",
       "      <td>NaN</td>\n",
       "      <td>Grow East Asia, Grow Cardano</td>\n",
       "      <td>1.500000e+05</td>\n",
       "    </tr>\n",
       "    <tr>\n",
       "      <th>11</th>\n",
       "      <td>NaN</td>\n",
       "      <td>Grow India, Grow Cardano</td>\n",
       "      <td>1.500000e+05</td>\n",
       "    </tr>\n",
       "    <tr>\n",
       "      <th>12</th>\n",
       "      <td>NaN</td>\n",
       "      <td>Improve and Grow Auditability</td>\n",
       "      <td>2.000000e+05</td>\n",
       "    </tr>\n",
       "    <tr>\n",
       "      <th>13</th>\n",
       "      <td>NaN</td>\n",
       "      <td>Lobbying for favorable legislation</td>\n",
       "      <td>3.000000e+05</td>\n",
       "    </tr>\n",
       "    <tr>\n",
       "      <th>14</th>\n",
       "      <td>NaN</td>\n",
       "      <td>Miscellaneous Challenge</td>\n",
       "      <td>5.000000e+05</td>\n",
       "    </tr>\n",
       "    <tr>\n",
       "      <th>15</th>\n",
       "      <td>NaN</td>\n",
       "      <td>Nation Building Dapps</td>\n",
       "      <td>8.000000e+05</td>\n",
       "    </tr>\n",
       "    <tr>\n",
       "      <th>16</th>\n",
       "      <td>NaN</td>\n",
       "      <td>New Member Onboarding</td>\n",
       "      <td>2.000000e+05</td>\n",
       "    </tr>\n",
       "    <tr>\n",
       "      <th>17</th>\n",
       "      <td>NaN</td>\n",
       "      <td>Open Source Development Ecosystem</td>\n",
       "      <td>1.200000e+06</td>\n",
       "    </tr>\n",
       "    <tr>\n",
       "      <th>18</th>\n",
       "      <td>NaN</td>\n",
       "      <td>Open Standards &amp; Interoperability</td>\n",
       "      <td>5.000000e+05</td>\n",
       "    </tr>\n",
       "    <tr>\n",
       "      <th>19</th>\n",
       "      <td>NaN</td>\n",
       "      <td>Scale-UP Cardano's Community Hubs</td>\n",
       "      <td>5.000000e+05</td>\n",
       "    </tr>\n",
       "    <tr>\n",
       "      <th>20</th>\n",
       "      <td>NaN</td>\n",
       "      <td>Self-Sovereign Identity</td>\n",
       "      <td>4.000000e+05</td>\n",
       "    </tr>\n",
       "    <tr>\n",
       "      <th>21</th>\n",
       "      <td>NaN</td>\n",
       "      <td>The Great Migration (from Ethereum)</td>\n",
       "      <td>5.000000e+05</td>\n",
       "    </tr>\n",
       "    <tr>\n",
       "      <th>22</th>\n",
       "      <td>NaN</td>\n",
       "      <td>Fund9 challenge setting</td>\n",
       "      <td>1.280000e+07</td>\n",
       "    </tr>\n",
       "    <tr>\n",
       "      <th>23</th>\n",
       "      <td>NaN</td>\n",
       "      <td>NaN</td>\n",
       "      <td>NaN</td>\n",
       "    </tr>\n",
       "    <tr>\n",
       "      <th>24</th>\n",
       "      <td>Total registered stake</td>\n",
       "      <td>NaN</td>\n",
       "      <td>3.680777e+09</td>\n",
       "    </tr>\n",
       "    <tr>\n",
       "      <th>25</th>\n",
       "      <td>1%=</td>\n",
       "      <td>NaN</td>\n",
       "      <td>3.680777e+07</td>\n",
       "    </tr>\n",
       "    <tr>\n",
       "      <th>26</th>\n",
       "      <td>NaN</td>\n",
       "      <td>NaN</td>\n",
       "      <td>NaN</td>\n",
       "    </tr>\n",
       "    <tr>\n",
       "      <th>27</th>\n",
       "      <td>Leftovers</td>\n",
       "      <td>NaN</td>\n",
       "      <td>NaN</td>\n",
       "    </tr>\n",
       "    <tr>\n",
       "      <th>28</th>\n",
       "      <td>NaN</td>\n",
       "      <td>Sum of the leftovers</td>\n",
       "      <td>2.628700e+05</td>\n",
       "    </tr>\n",
       "  </tbody>\n",
       "</table>\n",
       "</div>"
      ],
      "text/plain": [
       "                Fund size:                           Unnamed: 1    Unnamed: 2\n",
       "0                      NaN    Accelerate Decentralized Identity  5.000000e+05\n",
       "1                      NaN       Business Solutions (B2B & B2C)  1.000000e+06\n",
       "2                      NaN            Cardano scaling solutions  1.000000e+06\n",
       "3                      NaN       Community Advisor Improvements  1.000000e+05\n",
       "4                      NaN            Cross-Chain Collaboration  4.000000e+05\n",
       "5                      NaN               DApps and Integrations  2.500000e+06\n",
       "6                      NaN                  Developer Ecosystem  1.000000e+06\n",
       "7                      NaN  Film + Media (FAM) creatives unite!  1.500000e+05\n",
       "8                      NaN                  Gamers On - Chained  5.000000e+05\n",
       "9                      NaN            Grow Africa, Grow Cardano  2.500000e+05\n",
       "10                     NaN         Grow East Asia, Grow Cardano  1.500000e+05\n",
       "11                     NaN             Grow India, Grow Cardano  1.500000e+05\n",
       "12                     NaN        Improve and Grow Auditability  2.000000e+05\n",
       "13                     NaN   Lobbying for favorable legislation  3.000000e+05\n",
       "14                     NaN              Miscellaneous Challenge  5.000000e+05\n",
       "15                     NaN                Nation Building Dapps  8.000000e+05\n",
       "16                     NaN                New Member Onboarding  2.000000e+05\n",
       "17                     NaN    Open Source Development Ecosystem  1.200000e+06\n",
       "18                     NaN    Open Standards & Interoperability  5.000000e+05\n",
       "19                     NaN    Scale-UP Cardano's Community Hubs  5.000000e+05\n",
       "20                     NaN              Self-Sovereign Identity  4.000000e+05\n",
       "21                     NaN  The Great Migration (from Ethereum)  5.000000e+05\n",
       "22                     NaN              Fund9 challenge setting  1.280000e+07\n",
       "23                     NaN                                  NaN           NaN\n",
       "24  Total registered stake                                  NaN  3.680777e+09\n",
       "25                     1%=                                  NaN  3.680777e+07\n",
       "26                     NaN                                  NaN           NaN\n",
       "27               Leftovers                                  NaN           NaN\n",
       "28                     NaN                 Sum of the leftovers  2.628700e+05"
      ]
     },
     "metadata": {},
     "output_type": "display_data"
    }
   ],
   "source": [
    "data_xls = {}\n",
    "for fund in funds:\n",
    "\n",
    "    if 'validation' in sheets[f]:\n",
    "        df_valid = dbs_from_xls[f].parse(sheet_name='validation')\n",
    "    elif 'Validation' in sheets[f]:\n",
    "        df_valid = dbs_from_xls[f].parse(sheet_name='Validation')\n",
    "    else:\n",
    "        df_valid = None\n",
    "\n",
    "    print(\">> FUND: {}\".format(fund))\n",
    "    print('Challenges/sheets: {}'.format(list(sheets[f])))\n",
    "    print('#Challenges/sheets: {}'.format(len(list(sheets[f]))))\n",
    "    print('Validation df:')\n",
    "    display(df_valid)"
   ]
  },
  {
   "cell_type": "markdown",
   "id": "f756ddee-98de-420d-8bf1-c03967fe71eb",
   "metadata": {},
   "source": [
    "## VALIDATION DF SETUP: CATALYST-RESULTS OBJECTS\n",
    "df format: pd.DataFrames.columns = [challanges, budget]\\\n",
    "**All formatted validation dfs from f3-f8 match the data online**"
   ]
  },
  {
   "cell_type": "code",
   "execution_count": 5,
   "id": "d0e25ca8-c120-4984-b69b-0f938aaad9a1",
   "metadata": {},
   "outputs": [],
   "source": [
    "VALIDATION_COLS = ['challange', 'budget']\n",
    "def __default_setup(df:pd.DataFrame) -> pd.DataFrame:\n",
    "    df.columns = VALIDATION_COLS\n",
    "    df.dropna(subset=['challange'],inplace=True)\n",
    "    df.reset_index(drop=True, inplace=True)\n",
    "    df['budget'] = df['budget'].astype(int)\n",
    "    return df"
   ]
  },
  {
   "cell_type": "markdown",
   "id": "3f194d6b-f298-40b4-afbe-5dcacd446b44",
   "metadata": {},
   "source": [
    "### FUND: F3"
   ]
  },
  {
   "cell_type": "code",
   "execution_count": 6,
   "id": "52bca85c-783f-4ad4-a971-5b40a08369eb",
   "metadata": {
    "scrolled": false
   },
   "outputs": [
    {
     "name": "stdout",
     "output_type": "stream",
     "text": [
      "#Raw Challenges/sheets (validation/withdraws included): 4\n",
      "\n"
     ]
    },
    {
     "data": {
      "text/html": [
       "<div>\n",
       "<style scoped>\n",
       "    .dataframe tbody tr th:only-of-type {\n",
       "        vertical-align: middle;\n",
       "    }\n",
       "\n",
       "    .dataframe tbody tr th {\n",
       "        vertical-align: top;\n",
       "    }\n",
       "\n",
       "    .dataframe thead th {\n",
       "        text-align: right;\n",
       "    }\n",
       "</style>\n",
       "<table border=\"1\" class=\"dataframe\">\n",
       "  <thead>\n",
       "    <tr style=\"text-align: right;\">\n",
       "      <th></th>\n",
       "      <th>challenge</th>\n",
       "      <th>budget</th>\n",
       "    </tr>\n",
       "  </thead>\n",
       "  <tbody>\n",
       "    <tr>\n",
       "      <th>0</th>\n",
       "      <td>DApp creation</td>\n",
       "      <td>200000</td>\n",
       "    </tr>\n",
       "    <tr>\n",
       "      <th>1</th>\n",
       "      <td>Developer ecosystem</td>\n",
       "      <td>200000</td>\n",
       "    </tr>\n",
       "    <tr>\n",
       "      <th>2</th>\n",
       "      <td>Community choice</td>\n",
       "      <td>500000</td>\n",
       "    </tr>\n",
       "  </tbody>\n",
       "</table>\n",
       "</div>"
      ],
      "text/plain": [
       "             challenge  budget\n",
       "0        DApp creation  200000\n",
       "1  Developer ecosystem  200000\n",
       "2     Community choice  500000"
      ]
     },
     "metadata": {},
     "output_type": "display_data"
    },
    {
     "name": "stdout",
     "output_type": "stream",
     "text": [
      "<class 'pandas.core.frame.DataFrame'>\n",
      "RangeIndex: 3 entries, 0 to 2\n",
      "Data columns (total 2 columns):\n",
      " #   Column     Non-Null Count  Dtype \n",
      "---  ------     --------------  ----- \n",
      " 0   challenge  3 non-null      object\n",
      " 1   budget     3 non-null      int64 \n",
      "dtypes: int64(1), object(1)\n",
      "memory usage: 176.0+ bytes\n"
     ]
    }
   ],
   "source": [
    "fund = 'f3'\n",
    "print('#Raw Challenges/sheets (validation/withdraws included): {}\\n'.format(len(list(sheets[fund]))))\n",
    "df = get_catalyst_data(fund).validation.copy()\n",
    "\n",
    "# df = df.iloc[:-1].copy()\n",
    "# func_format = lambda s: s.split('(')[1].split(')')[0] if isinstance(s, str) else s\n",
    "# df.iloc[:,0] = df.iloc[:,0].map(func_format)\n",
    "# df = __default_setup(df)\n",
    "\n",
    "display(df)\n",
    "df.info()"
   ]
  },
  {
   "cell_type": "markdown",
   "id": "58f8a6d4-763f-4bfd-b2e1-97a27b717412",
   "metadata": {},
   "source": [
    "### FUND: F4"
   ]
  },
  {
   "cell_type": "code",
   "execution_count": 7,
   "id": "7cbcf853-de89-442e-a8ea-4eeea416d845",
   "metadata": {
    "scrolled": false
   },
   "outputs": [
    {
     "name": "stdout",
     "output_type": "stream",
     "text": [
      "#Raw Challenges/sheets (validation/withdraws included): 9\n",
      "\n"
     ]
    },
    {
     "data": {
      "text/html": [
       "<div>\n",
       "<style scoped>\n",
       "    .dataframe tbody tr th:only-of-type {\n",
       "        vertical-align: middle;\n",
       "    }\n",
       "\n",
       "    .dataframe tbody tr th {\n",
       "        vertical-align: top;\n",
       "    }\n",
       "\n",
       "    .dataframe thead th {\n",
       "        text-align: right;\n",
       "    }\n",
       "</style>\n",
       "<table border=\"1\" class=\"dataframe\">\n",
       "  <thead>\n",
       "    <tr style=\"text-align: right;\">\n",
       "      <th></th>\n",
       "      <th>challenge</th>\n",
       "      <th>budget</th>\n",
       "    </tr>\n",
       "  </thead>\n",
       "  <tbody>\n",
       "    <tr>\n",
       "      <th>0</th>\n",
       "      <td>DApps&amp;Integrations</td>\n",
       "      <td>200000</td>\n",
       "    </tr>\n",
       "    <tr>\n",
       "      <th>1</th>\n",
       "      <td>Developer ecosystem</td>\n",
       "      <td>400000</td>\n",
       "    </tr>\n",
       "    <tr>\n",
       "      <th>2</th>\n",
       "      <td>Distributed Decision Making</td>\n",
       "      <td>50000</td>\n",
       "    </tr>\n",
       "    <tr>\n",
       "      <th>3</th>\n",
       "      <td>Proposer Outreach</td>\n",
       "      <td>50000</td>\n",
       "    </tr>\n",
       "    <tr>\n",
       "      <th>4</th>\n",
       "      <td>Catalyst Value Onboarding</td>\n",
       "      <td>50000</td>\n",
       "    </tr>\n",
       "    <tr>\n",
       "      <th>5</th>\n",
       "      <td>Local Community Centers</td>\n",
       "      <td>50000</td>\n",
       "    </tr>\n",
       "    <tr>\n",
       "      <th>6</th>\n",
       "      <td>Fund6 Challenge Setting</td>\n",
       "      <td>400000</td>\n",
       "    </tr>\n",
       "    <tr>\n",
       "      <th>7</th>\n",
       "      <td>Leftovers from regular challenges</td>\n",
       "      <td>42821</td>\n",
       "    </tr>\n",
       "  </tbody>\n",
       "</table>\n",
       "</div>"
      ],
      "text/plain": [
       "                           challenge  budget\n",
       "0                DApps&Integrations   200000\n",
       "1                Developer ecosystem  400000\n",
       "2        Distributed Decision Making   50000\n",
       "3                  Proposer Outreach   50000\n",
       "4          Catalyst Value Onboarding   50000\n",
       "5            Local Community Centers   50000\n",
       "6            Fund6 Challenge Setting  400000\n",
       "7  Leftovers from regular challenges   42821"
      ]
     },
     "metadata": {},
     "output_type": "display_data"
    },
    {
     "name": "stdout",
     "output_type": "stream",
     "text": [
      "<class 'pandas.core.frame.DataFrame'>\n",
      "RangeIndex: 8 entries, 0 to 7\n",
      "Data columns (total 2 columns):\n",
      " #   Column     Non-Null Count  Dtype \n",
      "---  ------     --------------  ----- \n",
      " 0   challenge  8 non-null      object\n",
      " 1   budget     8 non-null      int64 \n",
      "dtypes: int64(1), object(1)\n",
      "memory usage: 256.0+ bytes\n"
     ]
    }
   ],
   "source": [
    "fund = 'f4'\n",
    "print('#Raw Challenges/sheets (validation/withdraws included): {}\\n'.format(len(list(sheets[fund]))))\n",
    "df = get_catalyst_data(fund).validation.copy()\n",
    "\n",
    "# func_format = lambda s: s.split('(')[1].split(')')[0] if isinstance(s, str) else s\n",
    "# df.iloc[9:16,0] = df.iloc[9:16,0].map(func_format)\n",
    "# df = __default_setup(df)\n",
    "\n",
    "display(df)\n",
    "df.info()"
   ]
  },
  {
   "cell_type": "markdown",
   "id": "7f681464-eca8-48be-98b3-a47fc53eb546",
   "metadata": {},
   "source": [
    "### FUND: F5"
   ]
  },
  {
   "cell_type": "code",
   "execution_count": 8,
   "id": "98107213-c3f6-408c-991c-a4b07b6db835",
   "metadata": {
    "scrolled": true
   },
   "outputs": [
    {
     "name": "stdout",
     "output_type": "stream",
     "text": [
      "#Raw Challenges/sheets (validation/withdraws included): 11\n",
      "\n"
     ]
    },
    {
     "data": {
      "text/html": [
       "<div>\n",
       "<style scoped>\n",
       "    .dataframe tbody tr th:only-of-type {\n",
       "        vertical-align: middle;\n",
       "    }\n",
       "\n",
       "    .dataframe tbody tr th {\n",
       "        vertical-align: top;\n",
       "    }\n",
       "\n",
       "    .dataframe thead th {\n",
       "        text-align: right;\n",
       "    }\n",
       "</style>\n",
       "<table border=\"1\" class=\"dataframe\">\n",
       "  <thead>\n",
       "    <tr style=\"text-align: right;\">\n",
       "      <th></th>\n",
       "      <th>challenge</th>\n",
       "      <th>budget</th>\n",
       "    </tr>\n",
       "  </thead>\n",
       "  <tbody>\n",
       "    <tr>\n",
       "      <th>0</th>\n",
       "      <td>DApps&amp;Integrations</td>\n",
       "      <td>250000</td>\n",
       "    </tr>\n",
       "    <tr>\n",
       "      <th>1</th>\n",
       "      <td>Developer ecosystem</td>\n",
       "      <td>600000</td>\n",
       "    </tr>\n",
       "    <tr>\n",
       "      <th>2</th>\n",
       "      <td>Distributed Decision Making</td>\n",
       "      <td>100000</td>\n",
       "    </tr>\n",
       "    <tr>\n",
       "      <th>3</th>\n",
       "      <td>Proposer Outreach</td>\n",
       "      <td>100000</td>\n",
       "    </tr>\n",
       "    <tr>\n",
       "      <th>4</th>\n",
       "      <td>Catalyst Value Onboarding</td>\n",
       "      <td>100000</td>\n",
       "    </tr>\n",
       "    <tr>\n",
       "      <th>5</th>\n",
       "      <td>Metadata challenge</td>\n",
       "      <td>50000</td>\n",
       "    </tr>\n",
       "    <tr>\n",
       "      <th>6</th>\n",
       "      <td>Grow Africa, Grow Cardano</td>\n",
       "      <td>250000</td>\n",
       "    </tr>\n",
       "    <tr>\n",
       "      <th>7</th>\n",
       "      <td>Scale-UP Cardano's DeFi Ecosystem</td>\n",
       "      <td>250000</td>\n",
       "    </tr>\n",
       "    <tr>\n",
       "      <th>8</th>\n",
       "      <td>Fund7 Challenge Setting</td>\n",
       "      <td>800000</td>\n",
       "    </tr>\n",
       "    <tr>\n",
       "      <th>9</th>\n",
       "      <td>Leftovers from regular challenges</td>\n",
       "      <td>92476</td>\n",
       "    </tr>\n",
       "  </tbody>\n",
       "</table>\n",
       "</div>"
      ],
      "text/plain": [
       "                           challenge  budget\n",
       "0                DApps&Integrations   250000\n",
       "1                Developer ecosystem  600000\n",
       "2        Distributed Decision Making  100000\n",
       "3                  Proposer Outreach  100000\n",
       "4          Catalyst Value Onboarding  100000\n",
       "5                 Metadata challenge   50000\n",
       "6          Grow Africa, Grow Cardano  250000\n",
       "7  Scale-UP Cardano's DeFi Ecosystem  250000\n",
       "8            Fund7 Challenge Setting  800000\n",
       "9  Leftovers from regular challenges   92476"
      ]
     },
     "metadata": {},
     "output_type": "display_data"
    },
    {
     "name": "stdout",
     "output_type": "stream",
     "text": [
      "<class 'pandas.core.frame.DataFrame'>\n",
      "RangeIndex: 10 entries, 0 to 9\n",
      "Data columns (total 2 columns):\n",
      " #   Column     Non-Null Count  Dtype \n",
      "---  ------     --------------  ----- \n",
      " 0   challenge  10 non-null     object\n",
      " 1   budget     10 non-null     int64 \n",
      "dtypes: int64(1), object(1)\n",
      "memory usage: 288.0+ bytes\n"
     ]
    }
   ],
   "source": [
    "fund = 'f5'\n",
    "print('#Raw Challenges/sheets (validation/withdraws included): {}\\n'.format(len(list(sheets[fund]))))\n",
    "df = get_catalyst_data(fund).validation.copy()\n",
    "\n",
    "# func_format = lambda s: s.split('(')[1].split(')')[0] if isinstance(s, str) else s\n",
    "# df.iloc[9:18,0] = df.iloc[9:18,0].map(func_format)\n",
    "# df = __default_setup(df)\n",
    "\n",
    "display(df)\n",
    "df.info()"
   ]
  },
  {
   "cell_type": "markdown",
   "id": "7d83bac9-5658-429c-8ebc-82519860618b",
   "metadata": {},
   "source": [
    "### FUND: F6"
   ]
  },
  {
   "cell_type": "code",
   "execution_count": 9,
   "id": "7ee1d47a-feb0-4027-8a87-e5b6ebb97013",
   "metadata": {
    "scrolled": true
   },
   "outputs": [
    {
     "name": "stdout",
     "output_type": "stream",
     "text": [
      "#Raw Challenges/sheets (validation/withdraws included): 22\n",
      "\n"
     ]
    },
    {
     "data": {
      "text/html": [
       "<div>\n",
       "<style scoped>\n",
       "    .dataframe tbody tr th:only-of-type {\n",
       "        vertical-align: middle;\n",
       "    }\n",
       "\n",
       "    .dataframe tbody tr th {\n",
       "        vertical-align: top;\n",
       "    }\n",
       "\n",
       "    .dataframe thead th {\n",
       "        text-align: right;\n",
       "    }\n",
       "</style>\n",
       "<table border=\"1\" class=\"dataframe\">\n",
       "  <thead>\n",
       "    <tr style=\"text-align: right;\">\n",
       "      <th></th>\n",
       "      <th>challenge</th>\n",
       "      <th>budget</th>\n",
       "    </tr>\n",
       "  </thead>\n",
       "  <tbody>\n",
       "    <tr>\n",
       "      <th>0</th>\n",
       "      <td>Developer ecosystem</td>\n",
       "      <td>1005000</td>\n",
       "    </tr>\n",
       "    <tr>\n",
       "      <th>1</th>\n",
       "      <td>DApps &amp; Integrations</td>\n",
       "      <td>250000</td>\n",
       "    </tr>\n",
       "    <tr>\n",
       "      <th>2</th>\n",
       "      <td>Distributed decision making</td>\n",
       "      <td>75000</td>\n",
       "    </tr>\n",
       "    <tr>\n",
       "      <th>3</th>\n",
       "      <td>Proposer outreach</td>\n",
       "      <td>100000</td>\n",
       "    </tr>\n",
       "    <tr>\n",
       "      <th>4</th>\n",
       "      <td>Catalyst value onboarding</td>\n",
       "      <td>75000</td>\n",
       "    </tr>\n",
       "    <tr>\n",
       "      <th>5</th>\n",
       "      <td>Metadata challenge</td>\n",
       "      <td>100000</td>\n",
       "    </tr>\n",
       "    <tr>\n",
       "      <th>6</th>\n",
       "      <td>Grow Africa, Grow Cardano</td>\n",
       "      <td>250000</td>\n",
       "    </tr>\n",
       "    <tr>\n",
       "      <th>7</th>\n",
       "      <td>Scale-UP Cardano's DeFi Ecosystem</td>\n",
       "      <td>250000</td>\n",
       "    </tr>\n",
       "    <tr>\n",
       "      <th>8</th>\n",
       "      <td>Cardano Emerging Threat Alarm</td>\n",
       "      <td>50000</td>\n",
       "    </tr>\n",
       "    <tr>\n",
       "      <th>9</th>\n",
       "      <td>Multilingual resources</td>\n",
       "      <td>75000</td>\n",
       "    </tr>\n",
       "    <tr>\n",
       "      <th>10</th>\n",
       "      <td>DeFi and Microlending for Africa</td>\n",
       "      <td>90000</td>\n",
       "    </tr>\n",
       "    <tr>\n",
       "      <th>11</th>\n",
       "      <td>DLT Entrepreneurship Toolbox</td>\n",
       "      <td>150000</td>\n",
       "    </tr>\n",
       "    <tr>\n",
       "      <th>12</th>\n",
       "      <td>Partnerships for Global Adoption</td>\n",
       "      <td>30000</td>\n",
       "    </tr>\n",
       "    <tr>\n",
       "      <th>13</th>\n",
       "      <td>NFT Business models</td>\n",
       "      <td>200000</td>\n",
       "    </tr>\n",
       "    <tr>\n",
       "      <th>14</th>\n",
       "      <td>Atala PRISM DID Mass-Scale Adoption</td>\n",
       "      <td>250000</td>\n",
       "    </tr>\n",
       "    <tr>\n",
       "      <th>15</th>\n",
       "      <td>Disaster: When all is at stake</td>\n",
       "      <td>150000</td>\n",
       "    </tr>\n",
       "    <tr>\n",
       "      <th>16</th>\n",
       "      <td>Scale-UP Cardano’s Community Hubs</td>\n",
       "      <td>100000</td>\n",
       "    </tr>\n",
       "    <tr>\n",
       "      <th>17</th>\n",
       "      <td>Improve and Grow Auditability</td>\n",
       "      <td>100000</td>\n",
       "    </tr>\n",
       "    <tr>\n",
       "      <th>18</th>\n",
       "      <td>Fund7 Challenge Setting</td>\n",
       "      <td>5475000</td>\n",
       "    </tr>\n",
       "    <tr>\n",
       "      <th>19</th>\n",
       "      <td>Leftovers from regular challenges</td>\n",
       "      <td>131820</td>\n",
       "    </tr>\n",
       "  </tbody>\n",
       "</table>\n",
       "</div>"
      ],
      "text/plain": [
       "                              challenge   budget\n",
       "0                   Developer ecosystem  1005000\n",
       "1                  DApps & Integrations   250000\n",
       "2           Distributed decision making    75000\n",
       "3                     Proposer outreach   100000\n",
       "4             Catalyst value onboarding    75000\n",
       "5                    Metadata challenge   100000\n",
       "6             Grow Africa, Grow Cardano   250000\n",
       "7     Scale-UP Cardano's DeFi Ecosystem   250000\n",
       "8         Cardano Emerging Threat Alarm    50000\n",
       "9                Multilingual resources    75000\n",
       "10     DeFi and Microlending for Africa    90000\n",
       "11         DLT Entrepreneurship Toolbox   150000\n",
       "12     Partnerships for Global Adoption    30000\n",
       "13                  NFT Business models   200000\n",
       "14  Atala PRISM DID Mass-Scale Adoption   250000\n",
       "15       Disaster: When all is at stake   150000\n",
       "16    Scale-UP Cardano’s Community Hubs   100000\n",
       "17        Improve and Grow Auditability   100000\n",
       "18              Fund7 Challenge Setting  5475000\n",
       "19    Leftovers from regular challenges   131820"
      ]
     },
     "metadata": {},
     "output_type": "display_data"
    },
    {
     "name": "stdout",
     "output_type": "stream",
     "text": [
      "<class 'pandas.core.frame.DataFrame'>\n",
      "RangeIndex: 20 entries, 0 to 19\n",
      "Data columns (total 2 columns):\n",
      " #   Column     Non-Null Count  Dtype \n",
      "---  ------     --------------  ----- \n",
      " 0   challenge  20 non-null     object\n",
      " 1   budget     20 non-null     int64 \n",
      "dtypes: int64(1), object(1)\n",
      "memory usage: 448.0+ bytes\n"
     ]
    }
   ],
   "source": [
    "fund = 'f6'\n",
    "print('#Raw Challenges/sheets (validation/withdraws included): {}\\n'.format(len(list(sheets[fund]))))\n",
    "df = get_catalyst_data(fund).validation.copy()\n",
    "\n",
    "# df = df.iloc[:-2].copy()\n",
    "# df.drop(columns='Fund size:', inplace=True)\n",
    "# df = __default_setup(df)\n",
    "\n",
    "display(df)\n",
    "df.info()"
   ]
  },
  {
   "cell_type": "markdown",
   "id": "71e4ea6e-3a1c-4380-9c8d-ac7877b4bfb3",
   "metadata": {},
   "source": [
    "### FUND: F7"
   ]
  },
  {
   "cell_type": "code",
   "execution_count": 10,
   "id": "d4777f9d-4649-4d73-a8c8-bea3f2db9a4f",
   "metadata": {
    "scrolled": true
   },
   "outputs": [
    {
     "name": "stdout",
     "output_type": "stream",
     "text": [
      "#Raw Challenges/sheets (validation/withdraws included): 29\n",
      "\n"
     ]
    },
    {
     "name": "stderr",
     "output_type": "stream",
     "text": [
      "/home/julianabmattos/GitRepositories/CatalystReport/data/datasets.py:396: UserWarning: < f7-Accelerate Decentralized Identi > Budget not found. Please, make sure the challenge name from Catalyst.data matches the challenge names in Catalyst.validation.\n",
      "  warnings.warn(WAR_BUDGET_NOT_FOUND.format(data.fund, challenge))\n"
     ]
    },
    {
     "data": {
      "text/html": [
       "<div>\n",
       "<style scoped>\n",
       "    .dataframe tbody tr th:only-of-type {\n",
       "        vertical-align: middle;\n",
       "    }\n",
       "\n",
       "    .dataframe tbody tr th {\n",
       "        vertical-align: top;\n",
       "    }\n",
       "\n",
       "    .dataframe thead th {\n",
       "        text-align: right;\n",
       "    }\n",
       "</style>\n",
       "<table border=\"1\" class=\"dataframe\">\n",
       "  <thead>\n",
       "    <tr style=\"text-align: right;\">\n",
       "      <th></th>\n",
       "      <th>challenge</th>\n",
       "      <th>budget</th>\n",
       "    </tr>\n",
       "  </thead>\n",
       "  <tbody>\n",
       "    <tr>\n",
       "      <th>0</th>\n",
       "      <td>Catalyst Natives COTI: Pay with ADA Plug-in</td>\n",
       "      <td>100000</td>\n",
       "    </tr>\n",
       "    <tr>\n",
       "      <th>1</th>\n",
       "      <td>Boosting Cardano's DeFi</td>\n",
       "      <td>500000</td>\n",
       "    </tr>\n",
       "    <tr>\n",
       "      <th>2</th>\n",
       "      <td>Community Events</td>\n",
       "      <td>200000</td>\n",
       "    </tr>\n",
       "    <tr>\n",
       "      <th>3</th>\n",
       "      <td>Lobbying for favorable legislation</td>\n",
       "      <td>75000</td>\n",
       "    </tr>\n",
       "    <tr>\n",
       "      <th>4</th>\n",
       "      <td>Catalyst - Rapid Funding Mechanisms</td>\n",
       "      <td>250000</td>\n",
       "    </tr>\n",
       "    <tr>\n",
       "      <th>5</th>\n",
       "      <td>DAOs &lt;3 Cardano</td>\n",
       "      <td>500000</td>\n",
       "    </tr>\n",
       "    <tr>\n",
       "      <th>6</th>\n",
       "      <td>Connecting Japan/日本 Community</td>\n",
       "      <td>50000</td>\n",
       "    </tr>\n",
       "    <tr>\n",
       "      <th>7</th>\n",
       "      <td>Disarm cyber disinformation attacks</td>\n",
       "      <td>100000</td>\n",
       "    </tr>\n",
       "    <tr>\n",
       "      <th>8</th>\n",
       "      <td>DApps &amp; Integrations</td>\n",
       "      <td>250000</td>\n",
       "    </tr>\n",
       "    <tr>\n",
       "      <th>9</th>\n",
       "      <td>Gamers On-Chained</td>\n",
       "      <td>250000</td>\n",
       "    </tr>\n",
       "    <tr>\n",
       "      <th>10</th>\n",
       "      <td>Grow Latin America, Grow Cardano</td>\n",
       "      <td>500000</td>\n",
       "    </tr>\n",
       "    <tr>\n",
       "      <th>11</th>\n",
       "      <td>Seeding Cardano's Grassroots DeFi</td>\n",
       "      <td>200000</td>\n",
       "    </tr>\n",
       "    <tr>\n",
       "      <th>12</th>\n",
       "      <td>Scale-UP Cardano's Community Hubs</td>\n",
       "      <td>350000</td>\n",
       "    </tr>\n",
       "    <tr>\n",
       "      <th>13</th>\n",
       "      <td>New SPO Business Opportunities</td>\n",
       "      <td>250000</td>\n",
       "    </tr>\n",
       "    <tr>\n",
       "      <th>14</th>\n",
       "      <td>Global Sustainable Indep. SPO's</td>\n",
       "      <td>100000</td>\n",
       "    </tr>\n",
       "    <tr>\n",
       "      <th>15</th>\n",
       "      <td>A.I. &amp; SingularityNet a $5T market</td>\n",
       "      <td>500000</td>\n",
       "    </tr>\n",
       "    <tr>\n",
       "      <th>16</th>\n",
       "      <td>Miscellaneous Challenge</td>\n",
       "      <td>200000</td>\n",
       "    </tr>\n",
       "    <tr>\n",
       "      <th>17</th>\n",
       "      <td>Nation Building Dapps</td>\n",
       "      <td>600000</td>\n",
       "    </tr>\n",
       "    <tr>\n",
       "      <th>18</th>\n",
       "      <td>Mini/Low-Budget Dapps &amp;Integrations</td>\n",
       "      <td>200000</td>\n",
       "    </tr>\n",
       "    <tr>\n",
       "      <th>19</th>\n",
       "      <td>Open Source Developer Ecosystem</td>\n",
       "      <td>200000</td>\n",
       "    </tr>\n",
       "    <tr>\n",
       "      <th>20</th>\n",
       "      <td>Multilingual resources</td>\n",
       "      <td>100000</td>\n",
       "    </tr>\n",
       "    <tr>\n",
       "      <th>21</th>\n",
       "      <td>Improve and Grow Auditability</td>\n",
       "      <td>100000</td>\n",
       "    </tr>\n",
       "    <tr>\n",
       "      <th>22</th>\n",
       "      <td>Atala PRISM</td>\n",
       "      <td>425000</td>\n",
       "    </tr>\n",
       "    <tr>\n",
       "      <th>23</th>\n",
       "      <td>Catalyst Accelerator &amp; Mentors</td>\n",
       "      <td>500000</td>\n",
       "    </tr>\n",
       "    <tr>\n",
       "      <th>24</th>\n",
       "      <td>Fund8 Challenge Setting</td>\n",
       "      <td>12800000</td>\n",
       "    </tr>\n",
       "    <tr>\n",
       "      <th>25</th>\n",
       "      <td>Sum of the leftovers</td>\n",
       "      <td>147668</td>\n",
       "    </tr>\n",
       "  </tbody>\n",
       "</table>\n",
       "</div>"
      ],
      "text/plain": [
       "                                      challenge    budget\n",
       "0   Catalyst Natives COTI: Pay with ADA Plug-in    100000\n",
       "1                       Boosting Cardano's DeFi    500000\n",
       "2                              Community Events    200000\n",
       "3            Lobbying for favorable legislation     75000\n",
       "4           Catalyst - Rapid Funding Mechanisms    250000\n",
       "5                               DAOs <3 Cardano    500000\n",
       "6                 Connecting Japan/日本 Community     50000\n",
       "7           Disarm cyber disinformation attacks    100000\n",
       "8                          DApps & Integrations    250000\n",
       "9                             Gamers On-Chained    250000\n",
       "10             Grow Latin America, Grow Cardano    500000\n",
       "11            Seeding Cardano's Grassroots DeFi    200000\n",
       "12            Scale-UP Cardano's Community Hubs    350000\n",
       "13               New SPO Business Opportunities    250000\n",
       "14              Global Sustainable Indep. SPO's    100000\n",
       "15           A.I. & SingularityNet a $5T market    500000\n",
       "16                      Miscellaneous Challenge    200000\n",
       "17                        Nation Building Dapps    600000\n",
       "18          Mini/Low-Budget Dapps &Integrations    200000\n",
       "19              Open Source Developer Ecosystem    200000\n",
       "20                       Multilingual resources    100000\n",
       "21                Improve and Grow Auditability    100000\n",
       "22                                  Atala PRISM    425000\n",
       "23               Catalyst Accelerator & Mentors    500000\n",
       "24                      Fund8 Challenge Setting  12800000\n",
       "25                         Sum of the leftovers    147668"
      ]
     },
     "metadata": {},
     "output_type": "display_data"
    },
    {
     "name": "stdout",
     "output_type": "stream",
     "text": [
      "<class 'pandas.core.frame.DataFrame'>\n",
      "RangeIndex: 26 entries, 0 to 25\n",
      "Data columns (total 2 columns):\n",
      " #   Column     Non-Null Count  Dtype \n",
      "---  ------     --------------  ----- \n",
      " 0   challenge  26 non-null     object\n",
      " 1   budget     26 non-null     int64 \n",
      "dtypes: int64(1), object(1)\n",
      "memory usage: 544.0+ bytes\n"
     ]
    }
   ],
   "source": [
    "fund = 'f7'\n",
    "print('#Raw Challenges/sheets (validation/withdraws included): {}\\n'.format(len(list(sheets[fund]))))\n",
    "df = get_catalyst_data(fund).validation.copy()\n",
    "\n",
    "# df.drop(columns=['Fund size:','Unnamed: 3'],inplace=True)\n",
    "# df = __default_setup(df)\n",
    "\n",
    "display(df)\n",
    "df.info()"
   ]
  },
  {
   "cell_type": "markdown",
   "id": "c5419ebf-8d9d-4f1c-b524-71ffd0587a6f",
   "metadata": {},
   "source": [
    "### FUND: F8"
   ]
  },
  {
   "cell_type": "code",
   "execution_count": 11,
   "id": "6907d1f6-51f0-4fb7-a254-49214555833a",
   "metadata": {
    "scrolled": true
   },
   "outputs": [
    {
     "name": "stdout",
     "output_type": "stream",
     "text": [
      "#Raw Challenges/sheets (validation/withdraws included): 26\n",
      "\n"
     ]
    },
    {
     "data": {
      "text/html": [
       "<div>\n",
       "<style scoped>\n",
       "    .dataframe tbody tr th:only-of-type {\n",
       "        vertical-align: middle;\n",
       "    }\n",
       "\n",
       "    .dataframe tbody tr th {\n",
       "        vertical-align: top;\n",
       "    }\n",
       "\n",
       "    .dataframe thead th {\n",
       "        text-align: right;\n",
       "    }\n",
       "</style>\n",
       "<table border=\"1\" class=\"dataframe\">\n",
       "  <thead>\n",
       "    <tr style=\"text-align: right;\">\n",
       "      <th></th>\n",
       "      <th>challenge</th>\n",
       "      <th>budget</th>\n",
       "    </tr>\n",
       "  </thead>\n",
       "  <tbody>\n",
       "    <tr>\n",
       "      <th>0</th>\n",
       "      <td>Accelerate Decentralized Identity</td>\n",
       "      <td>500000</td>\n",
       "    </tr>\n",
       "    <tr>\n",
       "      <th>1</th>\n",
       "      <td>Business Solutions (B2B &amp; B2C)</td>\n",
       "      <td>1000000</td>\n",
       "    </tr>\n",
       "    <tr>\n",
       "      <th>2</th>\n",
       "      <td>Cardano scaling solutions</td>\n",
       "      <td>1000000</td>\n",
       "    </tr>\n",
       "    <tr>\n",
       "      <th>3</th>\n",
       "      <td>Community Advisor Improvements</td>\n",
       "      <td>100000</td>\n",
       "    </tr>\n",
       "    <tr>\n",
       "      <th>4</th>\n",
       "      <td>Cross-Chain Collaboration</td>\n",
       "      <td>400000</td>\n",
       "    </tr>\n",
       "    <tr>\n",
       "      <th>5</th>\n",
       "      <td>DApps and Integrations</td>\n",
       "      <td>2500000</td>\n",
       "    </tr>\n",
       "    <tr>\n",
       "      <th>6</th>\n",
       "      <td>Developer Ecosystem</td>\n",
       "      <td>1000000</td>\n",
       "    </tr>\n",
       "    <tr>\n",
       "      <th>7</th>\n",
       "      <td>Film + Media (FAM) creatives unite!</td>\n",
       "      <td>150000</td>\n",
       "    </tr>\n",
       "    <tr>\n",
       "      <th>8</th>\n",
       "      <td>Gamers On - Chained</td>\n",
       "      <td>500000</td>\n",
       "    </tr>\n",
       "    <tr>\n",
       "      <th>9</th>\n",
       "      <td>Grow Africa, Grow Cardano</td>\n",
       "      <td>250000</td>\n",
       "    </tr>\n",
       "    <tr>\n",
       "      <th>10</th>\n",
       "      <td>Grow East Asia, Grow Cardano</td>\n",
       "      <td>150000</td>\n",
       "    </tr>\n",
       "    <tr>\n",
       "      <th>11</th>\n",
       "      <td>Grow India, Grow Cardano</td>\n",
       "      <td>150000</td>\n",
       "    </tr>\n",
       "    <tr>\n",
       "      <th>12</th>\n",
       "      <td>Improve and Grow Auditability</td>\n",
       "      <td>200000</td>\n",
       "    </tr>\n",
       "    <tr>\n",
       "      <th>13</th>\n",
       "      <td>Lobbying for favorable legislation</td>\n",
       "      <td>300000</td>\n",
       "    </tr>\n",
       "    <tr>\n",
       "      <th>14</th>\n",
       "      <td>Miscellaneous Challenge</td>\n",
       "      <td>500000</td>\n",
       "    </tr>\n",
       "    <tr>\n",
       "      <th>15</th>\n",
       "      <td>Nation Building Dapps</td>\n",
       "      <td>800000</td>\n",
       "    </tr>\n",
       "    <tr>\n",
       "      <th>16</th>\n",
       "      <td>New Member Onboarding</td>\n",
       "      <td>200000</td>\n",
       "    </tr>\n",
       "    <tr>\n",
       "      <th>17</th>\n",
       "      <td>Open Source Development Ecosystem</td>\n",
       "      <td>1200000</td>\n",
       "    </tr>\n",
       "    <tr>\n",
       "      <th>18</th>\n",
       "      <td>Open Standards &amp; Interoperability</td>\n",
       "      <td>500000</td>\n",
       "    </tr>\n",
       "    <tr>\n",
       "      <th>19</th>\n",
       "      <td>Scale-UP Cardano's Community Hubs</td>\n",
       "      <td>500000</td>\n",
       "    </tr>\n",
       "    <tr>\n",
       "      <th>20</th>\n",
       "      <td>Self-Sovereign Identity</td>\n",
       "      <td>400000</td>\n",
       "    </tr>\n",
       "    <tr>\n",
       "      <th>21</th>\n",
       "      <td>The Great Migration (from Ethereum)</td>\n",
       "      <td>500000</td>\n",
       "    </tr>\n",
       "    <tr>\n",
       "      <th>22</th>\n",
       "      <td>Fund9 challenge setting</td>\n",
       "      <td>12800000</td>\n",
       "    </tr>\n",
       "    <tr>\n",
       "      <th>23</th>\n",
       "      <td>Sum of the leftovers</td>\n",
       "      <td>262870</td>\n",
       "    </tr>\n",
       "  </tbody>\n",
       "</table>\n",
       "</div>"
      ],
      "text/plain": [
       "                              challenge    budget\n",
       "0     Accelerate Decentralized Identity    500000\n",
       "1        Business Solutions (B2B & B2C)   1000000\n",
       "2             Cardano scaling solutions   1000000\n",
       "3        Community Advisor Improvements    100000\n",
       "4             Cross-Chain Collaboration    400000\n",
       "5                DApps and Integrations   2500000\n",
       "6                   Developer Ecosystem   1000000\n",
       "7   Film + Media (FAM) creatives unite!    150000\n",
       "8                   Gamers On - Chained    500000\n",
       "9             Grow Africa, Grow Cardano    250000\n",
       "10         Grow East Asia, Grow Cardano    150000\n",
       "11             Grow India, Grow Cardano    150000\n",
       "12        Improve and Grow Auditability    200000\n",
       "13   Lobbying for favorable legislation    300000\n",
       "14              Miscellaneous Challenge    500000\n",
       "15                Nation Building Dapps    800000\n",
       "16                New Member Onboarding    200000\n",
       "17    Open Source Development Ecosystem   1200000\n",
       "18    Open Standards & Interoperability    500000\n",
       "19    Scale-UP Cardano's Community Hubs    500000\n",
       "20              Self-Sovereign Identity    400000\n",
       "21  The Great Migration (from Ethereum)    500000\n",
       "22              Fund9 challenge setting  12800000\n",
       "23                 Sum of the leftovers    262870"
      ]
     },
     "metadata": {},
     "output_type": "display_data"
    },
    {
     "name": "stdout",
     "output_type": "stream",
     "text": [
      "<class 'pandas.core.frame.DataFrame'>\n",
      "RangeIndex: 24 entries, 0 to 23\n",
      "Data columns (total 2 columns):\n",
      " #   Column     Non-Null Count  Dtype \n",
      "---  ------     --------------  ----- \n",
      " 0   challenge  24 non-null     object\n",
      " 1   budget     24 non-null     int64 \n",
      "dtypes: int64(1), object(1)\n",
      "memory usage: 512.0+ bytes\n"
     ]
    }
   ],
   "source": [
    "fund = 'f8'\n",
    "print('#Raw Challenges/sheets (validation/withdraws included): {}\\n'.format(len(list(sheets[fund]))))\n",
    "df = get_catalyst_data(fund).validation.copy()\n",
    "\n",
    "# df.drop(columns=['Fund size:'],inplace=True)\n",
    "# df = __default_setup(df)\n",
    "\n",
    "display(df)\n",
    "df.info()"
   ]
  },
  {
   "cell_type": "markdown",
   "id": "7f0aa287",
   "metadata": {},
   "source": [
    "### OVEFRVIEW ON CATALYST-RESULTS OBJS"
   ]
  },
  {
   "cell_type": "code",
   "execution_count": 12,
   "id": "f35ee225",
   "metadata": {
    "scrolled": true
   },
   "outputs": [
    {
     "name": "stdout",
     "output_type": "stream",
     "text": [
      "\n",
      "FUND: f3\n",
      "#CHALLANGES: 3\n",
      "#CHALLANGES: ['DApp creation', 'Developer ecosystem', 'Community choice']\n",
      "VALIDATION: <class 'pandas.core.frame.DataFrame'>\n",
      "WITHDRAWALS: <class 'NoneType'>\n",
      "\n",
      "FUND: f4\n",
      "#CHALLANGES: 8\n",
      "#CHALLANGES: ['DApp&Integrations', 'Developer ecosystem', 'Distributed decision making', 'Proposer Outreach', 'Catalyst Value Onboarding', 'Local Community Centers', 'Fund6 Challenge Setting', 'Sponsored by leftovers']\n",
      "VALIDATION: <class 'pandas.core.frame.DataFrame'>\n",
      "WITHDRAWALS: <class 'NoneType'>\n",
      "\n",
      "FUND: f5\n",
      "#CHALLANGES: 10\n",
      "#CHALLANGES: ['Developer ecosystem', 'DApp&Integrations', 'Distributed decision making', 'Proposer Outreach', 'Catalyst Value Onboarding', 'Metadata challenge', 'Grow Africa, Grow Cardano wv', 'Scale-UP Cardanos DeFi Ecosyste', 'Fund7 Challenge Setting wv', 'Sponsored by leftovers']\n",
      "VALIDATION: <class 'pandas.core.frame.DataFrame'>\n",
      "WITHDRAWALS: <class 'NoneType'>\n",
      "\n",
      "FUND: f6\n",
      "#CHALLANGES: 20\n",
      "#CHALLANGES: ['Developer ecosystem', 'DApps & Integrations', 'Distributed decision making', 'Proposer outreach', 'Catalyst value onboarding', 'Metadata', 'Grow Africa, Grow Cardano', 'Scale-UP Cardano’s DeFi Ecosyst', 'Cardano Emerging Threat Alarm', 'Multilingual resources', 'DeFi and Microlending for Afric', 'DLT Entrepreneurship Toolbox', 'Partnerships for Global Adoptio', 'NFT Business models', 'Atala PRISM DID Mass-Scale Adop', 'Disaster When all is at stake', 'Scale-UP Cardano’s Community Hu', 'Improve and Grow Auditability', 'Fund7 challenge setting', 'Sponsored by leftovers']\n",
      "VALIDATION: <class 'pandas.core.frame.DataFrame'>\n",
      "WITHDRAWALS: <class 'pandas.core.frame.DataFrame'>\n"
     ]
    },
    {
     "name": "stderr",
     "output_type": "stream",
     "text": [
      "/home/julianabmattos/GitRepositories/CatalystReport/data/datasets.py:396: UserWarning: < f7-Accelerate Decentralized Identi > Budget not found. Please, make sure the challenge name from Catalyst.data matches the challenge names in Catalyst.validation.\n",
      "  warnings.warn(WAR_BUDGET_NOT_FOUND.format(data.fund, challenge))\n"
     ]
    },
    {
     "name": "stdout",
     "output_type": "stream",
     "text": [
      "\n",
      "FUND: f7\n",
      "#CHALLANGES: 26\n",
      "#CHALLANGES: ['A.I. & SingularityNet a $5T mar', 'Accelerate Decentralized Identi', 'Boosting Cardanos DeFi', 'Catalyst - Rapid Funding Mechan', 'Catalyst Accelerator & Mentors', 'Catalyst Natives COTI Pay with ', 'Community Events', 'Connecting Japan日本 Community', 'DAOs ❤ Cardano', 'DApps & Integrations', 'Disarm cyber disinformation att', 'Gamers On-Chained', 'Global Sustainable Indep. SPOs', 'Grow Latin America, Grow Cardan', 'Improve and Grow Auditability', 'Lobbying for favorable legislat', 'MiniLow-Budget Dapps & Integrat', 'Miscellaneous Challenge', 'Multilingual resources', 'Nation Building Dapps', 'New SPO Business Opportunities', 'Open Source Developer Ecosystem', 'Scale-UP Cardanos Community Hub', 'Seeding Cardanos Grassroots DeF', 'Fund8 challenge setting', 'Sponsored by leftovers']\n",
      "VALIDATION: <class 'pandas.core.frame.DataFrame'>\n",
      "WITHDRAWALS: <class 'pandas.core.frame.DataFrame'>\n",
      "\n",
      "FUND: f8\n",
      "#CHALLANGES: 24\n",
      "#CHALLANGES: ['Accelerate Decentralized Identi', 'Business Solutions (B2B & B2C)', 'Cardano scaling solutions', 'Community Advisor Improvements', 'Cross-Chain Collaboration', 'DApps and Integrations', 'Developer Ecosystem', 'Film + Media (FAM) creatives un', 'Gamers On - Chained', 'Grow Africa, Grow Cardano', 'Grow East Asia, Grow Cardano', 'Grow India, Grow Cardano', 'Improve and Grow Auditability', 'Lobbying for favorable legislat', 'Miscellaneous Challenge', 'Nation Building Dapps', 'New Member Onboarding', 'Open Source Development Ecosyst', 'Open Standards & Interoperabili', 'Scale-UP Cardanos Community Hub', 'Self-Sovereign Identity', 'The Great Migration (from Ether', 'Fund9 challenge setting', 'Funded by leftovers']\n",
      "VALIDATION: <class 'pandas.core.frame.DataFrame'>\n",
      "WITHDRAWALS: <class 'NoneType'>\n"
     ]
    }
   ],
   "source": [
    "cat_obj = {} # to store CatalystData objects\n",
    "for fund in funds:\n",
    "    cat_obj[fund] = get_catalyst_data(fund)\n",
    "    \n",
    "    print('\\nFUND: {}'.format(fund))\n",
    "    print(\"#CHALLANGES: {}\".format(len(list(cat_obj[fund].data.keys()))))\n",
    "    print(\"#CHALLANGES: {}\".format(list(cat_obj[fund].data.keys())))\n",
    "    print(\"VALIDATION: {}\".format(type(cat_obj[fund].validation)))\n",
    "    print(\"WITHDRAWALS: {}\".format(type(cat_obj[fund].withdrawals)))"
   ]
  },
  {
   "cell_type": "markdown",
   "id": "24ea7a31",
   "metadata": {},
   "source": [
    "# INPUT CHALLANGE NAME & BUDGET"
   ]
  },
  {
   "cell_type": "code",
   "execution_count": 13,
   "id": "499eb972",
   "metadata": {},
   "outputs": [],
   "source": [
    "WAR_BUDGET_NOT_FOUND = '< {}-{} > Budget not found. Please, make sure the challange name from Catalyst.data matches the challange names in Catalyst.validation.'\n",
    "def check_budget(data):\n",
    "    print('\\n EXTRACTED BUDGETS:')\n",
    "    for ch in data.data.keys():\n",
    "        message = WAR_BUDGET_NOT_FOUND.format(data.fund, ch)\n",
    "        print('>> Challange: {}'.format(ch))\n",
    "        try:\n",
    "            bud = data.validation.loc[data.validation.challange==ch]['budget'].item()\n",
    "        except:\n",
    "            bud = np.nan\n",
    "        print('budget: ', bud)\n",
    "                          \n",
    "    display(data.validation)\n",
    "    return"
   ]
  },
  {
   "cell_type": "markdown",
   "id": "b449cd22",
   "metadata": {},
   "source": [
    "### FUND: F3"
   ]
  },
  {
   "cell_type": "code",
   "execution_count": 14,
   "id": "87f1916e",
   "metadata": {
    "scrolled": false
   },
   "outputs": [
    {
     "name": "stdout",
     "output_type": "stream",
     "text": [
      "Data challanges:  ['DApp creation', 'Developer ecosystem', 'Community choice']\n",
      "Validation challanges: ['DApp creation', 'Developer ecosystem', 'Community choice']\n",
      "\n",
      " EXTRACTED BUDGETS:\n",
      ">> Challange: DApp creation\n",
      "budget:  nan\n",
      ">> Challange: Developer ecosystem\n",
      "budget:  nan\n",
      ">> Challange: Community choice\n",
      "budget:  nan\n"
     ]
    },
    {
     "data": {
      "text/html": [
       "<div>\n",
       "<style scoped>\n",
       "    .dataframe tbody tr th:only-of-type {\n",
       "        vertical-align: middle;\n",
       "    }\n",
       "\n",
       "    .dataframe tbody tr th {\n",
       "        vertical-align: top;\n",
       "    }\n",
       "\n",
       "    .dataframe thead th {\n",
       "        text-align: right;\n",
       "    }\n",
       "</style>\n",
       "<table border=\"1\" class=\"dataframe\">\n",
       "  <thead>\n",
       "    <tr style=\"text-align: right;\">\n",
       "      <th></th>\n",
       "      <th>challenge</th>\n",
       "      <th>budget</th>\n",
       "    </tr>\n",
       "  </thead>\n",
       "  <tbody>\n",
       "    <tr>\n",
       "      <th>0</th>\n",
       "      <td>DApp creation</td>\n",
       "      <td>200000</td>\n",
       "    </tr>\n",
       "    <tr>\n",
       "      <th>1</th>\n",
       "      <td>Developer ecosystem</td>\n",
       "      <td>200000</td>\n",
       "    </tr>\n",
       "    <tr>\n",
       "      <th>2</th>\n",
       "      <td>Community choice</td>\n",
       "      <td>500000</td>\n",
       "    </tr>\n",
       "  </tbody>\n",
       "</table>\n",
       "</div>"
      ],
      "text/plain": [
       "             challenge  budget\n",
       "0        DApp creation  200000\n",
       "1  Developer ecosystem  200000\n",
       "2     Community choice  500000"
      ]
     },
     "metadata": {},
     "output_type": "display_data"
    }
   ],
   "source": [
    "fund = 'f3'\n",
    "data = cat_obj[fund]\n",
    "print(\"Data challanges: \", list(data.data.keys()))\n",
    "print(\"Validation challanges: {}\".format(list(data.validation.challenge.values)))\n",
    "\n",
    "check_budget(data)"
   ]
  },
  {
   "cell_type": "markdown",
   "id": "9b13e63b",
   "metadata": {},
   "source": [
    "### FUND: F4"
   ]
  },
  {
   "cell_type": "code",
   "execution_count": 15,
   "id": "dd82f451",
   "metadata": {
    "scrolled": true
   },
   "outputs": [
    {
     "name": "stdout",
     "output_type": "stream",
     "text": [
      "Data challanges:  ['DApp&Integrations', 'Developer ecosystem', 'Distributed decision making', 'Proposer Outreach', 'Catalyst Value Onboarding', 'Local Community Centers', 'Fund6 Challenge Setting', 'Sponsored by leftovers']\n",
      "Validation challanges: ['DApps&Integrations ', 'Developer ecosystem', 'Distributed Decision Making', 'Proposer Outreach', 'Catalyst Value Onboarding', 'Local Community Centers', 'Fund6 Challenge Setting', 'Leftovers from regular challenges']\n",
      "\n",
      " EXTRACTED BUDGETS:\n",
      ">> Challange: DApp&Integrations\n",
      "budget:  nan\n",
      ">> Challange: Developer ecosystem\n",
      "budget:  nan\n",
      ">> Challange: Distributed decision making\n",
      "budget:  nan\n",
      ">> Challange: Proposer Outreach\n",
      "budget:  nan\n",
      ">> Challange: Catalyst Value Onboarding\n",
      "budget:  nan\n",
      ">> Challange: Local Community Centers\n",
      "budget:  nan\n",
      ">> Challange: Fund6 Challenge Setting\n",
      "budget:  nan\n",
      ">> Challange: Sponsored by leftovers\n",
      "budget:  nan\n"
     ]
    },
    {
     "data": {
      "text/html": [
       "<div>\n",
       "<style scoped>\n",
       "    .dataframe tbody tr th:only-of-type {\n",
       "        vertical-align: middle;\n",
       "    }\n",
       "\n",
       "    .dataframe tbody tr th {\n",
       "        vertical-align: top;\n",
       "    }\n",
       "\n",
       "    .dataframe thead th {\n",
       "        text-align: right;\n",
       "    }\n",
       "</style>\n",
       "<table border=\"1\" class=\"dataframe\">\n",
       "  <thead>\n",
       "    <tr style=\"text-align: right;\">\n",
       "      <th></th>\n",
       "      <th>challenge</th>\n",
       "      <th>budget</th>\n",
       "    </tr>\n",
       "  </thead>\n",
       "  <tbody>\n",
       "    <tr>\n",
       "      <th>0</th>\n",
       "      <td>DApps&amp;Integrations</td>\n",
       "      <td>200000</td>\n",
       "    </tr>\n",
       "    <tr>\n",
       "      <th>1</th>\n",
       "      <td>Developer ecosystem</td>\n",
       "      <td>400000</td>\n",
       "    </tr>\n",
       "    <tr>\n",
       "      <th>2</th>\n",
       "      <td>Distributed Decision Making</td>\n",
       "      <td>50000</td>\n",
       "    </tr>\n",
       "    <tr>\n",
       "      <th>3</th>\n",
       "      <td>Proposer Outreach</td>\n",
       "      <td>50000</td>\n",
       "    </tr>\n",
       "    <tr>\n",
       "      <th>4</th>\n",
       "      <td>Catalyst Value Onboarding</td>\n",
       "      <td>50000</td>\n",
       "    </tr>\n",
       "    <tr>\n",
       "      <th>5</th>\n",
       "      <td>Local Community Centers</td>\n",
       "      <td>50000</td>\n",
       "    </tr>\n",
       "    <tr>\n",
       "      <th>6</th>\n",
       "      <td>Fund6 Challenge Setting</td>\n",
       "      <td>400000</td>\n",
       "    </tr>\n",
       "    <tr>\n",
       "      <th>7</th>\n",
       "      <td>Leftovers from regular challenges</td>\n",
       "      <td>42821</td>\n",
       "    </tr>\n",
       "  </tbody>\n",
       "</table>\n",
       "</div>"
      ],
      "text/plain": [
       "                           challenge  budget\n",
       "0                DApps&Integrations   200000\n",
       "1                Developer ecosystem  400000\n",
       "2        Distributed Decision Making   50000\n",
       "3                  Proposer Outreach   50000\n",
       "4          Catalyst Value Onboarding   50000\n",
       "5            Local Community Centers   50000\n",
       "6            Fund6 Challenge Setting  400000\n",
       "7  Leftovers from regular challenges   42821"
      ]
     },
     "metadata": {},
     "output_type": "display_data"
    }
   ],
   "source": [
    "fund = 'f4'\n",
    "data = cat_obj[fund]\n",
    "print(\"Data challanges: \", list(data.data.keys()))\n",
    "print(\"Validation challanges: {}\".format(list(data.validation.challenge.values)))\n",
    "\n",
    "check_budget(data)"
   ]
  },
  {
   "cell_type": "markdown",
   "id": "b528fa6f",
   "metadata": {},
   "source": [
    "### FUND: F5"
   ]
  },
  {
   "cell_type": "code",
   "execution_count": 16,
   "id": "00916d20",
   "metadata": {
    "scrolled": true
   },
   "outputs": [
    {
     "name": "stdout",
     "output_type": "stream",
     "text": [
      "Data challanges:  ['Developer ecosystem', 'DApp&Integrations', 'Distributed decision making', 'Proposer Outreach', 'Catalyst Value Onboarding', 'Metadata challenge', 'Grow Africa, Grow Cardano wv', 'Scale-UP Cardanos DeFi Ecosyste', 'Fund7 Challenge Setting wv', 'Sponsored by leftovers']\n",
      "Validation challanges: ['DApps&Integrations ', 'Developer ecosystem', 'Distributed Decision Making', 'Proposer Outreach', 'Catalyst Value Onboarding', 'Metadata challenge', 'Grow Africa, Grow Cardano', \"Scale-UP Cardano's DeFi Ecosystem\", 'Fund7 Challenge Setting', 'Leftovers from regular challenges']\n",
      "\n",
      " EXTRACTED BUDGETS:\n",
      ">> Challange: Developer ecosystem\n",
      "budget:  nan\n",
      ">> Challange: DApp&Integrations\n",
      "budget:  nan\n",
      ">> Challange: Distributed decision making\n",
      "budget:  nan\n",
      ">> Challange: Proposer Outreach\n",
      "budget:  nan\n",
      ">> Challange: Catalyst Value Onboarding\n",
      "budget:  nan\n",
      ">> Challange: Metadata challenge\n",
      "budget:  nan\n",
      ">> Challange: Grow Africa, Grow Cardano wv\n",
      "budget:  nan\n",
      ">> Challange: Scale-UP Cardanos DeFi Ecosyste\n",
      "budget:  nan\n",
      ">> Challange: Fund7 Challenge Setting wv\n",
      "budget:  nan\n",
      ">> Challange: Sponsored by leftovers\n",
      "budget:  nan\n"
     ]
    },
    {
     "data": {
      "text/html": [
       "<div>\n",
       "<style scoped>\n",
       "    .dataframe tbody tr th:only-of-type {\n",
       "        vertical-align: middle;\n",
       "    }\n",
       "\n",
       "    .dataframe tbody tr th {\n",
       "        vertical-align: top;\n",
       "    }\n",
       "\n",
       "    .dataframe thead th {\n",
       "        text-align: right;\n",
       "    }\n",
       "</style>\n",
       "<table border=\"1\" class=\"dataframe\">\n",
       "  <thead>\n",
       "    <tr style=\"text-align: right;\">\n",
       "      <th></th>\n",
       "      <th>challenge</th>\n",
       "      <th>budget</th>\n",
       "    </tr>\n",
       "  </thead>\n",
       "  <tbody>\n",
       "    <tr>\n",
       "      <th>0</th>\n",
       "      <td>DApps&amp;Integrations</td>\n",
       "      <td>250000</td>\n",
       "    </tr>\n",
       "    <tr>\n",
       "      <th>1</th>\n",
       "      <td>Developer ecosystem</td>\n",
       "      <td>600000</td>\n",
       "    </tr>\n",
       "    <tr>\n",
       "      <th>2</th>\n",
       "      <td>Distributed Decision Making</td>\n",
       "      <td>100000</td>\n",
       "    </tr>\n",
       "    <tr>\n",
       "      <th>3</th>\n",
       "      <td>Proposer Outreach</td>\n",
       "      <td>100000</td>\n",
       "    </tr>\n",
       "    <tr>\n",
       "      <th>4</th>\n",
       "      <td>Catalyst Value Onboarding</td>\n",
       "      <td>100000</td>\n",
       "    </tr>\n",
       "    <tr>\n",
       "      <th>5</th>\n",
       "      <td>Metadata challenge</td>\n",
       "      <td>50000</td>\n",
       "    </tr>\n",
       "    <tr>\n",
       "      <th>6</th>\n",
       "      <td>Grow Africa, Grow Cardano</td>\n",
       "      <td>250000</td>\n",
       "    </tr>\n",
       "    <tr>\n",
       "      <th>7</th>\n",
       "      <td>Scale-UP Cardano's DeFi Ecosystem</td>\n",
       "      <td>250000</td>\n",
       "    </tr>\n",
       "    <tr>\n",
       "      <th>8</th>\n",
       "      <td>Fund7 Challenge Setting</td>\n",
       "      <td>800000</td>\n",
       "    </tr>\n",
       "    <tr>\n",
       "      <th>9</th>\n",
       "      <td>Leftovers from regular challenges</td>\n",
       "      <td>92476</td>\n",
       "    </tr>\n",
       "  </tbody>\n",
       "</table>\n",
       "</div>"
      ],
      "text/plain": [
       "                           challenge  budget\n",
       "0                DApps&Integrations   250000\n",
       "1                Developer ecosystem  600000\n",
       "2        Distributed Decision Making  100000\n",
       "3                  Proposer Outreach  100000\n",
       "4          Catalyst Value Onboarding  100000\n",
       "5                 Metadata challenge   50000\n",
       "6          Grow Africa, Grow Cardano  250000\n",
       "7  Scale-UP Cardano's DeFi Ecosystem  250000\n",
       "8            Fund7 Challenge Setting  800000\n",
       "9  Leftovers from regular challenges   92476"
      ]
     },
     "metadata": {},
     "output_type": "display_data"
    }
   ],
   "source": [
    "fund = 'f5'\n",
    "data = cat_obj[fund]\n",
    "print(\"Data challanges: \", list(data.data.keys()))\n",
    "print(\"Validation challanges: {}\".format(list(data.validation.challenge.values)))\n",
    "\n",
    "check_budget(data)"
   ]
  },
  {
   "cell_type": "markdown",
   "id": "f4c71acf",
   "metadata": {},
   "source": [
    "### FUND: F6"
   ]
  },
  {
   "cell_type": "code",
   "execution_count": 17,
   "id": "20139c8a",
   "metadata": {
    "scrolled": true
   },
   "outputs": [
    {
     "name": "stdout",
     "output_type": "stream",
     "text": [
      "Data challanges:  ['Developer ecosystem', 'DApps & Integrations', 'Distributed decision making', 'Proposer outreach', 'Catalyst value onboarding', 'Metadata', 'Grow Africa, Grow Cardano', 'Scale-UP Cardano’s DeFi Ecosyst', 'Cardano Emerging Threat Alarm', 'Multilingual resources', 'DeFi and Microlending for Afric', 'DLT Entrepreneurship Toolbox', 'Partnerships for Global Adoptio', 'NFT Business models', 'Atala PRISM DID Mass-Scale Adop', 'Disaster When all is at stake', 'Scale-UP Cardano’s Community Hu', 'Improve and Grow Auditability', 'Fund7 challenge setting', 'Sponsored by leftovers']\n",
      "Validation challanges: ['Developer ecosystem', 'DApps & Integrations', 'Distributed decision making', 'Proposer outreach', 'Catalyst value onboarding', 'Metadata challenge', 'Grow Africa, Grow Cardano', \"Scale-UP Cardano's DeFi Ecosystem\", 'Cardano Emerging Threat Alarm', 'Multilingual resources', 'DeFi and Microlending for Africa', 'DLT Entrepreneurship Toolbox', 'Partnerships for Global Adoption', 'NFT Business models', 'Atala PRISM DID Mass-Scale Adoption', 'Disaster: When all is at stake', 'Scale-UP Cardano’s Community Hubs', 'Improve and Grow Auditability', 'Fund7 Challenge Setting', 'Leftovers from regular challenges']\n",
      "\n",
      " EXTRACTED BUDGETS:\n",
      ">> Challange: Developer ecosystem\n",
      "budget:  nan\n",
      ">> Challange: DApps & Integrations\n",
      "budget:  nan\n",
      ">> Challange: Distributed decision making\n",
      "budget:  nan\n",
      ">> Challange: Proposer outreach\n",
      "budget:  nan\n",
      ">> Challange: Catalyst value onboarding\n",
      "budget:  nan\n",
      ">> Challange: Metadata\n",
      "budget:  nan\n",
      ">> Challange: Grow Africa, Grow Cardano\n",
      "budget:  nan\n",
      ">> Challange: Scale-UP Cardano’s DeFi Ecosyst\n",
      "budget:  nan\n",
      ">> Challange: Cardano Emerging Threat Alarm\n",
      "budget:  nan\n",
      ">> Challange: Multilingual resources\n",
      "budget:  nan\n",
      ">> Challange: DeFi and Microlending for Afric\n",
      "budget:  nan\n",
      ">> Challange: DLT Entrepreneurship Toolbox\n",
      "budget:  nan\n",
      ">> Challange: Partnerships for Global Adoptio\n",
      "budget:  nan\n",
      ">> Challange: NFT Business models\n",
      "budget:  nan\n",
      ">> Challange: Atala PRISM DID Mass-Scale Adop\n",
      "budget:  nan\n",
      ">> Challange: Disaster When all is at stake\n",
      "budget:  nan\n",
      ">> Challange: Scale-UP Cardano’s Community Hu\n",
      "budget:  nan\n",
      ">> Challange: Improve and Grow Auditability\n",
      "budget:  nan\n",
      ">> Challange: Fund7 challenge setting\n",
      "budget:  nan\n",
      ">> Challange: Sponsored by leftovers\n",
      "budget:  nan\n"
     ]
    },
    {
     "data": {
      "text/html": [
       "<div>\n",
       "<style scoped>\n",
       "    .dataframe tbody tr th:only-of-type {\n",
       "        vertical-align: middle;\n",
       "    }\n",
       "\n",
       "    .dataframe tbody tr th {\n",
       "        vertical-align: top;\n",
       "    }\n",
       "\n",
       "    .dataframe thead th {\n",
       "        text-align: right;\n",
       "    }\n",
       "</style>\n",
       "<table border=\"1\" class=\"dataframe\">\n",
       "  <thead>\n",
       "    <tr style=\"text-align: right;\">\n",
       "      <th></th>\n",
       "      <th>challenge</th>\n",
       "      <th>budget</th>\n",
       "    </tr>\n",
       "  </thead>\n",
       "  <tbody>\n",
       "    <tr>\n",
       "      <th>0</th>\n",
       "      <td>Developer ecosystem</td>\n",
       "      <td>1005000</td>\n",
       "    </tr>\n",
       "    <tr>\n",
       "      <th>1</th>\n",
       "      <td>DApps &amp; Integrations</td>\n",
       "      <td>250000</td>\n",
       "    </tr>\n",
       "    <tr>\n",
       "      <th>2</th>\n",
       "      <td>Distributed decision making</td>\n",
       "      <td>75000</td>\n",
       "    </tr>\n",
       "    <tr>\n",
       "      <th>3</th>\n",
       "      <td>Proposer outreach</td>\n",
       "      <td>100000</td>\n",
       "    </tr>\n",
       "    <tr>\n",
       "      <th>4</th>\n",
       "      <td>Catalyst value onboarding</td>\n",
       "      <td>75000</td>\n",
       "    </tr>\n",
       "    <tr>\n",
       "      <th>5</th>\n",
       "      <td>Metadata challenge</td>\n",
       "      <td>100000</td>\n",
       "    </tr>\n",
       "    <tr>\n",
       "      <th>6</th>\n",
       "      <td>Grow Africa, Grow Cardano</td>\n",
       "      <td>250000</td>\n",
       "    </tr>\n",
       "    <tr>\n",
       "      <th>7</th>\n",
       "      <td>Scale-UP Cardano's DeFi Ecosystem</td>\n",
       "      <td>250000</td>\n",
       "    </tr>\n",
       "    <tr>\n",
       "      <th>8</th>\n",
       "      <td>Cardano Emerging Threat Alarm</td>\n",
       "      <td>50000</td>\n",
       "    </tr>\n",
       "    <tr>\n",
       "      <th>9</th>\n",
       "      <td>Multilingual resources</td>\n",
       "      <td>75000</td>\n",
       "    </tr>\n",
       "    <tr>\n",
       "      <th>10</th>\n",
       "      <td>DeFi and Microlending for Africa</td>\n",
       "      <td>90000</td>\n",
       "    </tr>\n",
       "    <tr>\n",
       "      <th>11</th>\n",
       "      <td>DLT Entrepreneurship Toolbox</td>\n",
       "      <td>150000</td>\n",
       "    </tr>\n",
       "    <tr>\n",
       "      <th>12</th>\n",
       "      <td>Partnerships for Global Adoption</td>\n",
       "      <td>30000</td>\n",
       "    </tr>\n",
       "    <tr>\n",
       "      <th>13</th>\n",
       "      <td>NFT Business models</td>\n",
       "      <td>200000</td>\n",
       "    </tr>\n",
       "    <tr>\n",
       "      <th>14</th>\n",
       "      <td>Atala PRISM DID Mass-Scale Adoption</td>\n",
       "      <td>250000</td>\n",
       "    </tr>\n",
       "    <tr>\n",
       "      <th>15</th>\n",
       "      <td>Disaster: When all is at stake</td>\n",
       "      <td>150000</td>\n",
       "    </tr>\n",
       "    <tr>\n",
       "      <th>16</th>\n",
       "      <td>Scale-UP Cardano’s Community Hubs</td>\n",
       "      <td>100000</td>\n",
       "    </tr>\n",
       "    <tr>\n",
       "      <th>17</th>\n",
       "      <td>Improve and Grow Auditability</td>\n",
       "      <td>100000</td>\n",
       "    </tr>\n",
       "    <tr>\n",
       "      <th>18</th>\n",
       "      <td>Fund7 Challenge Setting</td>\n",
       "      <td>5475000</td>\n",
       "    </tr>\n",
       "    <tr>\n",
       "      <th>19</th>\n",
       "      <td>Leftovers from regular challenges</td>\n",
       "      <td>131820</td>\n",
       "    </tr>\n",
       "  </tbody>\n",
       "</table>\n",
       "</div>"
      ],
      "text/plain": [
       "                              challenge   budget\n",
       "0                   Developer ecosystem  1005000\n",
       "1                  DApps & Integrations   250000\n",
       "2           Distributed decision making    75000\n",
       "3                     Proposer outreach   100000\n",
       "4             Catalyst value onboarding    75000\n",
       "5                    Metadata challenge   100000\n",
       "6             Grow Africa, Grow Cardano   250000\n",
       "7     Scale-UP Cardano's DeFi Ecosystem   250000\n",
       "8         Cardano Emerging Threat Alarm    50000\n",
       "9                Multilingual resources    75000\n",
       "10     DeFi and Microlending for Africa    90000\n",
       "11         DLT Entrepreneurship Toolbox   150000\n",
       "12     Partnerships for Global Adoption    30000\n",
       "13                  NFT Business models   200000\n",
       "14  Atala PRISM DID Mass-Scale Adoption   250000\n",
       "15       Disaster: When all is at stake   150000\n",
       "16    Scale-UP Cardano’s Community Hubs   100000\n",
       "17        Improve and Grow Auditability   100000\n",
       "18              Fund7 Challenge Setting  5475000\n",
       "19    Leftovers from regular challenges   131820"
      ]
     },
     "metadata": {},
     "output_type": "display_data"
    }
   ],
   "source": [
    "fund = 'f6'\n",
    "data = cat_obj[fund]\n",
    "print(\"Data challanges: \", list(data.data.keys()))\n",
    "print(\"Validation challanges: {}\".format(list(data.validation.challenge.values)))\n",
    "\n",
    "check_budget(data)"
   ]
  },
  {
   "cell_type": "markdown",
   "id": "83984ed0",
   "metadata": {},
   "source": [
    "### FUND: F7"
   ]
  },
  {
   "cell_type": "code",
   "execution_count": 18,
   "id": "0074c2d6",
   "metadata": {
    "scrolled": true
   },
   "outputs": [
    {
     "name": "stdout",
     "output_type": "stream",
     "text": [
      "Data challanges:  ['A.I. & SingularityNet a $5T mar', 'Accelerate Decentralized Identi', 'Boosting Cardanos DeFi', 'Catalyst - Rapid Funding Mechan', 'Catalyst Accelerator & Mentors', 'Catalyst Natives COTI Pay with ', 'Community Events', 'Connecting Japan日本 Community', 'DAOs ❤ Cardano', 'DApps & Integrations', 'Disarm cyber disinformation att', 'Gamers On-Chained', 'Global Sustainable Indep. SPOs', 'Grow Latin America, Grow Cardan', 'Improve and Grow Auditability', 'Lobbying for favorable legislat', 'MiniLow-Budget Dapps & Integrat', 'Miscellaneous Challenge', 'Multilingual resources', 'Nation Building Dapps', 'New SPO Business Opportunities', 'Open Source Developer Ecosystem', 'Scale-UP Cardanos Community Hub', 'Seeding Cardanos Grassroots DeF', 'Fund8 challenge setting', 'Sponsored by leftovers']\n",
      "Validation challanges: ['Catalyst Natives COTI: Pay with ADA Plug-in', \"Boosting Cardano's DeFi\", 'Community Events', 'Lobbying for favorable legislation', 'Catalyst - Rapid Funding Mechanisms', 'DAOs <3 Cardano', 'Connecting Japan/日本 Community', 'Disarm cyber disinformation attacks', 'DApps & Integrations', 'Gamers On-Chained', 'Grow Latin America, Grow Cardano', \"Seeding Cardano's Grassroots DeFi\", \"Scale-UP Cardano's Community Hubs\", 'New SPO Business Opportunities', \"Global Sustainable Indep. SPO's\", 'A.I. & SingularityNet a $5T market', 'Miscellaneous Challenge', 'Nation Building Dapps', 'Mini/Low-Budget Dapps &Integrations', 'Open Source Developer Ecosystem', 'Multilingual resources', 'Improve and Grow Auditability', 'Atala PRISM', 'Catalyst Accelerator & Mentors', 'Fund8 Challenge Setting', 'Sum of the leftovers']\n",
      "\n",
      " EXTRACTED BUDGETS:\n",
      ">> Challange: A.I. & SingularityNet a $5T mar\n",
      "budget:  nan\n",
      ">> Challange: Accelerate Decentralized Identi\n",
      "budget:  nan\n",
      ">> Challange: Boosting Cardanos DeFi\n",
      "budget:  nan\n",
      ">> Challange: Catalyst - Rapid Funding Mechan\n",
      "budget:  nan\n",
      ">> Challange: Catalyst Accelerator & Mentors\n",
      "budget:  nan\n",
      ">> Challange: Catalyst Natives COTI Pay with \n",
      "budget:  nan\n",
      ">> Challange: Community Events\n",
      "budget:  nan\n",
      ">> Challange: Connecting Japan日本 Community\n",
      "budget:  nan\n",
      ">> Challange: DAOs ❤ Cardano\n",
      "budget:  nan\n",
      ">> Challange: DApps & Integrations\n",
      "budget:  nan\n",
      ">> Challange: Disarm cyber disinformation att\n",
      "budget:  nan\n",
      ">> Challange: Gamers On-Chained\n",
      "budget:  nan\n",
      ">> Challange: Global Sustainable Indep. SPOs\n",
      "budget:  nan\n",
      ">> Challange: Grow Latin America, Grow Cardan\n",
      "budget:  nan\n",
      ">> Challange: Improve and Grow Auditability\n",
      "budget:  nan\n",
      ">> Challange: Lobbying for favorable legislat\n",
      "budget:  nan\n",
      ">> Challange: MiniLow-Budget Dapps & Integrat\n",
      "budget:  nan\n",
      ">> Challange: Miscellaneous Challenge\n",
      "budget:  nan\n",
      ">> Challange: Multilingual resources\n",
      "budget:  nan\n",
      ">> Challange: Nation Building Dapps\n",
      "budget:  nan\n",
      ">> Challange: New SPO Business Opportunities\n",
      "budget:  nan\n",
      ">> Challange: Open Source Developer Ecosystem\n",
      "budget:  nan\n",
      ">> Challange: Scale-UP Cardanos Community Hub\n",
      "budget:  nan\n",
      ">> Challange: Seeding Cardanos Grassroots DeF\n",
      "budget:  nan\n",
      ">> Challange: Fund8 challenge setting\n",
      "budget:  nan\n",
      ">> Challange: Sponsored by leftovers\n",
      "budget:  nan\n"
     ]
    },
    {
     "data": {
      "text/html": [
       "<div>\n",
       "<style scoped>\n",
       "    .dataframe tbody tr th:only-of-type {\n",
       "        vertical-align: middle;\n",
       "    }\n",
       "\n",
       "    .dataframe tbody tr th {\n",
       "        vertical-align: top;\n",
       "    }\n",
       "\n",
       "    .dataframe thead th {\n",
       "        text-align: right;\n",
       "    }\n",
       "</style>\n",
       "<table border=\"1\" class=\"dataframe\">\n",
       "  <thead>\n",
       "    <tr style=\"text-align: right;\">\n",
       "      <th></th>\n",
       "      <th>challenge</th>\n",
       "      <th>budget</th>\n",
       "    </tr>\n",
       "  </thead>\n",
       "  <tbody>\n",
       "    <tr>\n",
       "      <th>0</th>\n",
       "      <td>Catalyst Natives COTI: Pay with ADA Plug-in</td>\n",
       "      <td>100000</td>\n",
       "    </tr>\n",
       "    <tr>\n",
       "      <th>1</th>\n",
       "      <td>Boosting Cardano's DeFi</td>\n",
       "      <td>500000</td>\n",
       "    </tr>\n",
       "    <tr>\n",
       "      <th>2</th>\n",
       "      <td>Community Events</td>\n",
       "      <td>200000</td>\n",
       "    </tr>\n",
       "    <tr>\n",
       "      <th>3</th>\n",
       "      <td>Lobbying for favorable legislation</td>\n",
       "      <td>75000</td>\n",
       "    </tr>\n",
       "    <tr>\n",
       "      <th>4</th>\n",
       "      <td>Catalyst - Rapid Funding Mechanisms</td>\n",
       "      <td>250000</td>\n",
       "    </tr>\n",
       "    <tr>\n",
       "      <th>5</th>\n",
       "      <td>DAOs &lt;3 Cardano</td>\n",
       "      <td>500000</td>\n",
       "    </tr>\n",
       "    <tr>\n",
       "      <th>6</th>\n",
       "      <td>Connecting Japan/日本 Community</td>\n",
       "      <td>50000</td>\n",
       "    </tr>\n",
       "    <tr>\n",
       "      <th>7</th>\n",
       "      <td>Disarm cyber disinformation attacks</td>\n",
       "      <td>100000</td>\n",
       "    </tr>\n",
       "    <tr>\n",
       "      <th>8</th>\n",
       "      <td>DApps &amp; Integrations</td>\n",
       "      <td>250000</td>\n",
       "    </tr>\n",
       "    <tr>\n",
       "      <th>9</th>\n",
       "      <td>Gamers On-Chained</td>\n",
       "      <td>250000</td>\n",
       "    </tr>\n",
       "    <tr>\n",
       "      <th>10</th>\n",
       "      <td>Grow Latin America, Grow Cardano</td>\n",
       "      <td>500000</td>\n",
       "    </tr>\n",
       "    <tr>\n",
       "      <th>11</th>\n",
       "      <td>Seeding Cardano's Grassroots DeFi</td>\n",
       "      <td>200000</td>\n",
       "    </tr>\n",
       "    <tr>\n",
       "      <th>12</th>\n",
       "      <td>Scale-UP Cardano's Community Hubs</td>\n",
       "      <td>350000</td>\n",
       "    </tr>\n",
       "    <tr>\n",
       "      <th>13</th>\n",
       "      <td>New SPO Business Opportunities</td>\n",
       "      <td>250000</td>\n",
       "    </tr>\n",
       "    <tr>\n",
       "      <th>14</th>\n",
       "      <td>Global Sustainable Indep. SPO's</td>\n",
       "      <td>100000</td>\n",
       "    </tr>\n",
       "    <tr>\n",
       "      <th>15</th>\n",
       "      <td>A.I. &amp; SingularityNet a $5T market</td>\n",
       "      <td>500000</td>\n",
       "    </tr>\n",
       "    <tr>\n",
       "      <th>16</th>\n",
       "      <td>Miscellaneous Challenge</td>\n",
       "      <td>200000</td>\n",
       "    </tr>\n",
       "    <tr>\n",
       "      <th>17</th>\n",
       "      <td>Nation Building Dapps</td>\n",
       "      <td>600000</td>\n",
       "    </tr>\n",
       "    <tr>\n",
       "      <th>18</th>\n",
       "      <td>Mini/Low-Budget Dapps &amp;Integrations</td>\n",
       "      <td>200000</td>\n",
       "    </tr>\n",
       "    <tr>\n",
       "      <th>19</th>\n",
       "      <td>Open Source Developer Ecosystem</td>\n",
       "      <td>200000</td>\n",
       "    </tr>\n",
       "    <tr>\n",
       "      <th>20</th>\n",
       "      <td>Multilingual resources</td>\n",
       "      <td>100000</td>\n",
       "    </tr>\n",
       "    <tr>\n",
       "      <th>21</th>\n",
       "      <td>Improve and Grow Auditability</td>\n",
       "      <td>100000</td>\n",
       "    </tr>\n",
       "    <tr>\n",
       "      <th>22</th>\n",
       "      <td>Atala PRISM</td>\n",
       "      <td>425000</td>\n",
       "    </tr>\n",
       "    <tr>\n",
       "      <th>23</th>\n",
       "      <td>Catalyst Accelerator &amp; Mentors</td>\n",
       "      <td>500000</td>\n",
       "    </tr>\n",
       "    <tr>\n",
       "      <th>24</th>\n",
       "      <td>Fund8 Challenge Setting</td>\n",
       "      <td>12800000</td>\n",
       "    </tr>\n",
       "    <tr>\n",
       "      <th>25</th>\n",
       "      <td>Sum of the leftovers</td>\n",
       "      <td>147668</td>\n",
       "    </tr>\n",
       "  </tbody>\n",
       "</table>\n",
       "</div>"
      ],
      "text/plain": [
       "                                      challenge    budget\n",
       "0   Catalyst Natives COTI: Pay with ADA Plug-in    100000\n",
       "1                       Boosting Cardano's DeFi    500000\n",
       "2                              Community Events    200000\n",
       "3            Lobbying for favorable legislation     75000\n",
       "4           Catalyst - Rapid Funding Mechanisms    250000\n",
       "5                               DAOs <3 Cardano    500000\n",
       "6                 Connecting Japan/日本 Community     50000\n",
       "7           Disarm cyber disinformation attacks    100000\n",
       "8                          DApps & Integrations    250000\n",
       "9                             Gamers On-Chained    250000\n",
       "10             Grow Latin America, Grow Cardano    500000\n",
       "11            Seeding Cardano's Grassroots DeFi    200000\n",
       "12            Scale-UP Cardano's Community Hubs    350000\n",
       "13               New SPO Business Opportunities    250000\n",
       "14              Global Sustainable Indep. SPO's    100000\n",
       "15           A.I. & SingularityNet a $5T market    500000\n",
       "16                      Miscellaneous Challenge    200000\n",
       "17                        Nation Building Dapps    600000\n",
       "18          Mini/Low-Budget Dapps &Integrations    200000\n",
       "19              Open Source Developer Ecosystem    200000\n",
       "20                       Multilingual resources    100000\n",
       "21                Improve and Grow Auditability    100000\n",
       "22                                  Atala PRISM    425000\n",
       "23               Catalyst Accelerator & Mentors    500000\n",
       "24                      Fund8 Challenge Setting  12800000\n",
       "25                         Sum of the leftovers    147668"
      ]
     },
     "metadata": {},
     "output_type": "display_data"
    }
   ],
   "source": [
    "fund = 'f7'\n",
    "data = cat_obj[fund]\n",
    "print(\"Data challanges: \", list(data.data.keys()))\n",
    "print(\"Validation challanges: {}\".format(list(data.validation.challenge.values)))\n",
    "\n",
    "check_budget(data)"
   ]
  },
  {
   "cell_type": "markdown",
   "id": "e9245691",
   "metadata": {},
   "source": [
    "### FUND: F8"
   ]
  },
  {
   "cell_type": "code",
   "execution_count": 19,
   "id": "ee48526f",
   "metadata": {
    "scrolled": true
   },
   "outputs": [
    {
     "name": "stdout",
     "output_type": "stream",
     "text": [
      "Data challanges:  ['Accelerate Decentralized Identi', 'Business Solutions (B2B & B2C)', 'Cardano scaling solutions', 'Community Advisor Improvements', 'Cross-Chain Collaboration', 'DApps and Integrations', 'Developer Ecosystem', 'Film + Media (FAM) creatives un', 'Gamers On - Chained', 'Grow Africa, Grow Cardano', 'Grow East Asia, Grow Cardano', 'Grow India, Grow Cardano', 'Improve and Grow Auditability', 'Lobbying for favorable legislat', 'Miscellaneous Challenge', 'Nation Building Dapps', 'New Member Onboarding', 'Open Source Development Ecosyst', 'Open Standards & Interoperabili', 'Scale-UP Cardanos Community Hub', 'Self-Sovereign Identity', 'The Great Migration (from Ether', 'Fund9 challenge setting', 'Funded by leftovers']\n",
      "Validation challanges: ['Accelerate Decentralized Identity', 'Business Solutions (B2B & B2C)', 'Cardano scaling solutions', 'Community Advisor Improvements', 'Cross-Chain Collaboration', 'DApps and Integrations', 'Developer Ecosystem', 'Film + Media (FAM) creatives unite!', 'Gamers On - Chained', 'Grow Africa, Grow Cardano', 'Grow East Asia, Grow Cardano', 'Grow India, Grow Cardano', 'Improve and Grow Auditability', 'Lobbying for favorable legislation', 'Miscellaneous Challenge', 'Nation Building Dapps', 'New Member Onboarding', 'Open Source Development Ecosystem', 'Open Standards & Interoperability', \"Scale-UP Cardano's Community Hubs\", 'Self-Sovereign Identity', 'The Great Migration (from Ethereum)', 'Fund9 challenge setting', 'Sum of the leftovers']\n",
      "\n",
      " EXTRACTED BUDGETS:\n",
      ">> Challange: Accelerate Decentralized Identi\n",
      "budget:  nan\n",
      ">> Challange: Business Solutions (B2B & B2C)\n",
      "budget:  nan\n",
      ">> Challange: Cardano scaling solutions\n",
      "budget:  nan\n",
      ">> Challange: Community Advisor Improvements\n",
      "budget:  nan\n",
      ">> Challange: Cross-Chain Collaboration\n",
      "budget:  nan\n",
      ">> Challange: DApps and Integrations\n",
      "budget:  nan\n",
      ">> Challange: Developer Ecosystem\n",
      "budget:  nan\n",
      ">> Challange: Film + Media (FAM) creatives un\n",
      "budget:  nan\n",
      ">> Challange: Gamers On - Chained\n",
      "budget:  nan\n",
      ">> Challange: Grow Africa, Grow Cardano\n",
      "budget:  nan\n",
      ">> Challange: Grow East Asia, Grow Cardano\n",
      "budget:  nan\n",
      ">> Challange: Grow India, Grow Cardano\n",
      "budget:  nan\n",
      ">> Challange: Improve and Grow Auditability\n",
      "budget:  nan\n",
      ">> Challange: Lobbying for favorable legislat\n",
      "budget:  nan\n",
      ">> Challange: Miscellaneous Challenge\n",
      "budget:  nan\n",
      ">> Challange: Nation Building Dapps\n",
      "budget:  nan\n",
      ">> Challange: New Member Onboarding\n",
      "budget:  nan\n",
      ">> Challange: Open Source Development Ecosyst\n",
      "budget:  nan\n",
      ">> Challange: Open Standards & Interoperabili\n",
      "budget:  nan\n",
      ">> Challange: Scale-UP Cardanos Community Hub\n",
      "budget:  nan\n",
      ">> Challange: Self-Sovereign Identity\n",
      "budget:  nan\n",
      ">> Challange: The Great Migration (from Ether\n",
      "budget:  nan\n",
      ">> Challange: Fund9 challenge setting\n",
      "budget:  nan\n",
      ">> Challange: Funded by leftovers\n",
      "budget:  nan\n"
     ]
    },
    {
     "data": {
      "text/html": [
       "<div>\n",
       "<style scoped>\n",
       "    .dataframe tbody tr th:only-of-type {\n",
       "        vertical-align: middle;\n",
       "    }\n",
       "\n",
       "    .dataframe tbody tr th {\n",
       "        vertical-align: top;\n",
       "    }\n",
       "\n",
       "    .dataframe thead th {\n",
       "        text-align: right;\n",
       "    }\n",
       "</style>\n",
       "<table border=\"1\" class=\"dataframe\">\n",
       "  <thead>\n",
       "    <tr style=\"text-align: right;\">\n",
       "      <th></th>\n",
       "      <th>challenge</th>\n",
       "      <th>budget</th>\n",
       "    </tr>\n",
       "  </thead>\n",
       "  <tbody>\n",
       "    <tr>\n",
       "      <th>0</th>\n",
       "      <td>Accelerate Decentralized Identity</td>\n",
       "      <td>500000</td>\n",
       "    </tr>\n",
       "    <tr>\n",
       "      <th>1</th>\n",
       "      <td>Business Solutions (B2B &amp; B2C)</td>\n",
       "      <td>1000000</td>\n",
       "    </tr>\n",
       "    <tr>\n",
       "      <th>2</th>\n",
       "      <td>Cardano scaling solutions</td>\n",
       "      <td>1000000</td>\n",
       "    </tr>\n",
       "    <tr>\n",
       "      <th>3</th>\n",
       "      <td>Community Advisor Improvements</td>\n",
       "      <td>100000</td>\n",
       "    </tr>\n",
       "    <tr>\n",
       "      <th>4</th>\n",
       "      <td>Cross-Chain Collaboration</td>\n",
       "      <td>400000</td>\n",
       "    </tr>\n",
       "    <tr>\n",
       "      <th>5</th>\n",
       "      <td>DApps and Integrations</td>\n",
       "      <td>2500000</td>\n",
       "    </tr>\n",
       "    <tr>\n",
       "      <th>6</th>\n",
       "      <td>Developer Ecosystem</td>\n",
       "      <td>1000000</td>\n",
       "    </tr>\n",
       "    <tr>\n",
       "      <th>7</th>\n",
       "      <td>Film + Media (FAM) creatives unite!</td>\n",
       "      <td>150000</td>\n",
       "    </tr>\n",
       "    <tr>\n",
       "      <th>8</th>\n",
       "      <td>Gamers On - Chained</td>\n",
       "      <td>500000</td>\n",
       "    </tr>\n",
       "    <tr>\n",
       "      <th>9</th>\n",
       "      <td>Grow Africa, Grow Cardano</td>\n",
       "      <td>250000</td>\n",
       "    </tr>\n",
       "    <tr>\n",
       "      <th>10</th>\n",
       "      <td>Grow East Asia, Grow Cardano</td>\n",
       "      <td>150000</td>\n",
       "    </tr>\n",
       "    <tr>\n",
       "      <th>11</th>\n",
       "      <td>Grow India, Grow Cardano</td>\n",
       "      <td>150000</td>\n",
       "    </tr>\n",
       "    <tr>\n",
       "      <th>12</th>\n",
       "      <td>Improve and Grow Auditability</td>\n",
       "      <td>200000</td>\n",
       "    </tr>\n",
       "    <tr>\n",
       "      <th>13</th>\n",
       "      <td>Lobbying for favorable legislation</td>\n",
       "      <td>300000</td>\n",
       "    </tr>\n",
       "    <tr>\n",
       "      <th>14</th>\n",
       "      <td>Miscellaneous Challenge</td>\n",
       "      <td>500000</td>\n",
       "    </tr>\n",
       "    <tr>\n",
       "      <th>15</th>\n",
       "      <td>Nation Building Dapps</td>\n",
       "      <td>800000</td>\n",
       "    </tr>\n",
       "    <tr>\n",
       "      <th>16</th>\n",
       "      <td>New Member Onboarding</td>\n",
       "      <td>200000</td>\n",
       "    </tr>\n",
       "    <tr>\n",
       "      <th>17</th>\n",
       "      <td>Open Source Development Ecosystem</td>\n",
       "      <td>1200000</td>\n",
       "    </tr>\n",
       "    <tr>\n",
       "      <th>18</th>\n",
       "      <td>Open Standards &amp; Interoperability</td>\n",
       "      <td>500000</td>\n",
       "    </tr>\n",
       "    <tr>\n",
       "      <th>19</th>\n",
       "      <td>Scale-UP Cardano's Community Hubs</td>\n",
       "      <td>500000</td>\n",
       "    </tr>\n",
       "    <tr>\n",
       "      <th>20</th>\n",
       "      <td>Self-Sovereign Identity</td>\n",
       "      <td>400000</td>\n",
       "    </tr>\n",
       "    <tr>\n",
       "      <th>21</th>\n",
       "      <td>The Great Migration (from Ethereum)</td>\n",
       "      <td>500000</td>\n",
       "    </tr>\n",
       "    <tr>\n",
       "      <th>22</th>\n",
       "      <td>Fund9 challenge setting</td>\n",
       "      <td>12800000</td>\n",
       "    </tr>\n",
       "    <tr>\n",
       "      <th>23</th>\n",
       "      <td>Sum of the leftovers</td>\n",
       "      <td>262870</td>\n",
       "    </tr>\n",
       "  </tbody>\n",
       "</table>\n",
       "</div>"
      ],
      "text/plain": [
       "                              challenge    budget\n",
       "0     Accelerate Decentralized Identity    500000\n",
       "1        Business Solutions (B2B & B2C)   1000000\n",
       "2             Cardano scaling solutions   1000000\n",
       "3        Community Advisor Improvements    100000\n",
       "4             Cross-Chain Collaboration    400000\n",
       "5                DApps and Integrations   2500000\n",
       "6                   Developer Ecosystem   1000000\n",
       "7   Film + Media (FAM) creatives unite!    150000\n",
       "8                   Gamers On - Chained    500000\n",
       "9             Grow Africa, Grow Cardano    250000\n",
       "10         Grow East Asia, Grow Cardano    150000\n",
       "11             Grow India, Grow Cardano    150000\n",
       "12        Improve and Grow Auditability    200000\n",
       "13   Lobbying for favorable legislation    300000\n",
       "14              Miscellaneous Challenge    500000\n",
       "15                Nation Building Dapps    800000\n",
       "16                New Member Onboarding    200000\n",
       "17    Open Source Development Ecosystem   1200000\n",
       "18    Open Standards & Interoperability    500000\n",
       "19    Scale-UP Cardano's Community Hubs    500000\n",
       "20              Self-Sovereign Identity    400000\n",
       "21  The Great Migration (from Ethereum)    500000\n",
       "22              Fund9 challenge setting  12800000\n",
       "23                 Sum of the leftovers    262870"
      ]
     },
     "metadata": {},
     "output_type": "display_data"
    }
   ],
   "source": [
    "fund = 'f8'\n",
    "data = cat_obj[fund]\n",
    "print(\"Data challanges: \", list(data.data.keys()))\n",
    "print(\"Validation challanges: {}\".format(list(data.validation.challenge.values)))\n",
    "\n",
    "check_budget(data)"
   ]
  },
  {
   "cell_type": "markdown",
   "id": "2b0991cc",
   "metadata": {},
   "source": [
    "# CHALLENGES DATA\n"
   ]
  },
  {
   "cell_type": "code",
   "execution_count": 20,
   "id": "6c3551a7",
   "metadata": {},
   "outputs": [],
   "source": [
    "DEFAULT_COLS = ['Proposal', 'SCORE', 'YES', 'NO', 'Unique Yes', 'Unique No', 'Result','STATUS','REQUESTED $', 'challenge', 'Budget']\n",
    "CURRENCY_COLS = ['YES', 'NO', 'Result']\n",
    "def print_ch(fund):\n",
    "    print(\"#CHALLANGES: {}\".format(len(cat_obj[fund].data.keys())))\n",
    "    for ch, df in cat_obj[fund].data.items():\n",
    "        print('\\nCHALLANGE: {}'.format(ch))\n",
    "        print(\"columns: {}\".format(list(df.columns)))\n",
    "        print(\"Missing defaults: {}\".format(set(DEFAULT_COLS) - set(cat_obj[fund].data[ch].columns)))\n",
    "def view_currency_cols(fund):\n",
    "    for ch, df in cat_obj[fund].data.items():\n",
    "        print('>CHALLENGE: {}'.format(ch))\n",
    "        display(df[CURRENCY_COLS].head(3))\n",
    "def print_requested(fund):\n",
    "    for ch, df in cat_obj[fund].data.items():\n",
    "        print('>CHALLENGE: {}'.format(ch))\n",
    "        display(df['REQUESTED $'].head(3))\n",
    "def display_info(fund):\n",
    "    for ch, df in cat_obj[fund].data.items():\n",
    "        print('>CHALLENGE: {}'.format(ch))\n",
    "        display(df.info())"
   ]
  },
  {
   "cell_type": "markdown",
   "id": "42bc02be",
   "metadata": {},
   "source": [
    "### ALL CHALLENGES ALL FUNDS..."
   ]
  },
  {
   "cell_type": "markdown",
   "id": "1b307b19",
   "metadata": {},
   "source": [
    "#### Currency features format"
   ]
  },
  {
   "cell_type": "code",
   "execution_count": 21,
   "id": "601ab281",
   "metadata": {
    "scrolled": true
   },
   "outputs": [
    {
     "name": "stdout",
     "output_type": "stream",
     "text": [
      "\n",
      " >> FUND: f3\n",
      ">CHALLENGE: DApp creation\n"
     ]
    },
    {
     "data": {
      "text/html": [
       "<div>\n",
       "<style scoped>\n",
       "    .dataframe tbody tr th:only-of-type {\n",
       "        vertical-align: middle;\n",
       "    }\n",
       "\n",
       "    .dataframe tbody tr th {\n",
       "        vertical-align: top;\n",
       "    }\n",
       "\n",
       "    .dataframe thead th {\n",
       "        text-align: right;\n",
       "    }\n",
       "</style>\n",
       "<table border=\"1\" class=\"dataframe\">\n",
       "  <thead>\n",
       "    <tr style=\"text-align: right;\">\n",
       "      <th></th>\n",
       "      <th>YES</th>\n",
       "      <th>NO</th>\n",
       "      <th>Result</th>\n",
       "    </tr>\n",
       "  </thead>\n",
       "  <tbody>\n",
       "    <tr>\n",
       "      <th>0</th>\n",
       "      <td>1600000000</td>\n",
       "      <td>18217050</td>\n",
       "      <td>1581782950</td>\n",
       "    </tr>\n",
       "    <tr>\n",
       "      <th>1</th>\n",
       "      <td>787000000</td>\n",
       "      <td>58830495</td>\n",
       "      <td>728169505</td>\n",
       "    </tr>\n",
       "    <tr>\n",
       "      <th>2</th>\n",
       "      <td>693000000</td>\n",
       "      <td>45804734</td>\n",
       "      <td>647195266</td>\n",
       "    </tr>\n",
       "  </tbody>\n",
       "</table>\n",
       "</div>"
      ],
      "text/plain": [
       "          YES        NO      Result\n",
       "0  1600000000  18217050  1581782950\n",
       "1   787000000  58830495   728169505\n",
       "2   693000000  45804734   647195266"
      ]
     },
     "metadata": {},
     "output_type": "display_data"
    },
    {
     "name": "stdout",
     "output_type": "stream",
     "text": [
      ">CHALLENGE: Developer ecosystem\n"
     ]
    },
    {
     "data": {
      "text/html": [
       "<div>\n",
       "<style scoped>\n",
       "    .dataframe tbody tr th:only-of-type {\n",
       "        vertical-align: middle;\n",
       "    }\n",
       "\n",
       "    .dataframe tbody tr th {\n",
       "        vertical-align: top;\n",
       "    }\n",
       "\n",
       "    .dataframe thead th {\n",
       "        text-align: right;\n",
       "    }\n",
       "</style>\n",
       "<table border=\"1\" class=\"dataframe\">\n",
       "  <thead>\n",
       "    <tr style=\"text-align: right;\">\n",
       "      <th></th>\n",
       "      <th>YES</th>\n",
       "      <th>NO</th>\n",
       "      <th>Result</th>\n",
       "    </tr>\n",
       "  </thead>\n",
       "  <tbody>\n",
       "    <tr>\n",
       "      <th>0</th>\n",
       "      <td>1070000000</td>\n",
       "      <td>15388494</td>\n",
       "      <td>1054611506</td>\n",
       "    </tr>\n",
       "    <tr>\n",
       "      <th>1</th>\n",
       "      <td>780000000</td>\n",
       "      <td>25468676</td>\n",
       "      <td>754531324</td>\n",
       "    </tr>\n",
       "    <tr>\n",
       "      <th>2</th>\n",
       "      <td>671000000</td>\n",
       "      <td>14840477</td>\n",
       "      <td>656159523</td>\n",
       "    </tr>\n",
       "  </tbody>\n",
       "</table>\n",
       "</div>"
      ],
      "text/plain": [
       "          YES        NO      Result\n",
       "0  1070000000  15388494  1054611506\n",
       "1   780000000  25468676   754531324\n",
       "2   671000000  14840477   656159523"
      ]
     },
     "metadata": {},
     "output_type": "display_data"
    },
    {
     "name": "stdout",
     "output_type": "stream",
     "text": [
      ">CHALLENGE: Community choice\n"
     ]
    },
    {
     "data": {
      "text/html": [
       "<div>\n",
       "<style scoped>\n",
       "    .dataframe tbody tr th:only-of-type {\n",
       "        vertical-align: middle;\n",
       "    }\n",
       "\n",
       "    .dataframe tbody tr th {\n",
       "        vertical-align: top;\n",
       "    }\n",
       "\n",
       "    .dataframe thead th {\n",
       "        text-align: right;\n",
       "    }\n",
       "</style>\n",
       "<table border=\"1\" class=\"dataframe\">\n",
       "  <thead>\n",
       "    <tr style=\"text-align: right;\">\n",
       "      <th></th>\n",
       "      <th>YES</th>\n",
       "      <th>NO</th>\n",
       "      <th>Result</th>\n",
       "    </tr>\n",
       "  </thead>\n",
       "  <tbody>\n",
       "    <tr>\n",
       "      <th>0</th>\n",
       "      <td>975000000</td>\n",
       "      <td>26330673</td>\n",
       "      <td>948669327</td>\n",
       "    </tr>\n",
       "    <tr>\n",
       "      <th>1</th>\n",
       "      <td>898000000</td>\n",
       "      <td>23989035</td>\n",
       "      <td>874010965</td>\n",
       "    </tr>\n",
       "    <tr>\n",
       "      <th>2</th>\n",
       "      <td>254000000</td>\n",
       "      <td>24396735</td>\n",
       "      <td>229603265</td>\n",
       "    </tr>\n",
       "  </tbody>\n",
       "</table>\n",
       "</div>"
      ],
      "text/plain": [
       "         YES        NO     Result\n",
       "0  975000000  26330673  948669327\n",
       "1  898000000  23989035  874010965\n",
       "2  254000000  24396735  229603265"
      ]
     },
     "metadata": {},
     "output_type": "display_data"
    },
    {
     "name": "stdout",
     "output_type": "stream",
     "text": [
      "\n",
      " >> FUND: f4\n",
      ">CHALLENGE: DApp&Integrations\n"
     ]
    },
    {
     "data": {
      "text/html": [
       "<div>\n",
       "<style scoped>\n",
       "    .dataframe tbody tr th:only-of-type {\n",
       "        vertical-align: middle;\n",
       "    }\n",
       "\n",
       "    .dataframe tbody tr th {\n",
       "        vertical-align: top;\n",
       "    }\n",
       "\n",
       "    .dataframe thead th {\n",
       "        text-align: right;\n",
       "    }\n",
       "</style>\n",
       "<table border=\"1\" class=\"dataframe\">\n",
       "  <thead>\n",
       "    <tr style=\"text-align: right;\">\n",
       "      <th></th>\n",
       "      <th>YES</th>\n",
       "      <th>NO</th>\n",
       "      <th>Result</th>\n",
       "    </tr>\n",
       "  </thead>\n",
       "  <tbody>\n",
       "    <tr>\n",
       "      <th>0</th>\n",
       "      <td>987682507</td>\n",
       "      <td>42852579</td>\n",
       "      <td>944829928</td>\n",
       "    </tr>\n",
       "    <tr>\n",
       "      <th>1</th>\n",
       "      <td>374916832</td>\n",
       "      <td>55806397</td>\n",
       "      <td>319110435</td>\n",
       "    </tr>\n",
       "    <tr>\n",
       "      <th>2</th>\n",
       "      <td>285715266</td>\n",
       "      <td>118436548</td>\n",
       "      <td>167278718</td>\n",
       "    </tr>\n",
       "  </tbody>\n",
       "</table>\n",
       "</div>"
      ],
      "text/plain": [
       "         YES         NO     Result\n",
       "0  987682507   42852579  944829928\n",
       "1  374916832   55806397  319110435\n",
       "2  285715266  118436548  167278718"
      ]
     },
     "metadata": {},
     "output_type": "display_data"
    },
    {
     "name": "stdout",
     "output_type": "stream",
     "text": [
      ">CHALLENGE: Developer ecosystem\n"
     ]
    },
    {
     "data": {
      "text/html": [
       "<div>\n",
       "<style scoped>\n",
       "    .dataframe tbody tr th:only-of-type {\n",
       "        vertical-align: middle;\n",
       "    }\n",
       "\n",
       "    .dataframe tbody tr th {\n",
       "        vertical-align: top;\n",
       "    }\n",
       "\n",
       "    .dataframe thead th {\n",
       "        text-align: right;\n",
       "    }\n",
       "</style>\n",
       "<table border=\"1\" class=\"dataframe\">\n",
       "  <thead>\n",
       "    <tr style=\"text-align: right;\">\n",
       "      <th></th>\n",
       "      <th>YES</th>\n",
       "      <th>NO</th>\n",
       "      <th>Result</th>\n",
       "    </tr>\n",
       "  </thead>\n",
       "  <tbody>\n",
       "    <tr>\n",
       "      <th>0</th>\n",
       "      <td>791925475</td>\n",
       "      <td>28307858</td>\n",
       "      <td>763617617</td>\n",
       "    </tr>\n",
       "    <tr>\n",
       "      <th>1</th>\n",
       "      <td>308621052</td>\n",
       "      <td>17282218</td>\n",
       "      <td>291338834</td>\n",
       "    </tr>\n",
       "    <tr>\n",
       "      <th>2</th>\n",
       "      <td>353741041</td>\n",
       "      <td>67603548</td>\n",
       "      <td>286137493</td>\n",
       "    </tr>\n",
       "  </tbody>\n",
       "</table>\n",
       "</div>"
      ],
      "text/plain": [
       "         YES        NO     Result\n",
       "0  791925475  28307858  763617617\n",
       "1  308621052  17282218  291338834\n",
       "2  353741041  67603548  286137493"
      ]
     },
     "metadata": {},
     "output_type": "display_data"
    },
    {
     "name": "stdout",
     "output_type": "stream",
     "text": [
      ">CHALLENGE: Distributed decision making\n"
     ]
    },
    {
     "data": {
      "text/html": [
       "<div>\n",
       "<style scoped>\n",
       "    .dataframe tbody tr th:only-of-type {\n",
       "        vertical-align: middle;\n",
       "    }\n",
       "\n",
       "    .dataframe tbody tr th {\n",
       "        vertical-align: top;\n",
       "    }\n",
       "\n",
       "    .dataframe thead th {\n",
       "        text-align: right;\n",
       "    }\n",
       "</style>\n",
       "<table border=\"1\" class=\"dataframe\">\n",
       "  <thead>\n",
       "    <tr style=\"text-align: right;\">\n",
       "      <th></th>\n",
       "      <th>YES</th>\n",
       "      <th>NO</th>\n",
       "      <th>Result</th>\n",
       "    </tr>\n",
       "  </thead>\n",
       "  <tbody>\n",
       "    <tr>\n",
       "      <th>0</th>\n",
       "      <td>467363599</td>\n",
       "      <td>21061664</td>\n",
       "      <td>446301935</td>\n",
       "    </tr>\n",
       "    <tr>\n",
       "      <th>1</th>\n",
       "      <td>211391984</td>\n",
       "      <td>33629042</td>\n",
       "      <td>177762942</td>\n",
       "    </tr>\n",
       "    <tr>\n",
       "      <th>2</th>\n",
       "      <td>233212549</td>\n",
       "      <td>59687255</td>\n",
       "      <td>173525294</td>\n",
       "    </tr>\n",
       "  </tbody>\n",
       "</table>\n",
       "</div>"
      ],
      "text/plain": [
       "         YES        NO     Result\n",
       "0  467363599  21061664  446301935\n",
       "1  211391984  33629042  177762942\n",
       "2  233212549  59687255  173525294"
      ]
     },
     "metadata": {},
     "output_type": "display_data"
    },
    {
     "name": "stdout",
     "output_type": "stream",
     "text": [
      ">CHALLENGE: Proposer Outreach\n"
     ]
    },
    {
     "data": {
      "text/html": [
       "<div>\n",
       "<style scoped>\n",
       "    .dataframe tbody tr th:only-of-type {\n",
       "        vertical-align: middle;\n",
       "    }\n",
       "\n",
       "    .dataframe tbody tr th {\n",
       "        vertical-align: top;\n",
       "    }\n",
       "\n",
       "    .dataframe thead th {\n",
       "        text-align: right;\n",
       "    }\n",
       "</style>\n",
       "<table border=\"1\" class=\"dataframe\">\n",
       "  <thead>\n",
       "    <tr style=\"text-align: right;\">\n",
       "      <th></th>\n",
       "      <th>YES</th>\n",
       "      <th>NO</th>\n",
       "      <th>Result</th>\n",
       "    </tr>\n",
       "  </thead>\n",
       "  <tbody>\n",
       "    <tr>\n",
       "      <th>0</th>\n",
       "      <td>400728608</td>\n",
       "      <td>11653573</td>\n",
       "      <td>389075035</td>\n",
       "    </tr>\n",
       "    <tr>\n",
       "      <th>1</th>\n",
       "      <td>163715610</td>\n",
       "      <td>65490271</td>\n",
       "      <td>98225339</td>\n",
       "    </tr>\n",
       "    <tr>\n",
       "      <th>2</th>\n",
       "      <td>96709154</td>\n",
       "      <td>57469788</td>\n",
       "      <td>39239366</td>\n",
       "    </tr>\n",
       "  </tbody>\n",
       "</table>\n",
       "</div>"
      ],
      "text/plain": [
       "         YES        NO     Result\n",
       "0  400728608  11653573  389075035\n",
       "1  163715610  65490271   98225339\n",
       "2   96709154  57469788   39239366"
      ]
     },
     "metadata": {},
     "output_type": "display_data"
    },
    {
     "name": "stdout",
     "output_type": "stream",
     "text": [
      ">CHALLENGE: Catalyst Value Onboarding\n"
     ]
    },
    {
     "data": {
      "text/html": [
       "<div>\n",
       "<style scoped>\n",
       "    .dataframe tbody tr th:only-of-type {\n",
       "        vertical-align: middle;\n",
       "    }\n",
       "\n",
       "    .dataframe tbody tr th {\n",
       "        vertical-align: top;\n",
       "    }\n",
       "\n",
       "    .dataframe thead th {\n",
       "        text-align: right;\n",
       "    }\n",
       "</style>\n",
       "<table border=\"1\" class=\"dataframe\">\n",
       "  <thead>\n",
       "    <tr style=\"text-align: right;\">\n",
       "      <th></th>\n",
       "      <th>YES</th>\n",
       "      <th>NO</th>\n",
       "      <th>Result</th>\n",
       "    </tr>\n",
       "  </thead>\n",
       "  <tbody>\n",
       "    <tr>\n",
       "      <th>0</th>\n",
       "      <td>397649907</td>\n",
       "      <td>82363970</td>\n",
       "      <td>315285937</td>\n",
       "    </tr>\n",
       "    <tr>\n",
       "      <th>1</th>\n",
       "      <td>313456402</td>\n",
       "      <td>37106872</td>\n",
       "      <td>276349530</td>\n",
       "    </tr>\n",
       "    <tr>\n",
       "      <th>2</th>\n",
       "      <td>229427814</td>\n",
       "      <td>34741985</td>\n",
       "      <td>194685829</td>\n",
       "    </tr>\n",
       "  </tbody>\n",
       "</table>\n",
       "</div>"
      ],
      "text/plain": [
       "         YES        NO     Result\n",
       "0  397649907  82363970  315285937\n",
       "1  313456402  37106872  276349530\n",
       "2  229427814  34741985  194685829"
      ]
     },
     "metadata": {},
     "output_type": "display_data"
    },
    {
     "name": "stdout",
     "output_type": "stream",
     "text": [
      ">CHALLENGE: Local Community Centers\n"
     ]
    },
    {
     "data": {
      "text/html": [
       "<div>\n",
       "<style scoped>\n",
       "    .dataframe tbody tr th:only-of-type {\n",
       "        vertical-align: middle;\n",
       "    }\n",
       "\n",
       "    .dataframe tbody tr th {\n",
       "        vertical-align: top;\n",
       "    }\n",
       "\n",
       "    .dataframe thead th {\n",
       "        text-align: right;\n",
       "    }\n",
       "</style>\n",
       "<table border=\"1\" class=\"dataframe\">\n",
       "  <thead>\n",
       "    <tr style=\"text-align: right;\">\n",
       "      <th></th>\n",
       "      <th>YES</th>\n",
       "      <th>NO</th>\n",
       "      <th>Result</th>\n",
       "    </tr>\n",
       "  </thead>\n",
       "  <tbody>\n",
       "    <tr>\n",
       "      <th>0</th>\n",
       "      <td>533685657</td>\n",
       "      <td>38039282</td>\n",
       "      <td>495646375</td>\n",
       "    </tr>\n",
       "    <tr>\n",
       "      <th>1</th>\n",
       "      <td>311926508</td>\n",
       "      <td>38086420</td>\n",
       "      <td>273840088</td>\n",
       "    </tr>\n",
       "    <tr>\n",
       "      <th>2</th>\n",
       "      <td>268988757</td>\n",
       "      <td>45424389</td>\n",
       "      <td>223564368</td>\n",
       "    </tr>\n",
       "  </tbody>\n",
       "</table>\n",
       "</div>"
      ],
      "text/plain": [
       "         YES        NO     Result\n",
       "0  533685657  38039282  495646375\n",
       "1  311926508  38086420  273840088\n",
       "2  268988757  45424389  223564368"
      ]
     },
     "metadata": {},
     "output_type": "display_data"
    },
    {
     "name": "stdout",
     "output_type": "stream",
     "text": [
      ">CHALLENGE: Fund6 Challenge Setting\n"
     ]
    },
    {
     "data": {
      "text/html": [
       "<div>\n",
       "<style scoped>\n",
       "    .dataframe tbody tr th:only-of-type {\n",
       "        vertical-align: middle;\n",
       "    }\n",
       "\n",
       "    .dataframe tbody tr th {\n",
       "        vertical-align: top;\n",
       "    }\n",
       "\n",
       "    .dataframe thead th {\n",
       "        text-align: right;\n",
       "    }\n",
       "</style>\n",
       "<table border=\"1\" class=\"dataframe\">\n",
       "  <thead>\n",
       "    <tr style=\"text-align: right;\">\n",
       "      <th></th>\n",
       "      <th>YES</th>\n",
       "      <th>NO</th>\n",
       "      <th>Result</th>\n",
       "    </tr>\n",
       "  </thead>\n",
       "  <tbody>\n",
       "    <tr>\n",
       "      <th>0</th>\n",
       "      <td>511582779</td>\n",
       "      <td>39772480</td>\n",
       "      <td>471810299</td>\n",
       "    </tr>\n",
       "    <tr>\n",
       "      <th>1</th>\n",
       "      <td>287176342</td>\n",
       "      <td>43696669</td>\n",
       "      <td>243479673</td>\n",
       "    </tr>\n",
       "    <tr>\n",
       "      <th>2</th>\n",
       "      <td>260773139</td>\n",
       "      <td>36491346</td>\n",
       "      <td>224281793</td>\n",
       "    </tr>\n",
       "  </tbody>\n",
       "</table>\n",
       "</div>"
      ],
      "text/plain": [
       "         YES        NO     Result\n",
       "0  511582779  39772480  471810299\n",
       "1  287176342  43696669  243479673\n",
       "2  260773139  36491346  224281793"
      ]
     },
     "metadata": {},
     "output_type": "display_data"
    },
    {
     "name": "stdout",
     "output_type": "stream",
     "text": [
      ">CHALLENGE: Sponsored by leftovers\n"
     ]
    },
    {
     "data": {
      "text/html": [
       "<div>\n",
       "<style scoped>\n",
       "    .dataframe tbody tr th:only-of-type {\n",
       "        vertical-align: middle;\n",
       "    }\n",
       "\n",
       "    .dataframe tbody tr th {\n",
       "        vertical-align: top;\n",
       "    }\n",
       "\n",
       "    .dataframe thead th {\n",
       "        text-align: right;\n",
       "    }\n",
       "</style>\n",
       "<table border=\"1\" class=\"dataframe\">\n",
       "  <thead>\n",
       "    <tr style=\"text-align: right;\">\n",
       "      <th></th>\n",
       "      <th>YES</th>\n",
       "      <th>NO</th>\n",
       "      <th>Result</th>\n",
       "    </tr>\n",
       "  </thead>\n",
       "  <tbody>\n",
       "    <tr>\n",
       "      <th>0</th>\n",
       "      <td>188066218</td>\n",
       "      <td>45029164</td>\n",
       "      <td>143037054</td>\n",
       "    </tr>\n",
       "    <tr>\n",
       "      <th>1</th>\n",
       "      <td>148022787</td>\n",
       "      <td>33211875</td>\n",
       "      <td>114810912</td>\n",
       "    </tr>\n",
       "    <tr>\n",
       "      <th>2</th>\n",
       "      <td>116652008</td>\n",
       "      <td>37159851</td>\n",
       "      <td>79492157</td>\n",
       "    </tr>\n",
       "  </tbody>\n",
       "</table>\n",
       "</div>"
      ],
      "text/plain": [
       "         YES        NO     Result\n",
       "0  188066218  45029164  143037054\n",
       "1  148022787  33211875  114810912\n",
       "2  116652008  37159851   79492157"
      ]
     },
     "metadata": {},
     "output_type": "display_data"
    },
    {
     "name": "stdout",
     "output_type": "stream",
     "text": [
      "\n",
      " >> FUND: f5\n",
      ">CHALLENGE: Developer ecosystem\n"
     ]
    },
    {
     "data": {
      "text/html": [
       "<div>\n",
       "<style scoped>\n",
       "    .dataframe tbody tr th:only-of-type {\n",
       "        vertical-align: middle;\n",
       "    }\n",
       "\n",
       "    .dataframe tbody tr th {\n",
       "        vertical-align: top;\n",
       "    }\n",
       "\n",
       "    .dataframe thead th {\n",
       "        text-align: right;\n",
       "    }\n",
       "</style>\n",
       "<table border=\"1\" class=\"dataframe\">\n",
       "  <thead>\n",
       "    <tr style=\"text-align: right;\">\n",
       "      <th></th>\n",
       "      <th>YES</th>\n",
       "      <th>NO</th>\n",
       "      <th>Result</th>\n",
       "    </tr>\n",
       "  </thead>\n",
       "  <tbody>\n",
       "    <tr>\n",
       "      <th>0</th>\n",
       "      <td>885478111</td>\n",
       "      <td>27844494</td>\n",
       "      <td>857633617</td>\n",
       "    </tr>\n",
       "    <tr>\n",
       "      <th>1</th>\n",
       "      <td>554450995</td>\n",
       "      <td>21710291</td>\n",
       "      <td>532740704</td>\n",
       "    </tr>\n",
       "    <tr>\n",
       "      <th>2</th>\n",
       "      <td>563268896</td>\n",
       "      <td>53313915</td>\n",
       "      <td>509954981</td>\n",
       "    </tr>\n",
       "  </tbody>\n",
       "</table>\n",
       "</div>"
      ],
      "text/plain": [
       "         YES        NO     Result\n",
       "0  885478111  27844494  857633617\n",
       "1  554450995  21710291  532740704\n",
       "2  563268896  53313915  509954981"
      ]
     },
     "metadata": {},
     "output_type": "display_data"
    },
    {
     "name": "stdout",
     "output_type": "stream",
     "text": [
      ">CHALLENGE: DApp&Integrations\n"
     ]
    },
    {
     "data": {
      "text/html": [
       "<div>\n",
       "<style scoped>\n",
       "    .dataframe tbody tr th:only-of-type {\n",
       "        vertical-align: middle;\n",
       "    }\n",
       "\n",
       "    .dataframe tbody tr th {\n",
       "        vertical-align: top;\n",
       "    }\n",
       "\n",
       "    .dataframe thead th {\n",
       "        text-align: right;\n",
       "    }\n",
       "</style>\n",
       "<table border=\"1\" class=\"dataframe\">\n",
       "  <thead>\n",
       "    <tr style=\"text-align: right;\">\n",
       "      <th></th>\n",
       "      <th>YES</th>\n",
       "      <th>NO</th>\n",
       "      <th>Result</th>\n",
       "    </tr>\n",
       "  </thead>\n",
       "  <tbody>\n",
       "    <tr>\n",
       "      <th>0</th>\n",
       "      <td>704022068</td>\n",
       "      <td>8764146</td>\n",
       "      <td>695257922</td>\n",
       "    </tr>\n",
       "    <tr>\n",
       "      <th>1</th>\n",
       "      <td>373429314</td>\n",
       "      <td>79438059</td>\n",
       "      <td>293991255</td>\n",
       "    </tr>\n",
       "    <tr>\n",
       "      <th>2</th>\n",
       "      <td>287179598</td>\n",
       "      <td>29475468</td>\n",
       "      <td>257704130</td>\n",
       "    </tr>\n",
       "  </tbody>\n",
       "</table>\n",
       "</div>"
      ],
      "text/plain": [
       "         YES        NO     Result\n",
       "0  704022068   8764146  695257922\n",
       "1  373429314  79438059  293991255\n",
       "2  287179598  29475468  257704130"
      ]
     },
     "metadata": {},
     "output_type": "display_data"
    },
    {
     "name": "stdout",
     "output_type": "stream",
     "text": [
      ">CHALLENGE: Distributed decision making\n"
     ]
    },
    {
     "data": {
      "text/html": [
       "<div>\n",
       "<style scoped>\n",
       "    .dataframe tbody tr th:only-of-type {\n",
       "        vertical-align: middle;\n",
       "    }\n",
       "\n",
       "    .dataframe tbody tr th {\n",
       "        vertical-align: top;\n",
       "    }\n",
       "\n",
       "    .dataframe thead th {\n",
       "        text-align: right;\n",
       "    }\n",
       "</style>\n",
       "<table border=\"1\" class=\"dataframe\">\n",
       "  <thead>\n",
       "    <tr style=\"text-align: right;\">\n",
       "      <th></th>\n",
       "      <th>YES</th>\n",
       "      <th>NO</th>\n",
       "      <th>Result</th>\n",
       "    </tr>\n",
       "  </thead>\n",
       "  <tbody>\n",
       "    <tr>\n",
       "      <th>0</th>\n",
       "      <td>489465534</td>\n",
       "      <td>106265880</td>\n",
       "      <td>383199654</td>\n",
       "    </tr>\n",
       "    <tr>\n",
       "      <th>1</th>\n",
       "      <td>311866031</td>\n",
       "      <td>28629829</td>\n",
       "      <td>283236202</td>\n",
       "    </tr>\n",
       "    <tr>\n",
       "      <th>2</th>\n",
       "      <td>230917971</td>\n",
       "      <td>33129087</td>\n",
       "      <td>197788884</td>\n",
       "    </tr>\n",
       "  </tbody>\n",
       "</table>\n",
       "</div>"
      ],
      "text/plain": [
       "         YES         NO     Result\n",
       "0  489465534  106265880  383199654\n",
       "1  311866031   28629829  283236202\n",
       "2  230917971   33129087  197788884"
      ]
     },
     "metadata": {},
     "output_type": "display_data"
    },
    {
     "name": "stdout",
     "output_type": "stream",
     "text": [
      ">CHALLENGE: Proposer Outreach\n"
     ]
    },
    {
     "data": {
      "text/html": [
       "<div>\n",
       "<style scoped>\n",
       "    .dataframe tbody tr th:only-of-type {\n",
       "        vertical-align: middle;\n",
       "    }\n",
       "\n",
       "    .dataframe tbody tr th {\n",
       "        vertical-align: top;\n",
       "    }\n",
       "\n",
       "    .dataframe thead th {\n",
       "        text-align: right;\n",
       "    }\n",
       "</style>\n",
       "<table border=\"1\" class=\"dataframe\">\n",
       "  <thead>\n",
       "    <tr style=\"text-align: right;\">\n",
       "      <th></th>\n",
       "      <th>YES</th>\n",
       "      <th>NO</th>\n",
       "      <th>Result</th>\n",
       "    </tr>\n",
       "  </thead>\n",
       "  <tbody>\n",
       "    <tr>\n",
       "      <th>0</th>\n",
       "      <td>275381641</td>\n",
       "      <td>28431504</td>\n",
       "      <td>246950137</td>\n",
       "    </tr>\n",
       "    <tr>\n",
       "      <th>1</th>\n",
       "      <td>236285784</td>\n",
       "      <td>11278454</td>\n",
       "      <td>225007330</td>\n",
       "    </tr>\n",
       "    <tr>\n",
       "      <th>2</th>\n",
       "      <td>273953500</td>\n",
       "      <td>50666980</td>\n",
       "      <td>223286520</td>\n",
       "    </tr>\n",
       "  </tbody>\n",
       "</table>\n",
       "</div>"
      ],
      "text/plain": [
       "         YES        NO     Result\n",
       "0  275381641  28431504  246950137\n",
       "1  236285784  11278454  225007330\n",
       "2  273953500  50666980  223286520"
      ]
     },
     "metadata": {},
     "output_type": "display_data"
    },
    {
     "name": "stdout",
     "output_type": "stream",
     "text": [
      ">CHALLENGE: Catalyst Value Onboarding\n"
     ]
    },
    {
     "data": {
      "text/html": [
       "<div>\n",
       "<style scoped>\n",
       "    .dataframe tbody tr th:only-of-type {\n",
       "        vertical-align: middle;\n",
       "    }\n",
       "\n",
       "    .dataframe tbody tr th {\n",
       "        vertical-align: top;\n",
       "    }\n",
       "\n",
       "    .dataframe thead th {\n",
       "        text-align: right;\n",
       "    }\n",
       "</style>\n",
       "<table border=\"1\" class=\"dataframe\">\n",
       "  <thead>\n",
       "    <tr style=\"text-align: right;\">\n",
       "      <th></th>\n",
       "      <th>YES</th>\n",
       "      <th>NO</th>\n",
       "      <th>Result</th>\n",
       "    </tr>\n",
       "  </thead>\n",
       "  <tbody>\n",
       "    <tr>\n",
       "      <th>0</th>\n",
       "      <td>272146268</td>\n",
       "      <td>11296285</td>\n",
       "      <td>260849983</td>\n",
       "    </tr>\n",
       "    <tr>\n",
       "      <th>1</th>\n",
       "      <td>268040054</td>\n",
       "      <td>13050549</td>\n",
       "      <td>254989505</td>\n",
       "    </tr>\n",
       "    <tr>\n",
       "      <th>2</th>\n",
       "      <td>151719186</td>\n",
       "      <td>47420541</td>\n",
       "      <td>104298645</td>\n",
       "    </tr>\n",
       "  </tbody>\n",
       "</table>\n",
       "</div>"
      ],
      "text/plain": [
       "         YES        NO     Result\n",
       "0  272146268  11296285  260849983\n",
       "1  268040054  13050549  254989505\n",
       "2  151719186  47420541  104298645"
      ]
     },
     "metadata": {},
     "output_type": "display_data"
    },
    {
     "name": "stdout",
     "output_type": "stream",
     "text": [
      ">CHALLENGE: Metadata challenge\n"
     ]
    },
    {
     "data": {
      "text/html": [
       "<div>\n",
       "<style scoped>\n",
       "    .dataframe tbody tr th:only-of-type {\n",
       "        vertical-align: middle;\n",
       "    }\n",
       "\n",
       "    .dataframe tbody tr th {\n",
       "        vertical-align: top;\n",
       "    }\n",
       "\n",
       "    .dataframe thead th {\n",
       "        text-align: right;\n",
       "    }\n",
       "</style>\n",
       "<table border=\"1\" class=\"dataframe\">\n",
       "  <thead>\n",
       "    <tr style=\"text-align: right;\">\n",
       "      <th></th>\n",
       "      <th>YES</th>\n",
       "      <th>NO</th>\n",
       "      <th>Result</th>\n",
       "    </tr>\n",
       "  </thead>\n",
       "  <tbody>\n",
       "    <tr>\n",
       "      <th>0</th>\n",
       "      <td>407117855</td>\n",
       "      <td>38955531</td>\n",
       "      <td>368162324</td>\n",
       "    </tr>\n",
       "    <tr>\n",
       "      <th>1</th>\n",
       "      <td>267998071</td>\n",
       "      <td>9986248</td>\n",
       "      <td>258011823</td>\n",
       "    </tr>\n",
       "    <tr>\n",
       "      <th>2</th>\n",
       "      <td>250852558</td>\n",
       "      <td>13791667</td>\n",
       "      <td>237060891</td>\n",
       "    </tr>\n",
       "  </tbody>\n",
       "</table>\n",
       "</div>"
      ],
      "text/plain": [
       "         YES        NO     Result\n",
       "0  407117855  38955531  368162324\n",
       "1  267998071   9986248  258011823\n",
       "2  250852558  13791667  237060891"
      ]
     },
     "metadata": {},
     "output_type": "display_data"
    },
    {
     "name": "stdout",
     "output_type": "stream",
     "text": [
      ">CHALLENGE: Grow Africa, Grow Cardano wv\n"
     ]
    },
    {
     "data": {
      "text/html": [
       "<div>\n",
       "<style scoped>\n",
       "    .dataframe tbody tr th:only-of-type {\n",
       "        vertical-align: middle;\n",
       "    }\n",
       "\n",
       "    .dataframe tbody tr th {\n",
       "        vertical-align: top;\n",
       "    }\n",
       "\n",
       "    .dataframe thead th {\n",
       "        text-align: right;\n",
       "    }\n",
       "</style>\n",
       "<table border=\"1\" class=\"dataframe\">\n",
       "  <thead>\n",
       "    <tr style=\"text-align: right;\">\n",
       "      <th></th>\n",
       "      <th>YES</th>\n",
       "      <th>NO</th>\n",
       "      <th>Result</th>\n",
       "    </tr>\n",
       "  </thead>\n",
       "  <tbody>\n",
       "    <tr>\n",
       "      <th>0</th>\n",
       "      <td>454279506</td>\n",
       "      <td>42220158</td>\n",
       "      <td>412059348</td>\n",
       "    </tr>\n",
       "    <tr>\n",
       "      <th>1</th>\n",
       "      <td>376406272</td>\n",
       "      <td>27273510</td>\n",
       "      <td>349132762</td>\n",
       "    </tr>\n",
       "    <tr>\n",
       "      <th>2</th>\n",
       "      <td>331169585</td>\n",
       "      <td>18006980</td>\n",
       "      <td>313162605</td>\n",
       "    </tr>\n",
       "  </tbody>\n",
       "</table>\n",
       "</div>"
      ],
      "text/plain": [
       "         YES        NO     Result\n",
       "0  454279506  42220158  412059348\n",
       "1  376406272  27273510  349132762\n",
       "2  331169585  18006980  313162605"
      ]
     },
     "metadata": {},
     "output_type": "display_data"
    },
    {
     "name": "stdout",
     "output_type": "stream",
     "text": [
      ">CHALLENGE: Scale-UP Cardanos DeFi Ecosyste\n"
     ]
    },
    {
     "data": {
      "text/html": [
       "<div>\n",
       "<style scoped>\n",
       "    .dataframe tbody tr th:only-of-type {\n",
       "        vertical-align: middle;\n",
       "    }\n",
       "\n",
       "    .dataframe tbody tr th {\n",
       "        vertical-align: top;\n",
       "    }\n",
       "\n",
       "    .dataframe thead th {\n",
       "        text-align: right;\n",
       "    }\n",
       "</style>\n",
       "<table border=\"1\" class=\"dataframe\">\n",
       "  <thead>\n",
       "    <tr style=\"text-align: right;\">\n",
       "      <th></th>\n",
       "      <th>YES</th>\n",
       "      <th>NO</th>\n",
       "      <th>Result</th>\n",
       "    </tr>\n",
       "  </thead>\n",
       "  <tbody>\n",
       "    <tr>\n",
       "      <th>0</th>\n",
       "      <td>895585207</td>\n",
       "      <td>26280460</td>\n",
       "      <td>869304747</td>\n",
       "    </tr>\n",
       "    <tr>\n",
       "      <th>1</th>\n",
       "      <td>657090083</td>\n",
       "      <td>16017585</td>\n",
       "      <td>641072498</td>\n",
       "    </tr>\n",
       "    <tr>\n",
       "      <th>2</th>\n",
       "      <td>334447581</td>\n",
       "      <td>42629804</td>\n",
       "      <td>291817777</td>\n",
       "    </tr>\n",
       "  </tbody>\n",
       "</table>\n",
       "</div>"
      ],
      "text/plain": [
       "         YES        NO     Result\n",
       "0  895585207  26280460  869304747\n",
       "1  657090083  16017585  641072498\n",
       "2  334447581  42629804  291817777"
      ]
     },
     "metadata": {},
     "output_type": "display_data"
    },
    {
     "name": "stdout",
     "output_type": "stream",
     "text": [
      ">CHALLENGE: Fund7 Challenge Setting wv\n"
     ]
    },
    {
     "data": {
      "text/html": [
       "<div>\n",
       "<style scoped>\n",
       "    .dataframe tbody tr th:only-of-type {\n",
       "        vertical-align: middle;\n",
       "    }\n",
       "\n",
       "    .dataframe tbody tr th {\n",
       "        vertical-align: top;\n",
       "    }\n",
       "\n",
       "    .dataframe thead th {\n",
       "        text-align: right;\n",
       "    }\n",
       "</style>\n",
       "<table border=\"1\" class=\"dataframe\">\n",
       "  <thead>\n",
       "    <tr style=\"text-align: right;\">\n",
       "      <th></th>\n",
       "      <th>YES</th>\n",
       "      <th>NO</th>\n",
       "      <th>Result</th>\n",
       "    </tr>\n",
       "  </thead>\n",
       "  <tbody>\n",
       "    <tr>\n",
       "      <th>0</th>\n",
       "      <td>463914437</td>\n",
       "      <td>37723098</td>\n",
       "      <td>426191339</td>\n",
       "    </tr>\n",
       "    <tr>\n",
       "      <th>1</th>\n",
       "      <td>320277896</td>\n",
       "      <td>10643743</td>\n",
       "      <td>309634153</td>\n",
       "    </tr>\n",
       "    <tr>\n",
       "      <th>2</th>\n",
       "      <td>199589217</td>\n",
       "      <td>61474530</td>\n",
       "      <td>138114687</td>\n",
       "    </tr>\n",
       "  </tbody>\n",
       "</table>\n",
       "</div>"
      ],
      "text/plain": [
       "         YES        NO     Result\n",
       "0  463914437  37723098  426191339\n",
       "1  320277896  10643743  309634153\n",
       "2  199589217  61474530  138114687"
      ]
     },
     "metadata": {},
     "output_type": "display_data"
    },
    {
     "name": "stdout",
     "output_type": "stream",
     "text": [
      ">CHALLENGE: Sponsored by leftovers\n"
     ]
    },
    {
     "data": {
      "text/html": [
       "<div>\n",
       "<style scoped>\n",
       "    .dataframe tbody tr th:only-of-type {\n",
       "        vertical-align: middle;\n",
       "    }\n",
       "\n",
       "    .dataframe tbody tr th {\n",
       "        vertical-align: top;\n",
       "    }\n",
       "\n",
       "    .dataframe thead th {\n",
       "        text-align: right;\n",
       "    }\n",
       "</style>\n",
       "<table border=\"1\" class=\"dataframe\">\n",
       "  <thead>\n",
       "    <tr style=\"text-align: right;\">\n",
       "      <th></th>\n",
       "      <th>YES</th>\n",
       "      <th>NO</th>\n",
       "      <th>Result</th>\n",
       "    </tr>\n",
       "  </thead>\n",
       "  <tbody>\n",
       "    <tr>\n",
       "      <th>0</th>\n",
       "      <td>329781898</td>\n",
       "      <td>54620240</td>\n",
       "      <td>275161658</td>\n",
       "    </tr>\n",
       "    <tr>\n",
       "      <th>1</th>\n",
       "      <td>257763109</td>\n",
       "      <td>22796071</td>\n",
       "      <td>234967038</td>\n",
       "    </tr>\n",
       "    <tr>\n",
       "      <th>2</th>\n",
       "      <td>231318668</td>\n",
       "      <td>40353386</td>\n",
       "      <td>190965282</td>\n",
       "    </tr>\n",
       "  </tbody>\n",
       "</table>\n",
       "</div>"
      ],
      "text/plain": [
       "         YES        NO     Result\n",
       "0  329781898  54620240  275161658\n",
       "1  257763109  22796071  234967038\n",
       "2  231318668  40353386  190965282"
      ]
     },
     "metadata": {},
     "output_type": "display_data"
    },
    {
     "name": "stdout",
     "output_type": "stream",
     "text": [
      "\n",
      " >> FUND: f6\n",
      ">CHALLENGE: Developer ecosystem\n"
     ]
    },
    {
     "data": {
      "text/html": [
       "<div>\n",
       "<style scoped>\n",
       "    .dataframe tbody tr th:only-of-type {\n",
       "        vertical-align: middle;\n",
       "    }\n",
       "\n",
       "    .dataframe tbody tr th {\n",
       "        vertical-align: top;\n",
       "    }\n",
       "\n",
       "    .dataframe thead th {\n",
       "        text-align: right;\n",
       "    }\n",
       "</style>\n",
       "<table border=\"1\" class=\"dataframe\">\n",
       "  <thead>\n",
       "    <tr style=\"text-align: right;\">\n",
       "      <th></th>\n",
       "      <th>YES</th>\n",
       "      <th>NO</th>\n",
       "      <th>Result</th>\n",
       "    </tr>\n",
       "  </thead>\n",
       "  <tbody>\n",
       "    <tr>\n",
       "      <th>0</th>\n",
       "      <td>637293223</td>\n",
       "      <td>28405633</td>\n",
       "      <td>608887590</td>\n",
       "    </tr>\n",
       "    <tr>\n",
       "      <th>1</th>\n",
       "      <td>407234809</td>\n",
       "      <td>19995040</td>\n",
       "      <td>387239769</td>\n",
       "    </tr>\n",
       "    <tr>\n",
       "      <th>2</th>\n",
       "      <td>401288824</td>\n",
       "      <td>47664488</td>\n",
       "      <td>353624336</td>\n",
       "    </tr>\n",
       "  </tbody>\n",
       "</table>\n",
       "</div>"
      ],
      "text/plain": [
       "         YES        NO     Result\n",
       "0  637293223  28405633  608887590\n",
       "1  407234809  19995040  387239769\n",
       "2  401288824  47664488  353624336"
      ]
     },
     "metadata": {},
     "output_type": "display_data"
    },
    {
     "name": "stdout",
     "output_type": "stream",
     "text": [
      ">CHALLENGE: DApps & Integrations\n"
     ]
    },
    {
     "data": {
      "text/html": [
       "<div>\n",
       "<style scoped>\n",
       "    .dataframe tbody tr th:only-of-type {\n",
       "        vertical-align: middle;\n",
       "    }\n",
       "\n",
       "    .dataframe tbody tr th {\n",
       "        vertical-align: top;\n",
       "    }\n",
       "\n",
       "    .dataframe thead th {\n",
       "        text-align: right;\n",
       "    }\n",
       "</style>\n",
       "<table border=\"1\" class=\"dataframe\">\n",
       "  <thead>\n",
       "    <tr style=\"text-align: right;\">\n",
       "      <th></th>\n",
       "      <th>YES</th>\n",
       "      <th>NO</th>\n",
       "      <th>Result</th>\n",
       "    </tr>\n",
       "  </thead>\n",
       "  <tbody>\n",
       "    <tr>\n",
       "      <th>0</th>\n",
       "      <td>382987353</td>\n",
       "      <td>28429877</td>\n",
       "      <td>354557476</td>\n",
       "    </tr>\n",
       "    <tr>\n",
       "      <th>1</th>\n",
       "      <td>332271809</td>\n",
       "      <td>44545139</td>\n",
       "      <td>287726670</td>\n",
       "    </tr>\n",
       "    <tr>\n",
       "      <th>2</th>\n",
       "      <td>281473108</td>\n",
       "      <td>41286803</td>\n",
       "      <td>240186305</td>\n",
       "    </tr>\n",
       "  </tbody>\n",
       "</table>\n",
       "</div>"
      ],
      "text/plain": [
       "         YES        NO     Result\n",
       "0  382987353  28429877  354557476\n",
       "1  332271809  44545139  287726670\n",
       "2  281473108  41286803  240186305"
      ]
     },
     "metadata": {},
     "output_type": "display_data"
    },
    {
     "name": "stdout",
     "output_type": "stream",
     "text": [
      ">CHALLENGE: Distributed decision making\n"
     ]
    },
    {
     "data": {
      "text/html": [
       "<div>\n",
       "<style scoped>\n",
       "    .dataframe tbody tr th:only-of-type {\n",
       "        vertical-align: middle;\n",
       "    }\n",
       "\n",
       "    .dataframe tbody tr th {\n",
       "        vertical-align: top;\n",
       "    }\n",
       "\n",
       "    .dataframe thead th {\n",
       "        text-align: right;\n",
       "    }\n",
       "</style>\n",
       "<table border=\"1\" class=\"dataframe\">\n",
       "  <thead>\n",
       "    <tr style=\"text-align: right;\">\n",
       "      <th></th>\n",
       "      <th>YES</th>\n",
       "      <th>NO</th>\n",
       "      <th>Result</th>\n",
       "    </tr>\n",
       "  </thead>\n",
       "  <tbody>\n",
       "    <tr>\n",
       "      <th>0</th>\n",
       "      <td>298931842</td>\n",
       "      <td>13495655</td>\n",
       "      <td>285436187</td>\n",
       "    </tr>\n",
       "    <tr>\n",
       "      <th>1</th>\n",
       "      <td>256327819</td>\n",
       "      <td>5831569</td>\n",
       "      <td>250496250</td>\n",
       "    </tr>\n",
       "    <tr>\n",
       "      <th>2</th>\n",
       "      <td>217868902</td>\n",
       "      <td>8408434</td>\n",
       "      <td>209460468</td>\n",
       "    </tr>\n",
       "  </tbody>\n",
       "</table>\n",
       "</div>"
      ],
      "text/plain": [
       "         YES        NO     Result\n",
       "0  298931842  13495655  285436187\n",
       "1  256327819   5831569  250496250\n",
       "2  217868902   8408434  209460468"
      ]
     },
     "metadata": {},
     "output_type": "display_data"
    },
    {
     "name": "stdout",
     "output_type": "stream",
     "text": [
      ">CHALLENGE: Proposer outreach\n"
     ]
    },
    {
     "data": {
      "text/html": [
       "<div>\n",
       "<style scoped>\n",
       "    .dataframe tbody tr th:only-of-type {\n",
       "        vertical-align: middle;\n",
       "    }\n",
       "\n",
       "    .dataframe tbody tr th {\n",
       "        vertical-align: top;\n",
       "    }\n",
       "\n",
       "    .dataframe thead th {\n",
       "        text-align: right;\n",
       "    }\n",
       "</style>\n",
       "<table border=\"1\" class=\"dataframe\">\n",
       "  <thead>\n",
       "    <tr style=\"text-align: right;\">\n",
       "      <th></th>\n",
       "      <th>YES</th>\n",
       "      <th>NO</th>\n",
       "      <th>Result</th>\n",
       "    </tr>\n",
       "  </thead>\n",
       "  <tbody>\n",
       "    <tr>\n",
       "      <th>0</th>\n",
       "      <td>271712743</td>\n",
       "      <td>25151976</td>\n",
       "      <td>246560767</td>\n",
       "    </tr>\n",
       "    <tr>\n",
       "      <th>1</th>\n",
       "      <td>264073555</td>\n",
       "      <td>18186363</td>\n",
       "      <td>245887192</td>\n",
       "    </tr>\n",
       "    <tr>\n",
       "      <th>2</th>\n",
       "      <td>235195525</td>\n",
       "      <td>16676082</td>\n",
       "      <td>218519443</td>\n",
       "    </tr>\n",
       "  </tbody>\n",
       "</table>\n",
       "</div>"
      ],
      "text/plain": [
       "         YES        NO     Result\n",
       "0  271712743  25151976  246560767\n",
       "1  264073555  18186363  245887192\n",
       "2  235195525  16676082  218519443"
      ]
     },
     "metadata": {},
     "output_type": "display_data"
    },
    {
     "name": "stdout",
     "output_type": "stream",
     "text": [
      ">CHALLENGE: Catalyst value onboarding\n"
     ]
    },
    {
     "data": {
      "text/html": [
       "<div>\n",
       "<style scoped>\n",
       "    .dataframe tbody tr th:only-of-type {\n",
       "        vertical-align: middle;\n",
       "    }\n",
       "\n",
       "    .dataframe tbody tr th {\n",
       "        vertical-align: top;\n",
       "    }\n",
       "\n",
       "    .dataframe thead th {\n",
       "        text-align: right;\n",
       "    }\n",
       "</style>\n",
       "<table border=\"1\" class=\"dataframe\">\n",
       "  <thead>\n",
       "    <tr style=\"text-align: right;\">\n",
       "      <th></th>\n",
       "      <th>YES</th>\n",
       "      <th>NO</th>\n",
       "      <th>Result</th>\n",
       "    </tr>\n",
       "  </thead>\n",
       "  <tbody>\n",
       "    <tr>\n",
       "      <th>0</th>\n",
       "      <td>201393105</td>\n",
       "      <td>14743374</td>\n",
       "      <td>186649731</td>\n",
       "    </tr>\n",
       "    <tr>\n",
       "      <th>1</th>\n",
       "      <td>204928733</td>\n",
       "      <td>28614581</td>\n",
       "      <td>176314152</td>\n",
       "    </tr>\n",
       "    <tr>\n",
       "      <th>2</th>\n",
       "      <td>151709899</td>\n",
       "      <td>11022548</td>\n",
       "      <td>140687351</td>\n",
       "    </tr>\n",
       "  </tbody>\n",
       "</table>\n",
       "</div>"
      ],
      "text/plain": [
       "         YES        NO     Result\n",
       "0  201393105  14743374  186649731\n",
       "1  204928733  28614581  176314152\n",
       "2  151709899  11022548  140687351"
      ]
     },
     "metadata": {},
     "output_type": "display_data"
    },
    {
     "name": "stdout",
     "output_type": "stream",
     "text": [
      ">CHALLENGE: Metadata\n"
     ]
    },
    {
     "data": {
      "text/html": [
       "<div>\n",
       "<style scoped>\n",
       "    .dataframe tbody tr th:only-of-type {\n",
       "        vertical-align: middle;\n",
       "    }\n",
       "\n",
       "    .dataframe tbody tr th {\n",
       "        vertical-align: top;\n",
       "    }\n",
       "\n",
       "    .dataframe thead th {\n",
       "        text-align: right;\n",
       "    }\n",
       "</style>\n",
       "<table border=\"1\" class=\"dataframe\">\n",
       "  <thead>\n",
       "    <tr style=\"text-align: right;\">\n",
       "      <th></th>\n",
       "      <th>YES</th>\n",
       "      <th>NO</th>\n",
       "      <th>Result</th>\n",
       "    </tr>\n",
       "  </thead>\n",
       "  <tbody>\n",
       "    <tr>\n",
       "      <th>0</th>\n",
       "      <td>283006713</td>\n",
       "      <td>8266381</td>\n",
       "      <td>274740332</td>\n",
       "    </tr>\n",
       "    <tr>\n",
       "      <th>1</th>\n",
       "      <td>244821792</td>\n",
       "      <td>23270468</td>\n",
       "      <td>221551324</td>\n",
       "    </tr>\n",
       "    <tr>\n",
       "      <th>2</th>\n",
       "      <td>184777788</td>\n",
       "      <td>23134560</td>\n",
       "      <td>161643228</td>\n",
       "    </tr>\n",
       "  </tbody>\n",
       "</table>\n",
       "</div>"
      ],
      "text/plain": [
       "         YES        NO     Result\n",
       "0  283006713   8266381  274740332\n",
       "1  244821792  23270468  221551324\n",
       "2  184777788  23134560  161643228"
      ]
     },
     "metadata": {},
     "output_type": "display_data"
    },
    {
     "name": "stdout",
     "output_type": "stream",
     "text": [
      ">CHALLENGE: Grow Africa, Grow Cardano\n"
     ]
    },
    {
     "data": {
      "text/html": [
       "<div>\n",
       "<style scoped>\n",
       "    .dataframe tbody tr th:only-of-type {\n",
       "        vertical-align: middle;\n",
       "    }\n",
       "\n",
       "    .dataframe tbody tr th {\n",
       "        vertical-align: top;\n",
       "    }\n",
       "\n",
       "    .dataframe thead th {\n",
       "        text-align: right;\n",
       "    }\n",
       "</style>\n",
       "<table border=\"1\" class=\"dataframe\">\n",
       "  <thead>\n",
       "    <tr style=\"text-align: right;\">\n",
       "      <th></th>\n",
       "      <th>YES</th>\n",
       "      <th>NO</th>\n",
       "      <th>Result</th>\n",
       "    </tr>\n",
       "  </thead>\n",
       "  <tbody>\n",
       "    <tr>\n",
       "      <th>0</th>\n",
       "      <td>292964661</td>\n",
       "      <td>6377156</td>\n",
       "      <td>286587505</td>\n",
       "    </tr>\n",
       "    <tr>\n",
       "      <th>1</th>\n",
       "      <td>251873182</td>\n",
       "      <td>15486056</td>\n",
       "      <td>236387126</td>\n",
       "    </tr>\n",
       "    <tr>\n",
       "      <th>2</th>\n",
       "      <td>238519206</td>\n",
       "      <td>6232925</td>\n",
       "      <td>232286281</td>\n",
       "    </tr>\n",
       "  </tbody>\n",
       "</table>\n",
       "</div>"
      ],
      "text/plain": [
       "         YES        NO     Result\n",
       "0  292964661   6377156  286587505\n",
       "1  251873182  15486056  236387126\n",
       "2  238519206   6232925  232286281"
      ]
     },
     "metadata": {},
     "output_type": "display_data"
    },
    {
     "name": "stdout",
     "output_type": "stream",
     "text": [
      ">CHALLENGE: Scale-UP Cardano’s DeFi Ecosyst\n"
     ]
    },
    {
     "data": {
      "text/html": [
       "<div>\n",
       "<style scoped>\n",
       "    .dataframe tbody tr th:only-of-type {\n",
       "        vertical-align: middle;\n",
       "    }\n",
       "\n",
       "    .dataframe tbody tr th {\n",
       "        vertical-align: top;\n",
       "    }\n",
       "\n",
       "    .dataframe thead th {\n",
       "        text-align: right;\n",
       "    }\n",
       "</style>\n",
       "<table border=\"1\" class=\"dataframe\">\n",
       "  <thead>\n",
       "    <tr style=\"text-align: right;\">\n",
       "      <th></th>\n",
       "      <th>YES</th>\n",
       "      <th>NO</th>\n",
       "      <th>Result</th>\n",
       "    </tr>\n",
       "  </thead>\n",
       "  <tbody>\n",
       "    <tr>\n",
       "      <th>0</th>\n",
       "      <td>392129925</td>\n",
       "      <td>4979460</td>\n",
       "      <td>387150465</td>\n",
       "    </tr>\n",
       "    <tr>\n",
       "      <th>1</th>\n",
       "      <td>231871934</td>\n",
       "      <td>9984896</td>\n",
       "      <td>221887038</td>\n",
       "    </tr>\n",
       "    <tr>\n",
       "      <th>2</th>\n",
       "      <td>183395488</td>\n",
       "      <td>22032291</td>\n",
       "      <td>161363197</td>\n",
       "    </tr>\n",
       "  </tbody>\n",
       "</table>\n",
       "</div>"
      ],
      "text/plain": [
       "         YES        NO     Result\n",
       "0  392129925   4979460  387150465\n",
       "1  231871934   9984896  221887038\n",
       "2  183395488  22032291  161363197"
      ]
     },
     "metadata": {},
     "output_type": "display_data"
    },
    {
     "name": "stdout",
     "output_type": "stream",
     "text": [
      ">CHALLENGE: Cardano Emerging Threat Alarm\n"
     ]
    },
    {
     "data": {
      "text/html": [
       "<div>\n",
       "<style scoped>\n",
       "    .dataframe tbody tr th:only-of-type {\n",
       "        vertical-align: middle;\n",
       "    }\n",
       "\n",
       "    .dataframe tbody tr th {\n",
       "        vertical-align: top;\n",
       "    }\n",
       "\n",
       "    .dataframe thead th {\n",
       "        text-align: right;\n",
       "    }\n",
       "</style>\n",
       "<table border=\"1\" class=\"dataframe\">\n",
       "  <thead>\n",
       "    <tr style=\"text-align: right;\">\n",
       "      <th></th>\n",
       "      <th>YES</th>\n",
       "      <th>NO</th>\n",
       "      <th>Result</th>\n",
       "    </tr>\n",
       "  </thead>\n",
       "  <tbody>\n",
       "    <tr>\n",
       "      <th>0</th>\n",
       "      <td>273566710</td>\n",
       "      <td>21010883</td>\n",
       "      <td>252555827</td>\n",
       "    </tr>\n",
       "    <tr>\n",
       "      <th>1</th>\n",
       "      <td>128182897</td>\n",
       "      <td>31021581</td>\n",
       "      <td>97161316</td>\n",
       "    </tr>\n",
       "    <tr>\n",
       "      <th>2</th>\n",
       "      <td>106347743</td>\n",
       "      <td>18970363</td>\n",
       "      <td>87377380</td>\n",
       "    </tr>\n",
       "  </tbody>\n",
       "</table>\n",
       "</div>"
      ],
      "text/plain": [
       "         YES        NO     Result\n",
       "0  273566710  21010883  252555827\n",
       "1  128182897  31021581   97161316\n",
       "2  106347743  18970363   87377380"
      ]
     },
     "metadata": {},
     "output_type": "display_data"
    },
    {
     "name": "stdout",
     "output_type": "stream",
     "text": [
      ">CHALLENGE: Multilingual resources\n"
     ]
    },
    {
     "data": {
      "text/html": [
       "<div>\n",
       "<style scoped>\n",
       "    .dataframe tbody tr th:only-of-type {\n",
       "        vertical-align: middle;\n",
       "    }\n",
       "\n",
       "    .dataframe tbody tr th {\n",
       "        vertical-align: top;\n",
       "    }\n",
       "\n",
       "    .dataframe thead th {\n",
       "        text-align: right;\n",
       "    }\n",
       "</style>\n",
       "<table border=\"1\" class=\"dataframe\">\n",
       "  <thead>\n",
       "    <tr style=\"text-align: right;\">\n",
       "      <th></th>\n",
       "      <th>YES</th>\n",
       "      <th>NO</th>\n",
       "      <th>Result</th>\n",
       "    </tr>\n",
       "  </thead>\n",
       "  <tbody>\n",
       "    <tr>\n",
       "      <th>0</th>\n",
       "      <td>266985678</td>\n",
       "      <td>2169246</td>\n",
       "      <td>264816432</td>\n",
       "    </tr>\n",
       "    <tr>\n",
       "      <th>1</th>\n",
       "      <td>274792987</td>\n",
       "      <td>18877068</td>\n",
       "      <td>255915919</td>\n",
       "    </tr>\n",
       "    <tr>\n",
       "      <th>2</th>\n",
       "      <td>110961510</td>\n",
       "      <td>1835346</td>\n",
       "      <td>109126164</td>\n",
       "    </tr>\n",
       "  </tbody>\n",
       "</table>\n",
       "</div>"
      ],
      "text/plain": [
       "         YES        NO     Result\n",
       "0  266985678   2169246  264816432\n",
       "1  274792987  18877068  255915919\n",
       "2  110961510   1835346  109126164"
      ]
     },
     "metadata": {},
     "output_type": "display_data"
    },
    {
     "name": "stdout",
     "output_type": "stream",
     "text": [
      ">CHALLENGE: DeFi and Microlending for Afric\n"
     ]
    },
    {
     "data": {
      "text/html": [
       "<div>\n",
       "<style scoped>\n",
       "    .dataframe tbody tr th:only-of-type {\n",
       "        vertical-align: middle;\n",
       "    }\n",
       "\n",
       "    .dataframe tbody tr th {\n",
       "        vertical-align: top;\n",
       "    }\n",
       "\n",
       "    .dataframe thead th {\n",
       "        text-align: right;\n",
       "    }\n",
       "</style>\n",
       "<table border=\"1\" class=\"dataframe\">\n",
       "  <thead>\n",
       "    <tr style=\"text-align: right;\">\n",
       "      <th></th>\n",
       "      <th>YES</th>\n",
       "      <th>NO</th>\n",
       "      <th>Result</th>\n",
       "    </tr>\n",
       "  </thead>\n",
       "  <tbody>\n",
       "    <tr>\n",
       "      <th>0</th>\n",
       "      <td>247481882</td>\n",
       "      <td>13252472</td>\n",
       "      <td>234229410</td>\n",
       "    </tr>\n",
       "    <tr>\n",
       "      <th>1</th>\n",
       "      <td>169168925</td>\n",
       "      <td>18644659</td>\n",
       "      <td>150524266</td>\n",
       "    </tr>\n",
       "    <tr>\n",
       "      <th>2</th>\n",
       "      <td>106469590</td>\n",
       "      <td>23602266</td>\n",
       "      <td>82867324</td>\n",
       "    </tr>\n",
       "  </tbody>\n",
       "</table>\n",
       "</div>"
      ],
      "text/plain": [
       "         YES        NO     Result\n",
       "0  247481882  13252472  234229410\n",
       "1  169168925  18644659  150524266\n",
       "2  106469590  23602266   82867324"
      ]
     },
     "metadata": {},
     "output_type": "display_data"
    },
    {
     "name": "stdout",
     "output_type": "stream",
     "text": [
      ">CHALLENGE: DLT Entrepreneurship Toolbox\n"
     ]
    },
    {
     "data": {
      "text/html": [
       "<div>\n",
       "<style scoped>\n",
       "    .dataframe tbody tr th:only-of-type {\n",
       "        vertical-align: middle;\n",
       "    }\n",
       "\n",
       "    .dataframe tbody tr th {\n",
       "        vertical-align: top;\n",
       "    }\n",
       "\n",
       "    .dataframe thead th {\n",
       "        text-align: right;\n",
       "    }\n",
       "</style>\n",
       "<table border=\"1\" class=\"dataframe\">\n",
       "  <thead>\n",
       "    <tr style=\"text-align: right;\">\n",
       "      <th></th>\n",
       "      <th>YES</th>\n",
       "      <th>NO</th>\n",
       "      <th>Result</th>\n",
       "    </tr>\n",
       "  </thead>\n",
       "  <tbody>\n",
       "    <tr>\n",
       "      <th>0</th>\n",
       "      <td>168004956</td>\n",
       "      <td>15137126</td>\n",
       "      <td>152867830</td>\n",
       "    </tr>\n",
       "    <tr>\n",
       "      <th>1</th>\n",
       "      <td>124983762</td>\n",
       "      <td>10282112</td>\n",
       "      <td>114701650</td>\n",
       "    </tr>\n",
       "    <tr>\n",
       "      <th>2</th>\n",
       "      <td>120711276</td>\n",
       "      <td>14271212</td>\n",
       "      <td>106440064</td>\n",
       "    </tr>\n",
       "  </tbody>\n",
       "</table>\n",
       "</div>"
      ],
      "text/plain": [
       "         YES        NO     Result\n",
       "0  168004956  15137126  152867830\n",
       "1  124983762  10282112  114701650\n",
       "2  120711276  14271212  106440064"
      ]
     },
     "metadata": {},
     "output_type": "display_data"
    },
    {
     "name": "stdout",
     "output_type": "stream",
     "text": [
      ">CHALLENGE: Partnerships for Global Adoptio\n"
     ]
    },
    {
     "data": {
      "text/html": [
       "<div>\n",
       "<style scoped>\n",
       "    .dataframe tbody tr th:only-of-type {\n",
       "        vertical-align: middle;\n",
       "    }\n",
       "\n",
       "    .dataframe tbody tr th {\n",
       "        vertical-align: top;\n",
       "    }\n",
       "\n",
       "    .dataframe thead th {\n",
       "        text-align: right;\n",
       "    }\n",
       "</style>\n",
       "<table border=\"1\" class=\"dataframe\">\n",
       "  <thead>\n",
       "    <tr style=\"text-align: right;\">\n",
       "      <th></th>\n",
       "      <th>YES</th>\n",
       "      <th>NO</th>\n",
       "      <th>Result</th>\n",
       "    </tr>\n",
       "  </thead>\n",
       "  <tbody>\n",
       "    <tr>\n",
       "      <th>0</th>\n",
       "      <td>195643642</td>\n",
       "      <td>12932054</td>\n",
       "      <td>182711588</td>\n",
       "    </tr>\n",
       "    <tr>\n",
       "      <th>1</th>\n",
       "      <td>88488669</td>\n",
       "      <td>15898405</td>\n",
       "      <td>72590264</td>\n",
       "    </tr>\n",
       "    <tr>\n",
       "      <th>2</th>\n",
       "      <td>72608893</td>\n",
       "      <td>14856488</td>\n",
       "      <td>57752405</td>\n",
       "    </tr>\n",
       "  </tbody>\n",
       "</table>\n",
       "</div>"
      ],
      "text/plain": [
       "         YES        NO     Result\n",
       "0  195643642  12932054  182711588\n",
       "1   88488669  15898405   72590264\n",
       "2   72608893  14856488   57752405"
      ]
     },
     "metadata": {},
     "output_type": "display_data"
    },
    {
     "name": "stdout",
     "output_type": "stream",
     "text": [
      ">CHALLENGE: NFT Business models\n"
     ]
    },
    {
     "data": {
      "text/html": [
       "<div>\n",
       "<style scoped>\n",
       "    .dataframe tbody tr th:only-of-type {\n",
       "        vertical-align: middle;\n",
       "    }\n",
       "\n",
       "    .dataframe tbody tr th {\n",
       "        vertical-align: top;\n",
       "    }\n",
       "\n",
       "    .dataframe thead th {\n",
       "        text-align: right;\n",
       "    }\n",
       "</style>\n",
       "<table border=\"1\" class=\"dataframe\">\n",
       "  <thead>\n",
       "    <tr style=\"text-align: right;\">\n",
       "      <th></th>\n",
       "      <th>YES</th>\n",
       "      <th>NO</th>\n",
       "      <th>Result</th>\n",
       "    </tr>\n",
       "  </thead>\n",
       "  <tbody>\n",
       "    <tr>\n",
       "      <th>0</th>\n",
       "      <td>195025365</td>\n",
       "      <td>21508626</td>\n",
       "      <td>173516739</td>\n",
       "    </tr>\n",
       "    <tr>\n",
       "      <th>1</th>\n",
       "      <td>134449893</td>\n",
       "      <td>18847575</td>\n",
       "      <td>115602318</td>\n",
       "    </tr>\n",
       "    <tr>\n",
       "      <th>2</th>\n",
       "      <td>90946166</td>\n",
       "      <td>8930647</td>\n",
       "      <td>82015519</td>\n",
       "    </tr>\n",
       "  </tbody>\n",
       "</table>\n",
       "</div>"
      ],
      "text/plain": [
       "         YES        NO     Result\n",
       "0  195025365  21508626  173516739\n",
       "1  134449893  18847575  115602318\n",
       "2   90946166   8930647   82015519"
      ]
     },
     "metadata": {},
     "output_type": "display_data"
    },
    {
     "name": "stdout",
     "output_type": "stream",
     "text": [
      ">CHALLENGE: Atala PRISM DID Mass-Scale Adop\n"
     ]
    },
    {
     "data": {
      "text/html": [
       "<div>\n",
       "<style scoped>\n",
       "    .dataframe tbody tr th:only-of-type {\n",
       "        vertical-align: middle;\n",
       "    }\n",
       "\n",
       "    .dataframe tbody tr th {\n",
       "        vertical-align: top;\n",
       "    }\n",
       "\n",
       "    .dataframe thead th {\n",
       "        text-align: right;\n",
       "    }\n",
       "</style>\n",
       "<table border=\"1\" class=\"dataframe\">\n",
       "  <thead>\n",
       "    <tr style=\"text-align: right;\">\n",
       "      <th></th>\n",
       "      <th>YES</th>\n",
       "      <th>NO</th>\n",
       "      <th>Result</th>\n",
       "    </tr>\n",
       "  </thead>\n",
       "  <tbody>\n",
       "    <tr>\n",
       "      <th>0</th>\n",
       "      <td>323598220</td>\n",
       "      <td>10509935</td>\n",
       "      <td>313088285</td>\n",
       "    </tr>\n",
       "    <tr>\n",
       "      <th>1</th>\n",
       "      <td>240595564</td>\n",
       "      <td>30027431</td>\n",
       "      <td>210568133</td>\n",
       "    </tr>\n",
       "    <tr>\n",
       "      <th>2</th>\n",
       "      <td>151705785</td>\n",
       "      <td>8414392</td>\n",
       "      <td>143291393</td>\n",
       "    </tr>\n",
       "  </tbody>\n",
       "</table>\n",
       "</div>"
      ],
      "text/plain": [
       "         YES        NO     Result\n",
       "0  323598220  10509935  313088285\n",
       "1  240595564  30027431  210568133\n",
       "2  151705785   8414392  143291393"
      ]
     },
     "metadata": {},
     "output_type": "display_data"
    },
    {
     "name": "stdout",
     "output_type": "stream",
     "text": [
      ">CHALLENGE: Disaster When all is at stake\n"
     ]
    },
    {
     "data": {
      "text/html": [
       "<div>\n",
       "<style scoped>\n",
       "    .dataframe tbody tr th:only-of-type {\n",
       "        vertical-align: middle;\n",
       "    }\n",
       "\n",
       "    .dataframe tbody tr th {\n",
       "        vertical-align: top;\n",
       "    }\n",
       "\n",
       "    .dataframe thead th {\n",
       "        text-align: right;\n",
       "    }\n",
       "</style>\n",
       "<table border=\"1\" class=\"dataframe\">\n",
       "  <thead>\n",
       "    <tr style=\"text-align: right;\">\n",
       "      <th></th>\n",
       "      <th>YES</th>\n",
       "      <th>NO</th>\n",
       "      <th>Result</th>\n",
       "    </tr>\n",
       "  </thead>\n",
       "  <tbody>\n",
       "    <tr>\n",
       "      <th>0</th>\n",
       "      <td>189628003</td>\n",
       "      <td>26994115</td>\n",
       "      <td>162633888</td>\n",
       "    </tr>\n",
       "    <tr>\n",
       "      <th>1</th>\n",
       "      <td>106954064</td>\n",
       "      <td>4139263</td>\n",
       "      <td>102814801</td>\n",
       "    </tr>\n",
       "    <tr>\n",
       "      <th>2</th>\n",
       "      <td>128864182</td>\n",
       "      <td>28327050</td>\n",
       "      <td>100537132</td>\n",
       "    </tr>\n",
       "  </tbody>\n",
       "</table>\n",
       "</div>"
      ],
      "text/plain": [
       "         YES        NO     Result\n",
       "0  189628003  26994115  162633888\n",
       "1  106954064   4139263  102814801\n",
       "2  128864182  28327050  100537132"
      ]
     },
     "metadata": {},
     "output_type": "display_data"
    },
    {
     "name": "stdout",
     "output_type": "stream",
     "text": [
      ">CHALLENGE: Scale-UP Cardano’s Community Hu\n"
     ]
    },
    {
     "data": {
      "text/html": [
       "<div>\n",
       "<style scoped>\n",
       "    .dataframe tbody tr th:only-of-type {\n",
       "        vertical-align: middle;\n",
       "    }\n",
       "\n",
       "    .dataframe tbody tr th {\n",
       "        vertical-align: top;\n",
       "    }\n",
       "\n",
       "    .dataframe thead th {\n",
       "        text-align: right;\n",
       "    }\n",
       "</style>\n",
       "<table border=\"1\" class=\"dataframe\">\n",
       "  <thead>\n",
       "    <tr style=\"text-align: right;\">\n",
       "      <th></th>\n",
       "      <th>YES</th>\n",
       "      <th>NO</th>\n",
       "      <th>Result</th>\n",
       "    </tr>\n",
       "  </thead>\n",
       "  <tbody>\n",
       "    <tr>\n",
       "      <th>0</th>\n",
       "      <td>288806839</td>\n",
       "      <td>2164195</td>\n",
       "      <td>286642644</td>\n",
       "    </tr>\n",
       "    <tr>\n",
       "      <th>1</th>\n",
       "      <td>207263336</td>\n",
       "      <td>23171770</td>\n",
       "      <td>184091566</td>\n",
       "    </tr>\n",
       "    <tr>\n",
       "      <th>2</th>\n",
       "      <td>183734088</td>\n",
       "      <td>6183944</td>\n",
       "      <td>177550144</td>\n",
       "    </tr>\n",
       "  </tbody>\n",
       "</table>\n",
       "</div>"
      ],
      "text/plain": [
       "         YES        NO     Result\n",
       "0  288806839   2164195  286642644\n",
       "1  207263336  23171770  184091566\n",
       "2  183734088   6183944  177550144"
      ]
     },
     "metadata": {},
     "output_type": "display_data"
    },
    {
     "name": "stdout",
     "output_type": "stream",
     "text": [
      ">CHALLENGE: Improve and Grow Auditability\n"
     ]
    },
    {
     "data": {
      "text/html": [
       "<div>\n",
       "<style scoped>\n",
       "    .dataframe tbody tr th:only-of-type {\n",
       "        vertical-align: middle;\n",
       "    }\n",
       "\n",
       "    .dataframe tbody tr th {\n",
       "        vertical-align: top;\n",
       "    }\n",
       "\n",
       "    .dataframe thead th {\n",
       "        text-align: right;\n",
       "    }\n",
       "</style>\n",
       "<table border=\"1\" class=\"dataframe\">\n",
       "  <thead>\n",
       "    <tr style=\"text-align: right;\">\n",
       "      <th></th>\n",
       "      <th>YES</th>\n",
       "      <th>NO</th>\n",
       "      <th>Result</th>\n",
       "    </tr>\n",
       "  </thead>\n",
       "  <tbody>\n",
       "    <tr>\n",
       "      <th>0</th>\n",
       "      <td>233257880</td>\n",
       "      <td>13482379</td>\n",
       "      <td>219775501</td>\n",
       "    </tr>\n",
       "    <tr>\n",
       "      <th>1</th>\n",
       "      <td>167522607</td>\n",
       "      <td>15076774</td>\n",
       "      <td>152445833</td>\n",
       "    </tr>\n",
       "    <tr>\n",
       "      <th>2</th>\n",
       "      <td>142344333</td>\n",
       "      <td>18471802</td>\n",
       "      <td>123872531</td>\n",
       "    </tr>\n",
       "  </tbody>\n",
       "</table>\n",
       "</div>"
      ],
      "text/plain": [
       "         YES        NO     Result\n",
       "0  233257880  13482379  219775501\n",
       "1  167522607  15076774  152445833\n",
       "2  142344333  18471802  123872531"
      ]
     },
     "metadata": {},
     "output_type": "display_data"
    },
    {
     "name": "stdout",
     "output_type": "stream",
     "text": [
      ">CHALLENGE: Fund7 challenge setting\n"
     ]
    },
    {
     "data": {
      "text/html": [
       "<div>\n",
       "<style scoped>\n",
       "    .dataframe tbody tr th:only-of-type {\n",
       "        vertical-align: middle;\n",
       "    }\n",
       "\n",
       "    .dataframe tbody tr th {\n",
       "        vertical-align: top;\n",
       "    }\n",
       "\n",
       "    .dataframe thead th {\n",
       "        text-align: right;\n",
       "    }\n",
       "</style>\n",
       "<table border=\"1\" class=\"dataframe\">\n",
       "  <thead>\n",
       "    <tr style=\"text-align: right;\">\n",
       "      <th></th>\n",
       "      <th>YES</th>\n",
       "      <th>NO</th>\n",
       "      <th>Result</th>\n",
       "    </tr>\n",
       "  </thead>\n",
       "  <tbody>\n",
       "    <tr>\n",
       "      <th>0</th>\n",
       "      <td>296534143</td>\n",
       "      <td>9997192</td>\n",
       "      <td>286536951</td>\n",
       "    </tr>\n",
       "    <tr>\n",
       "      <th>1</th>\n",
       "      <td>229549584</td>\n",
       "      <td>23356721</td>\n",
       "      <td>206192863</td>\n",
       "    </tr>\n",
       "    <tr>\n",
       "      <th>2</th>\n",
       "      <td>189050459</td>\n",
       "      <td>9680327</td>\n",
       "      <td>179370132</td>\n",
       "    </tr>\n",
       "  </tbody>\n",
       "</table>\n",
       "</div>"
      ],
      "text/plain": [
       "         YES        NO     Result\n",
       "0  296534143   9997192  286536951\n",
       "1  229549584  23356721  206192863\n",
       "2  189050459   9680327  179370132"
      ]
     },
     "metadata": {},
     "output_type": "display_data"
    },
    {
     "name": "stdout",
     "output_type": "stream",
     "text": [
      ">CHALLENGE: Sponsored by leftovers\n"
     ]
    },
    {
     "data": {
      "text/html": [
       "<div>\n",
       "<style scoped>\n",
       "    .dataframe tbody tr th:only-of-type {\n",
       "        vertical-align: middle;\n",
       "    }\n",
       "\n",
       "    .dataframe tbody tr th {\n",
       "        vertical-align: top;\n",
       "    }\n",
       "\n",
       "    .dataframe thead th {\n",
       "        text-align: right;\n",
       "    }\n",
       "</style>\n",
       "<table border=\"1\" class=\"dataframe\">\n",
       "  <thead>\n",
       "    <tr style=\"text-align: right;\">\n",
       "      <th></th>\n",
       "      <th>YES</th>\n",
       "      <th>NO</th>\n",
       "      <th>Result</th>\n",
       "    </tr>\n",
       "  </thead>\n",
       "  <tbody>\n",
       "    <tr>\n",
       "      <th>0</th>\n",
       "      <td>169837524</td>\n",
       "      <td>10355331</td>\n",
       "      <td>159482193</td>\n",
       "    </tr>\n",
       "    <tr>\n",
       "      <th>1</th>\n",
       "      <td>156340326</td>\n",
       "      <td>37090381</td>\n",
       "      <td>119249945</td>\n",
       "    </tr>\n",
       "    <tr>\n",
       "      <th>2</th>\n",
       "      <td>169264840</td>\n",
       "      <td>55606987</td>\n",
       "      <td>113657853</td>\n",
       "    </tr>\n",
       "  </tbody>\n",
       "</table>\n",
       "</div>"
      ],
      "text/plain": [
       "         YES        NO     Result\n",
       "0  169837524  10355331  159482193\n",
       "1  156340326  37090381  119249945\n",
       "2  169264840  55606987  113657853"
      ]
     },
     "metadata": {},
     "output_type": "display_data"
    },
    {
     "name": "stdout",
     "output_type": "stream",
     "text": [
      "\n",
      " >> FUND: f7\n",
      ">CHALLENGE: A.I. & SingularityNet a $5T mar\n"
     ]
    },
    {
     "data": {
      "text/html": [
       "<div>\n",
       "<style scoped>\n",
       "    .dataframe tbody tr th:only-of-type {\n",
       "        vertical-align: middle;\n",
       "    }\n",
       "\n",
       "    .dataframe tbody tr th {\n",
       "        vertical-align: top;\n",
       "    }\n",
       "\n",
       "    .dataframe thead th {\n",
       "        text-align: right;\n",
       "    }\n",
       "</style>\n",
       "<table border=\"1\" class=\"dataframe\">\n",
       "  <thead>\n",
       "    <tr style=\"text-align: right;\">\n",
       "      <th></th>\n",
       "      <th>YES</th>\n",
       "      <th>NO</th>\n",
       "      <th>Result</th>\n",
       "    </tr>\n",
       "  </thead>\n",
       "  <tbody>\n",
       "    <tr>\n",
       "      <th>0</th>\n",
       "      <td>199732782</td>\n",
       "      <td>1123600</td>\n",
       "      <td>198609182</td>\n",
       "    </tr>\n",
       "    <tr>\n",
       "      <th>1</th>\n",
       "      <td>98489203</td>\n",
       "      <td>5323561</td>\n",
       "      <td>93165642</td>\n",
       "    </tr>\n",
       "    <tr>\n",
       "      <th>2</th>\n",
       "      <td>84237620</td>\n",
       "      <td>3344431</td>\n",
       "      <td>80893189</td>\n",
       "    </tr>\n",
       "  </tbody>\n",
       "</table>\n",
       "</div>"
      ],
      "text/plain": [
       "         YES       NO     Result\n",
       "0  199732782  1123600  198609182\n",
       "1   98489203  5323561   93165642\n",
       "2   84237620  3344431   80893189"
      ]
     },
     "metadata": {},
     "output_type": "display_data"
    },
    {
     "name": "stdout",
     "output_type": "stream",
     "text": [
      ">CHALLENGE: Accelerate Decentralized Identi\n"
     ]
    },
    {
     "data": {
      "text/html": [
       "<div>\n",
       "<style scoped>\n",
       "    .dataframe tbody tr th:only-of-type {\n",
       "        vertical-align: middle;\n",
       "    }\n",
       "\n",
       "    .dataframe tbody tr th {\n",
       "        vertical-align: top;\n",
       "    }\n",
       "\n",
       "    .dataframe thead th {\n",
       "        text-align: right;\n",
       "    }\n",
       "</style>\n",
       "<table border=\"1\" class=\"dataframe\">\n",
       "  <thead>\n",
       "    <tr style=\"text-align: right;\">\n",
       "      <th></th>\n",
       "      <th>YES</th>\n",
       "      <th>NO</th>\n",
       "      <th>Result</th>\n",
       "    </tr>\n",
       "  </thead>\n",
       "  <tbody>\n",
       "    <tr>\n",
       "      <th>0</th>\n",
       "      <td>158968316</td>\n",
       "      <td>2019465</td>\n",
       "      <td>156948851</td>\n",
       "    </tr>\n",
       "    <tr>\n",
       "      <th>1</th>\n",
       "      <td>151340860</td>\n",
       "      <td>1786085</td>\n",
       "      <td>149554775</td>\n",
       "    </tr>\n",
       "    <tr>\n",
       "      <th>2</th>\n",
       "      <td>149407057</td>\n",
       "      <td>6941619</td>\n",
       "      <td>142465438</td>\n",
       "    </tr>\n",
       "  </tbody>\n",
       "</table>\n",
       "</div>"
      ],
      "text/plain": [
       "         YES       NO     Result\n",
       "0  158968316  2019465  156948851\n",
       "1  151340860  1786085  149554775\n",
       "2  149407057  6941619  142465438"
      ]
     },
     "metadata": {},
     "output_type": "display_data"
    },
    {
     "name": "stdout",
     "output_type": "stream",
     "text": [
      ">CHALLENGE: Boosting Cardanos DeFi\n"
     ]
    },
    {
     "data": {
      "text/html": [
       "<div>\n",
       "<style scoped>\n",
       "    .dataframe tbody tr th:only-of-type {\n",
       "        vertical-align: middle;\n",
       "    }\n",
       "\n",
       "    .dataframe tbody tr th {\n",
       "        vertical-align: top;\n",
       "    }\n",
       "\n",
       "    .dataframe thead th {\n",
       "        text-align: right;\n",
       "    }\n",
       "</style>\n",
       "<table border=\"1\" class=\"dataframe\">\n",
       "  <thead>\n",
       "    <tr style=\"text-align: right;\">\n",
       "      <th></th>\n",
       "      <th>YES</th>\n",
       "      <th>NO</th>\n",
       "      <th>Result</th>\n",
       "    </tr>\n",
       "  </thead>\n",
       "  <tbody>\n",
       "    <tr>\n",
       "      <th>0</th>\n",
       "      <td>446066509</td>\n",
       "      <td>8167903</td>\n",
       "      <td>437898606</td>\n",
       "    </tr>\n",
       "    <tr>\n",
       "      <th>1</th>\n",
       "      <td>312524109</td>\n",
       "      <td>4979911</td>\n",
       "      <td>307544198</td>\n",
       "    </tr>\n",
       "    <tr>\n",
       "      <th>2</th>\n",
       "      <td>291551864</td>\n",
       "      <td>1528877</td>\n",
       "      <td>290022987</td>\n",
       "    </tr>\n",
       "  </tbody>\n",
       "</table>\n",
       "</div>"
      ],
      "text/plain": [
       "         YES       NO     Result\n",
       "0  446066509  8167903  437898606\n",
       "1  312524109  4979911  307544198\n",
       "2  291551864  1528877  290022987"
      ]
     },
     "metadata": {},
     "output_type": "display_data"
    },
    {
     "name": "stdout",
     "output_type": "stream",
     "text": [
      ">CHALLENGE: Catalyst - Rapid Funding Mechan\n"
     ]
    },
    {
     "data": {
      "text/html": [
       "<div>\n",
       "<style scoped>\n",
       "    .dataframe tbody tr th:only-of-type {\n",
       "        vertical-align: middle;\n",
       "    }\n",
       "\n",
       "    .dataframe tbody tr th {\n",
       "        vertical-align: top;\n",
       "    }\n",
       "\n",
       "    .dataframe thead th {\n",
       "        text-align: right;\n",
       "    }\n",
       "</style>\n",
       "<table border=\"1\" class=\"dataframe\">\n",
       "  <thead>\n",
       "    <tr style=\"text-align: right;\">\n",
       "      <th></th>\n",
       "      <th>YES</th>\n",
       "      <th>NO</th>\n",
       "      <th>Result</th>\n",
       "    </tr>\n",
       "  </thead>\n",
       "  <tbody>\n",
       "    <tr>\n",
       "      <th>0</th>\n",
       "      <td>166264297</td>\n",
       "      <td>8886446</td>\n",
       "      <td>157377851</td>\n",
       "    </tr>\n",
       "    <tr>\n",
       "      <th>1</th>\n",
       "      <td>110614167</td>\n",
       "      <td>6090730</td>\n",
       "      <td>104523437</td>\n",
       "    </tr>\n",
       "    <tr>\n",
       "      <th>2</th>\n",
       "      <td>97381525</td>\n",
       "      <td>8799809</td>\n",
       "      <td>88581716</td>\n",
       "    </tr>\n",
       "  </tbody>\n",
       "</table>\n",
       "</div>"
      ],
      "text/plain": [
       "         YES       NO     Result\n",
       "0  166264297  8886446  157377851\n",
       "1  110614167  6090730  104523437\n",
       "2   97381525  8799809   88581716"
      ]
     },
     "metadata": {},
     "output_type": "display_data"
    },
    {
     "name": "stdout",
     "output_type": "stream",
     "text": [
      ">CHALLENGE: Catalyst Accelerator & Mentors\n"
     ]
    },
    {
     "data": {
      "text/html": [
       "<div>\n",
       "<style scoped>\n",
       "    .dataframe tbody tr th:only-of-type {\n",
       "        vertical-align: middle;\n",
       "    }\n",
       "\n",
       "    .dataframe tbody tr th {\n",
       "        vertical-align: top;\n",
       "    }\n",
       "\n",
       "    .dataframe thead th {\n",
       "        text-align: right;\n",
       "    }\n",
       "</style>\n",
       "<table border=\"1\" class=\"dataframe\">\n",
       "  <thead>\n",
       "    <tr style=\"text-align: right;\">\n",
       "      <th></th>\n",
       "      <th>YES</th>\n",
       "      <th>NO</th>\n",
       "      <th>Result</th>\n",
       "    </tr>\n",
       "  </thead>\n",
       "  <tbody>\n",
       "    <tr>\n",
       "      <th>0</th>\n",
       "      <td>129927613</td>\n",
       "      <td>1643204</td>\n",
       "      <td>128284409</td>\n",
       "    </tr>\n",
       "    <tr>\n",
       "      <th>1</th>\n",
       "      <td>126584368</td>\n",
       "      <td>1520140</td>\n",
       "      <td>125064228</td>\n",
       "    </tr>\n",
       "    <tr>\n",
       "      <th>2</th>\n",
       "      <td>101519177</td>\n",
       "      <td>5006372</td>\n",
       "      <td>96512805</td>\n",
       "    </tr>\n",
       "  </tbody>\n",
       "</table>\n",
       "</div>"
      ],
      "text/plain": [
       "         YES       NO     Result\n",
       "0  129927613  1643204  128284409\n",
       "1  126584368  1520140  125064228\n",
       "2  101519177  5006372   96512805"
      ]
     },
     "metadata": {},
     "output_type": "display_data"
    },
    {
     "name": "stdout",
     "output_type": "stream",
     "text": [
      ">CHALLENGE: Catalyst Natives COTI Pay with \n"
     ]
    },
    {
     "data": {
      "text/html": [
       "<div>\n",
       "<style scoped>\n",
       "    .dataframe tbody tr th:only-of-type {\n",
       "        vertical-align: middle;\n",
       "    }\n",
       "\n",
       "    .dataframe tbody tr th {\n",
       "        vertical-align: top;\n",
       "    }\n",
       "\n",
       "    .dataframe thead th {\n",
       "        text-align: right;\n",
       "    }\n",
       "</style>\n",
       "<table border=\"1\" class=\"dataframe\">\n",
       "  <thead>\n",
       "    <tr style=\"text-align: right;\">\n",
       "      <th></th>\n",
       "      <th>YES</th>\n",
       "      <th>NO</th>\n",
       "      <th>Result</th>\n",
       "    </tr>\n",
       "  </thead>\n",
       "  <tbody>\n",
       "    <tr>\n",
       "      <th>0</th>\n",
       "      <td>389857112</td>\n",
       "      <td>6758503</td>\n",
       "      <td>383098609</td>\n",
       "    </tr>\n",
       "    <tr>\n",
       "      <th>1</th>\n",
       "      <td>310794095</td>\n",
       "      <td>1900286</td>\n",
       "      <td>308893809</td>\n",
       "    </tr>\n",
       "    <tr>\n",
       "      <th>2</th>\n",
       "      <td>151601115</td>\n",
       "      <td>5656028</td>\n",
       "      <td>145945087</td>\n",
       "    </tr>\n",
       "  </tbody>\n",
       "</table>\n",
       "</div>"
      ],
      "text/plain": [
       "         YES       NO     Result\n",
       "0  389857112  6758503  383098609\n",
       "1  310794095  1900286  308893809\n",
       "2  151601115  5656028  145945087"
      ]
     },
     "metadata": {},
     "output_type": "display_data"
    },
    {
     "name": "stdout",
     "output_type": "stream",
     "text": [
      ">CHALLENGE: Community Events\n"
     ]
    },
    {
     "data": {
      "text/html": [
       "<div>\n",
       "<style scoped>\n",
       "    .dataframe tbody tr th:only-of-type {\n",
       "        vertical-align: middle;\n",
       "    }\n",
       "\n",
       "    .dataframe tbody tr th {\n",
       "        vertical-align: top;\n",
       "    }\n",
       "\n",
       "    .dataframe thead th {\n",
       "        text-align: right;\n",
       "    }\n",
       "</style>\n",
       "<table border=\"1\" class=\"dataframe\">\n",
       "  <thead>\n",
       "    <tr style=\"text-align: right;\">\n",
       "      <th></th>\n",
       "      <th>YES</th>\n",
       "      <th>NO</th>\n",
       "      <th>Result</th>\n",
       "    </tr>\n",
       "  </thead>\n",
       "  <tbody>\n",
       "    <tr>\n",
       "      <th>0</th>\n",
       "      <td>190599175</td>\n",
       "      <td>3268219</td>\n",
       "      <td>187330956</td>\n",
       "    </tr>\n",
       "    <tr>\n",
       "      <th>1</th>\n",
       "      <td>174765398</td>\n",
       "      <td>3082804</td>\n",
       "      <td>171682594</td>\n",
       "    </tr>\n",
       "    <tr>\n",
       "      <th>2</th>\n",
       "      <td>124217289</td>\n",
       "      <td>2056258</td>\n",
       "      <td>122161031</td>\n",
       "    </tr>\n",
       "  </tbody>\n",
       "</table>\n",
       "</div>"
      ],
      "text/plain": [
       "         YES       NO     Result\n",
       "0  190599175  3268219  187330956\n",
       "1  174765398  3082804  171682594\n",
       "2  124217289  2056258  122161031"
      ]
     },
     "metadata": {},
     "output_type": "display_data"
    },
    {
     "name": "stdout",
     "output_type": "stream",
     "text": [
      ">CHALLENGE: Connecting Japan日本 Community\n"
     ]
    },
    {
     "data": {
      "text/html": [
       "<div>\n",
       "<style scoped>\n",
       "    .dataframe tbody tr th:only-of-type {\n",
       "        vertical-align: middle;\n",
       "    }\n",
       "\n",
       "    .dataframe tbody tr th {\n",
       "        vertical-align: top;\n",
       "    }\n",
       "\n",
       "    .dataframe thead th {\n",
       "        text-align: right;\n",
       "    }\n",
       "</style>\n",
       "<table border=\"1\" class=\"dataframe\">\n",
       "  <thead>\n",
       "    <tr style=\"text-align: right;\">\n",
       "      <th></th>\n",
       "      <th>YES</th>\n",
       "      <th>NO</th>\n",
       "      <th>Result</th>\n",
       "    </tr>\n",
       "  </thead>\n",
       "  <tbody>\n",
       "    <tr>\n",
       "      <th>0</th>\n",
       "      <td>230219228</td>\n",
       "      <td>5092460</td>\n",
       "      <td>225126768</td>\n",
       "    </tr>\n",
       "    <tr>\n",
       "      <th>1</th>\n",
       "      <td>183378045</td>\n",
       "      <td>7613714</td>\n",
       "      <td>175764331</td>\n",
       "    </tr>\n",
       "    <tr>\n",
       "      <th>2</th>\n",
       "      <td>163461241</td>\n",
       "      <td>3043568</td>\n",
       "      <td>160417673</td>\n",
       "    </tr>\n",
       "  </tbody>\n",
       "</table>\n",
       "</div>"
      ],
      "text/plain": [
       "         YES       NO     Result\n",
       "0  230219228  5092460  225126768\n",
       "1  183378045  7613714  175764331\n",
       "2  163461241  3043568  160417673"
      ]
     },
     "metadata": {},
     "output_type": "display_data"
    },
    {
     "name": "stdout",
     "output_type": "stream",
     "text": [
      ">CHALLENGE: DAOs ❤ Cardano\n"
     ]
    },
    {
     "data": {
      "text/html": [
       "<div>\n",
       "<style scoped>\n",
       "    .dataframe tbody tr th:only-of-type {\n",
       "        vertical-align: middle;\n",
       "    }\n",
       "\n",
       "    .dataframe tbody tr th {\n",
       "        vertical-align: top;\n",
       "    }\n",
       "\n",
       "    .dataframe thead th {\n",
       "        text-align: right;\n",
       "    }\n",
       "</style>\n",
       "<table border=\"1\" class=\"dataframe\">\n",
       "  <thead>\n",
       "    <tr style=\"text-align: right;\">\n",
       "      <th></th>\n",
       "      <th>YES</th>\n",
       "      <th>NO</th>\n",
       "      <th>Result</th>\n",
       "    </tr>\n",
       "  </thead>\n",
       "  <tbody>\n",
       "    <tr>\n",
       "      <th>0</th>\n",
       "      <td>220657053</td>\n",
       "      <td>2080890</td>\n",
       "      <td>218576163</td>\n",
       "    </tr>\n",
       "    <tr>\n",
       "      <th>1</th>\n",
       "      <td>208245435</td>\n",
       "      <td>2824133</td>\n",
       "      <td>205421302</td>\n",
       "    </tr>\n",
       "    <tr>\n",
       "      <th>2</th>\n",
       "      <td>151536528</td>\n",
       "      <td>1305407</td>\n",
       "      <td>150231121</td>\n",
       "    </tr>\n",
       "  </tbody>\n",
       "</table>\n",
       "</div>"
      ],
      "text/plain": [
       "         YES       NO     Result\n",
       "0  220657053  2080890  218576163\n",
       "1  208245435  2824133  205421302\n",
       "2  151536528  1305407  150231121"
      ]
     },
     "metadata": {},
     "output_type": "display_data"
    },
    {
     "name": "stdout",
     "output_type": "stream",
     "text": [
      ">CHALLENGE: DApps & Integrations\n"
     ]
    },
    {
     "data": {
      "text/html": [
       "<div>\n",
       "<style scoped>\n",
       "    .dataframe tbody tr th:only-of-type {\n",
       "        vertical-align: middle;\n",
       "    }\n",
       "\n",
       "    .dataframe tbody tr th {\n",
       "        vertical-align: top;\n",
       "    }\n",
       "\n",
       "    .dataframe thead th {\n",
       "        text-align: right;\n",
       "    }\n",
       "</style>\n",
       "<table border=\"1\" class=\"dataframe\">\n",
       "  <thead>\n",
       "    <tr style=\"text-align: right;\">\n",
       "      <th></th>\n",
       "      <th>YES</th>\n",
       "      <th>NO</th>\n",
       "      <th>Result</th>\n",
       "    </tr>\n",
       "  </thead>\n",
       "  <tbody>\n",
       "    <tr>\n",
       "      <th>0</th>\n",
       "      <td>229711277</td>\n",
       "      <td>6106817</td>\n",
       "      <td>223604460</td>\n",
       "    </tr>\n",
       "    <tr>\n",
       "      <th>1</th>\n",
       "      <td>192932440</td>\n",
       "      <td>4443349</td>\n",
       "      <td>188489091</td>\n",
       "    </tr>\n",
       "    <tr>\n",
       "      <th>2</th>\n",
       "      <td>167266392</td>\n",
       "      <td>4282581</td>\n",
       "      <td>162983811</td>\n",
       "    </tr>\n",
       "  </tbody>\n",
       "</table>\n",
       "</div>"
      ],
      "text/plain": [
       "         YES       NO     Result\n",
       "0  229711277  6106817  223604460\n",
       "1  192932440  4443349  188489091\n",
       "2  167266392  4282581  162983811"
      ]
     },
     "metadata": {},
     "output_type": "display_data"
    },
    {
     "name": "stdout",
     "output_type": "stream",
     "text": [
      ">CHALLENGE: Disarm cyber disinformation att\n"
     ]
    },
    {
     "data": {
      "text/html": [
       "<div>\n",
       "<style scoped>\n",
       "    .dataframe tbody tr th:only-of-type {\n",
       "        vertical-align: middle;\n",
       "    }\n",
       "\n",
       "    .dataframe tbody tr th {\n",
       "        vertical-align: top;\n",
       "    }\n",
       "\n",
       "    .dataframe thead th {\n",
       "        text-align: right;\n",
       "    }\n",
       "</style>\n",
       "<table border=\"1\" class=\"dataframe\">\n",
       "  <thead>\n",
       "    <tr style=\"text-align: right;\">\n",
       "      <th></th>\n",
       "      <th>YES</th>\n",
       "      <th>NO</th>\n",
       "      <th>Result</th>\n",
       "    </tr>\n",
       "  </thead>\n",
       "  <tbody>\n",
       "    <tr>\n",
       "      <th>0</th>\n",
       "      <td>251099486</td>\n",
       "      <td>2208982</td>\n",
       "      <td>248890504</td>\n",
       "    </tr>\n",
       "    <tr>\n",
       "      <th>1</th>\n",
       "      <td>160751531</td>\n",
       "      <td>3714248</td>\n",
       "      <td>157037283</td>\n",
       "    </tr>\n",
       "    <tr>\n",
       "      <th>2</th>\n",
       "      <td>142915932</td>\n",
       "      <td>11429946</td>\n",
       "      <td>131485986</td>\n",
       "    </tr>\n",
       "  </tbody>\n",
       "</table>\n",
       "</div>"
      ],
      "text/plain": [
       "         YES        NO     Result\n",
       "0  251099486   2208982  248890504\n",
       "1  160751531   3714248  157037283\n",
       "2  142915932  11429946  131485986"
      ]
     },
     "metadata": {},
     "output_type": "display_data"
    },
    {
     "name": "stdout",
     "output_type": "stream",
     "text": [
      ">CHALLENGE: Gamers On-Chained\n"
     ]
    },
    {
     "data": {
      "text/html": [
       "<div>\n",
       "<style scoped>\n",
       "    .dataframe tbody tr th:only-of-type {\n",
       "        vertical-align: middle;\n",
       "    }\n",
       "\n",
       "    .dataframe tbody tr th {\n",
       "        vertical-align: top;\n",
       "    }\n",
       "\n",
       "    .dataframe thead th {\n",
       "        text-align: right;\n",
       "    }\n",
       "</style>\n",
       "<table border=\"1\" class=\"dataframe\">\n",
       "  <thead>\n",
       "    <tr style=\"text-align: right;\">\n",
       "      <th></th>\n",
       "      <th>YES</th>\n",
       "      <th>NO</th>\n",
       "      <th>Result</th>\n",
       "    </tr>\n",
       "  </thead>\n",
       "  <tbody>\n",
       "    <tr>\n",
       "      <th>0</th>\n",
       "      <td>182708553</td>\n",
       "      <td>2669545</td>\n",
       "      <td>180039008</td>\n",
       "    </tr>\n",
       "    <tr>\n",
       "      <th>1</th>\n",
       "      <td>155971118</td>\n",
       "      <td>4885876</td>\n",
       "      <td>151085242</td>\n",
       "    </tr>\n",
       "    <tr>\n",
       "      <th>2</th>\n",
       "      <td>148875069</td>\n",
       "      <td>5262389</td>\n",
       "      <td>143612680</td>\n",
       "    </tr>\n",
       "  </tbody>\n",
       "</table>\n",
       "</div>"
      ],
      "text/plain": [
       "         YES       NO     Result\n",
       "0  182708553  2669545  180039008\n",
       "1  155971118  4885876  151085242\n",
       "2  148875069  5262389  143612680"
      ]
     },
     "metadata": {},
     "output_type": "display_data"
    },
    {
     "name": "stdout",
     "output_type": "stream",
     "text": [
      ">CHALLENGE: Global Sustainable Indep. SPOs\n"
     ]
    },
    {
     "data": {
      "text/html": [
       "<div>\n",
       "<style scoped>\n",
       "    .dataframe tbody tr th:only-of-type {\n",
       "        vertical-align: middle;\n",
       "    }\n",
       "\n",
       "    .dataframe tbody tr th {\n",
       "        vertical-align: top;\n",
       "    }\n",
       "\n",
       "    .dataframe thead th {\n",
       "        text-align: right;\n",
       "    }\n",
       "</style>\n",
       "<table border=\"1\" class=\"dataframe\">\n",
       "  <thead>\n",
       "    <tr style=\"text-align: right;\">\n",
       "      <th></th>\n",
       "      <th>YES</th>\n",
       "      <th>NO</th>\n",
       "      <th>Result</th>\n",
       "    </tr>\n",
       "  </thead>\n",
       "  <tbody>\n",
       "    <tr>\n",
       "      <th>0</th>\n",
       "      <td>110823223</td>\n",
       "      <td>2204682</td>\n",
       "      <td>108618541</td>\n",
       "    </tr>\n",
       "    <tr>\n",
       "      <th>1</th>\n",
       "      <td>88733270</td>\n",
       "      <td>7195835</td>\n",
       "      <td>81537435</td>\n",
       "    </tr>\n",
       "    <tr>\n",
       "      <th>2</th>\n",
       "      <td>84538499</td>\n",
       "      <td>5352764</td>\n",
       "      <td>79185735</td>\n",
       "    </tr>\n",
       "  </tbody>\n",
       "</table>\n",
       "</div>"
      ],
      "text/plain": [
       "         YES       NO     Result\n",
       "0  110823223  2204682  108618541\n",
       "1   88733270  7195835   81537435\n",
       "2   84538499  5352764   79185735"
      ]
     },
     "metadata": {},
     "output_type": "display_data"
    },
    {
     "name": "stdout",
     "output_type": "stream",
     "text": [
      ">CHALLENGE: Grow Latin America, Grow Cardan\n"
     ]
    },
    {
     "data": {
      "text/html": [
       "<div>\n",
       "<style scoped>\n",
       "    .dataframe tbody tr th:only-of-type {\n",
       "        vertical-align: middle;\n",
       "    }\n",
       "\n",
       "    .dataframe tbody tr th {\n",
       "        vertical-align: top;\n",
       "    }\n",
       "\n",
       "    .dataframe thead th {\n",
       "        text-align: right;\n",
       "    }\n",
       "</style>\n",
       "<table border=\"1\" class=\"dataframe\">\n",
       "  <thead>\n",
       "    <tr style=\"text-align: right;\">\n",
       "      <th></th>\n",
       "      <th>YES</th>\n",
       "      <th>NO</th>\n",
       "      <th>Result</th>\n",
       "    </tr>\n",
       "  </thead>\n",
       "  <tbody>\n",
       "    <tr>\n",
       "      <th>0</th>\n",
       "      <td>162412637</td>\n",
       "      <td>1679736</td>\n",
       "      <td>160732901</td>\n",
       "    </tr>\n",
       "    <tr>\n",
       "      <th>1</th>\n",
       "      <td>126729658</td>\n",
       "      <td>986384</td>\n",
       "      <td>125743274</td>\n",
       "    </tr>\n",
       "    <tr>\n",
       "      <th>2</th>\n",
       "      <td>121516925</td>\n",
       "      <td>4002087</td>\n",
       "      <td>117514838</td>\n",
       "    </tr>\n",
       "  </tbody>\n",
       "</table>\n",
       "</div>"
      ],
      "text/plain": [
       "         YES       NO     Result\n",
       "0  162412637  1679736  160732901\n",
       "1  126729658   986384  125743274\n",
       "2  121516925  4002087  117514838"
      ]
     },
     "metadata": {},
     "output_type": "display_data"
    },
    {
     "name": "stdout",
     "output_type": "stream",
     "text": [
      ">CHALLENGE: Improve and Grow Auditability\n"
     ]
    },
    {
     "data": {
      "text/html": [
       "<div>\n",
       "<style scoped>\n",
       "    .dataframe tbody tr th:only-of-type {\n",
       "        vertical-align: middle;\n",
       "    }\n",
       "\n",
       "    .dataframe tbody tr th {\n",
       "        vertical-align: top;\n",
       "    }\n",
       "\n",
       "    .dataframe thead th {\n",
       "        text-align: right;\n",
       "    }\n",
       "</style>\n",
       "<table border=\"1\" class=\"dataframe\">\n",
       "  <thead>\n",
       "    <tr style=\"text-align: right;\">\n",
       "      <th></th>\n",
       "      <th>YES</th>\n",
       "      <th>NO</th>\n",
       "      <th>Result</th>\n",
       "    </tr>\n",
       "  </thead>\n",
       "  <tbody>\n",
       "    <tr>\n",
       "      <th>0</th>\n",
       "      <td>123247980</td>\n",
       "      <td>1769307</td>\n",
       "      <td>121478673</td>\n",
       "    </tr>\n",
       "    <tr>\n",
       "      <th>1</th>\n",
       "      <td>106897295</td>\n",
       "      <td>1457504</td>\n",
       "      <td>105439791</td>\n",
       "    </tr>\n",
       "    <tr>\n",
       "      <th>2</th>\n",
       "      <td>89440334</td>\n",
       "      <td>1188175</td>\n",
       "      <td>88252159</td>\n",
       "    </tr>\n",
       "  </tbody>\n",
       "</table>\n",
       "</div>"
      ],
      "text/plain": [
       "         YES       NO     Result\n",
       "0  123247980  1769307  121478673\n",
       "1  106897295  1457504  105439791\n",
       "2   89440334  1188175   88252159"
      ]
     },
     "metadata": {},
     "output_type": "display_data"
    },
    {
     "name": "stdout",
     "output_type": "stream",
     "text": [
      ">CHALLENGE: Lobbying for favorable legislat\n"
     ]
    },
    {
     "data": {
      "text/html": [
       "<div>\n",
       "<style scoped>\n",
       "    .dataframe tbody tr th:only-of-type {\n",
       "        vertical-align: middle;\n",
       "    }\n",
       "\n",
       "    .dataframe tbody tr th {\n",
       "        vertical-align: top;\n",
       "    }\n",
       "\n",
       "    .dataframe thead th {\n",
       "        text-align: right;\n",
       "    }\n",
       "</style>\n",
       "<table border=\"1\" class=\"dataframe\">\n",
       "  <thead>\n",
       "    <tr style=\"text-align: right;\">\n",
       "      <th></th>\n",
       "      <th>YES</th>\n",
       "      <th>NO</th>\n",
       "      <th>Result</th>\n",
       "    </tr>\n",
       "  </thead>\n",
       "  <tbody>\n",
       "    <tr>\n",
       "      <th>0</th>\n",
       "      <td>242837633</td>\n",
       "      <td>4324222</td>\n",
       "      <td>238513411</td>\n",
       "    </tr>\n",
       "    <tr>\n",
       "      <th>1</th>\n",
       "      <td>185973774</td>\n",
       "      <td>7022171</td>\n",
       "      <td>178951603</td>\n",
       "    </tr>\n",
       "    <tr>\n",
       "      <th>2</th>\n",
       "      <td>190430875</td>\n",
       "      <td>12904681</td>\n",
       "      <td>177526194</td>\n",
       "    </tr>\n",
       "  </tbody>\n",
       "</table>\n",
       "</div>"
      ],
      "text/plain": [
       "         YES        NO     Result\n",
       "0  242837633   4324222  238513411\n",
       "1  185973774   7022171  178951603\n",
       "2  190430875  12904681  177526194"
      ]
     },
     "metadata": {},
     "output_type": "display_data"
    },
    {
     "name": "stdout",
     "output_type": "stream",
     "text": [
      ">CHALLENGE: MiniLow-Budget Dapps & Integrat\n"
     ]
    },
    {
     "data": {
      "text/html": [
       "<div>\n",
       "<style scoped>\n",
       "    .dataframe tbody tr th:only-of-type {\n",
       "        vertical-align: middle;\n",
       "    }\n",
       "\n",
       "    .dataframe tbody tr th {\n",
       "        vertical-align: top;\n",
       "    }\n",
       "\n",
       "    .dataframe thead th {\n",
       "        text-align: right;\n",
       "    }\n",
       "</style>\n",
       "<table border=\"1\" class=\"dataframe\">\n",
       "  <thead>\n",
       "    <tr style=\"text-align: right;\">\n",
       "      <th></th>\n",
       "      <th>YES</th>\n",
       "      <th>NO</th>\n",
       "      <th>Result</th>\n",
       "    </tr>\n",
       "  </thead>\n",
       "  <tbody>\n",
       "    <tr>\n",
       "      <th>0</th>\n",
       "      <td>109466101</td>\n",
       "      <td>12370938</td>\n",
       "      <td>97095163</td>\n",
       "    </tr>\n",
       "    <tr>\n",
       "      <th>1</th>\n",
       "      <td>94980369</td>\n",
       "      <td>2070922</td>\n",
       "      <td>92909447</td>\n",
       "    </tr>\n",
       "    <tr>\n",
       "      <th>2</th>\n",
       "      <td>87684778</td>\n",
       "      <td>3025214</td>\n",
       "      <td>84659564</td>\n",
       "    </tr>\n",
       "  </tbody>\n",
       "</table>\n",
       "</div>"
      ],
      "text/plain": [
       "         YES        NO    Result\n",
       "0  109466101  12370938  97095163\n",
       "1   94980369   2070922  92909447\n",
       "2   87684778   3025214  84659564"
      ]
     },
     "metadata": {},
     "output_type": "display_data"
    },
    {
     "name": "stdout",
     "output_type": "stream",
     "text": [
      ">CHALLENGE: Miscellaneous Challenge\n"
     ]
    },
    {
     "data": {
      "text/html": [
       "<div>\n",
       "<style scoped>\n",
       "    .dataframe tbody tr th:only-of-type {\n",
       "        vertical-align: middle;\n",
       "    }\n",
       "\n",
       "    .dataframe tbody tr th {\n",
       "        vertical-align: top;\n",
       "    }\n",
       "\n",
       "    .dataframe thead th {\n",
       "        text-align: right;\n",
       "    }\n",
       "</style>\n",
       "<table border=\"1\" class=\"dataframe\">\n",
       "  <thead>\n",
       "    <tr style=\"text-align: right;\">\n",
       "      <th></th>\n",
       "      <th>YES</th>\n",
       "      <th>NO</th>\n",
       "      <th>Result</th>\n",
       "    </tr>\n",
       "  </thead>\n",
       "  <tbody>\n",
       "    <tr>\n",
       "      <th>0</th>\n",
       "      <td>110392950</td>\n",
       "      <td>6341007</td>\n",
       "      <td>104051943</td>\n",
       "    </tr>\n",
       "    <tr>\n",
       "      <th>1</th>\n",
       "      <td>104219796</td>\n",
       "      <td>4769078</td>\n",
       "      <td>99450718</td>\n",
       "    </tr>\n",
       "    <tr>\n",
       "      <th>2</th>\n",
       "      <td>112760382</td>\n",
       "      <td>13980804</td>\n",
       "      <td>98779578</td>\n",
       "    </tr>\n",
       "  </tbody>\n",
       "</table>\n",
       "</div>"
      ],
      "text/plain": [
       "         YES        NO     Result\n",
       "0  110392950   6341007  104051943\n",
       "1  104219796   4769078   99450718\n",
       "2  112760382  13980804   98779578"
      ]
     },
     "metadata": {},
     "output_type": "display_data"
    },
    {
     "name": "stdout",
     "output_type": "stream",
     "text": [
      ">CHALLENGE: Multilingual resources\n"
     ]
    },
    {
     "data": {
      "text/html": [
       "<div>\n",
       "<style scoped>\n",
       "    .dataframe tbody tr th:only-of-type {\n",
       "        vertical-align: middle;\n",
       "    }\n",
       "\n",
       "    .dataframe tbody tr th {\n",
       "        vertical-align: top;\n",
       "    }\n",
       "\n",
       "    .dataframe thead th {\n",
       "        text-align: right;\n",
       "    }\n",
       "</style>\n",
       "<table border=\"1\" class=\"dataframe\">\n",
       "  <thead>\n",
       "    <tr style=\"text-align: right;\">\n",
       "      <th></th>\n",
       "      <th>YES</th>\n",
       "      <th>NO</th>\n",
       "      <th>Result</th>\n",
       "    </tr>\n",
       "  </thead>\n",
       "  <tbody>\n",
       "    <tr>\n",
       "      <th>0</th>\n",
       "      <td>116913654</td>\n",
       "      <td>1364103</td>\n",
       "      <td>115549551</td>\n",
       "    </tr>\n",
       "    <tr>\n",
       "      <th>1</th>\n",
       "      <td>110151578</td>\n",
       "      <td>2568509</td>\n",
       "      <td>107583069</td>\n",
       "    </tr>\n",
       "    <tr>\n",
       "      <th>2</th>\n",
       "      <td>104962574</td>\n",
       "      <td>2662333</td>\n",
       "      <td>102300241</td>\n",
       "    </tr>\n",
       "  </tbody>\n",
       "</table>\n",
       "</div>"
      ],
      "text/plain": [
       "         YES       NO     Result\n",
       "0  116913654  1364103  115549551\n",
       "1  110151578  2568509  107583069\n",
       "2  104962574  2662333  102300241"
      ]
     },
     "metadata": {},
     "output_type": "display_data"
    },
    {
     "name": "stdout",
     "output_type": "stream",
     "text": [
      ">CHALLENGE: Nation Building Dapps\n"
     ]
    },
    {
     "data": {
      "text/html": [
       "<div>\n",
       "<style scoped>\n",
       "    .dataframe tbody tr th:only-of-type {\n",
       "        vertical-align: middle;\n",
       "    }\n",
       "\n",
       "    .dataframe tbody tr th {\n",
       "        vertical-align: top;\n",
       "    }\n",
       "\n",
       "    .dataframe thead th {\n",
       "        text-align: right;\n",
       "    }\n",
       "</style>\n",
       "<table border=\"1\" class=\"dataframe\">\n",
       "  <thead>\n",
       "    <tr style=\"text-align: right;\">\n",
       "      <th></th>\n",
       "      <th>YES</th>\n",
       "      <th>NO</th>\n",
       "      <th>Result</th>\n",
       "    </tr>\n",
       "  </thead>\n",
       "  <tbody>\n",
       "    <tr>\n",
       "      <th>0</th>\n",
       "      <td>174963621</td>\n",
       "      <td>5798185</td>\n",
       "      <td>169165436</td>\n",
       "    </tr>\n",
       "    <tr>\n",
       "      <th>1</th>\n",
       "      <td>179605121</td>\n",
       "      <td>15430995</td>\n",
       "      <td>164174126</td>\n",
       "    </tr>\n",
       "    <tr>\n",
       "      <th>2</th>\n",
       "      <td>163935684</td>\n",
       "      <td>4395870</td>\n",
       "      <td>159539814</td>\n",
       "    </tr>\n",
       "  </tbody>\n",
       "</table>\n",
       "</div>"
      ],
      "text/plain": [
       "         YES        NO     Result\n",
       "0  174963621   5798185  169165436\n",
       "1  179605121  15430995  164174126\n",
       "2  163935684   4395870  159539814"
      ]
     },
     "metadata": {},
     "output_type": "display_data"
    },
    {
     "name": "stdout",
     "output_type": "stream",
     "text": [
      ">CHALLENGE: New SPO Business Opportunities\n"
     ]
    },
    {
     "data": {
      "text/html": [
       "<div>\n",
       "<style scoped>\n",
       "    .dataframe tbody tr th:only-of-type {\n",
       "        vertical-align: middle;\n",
       "    }\n",
       "\n",
       "    .dataframe tbody tr th {\n",
       "        vertical-align: top;\n",
       "    }\n",
       "\n",
       "    .dataframe thead th {\n",
       "        text-align: right;\n",
       "    }\n",
       "</style>\n",
       "<table border=\"1\" class=\"dataframe\">\n",
       "  <thead>\n",
       "    <tr style=\"text-align: right;\">\n",
       "      <th></th>\n",
       "      <th>YES</th>\n",
       "      <th>NO</th>\n",
       "      <th>Result</th>\n",
       "    </tr>\n",
       "  </thead>\n",
       "  <tbody>\n",
       "    <tr>\n",
       "      <th>0</th>\n",
       "      <td>162107576</td>\n",
       "      <td>8788906</td>\n",
       "      <td>153318670</td>\n",
       "    </tr>\n",
       "    <tr>\n",
       "      <th>1</th>\n",
       "      <td>103162233</td>\n",
       "      <td>8190697</td>\n",
       "      <td>94971536</td>\n",
       "    </tr>\n",
       "    <tr>\n",
       "      <th>2</th>\n",
       "      <td>107774849</td>\n",
       "      <td>17473912</td>\n",
       "      <td>90300937</td>\n",
       "    </tr>\n",
       "  </tbody>\n",
       "</table>\n",
       "</div>"
      ],
      "text/plain": [
       "         YES        NO     Result\n",
       "0  162107576   8788906  153318670\n",
       "1  103162233   8190697   94971536\n",
       "2  107774849  17473912   90300937"
      ]
     },
     "metadata": {},
     "output_type": "display_data"
    },
    {
     "name": "stdout",
     "output_type": "stream",
     "text": [
      ">CHALLENGE: Open Source Developer Ecosystem\n"
     ]
    },
    {
     "data": {
      "text/html": [
       "<div>\n",
       "<style scoped>\n",
       "    .dataframe tbody tr th:only-of-type {\n",
       "        vertical-align: middle;\n",
       "    }\n",
       "\n",
       "    .dataframe tbody tr th {\n",
       "        vertical-align: top;\n",
       "    }\n",
       "\n",
       "    .dataframe thead th {\n",
       "        text-align: right;\n",
       "    }\n",
       "</style>\n",
       "<table border=\"1\" class=\"dataframe\">\n",
       "  <thead>\n",
       "    <tr style=\"text-align: right;\">\n",
       "      <th></th>\n",
       "      <th>YES</th>\n",
       "      <th>NO</th>\n",
       "      <th>Result</th>\n",
       "    </tr>\n",
       "  </thead>\n",
       "  <tbody>\n",
       "    <tr>\n",
       "      <th>0</th>\n",
       "      <td>216467733</td>\n",
       "      <td>8867505</td>\n",
       "      <td>207600228</td>\n",
       "    </tr>\n",
       "    <tr>\n",
       "      <th>1</th>\n",
       "      <td>177658020</td>\n",
       "      <td>22593115</td>\n",
       "      <td>155064905</td>\n",
       "    </tr>\n",
       "    <tr>\n",
       "      <th>2</th>\n",
       "      <td>160386994</td>\n",
       "      <td>9793632</td>\n",
       "      <td>150593362</td>\n",
       "    </tr>\n",
       "  </tbody>\n",
       "</table>\n",
       "</div>"
      ],
      "text/plain": [
       "         YES        NO     Result\n",
       "0  216467733   8867505  207600228\n",
       "1  177658020  22593115  155064905\n",
       "2  160386994   9793632  150593362"
      ]
     },
     "metadata": {},
     "output_type": "display_data"
    },
    {
     "name": "stdout",
     "output_type": "stream",
     "text": [
      ">CHALLENGE: Scale-UP Cardanos Community Hub\n"
     ]
    },
    {
     "data": {
      "text/html": [
       "<div>\n",
       "<style scoped>\n",
       "    .dataframe tbody tr th:only-of-type {\n",
       "        vertical-align: middle;\n",
       "    }\n",
       "\n",
       "    .dataframe tbody tr th {\n",
       "        vertical-align: top;\n",
       "    }\n",
       "\n",
       "    .dataframe thead th {\n",
       "        text-align: right;\n",
       "    }\n",
       "</style>\n",
       "<table border=\"1\" class=\"dataframe\">\n",
       "  <thead>\n",
       "    <tr style=\"text-align: right;\">\n",
       "      <th></th>\n",
       "      <th>YES</th>\n",
       "      <th>NO</th>\n",
       "      <th>Result</th>\n",
       "    </tr>\n",
       "  </thead>\n",
       "  <tbody>\n",
       "    <tr>\n",
       "      <th>0</th>\n",
       "      <td>211089963</td>\n",
       "      <td>3656788</td>\n",
       "      <td>207433175</td>\n",
       "    </tr>\n",
       "    <tr>\n",
       "      <th>1</th>\n",
       "      <td>166625150</td>\n",
       "      <td>4849345</td>\n",
       "      <td>161775805</td>\n",
       "    </tr>\n",
       "    <tr>\n",
       "      <th>2</th>\n",
       "      <td>152083302</td>\n",
       "      <td>3719740</td>\n",
       "      <td>148363562</td>\n",
       "    </tr>\n",
       "  </tbody>\n",
       "</table>\n",
       "</div>"
      ],
      "text/plain": [
       "         YES       NO     Result\n",
       "0  211089963  3656788  207433175\n",
       "1  166625150  4849345  161775805\n",
       "2  152083302  3719740  148363562"
      ]
     },
     "metadata": {},
     "output_type": "display_data"
    },
    {
     "name": "stdout",
     "output_type": "stream",
     "text": [
      ">CHALLENGE: Seeding Cardanos Grassroots DeF\n"
     ]
    },
    {
     "data": {
      "text/html": [
       "<div>\n",
       "<style scoped>\n",
       "    .dataframe tbody tr th:only-of-type {\n",
       "        vertical-align: middle;\n",
       "    }\n",
       "\n",
       "    .dataframe tbody tr th {\n",
       "        vertical-align: top;\n",
       "    }\n",
       "\n",
       "    .dataframe thead th {\n",
       "        text-align: right;\n",
       "    }\n",
       "</style>\n",
       "<table border=\"1\" class=\"dataframe\">\n",
       "  <thead>\n",
       "    <tr style=\"text-align: right;\">\n",
       "      <th></th>\n",
       "      <th>YES</th>\n",
       "      <th>NO</th>\n",
       "      <th>Result</th>\n",
       "    </tr>\n",
       "  </thead>\n",
       "  <tbody>\n",
       "    <tr>\n",
       "      <th>0</th>\n",
       "      <td>194175663</td>\n",
       "      <td>2596764</td>\n",
       "      <td>191578899</td>\n",
       "    </tr>\n",
       "    <tr>\n",
       "      <th>1</th>\n",
       "      <td>168758501</td>\n",
       "      <td>2456039</td>\n",
       "      <td>166302462</td>\n",
       "    </tr>\n",
       "    <tr>\n",
       "      <th>2</th>\n",
       "      <td>113784230</td>\n",
       "      <td>3750169</td>\n",
       "      <td>110034061</td>\n",
       "    </tr>\n",
       "  </tbody>\n",
       "</table>\n",
       "</div>"
      ],
      "text/plain": [
       "         YES       NO     Result\n",
       "0  194175663  2596764  191578899\n",
       "1  168758501  2456039  166302462\n",
       "2  113784230  3750169  110034061"
      ]
     },
     "metadata": {},
     "output_type": "display_data"
    },
    {
     "name": "stdout",
     "output_type": "stream",
     "text": [
      ">CHALLENGE: Fund8 challenge setting\n"
     ]
    },
    {
     "data": {
      "text/html": [
       "<div>\n",
       "<style scoped>\n",
       "    .dataframe tbody tr th:only-of-type {\n",
       "        vertical-align: middle;\n",
       "    }\n",
       "\n",
       "    .dataframe tbody tr th {\n",
       "        vertical-align: top;\n",
       "    }\n",
       "\n",
       "    .dataframe thead th {\n",
       "        text-align: right;\n",
       "    }\n",
       "</style>\n",
       "<table border=\"1\" class=\"dataframe\">\n",
       "  <thead>\n",
       "    <tr style=\"text-align: right;\">\n",
       "      <th></th>\n",
       "      <th>YES</th>\n",
       "      <th>NO</th>\n",
       "      <th>Result</th>\n",
       "    </tr>\n",
       "  </thead>\n",
       "  <tbody>\n",
       "    <tr>\n",
       "      <th>0</th>\n",
       "      <td>222760136</td>\n",
       "      <td>4041667</td>\n",
       "      <td>218718469</td>\n",
       "    </tr>\n",
       "    <tr>\n",
       "      <th>1</th>\n",
       "      <td>174132281</td>\n",
       "      <td>6229949</td>\n",
       "      <td>167902332</td>\n",
       "    </tr>\n",
       "    <tr>\n",
       "      <th>2</th>\n",
       "      <td>168796638</td>\n",
       "      <td>14071590</td>\n",
       "      <td>154725048</td>\n",
       "    </tr>\n",
       "  </tbody>\n",
       "</table>\n",
       "</div>"
      ],
      "text/plain": [
       "         YES        NO     Result\n",
       "0  222760136   4041667  218718469\n",
       "1  174132281   6229949  167902332\n",
       "2  168796638  14071590  154725048"
      ]
     },
     "metadata": {},
     "output_type": "display_data"
    },
    {
     "name": "stdout",
     "output_type": "stream",
     "text": [
      ">CHALLENGE: Sponsored by leftovers\n"
     ]
    },
    {
     "data": {
      "text/html": [
       "<div>\n",
       "<style scoped>\n",
       "    .dataframe tbody tr th:only-of-type {\n",
       "        vertical-align: middle;\n",
       "    }\n",
       "\n",
       "    .dataframe tbody tr th {\n",
       "        vertical-align: top;\n",
       "    }\n",
       "\n",
       "    .dataframe thead th {\n",
       "        text-align: right;\n",
       "    }\n",
       "</style>\n",
       "<table border=\"1\" class=\"dataframe\">\n",
       "  <thead>\n",
       "    <tr style=\"text-align: right;\">\n",
       "      <th></th>\n",
       "      <th>YES</th>\n",
       "      <th>NO</th>\n",
       "      <th>Result</th>\n",
       "    </tr>\n",
       "  </thead>\n",
       "  <tbody>\n",
       "    <tr>\n",
       "      <th>0</th>\n",
       "      <td>160386994</td>\n",
       "      <td>9793632</td>\n",
       "      <td>150593362</td>\n",
       "    </tr>\n",
       "    <tr>\n",
       "      <th>1</th>\n",
       "      <td>141788746</td>\n",
       "      <td>5284717</td>\n",
       "      <td>136504029</td>\n",
       "    </tr>\n",
       "    <tr>\n",
       "      <th>2</th>\n",
       "      <td>131157592</td>\n",
       "      <td>5409131</td>\n",
       "      <td>125748461</td>\n",
       "    </tr>\n",
       "  </tbody>\n",
       "</table>\n",
       "</div>"
      ],
      "text/plain": [
       "         YES       NO     Result\n",
       "0  160386994  9793632  150593362\n",
       "1  141788746  5284717  136504029\n",
       "2  131157592  5409131  125748461"
      ]
     },
     "metadata": {},
     "output_type": "display_data"
    },
    {
     "name": "stdout",
     "output_type": "stream",
     "text": [
      "\n",
      " >> FUND: f8\n",
      ">CHALLENGE: Accelerate Decentralized Identi\n"
     ]
    },
    {
     "data": {
      "text/html": [
       "<div>\n",
       "<style scoped>\n",
       "    .dataframe tbody tr th:only-of-type {\n",
       "        vertical-align: middle;\n",
       "    }\n",
       "\n",
       "    .dataframe tbody tr th {\n",
       "        vertical-align: top;\n",
       "    }\n",
       "\n",
       "    .dataframe thead th {\n",
       "        text-align: right;\n",
       "    }\n",
       "</style>\n",
       "<table border=\"1\" class=\"dataframe\">\n",
       "  <thead>\n",
       "    <tr style=\"text-align: right;\">\n",
       "      <th></th>\n",
       "      <th>YES</th>\n",
       "      <th>NO</th>\n",
       "      <th>Result</th>\n",
       "    </tr>\n",
       "  </thead>\n",
       "  <tbody>\n",
       "    <tr>\n",
       "      <th>0</th>\n",
       "      <td>148830926</td>\n",
       "      <td>562903</td>\n",
       "      <td>148268023</td>\n",
       "    </tr>\n",
       "    <tr>\n",
       "      <th>1</th>\n",
       "      <td>132934798</td>\n",
       "      <td>1985422</td>\n",
       "      <td>130949376</td>\n",
       "    </tr>\n",
       "    <tr>\n",
       "      <th>2</th>\n",
       "      <td>125276050</td>\n",
       "      <td>981839</td>\n",
       "      <td>124294211</td>\n",
       "    </tr>\n",
       "  </tbody>\n",
       "</table>\n",
       "</div>"
      ],
      "text/plain": [
       "         YES       NO     Result\n",
       "0  148830926   562903  148268023\n",
       "1  132934798  1985422  130949376\n",
       "2  125276050   981839  124294211"
      ]
     },
     "metadata": {},
     "output_type": "display_data"
    },
    {
     "name": "stdout",
     "output_type": "stream",
     "text": [
      ">CHALLENGE: Business Solutions (B2B & B2C)\n"
     ]
    },
    {
     "data": {
      "text/html": [
       "<div>\n",
       "<style scoped>\n",
       "    .dataframe tbody tr th:only-of-type {\n",
       "        vertical-align: middle;\n",
       "    }\n",
       "\n",
       "    .dataframe tbody tr th {\n",
       "        vertical-align: top;\n",
       "    }\n",
       "\n",
       "    .dataframe thead th {\n",
       "        text-align: right;\n",
       "    }\n",
       "</style>\n",
       "<table border=\"1\" class=\"dataframe\">\n",
       "  <thead>\n",
       "    <tr style=\"text-align: right;\">\n",
       "      <th></th>\n",
       "      <th>YES</th>\n",
       "      <th>NO</th>\n",
       "      <th>Result</th>\n",
       "    </tr>\n",
       "  </thead>\n",
       "  <tbody>\n",
       "    <tr>\n",
       "      <th>0</th>\n",
       "      <td>232855092</td>\n",
       "      <td>7677576</td>\n",
       "      <td>225177516</td>\n",
       "    </tr>\n",
       "    <tr>\n",
       "      <th>1</th>\n",
       "      <td>137726985</td>\n",
       "      <td>8585321</td>\n",
       "      <td>129141664</td>\n",
       "    </tr>\n",
       "    <tr>\n",
       "      <th>2</th>\n",
       "      <td>115979322</td>\n",
       "      <td>6412601</td>\n",
       "      <td>109566721</td>\n",
       "    </tr>\n",
       "  </tbody>\n",
       "</table>\n",
       "</div>"
      ],
      "text/plain": [
       "         YES       NO     Result\n",
       "0  232855092  7677576  225177516\n",
       "1  137726985  8585321  129141664\n",
       "2  115979322  6412601  109566721"
      ]
     },
     "metadata": {},
     "output_type": "display_data"
    },
    {
     "name": "stdout",
     "output_type": "stream",
     "text": [
      ">CHALLENGE: Cardano scaling solutions\n"
     ]
    },
    {
     "data": {
      "text/html": [
       "<div>\n",
       "<style scoped>\n",
       "    .dataframe tbody tr th:only-of-type {\n",
       "        vertical-align: middle;\n",
       "    }\n",
       "\n",
       "    .dataframe tbody tr th {\n",
       "        vertical-align: top;\n",
       "    }\n",
       "\n",
       "    .dataframe thead th {\n",
       "        text-align: right;\n",
       "    }\n",
       "</style>\n",
       "<table border=\"1\" class=\"dataframe\">\n",
       "  <thead>\n",
       "    <tr style=\"text-align: right;\">\n",
       "      <th></th>\n",
       "      <th>YES</th>\n",
       "      <th>NO</th>\n",
       "      <th>Result</th>\n",
       "    </tr>\n",
       "  </thead>\n",
       "  <tbody>\n",
       "    <tr>\n",
       "      <th>0</th>\n",
       "      <td>179286999</td>\n",
       "      <td>16702549</td>\n",
       "      <td>162584450</td>\n",
       "    </tr>\n",
       "    <tr>\n",
       "      <th>1</th>\n",
       "      <td>169484476</td>\n",
       "      <td>14742215</td>\n",
       "      <td>154742261</td>\n",
       "    </tr>\n",
       "    <tr>\n",
       "      <th>2</th>\n",
       "      <td>162936139</td>\n",
       "      <td>26399356</td>\n",
       "      <td>136536783</td>\n",
       "    </tr>\n",
       "  </tbody>\n",
       "</table>\n",
       "</div>"
      ],
      "text/plain": [
       "         YES        NO     Result\n",
       "0  179286999  16702549  162584450\n",
       "1  169484476  14742215  154742261\n",
       "2  162936139  26399356  136536783"
      ]
     },
     "metadata": {},
     "output_type": "display_data"
    },
    {
     "name": "stdout",
     "output_type": "stream",
     "text": [
      ">CHALLENGE: Community Advisor Improvements\n"
     ]
    },
    {
     "data": {
      "text/html": [
       "<div>\n",
       "<style scoped>\n",
       "    .dataframe tbody tr th:only-of-type {\n",
       "        vertical-align: middle;\n",
       "    }\n",
       "\n",
       "    .dataframe tbody tr th {\n",
       "        vertical-align: top;\n",
       "    }\n",
       "\n",
       "    .dataframe thead th {\n",
       "        text-align: right;\n",
       "    }\n",
       "</style>\n",
       "<table border=\"1\" class=\"dataframe\">\n",
       "  <thead>\n",
       "    <tr style=\"text-align: right;\">\n",
       "      <th></th>\n",
       "      <th>YES</th>\n",
       "      <th>NO</th>\n",
       "      <th>Result</th>\n",
       "    </tr>\n",
       "  </thead>\n",
       "  <tbody>\n",
       "    <tr>\n",
       "      <th>0</th>\n",
       "      <td>141205436</td>\n",
       "      <td>1778457</td>\n",
       "      <td>139426979</td>\n",
       "    </tr>\n",
       "    <tr>\n",
       "      <th>1</th>\n",
       "      <td>123004008</td>\n",
       "      <td>626978</td>\n",
       "      <td>122377030</td>\n",
       "    </tr>\n",
       "    <tr>\n",
       "      <th>2</th>\n",
       "      <td>121675363</td>\n",
       "      <td>10162876</td>\n",
       "      <td>111512487</td>\n",
       "    </tr>\n",
       "  </tbody>\n",
       "</table>\n",
       "</div>"
      ],
      "text/plain": [
       "         YES        NO     Result\n",
       "0  141205436   1778457  139426979\n",
       "1  123004008    626978  122377030\n",
       "2  121675363  10162876  111512487"
      ]
     },
     "metadata": {},
     "output_type": "display_data"
    },
    {
     "name": "stdout",
     "output_type": "stream",
     "text": [
      ">CHALLENGE: Cross-Chain Collaboration\n"
     ]
    },
    {
     "data": {
      "text/html": [
       "<div>\n",
       "<style scoped>\n",
       "    .dataframe tbody tr th:only-of-type {\n",
       "        vertical-align: middle;\n",
       "    }\n",
       "\n",
       "    .dataframe tbody tr th {\n",
       "        vertical-align: top;\n",
       "    }\n",
       "\n",
       "    .dataframe thead th {\n",
       "        text-align: right;\n",
       "    }\n",
       "</style>\n",
       "<table border=\"1\" class=\"dataframe\">\n",
       "  <thead>\n",
       "    <tr style=\"text-align: right;\">\n",
       "      <th></th>\n",
       "      <th>YES</th>\n",
       "      <th>NO</th>\n",
       "      <th>Result</th>\n",
       "    </tr>\n",
       "  </thead>\n",
       "  <tbody>\n",
       "    <tr>\n",
       "      <th>0</th>\n",
       "      <td>286181977</td>\n",
       "      <td>9841567</td>\n",
       "      <td>276340410</td>\n",
       "    </tr>\n",
       "    <tr>\n",
       "      <th>1</th>\n",
       "      <td>265279737</td>\n",
       "      <td>6266468</td>\n",
       "      <td>259013269</td>\n",
       "    </tr>\n",
       "    <tr>\n",
       "      <th>2</th>\n",
       "      <td>200506155</td>\n",
       "      <td>7252963</td>\n",
       "      <td>193253192</td>\n",
       "    </tr>\n",
       "  </tbody>\n",
       "</table>\n",
       "</div>"
      ],
      "text/plain": [
       "         YES       NO     Result\n",
       "0  286181977  9841567  276340410\n",
       "1  265279737  6266468  259013269\n",
       "2  200506155  7252963  193253192"
      ]
     },
     "metadata": {},
     "output_type": "display_data"
    },
    {
     "name": "stdout",
     "output_type": "stream",
     "text": [
      ">CHALLENGE: DApps and Integrations\n"
     ]
    },
    {
     "data": {
      "text/html": [
       "<div>\n",
       "<style scoped>\n",
       "    .dataframe tbody tr th:only-of-type {\n",
       "        vertical-align: middle;\n",
       "    }\n",
       "\n",
       "    .dataframe tbody tr th {\n",
       "        vertical-align: top;\n",
       "    }\n",
       "\n",
       "    .dataframe thead th {\n",
       "        text-align: right;\n",
       "    }\n",
       "</style>\n",
       "<table border=\"1\" class=\"dataframe\">\n",
       "  <thead>\n",
       "    <tr style=\"text-align: right;\">\n",
       "      <th></th>\n",
       "      <th>YES</th>\n",
       "      <th>NO</th>\n",
       "      <th>Result</th>\n",
       "    </tr>\n",
       "  </thead>\n",
       "  <tbody>\n",
       "    <tr>\n",
       "      <th>0</th>\n",
       "      <td>182671900</td>\n",
       "      <td>8667012</td>\n",
       "      <td>174004888</td>\n",
       "    </tr>\n",
       "    <tr>\n",
       "      <th>1</th>\n",
       "      <td>179859155</td>\n",
       "      <td>9639790</td>\n",
       "      <td>170219365</td>\n",
       "    </tr>\n",
       "    <tr>\n",
       "      <th>2</th>\n",
       "      <td>178967619</td>\n",
       "      <td>10141326</td>\n",
       "      <td>168826293</td>\n",
       "    </tr>\n",
       "  </tbody>\n",
       "</table>\n",
       "</div>"
      ],
      "text/plain": [
       "         YES        NO     Result\n",
       "0  182671900   8667012  174004888\n",
       "1  179859155   9639790  170219365\n",
       "2  178967619  10141326  168826293"
      ]
     },
     "metadata": {},
     "output_type": "display_data"
    },
    {
     "name": "stdout",
     "output_type": "stream",
     "text": [
      ">CHALLENGE: Developer Ecosystem\n"
     ]
    },
    {
     "data": {
      "text/html": [
       "<div>\n",
       "<style scoped>\n",
       "    .dataframe tbody tr th:only-of-type {\n",
       "        vertical-align: middle;\n",
       "    }\n",
       "\n",
       "    .dataframe tbody tr th {\n",
       "        vertical-align: top;\n",
       "    }\n",
       "\n",
       "    .dataframe thead th {\n",
       "        text-align: right;\n",
       "    }\n",
       "</style>\n",
       "<table border=\"1\" class=\"dataframe\">\n",
       "  <thead>\n",
       "    <tr style=\"text-align: right;\">\n",
       "      <th></th>\n",
       "      <th>YES</th>\n",
       "      <th>NO</th>\n",
       "      <th>Result</th>\n",
       "    </tr>\n",
       "  </thead>\n",
       "  <tbody>\n",
       "    <tr>\n",
       "      <th>0</th>\n",
       "      <td>363906224</td>\n",
       "      <td>10218808</td>\n",
       "      <td>353687416</td>\n",
       "    </tr>\n",
       "    <tr>\n",
       "      <th>1</th>\n",
       "      <td>218200805</td>\n",
       "      <td>8038546</td>\n",
       "      <td>210162259</td>\n",
       "    </tr>\n",
       "    <tr>\n",
       "      <th>2</th>\n",
       "      <td>227821075</td>\n",
       "      <td>23778876</td>\n",
       "      <td>204042199</td>\n",
       "    </tr>\n",
       "  </tbody>\n",
       "</table>\n",
       "</div>"
      ],
      "text/plain": [
       "         YES        NO     Result\n",
       "0  363906224  10218808  353687416\n",
       "1  218200805   8038546  210162259\n",
       "2  227821075  23778876  204042199"
      ]
     },
     "metadata": {},
     "output_type": "display_data"
    },
    {
     "name": "stdout",
     "output_type": "stream",
     "text": [
      ">CHALLENGE: Film + Media (FAM) creatives un\n"
     ]
    },
    {
     "data": {
      "text/html": [
       "<div>\n",
       "<style scoped>\n",
       "    .dataframe tbody tr th:only-of-type {\n",
       "        vertical-align: middle;\n",
       "    }\n",
       "\n",
       "    .dataframe tbody tr th {\n",
       "        vertical-align: top;\n",
       "    }\n",
       "\n",
       "    .dataframe thead th {\n",
       "        text-align: right;\n",
       "    }\n",
       "</style>\n",
       "<table border=\"1\" class=\"dataframe\">\n",
       "  <thead>\n",
       "    <tr style=\"text-align: right;\">\n",
       "      <th></th>\n",
       "      <th>YES</th>\n",
       "      <th>NO</th>\n",
       "      <th>Result</th>\n",
       "    </tr>\n",
       "  </thead>\n",
       "  <tbody>\n",
       "    <tr>\n",
       "      <th>0</th>\n",
       "      <td>101631939</td>\n",
       "      <td>2368417</td>\n",
       "      <td>99263522</td>\n",
       "    </tr>\n",
       "    <tr>\n",
       "      <th>1</th>\n",
       "      <td>71433064</td>\n",
       "      <td>5468323</td>\n",
       "      <td>65964741</td>\n",
       "    </tr>\n",
       "    <tr>\n",
       "      <th>2</th>\n",
       "      <td>60634525</td>\n",
       "      <td>5363019</td>\n",
       "      <td>55271506</td>\n",
       "    </tr>\n",
       "  </tbody>\n",
       "</table>\n",
       "</div>"
      ],
      "text/plain": [
       "         YES       NO    Result\n",
       "0  101631939  2368417  99263522\n",
       "1   71433064  5468323  65964741\n",
       "2   60634525  5363019  55271506"
      ]
     },
     "metadata": {},
     "output_type": "display_data"
    },
    {
     "name": "stdout",
     "output_type": "stream",
     "text": [
      ">CHALLENGE: Gamers On - Chained\n"
     ]
    },
    {
     "data": {
      "text/html": [
       "<div>\n",
       "<style scoped>\n",
       "    .dataframe tbody tr th:only-of-type {\n",
       "        vertical-align: middle;\n",
       "    }\n",
       "\n",
       "    .dataframe tbody tr th {\n",
       "        vertical-align: top;\n",
       "    }\n",
       "\n",
       "    .dataframe thead th {\n",
       "        text-align: right;\n",
       "    }\n",
       "</style>\n",
       "<table border=\"1\" class=\"dataframe\">\n",
       "  <thead>\n",
       "    <tr style=\"text-align: right;\">\n",
       "      <th></th>\n",
       "      <th>YES</th>\n",
       "      <th>NO</th>\n",
       "      <th>Result</th>\n",
       "    </tr>\n",
       "  </thead>\n",
       "  <tbody>\n",
       "    <tr>\n",
       "      <th>0</th>\n",
       "      <td>179827573</td>\n",
       "      <td>9322622</td>\n",
       "      <td>170504951</td>\n",
       "    </tr>\n",
       "    <tr>\n",
       "      <th>1</th>\n",
       "      <td>115809649</td>\n",
       "      <td>6133700</td>\n",
       "      <td>109675949</td>\n",
       "    </tr>\n",
       "    <tr>\n",
       "      <th>2</th>\n",
       "      <td>95526045</td>\n",
       "      <td>13406340</td>\n",
       "      <td>82119705</td>\n",
       "    </tr>\n",
       "  </tbody>\n",
       "</table>\n",
       "</div>"
      ],
      "text/plain": [
       "         YES        NO     Result\n",
       "0  179827573   9322622  170504951\n",
       "1  115809649   6133700  109675949\n",
       "2   95526045  13406340   82119705"
      ]
     },
     "metadata": {},
     "output_type": "display_data"
    },
    {
     "name": "stdout",
     "output_type": "stream",
     "text": [
      ">CHALLENGE: Grow Africa, Grow Cardano\n"
     ]
    },
    {
     "data": {
      "text/html": [
       "<div>\n",
       "<style scoped>\n",
       "    .dataframe tbody tr th:only-of-type {\n",
       "        vertical-align: middle;\n",
       "    }\n",
       "\n",
       "    .dataframe tbody tr th {\n",
       "        vertical-align: top;\n",
       "    }\n",
       "\n",
       "    .dataframe thead th {\n",
       "        text-align: right;\n",
       "    }\n",
       "</style>\n",
       "<table border=\"1\" class=\"dataframe\">\n",
       "  <thead>\n",
       "    <tr style=\"text-align: right;\">\n",
       "      <th></th>\n",
       "      <th>YES</th>\n",
       "      <th>NO</th>\n",
       "      <th>Result</th>\n",
       "    </tr>\n",
       "  </thead>\n",
       "  <tbody>\n",
       "    <tr>\n",
       "      <th>0</th>\n",
       "      <td>115270785</td>\n",
       "      <td>7580621</td>\n",
       "      <td>107690164</td>\n",
       "    </tr>\n",
       "    <tr>\n",
       "      <th>1</th>\n",
       "      <td>103970385</td>\n",
       "      <td>12309822</td>\n",
       "      <td>91660563</td>\n",
       "    </tr>\n",
       "    <tr>\n",
       "      <th>2</th>\n",
       "      <td>76748670</td>\n",
       "      <td>3258511</td>\n",
       "      <td>73490159</td>\n",
       "    </tr>\n",
       "  </tbody>\n",
       "</table>\n",
       "</div>"
      ],
      "text/plain": [
       "         YES        NO     Result\n",
       "0  115270785   7580621  107690164\n",
       "1  103970385  12309822   91660563\n",
       "2   76748670   3258511   73490159"
      ]
     },
     "metadata": {},
     "output_type": "display_data"
    },
    {
     "name": "stdout",
     "output_type": "stream",
     "text": [
      ">CHALLENGE: Grow East Asia, Grow Cardano\n"
     ]
    },
    {
     "data": {
      "text/html": [
       "<div>\n",
       "<style scoped>\n",
       "    .dataframe tbody tr th:only-of-type {\n",
       "        vertical-align: middle;\n",
       "    }\n",
       "\n",
       "    .dataframe tbody tr th {\n",
       "        vertical-align: top;\n",
       "    }\n",
       "\n",
       "    .dataframe thead th {\n",
       "        text-align: right;\n",
       "    }\n",
       "</style>\n",
       "<table border=\"1\" class=\"dataframe\">\n",
       "  <thead>\n",
       "    <tr style=\"text-align: right;\">\n",
       "      <th></th>\n",
       "      <th>YES</th>\n",
       "      <th>NO</th>\n",
       "      <th>Result</th>\n",
       "    </tr>\n",
       "  </thead>\n",
       "  <tbody>\n",
       "    <tr>\n",
       "      <th>0</th>\n",
       "      <td>176311311</td>\n",
       "      <td>7580779</td>\n",
       "      <td>168730532</td>\n",
       "    </tr>\n",
       "    <tr>\n",
       "      <th>1</th>\n",
       "      <td>114018878</td>\n",
       "      <td>2107512</td>\n",
       "      <td>111911366</td>\n",
       "    </tr>\n",
       "    <tr>\n",
       "      <th>2</th>\n",
       "      <td>112545765</td>\n",
       "      <td>660602</td>\n",
       "      <td>111885163</td>\n",
       "    </tr>\n",
       "  </tbody>\n",
       "</table>\n",
       "</div>"
      ],
      "text/plain": [
       "         YES       NO     Result\n",
       "0  176311311  7580779  168730532\n",
       "1  114018878  2107512  111911366\n",
       "2  112545765   660602  111885163"
      ]
     },
     "metadata": {},
     "output_type": "display_data"
    },
    {
     "name": "stdout",
     "output_type": "stream",
     "text": [
      ">CHALLENGE: Grow India, Grow Cardano\n"
     ]
    },
    {
     "data": {
      "text/html": [
       "<div>\n",
       "<style scoped>\n",
       "    .dataframe tbody tr th:only-of-type {\n",
       "        vertical-align: middle;\n",
       "    }\n",
       "\n",
       "    .dataframe tbody tr th {\n",
       "        vertical-align: top;\n",
       "    }\n",
       "\n",
       "    .dataframe thead th {\n",
       "        text-align: right;\n",
       "    }\n",
       "</style>\n",
       "<table border=\"1\" class=\"dataframe\">\n",
       "  <thead>\n",
       "    <tr style=\"text-align: right;\">\n",
       "      <th></th>\n",
       "      <th>YES</th>\n",
       "      <th>NO</th>\n",
       "      <th>Result</th>\n",
       "    </tr>\n",
       "  </thead>\n",
       "  <tbody>\n",
       "    <tr>\n",
       "      <th>0</th>\n",
       "      <td>125291672</td>\n",
       "      <td>11854594</td>\n",
       "      <td>113437078</td>\n",
       "    </tr>\n",
       "    <tr>\n",
       "      <th>1</th>\n",
       "      <td>103603553</td>\n",
       "      <td>4432441</td>\n",
       "      <td>99171112</td>\n",
       "    </tr>\n",
       "    <tr>\n",
       "      <th>2</th>\n",
       "      <td>75597379</td>\n",
       "      <td>13299547</td>\n",
       "      <td>62297832</td>\n",
       "    </tr>\n",
       "  </tbody>\n",
       "</table>\n",
       "</div>"
      ],
      "text/plain": [
       "         YES        NO     Result\n",
       "0  125291672  11854594  113437078\n",
       "1  103603553   4432441   99171112\n",
       "2   75597379  13299547   62297832"
      ]
     },
     "metadata": {},
     "output_type": "display_data"
    },
    {
     "name": "stdout",
     "output_type": "stream",
     "text": [
      ">CHALLENGE: Improve and Grow Auditability\n"
     ]
    },
    {
     "data": {
      "text/html": [
       "<div>\n",
       "<style scoped>\n",
       "    .dataframe tbody tr th:only-of-type {\n",
       "        vertical-align: middle;\n",
       "    }\n",
       "\n",
       "    .dataframe tbody tr th {\n",
       "        vertical-align: top;\n",
       "    }\n",
       "\n",
       "    .dataframe thead th {\n",
       "        text-align: right;\n",
       "    }\n",
       "</style>\n",
       "<table border=\"1\" class=\"dataframe\">\n",
       "  <thead>\n",
       "    <tr style=\"text-align: right;\">\n",
       "      <th></th>\n",
       "      <th>YES</th>\n",
       "      <th>NO</th>\n",
       "      <th>Result</th>\n",
       "    </tr>\n",
       "  </thead>\n",
       "  <tbody>\n",
       "    <tr>\n",
       "      <th>0</th>\n",
       "      <td>131896989</td>\n",
       "      <td>3513306</td>\n",
       "      <td>128383683</td>\n",
       "    </tr>\n",
       "    <tr>\n",
       "      <th>1</th>\n",
       "      <td>63408746</td>\n",
       "      <td>1089494</td>\n",
       "      <td>62319252</td>\n",
       "    </tr>\n",
       "    <tr>\n",
       "      <th>2</th>\n",
       "      <td>60150218</td>\n",
       "      <td>3143503</td>\n",
       "      <td>57006715</td>\n",
       "    </tr>\n",
       "  </tbody>\n",
       "</table>\n",
       "</div>"
      ],
      "text/plain": [
       "         YES       NO     Result\n",
       "0  131896989  3513306  128383683\n",
       "1   63408746  1089494   62319252\n",
       "2   60150218  3143503   57006715"
      ]
     },
     "metadata": {},
     "output_type": "display_data"
    },
    {
     "name": "stdout",
     "output_type": "stream",
     "text": [
      ">CHALLENGE: Lobbying for favorable legislat\n"
     ]
    },
    {
     "data": {
      "text/html": [
       "<div>\n",
       "<style scoped>\n",
       "    .dataframe tbody tr th:only-of-type {\n",
       "        vertical-align: middle;\n",
       "    }\n",
       "\n",
       "    .dataframe tbody tr th {\n",
       "        vertical-align: top;\n",
       "    }\n",
       "\n",
       "    .dataframe thead th {\n",
       "        text-align: right;\n",
       "    }\n",
       "</style>\n",
       "<table border=\"1\" class=\"dataframe\">\n",
       "  <thead>\n",
       "    <tr style=\"text-align: right;\">\n",
       "      <th></th>\n",
       "      <th>YES</th>\n",
       "      <th>NO</th>\n",
       "      <th>Result</th>\n",
       "    </tr>\n",
       "  </thead>\n",
       "  <tbody>\n",
       "    <tr>\n",
       "      <th>0</th>\n",
       "      <td>129871544</td>\n",
       "      <td>269594</td>\n",
       "      <td>129601950</td>\n",
       "    </tr>\n",
       "    <tr>\n",
       "      <th>1</th>\n",
       "      <td>133038687</td>\n",
       "      <td>7015883</td>\n",
       "      <td>126022804</td>\n",
       "    </tr>\n",
       "    <tr>\n",
       "      <th>2</th>\n",
       "      <td>108346301</td>\n",
       "      <td>600182</td>\n",
       "      <td>107746119</td>\n",
       "    </tr>\n",
       "  </tbody>\n",
       "</table>\n",
       "</div>"
      ],
      "text/plain": [
       "         YES       NO     Result\n",
       "0  129871544   269594  129601950\n",
       "1  133038687  7015883  126022804\n",
       "2  108346301   600182  107746119"
      ]
     },
     "metadata": {},
     "output_type": "display_data"
    },
    {
     "name": "stdout",
     "output_type": "stream",
     "text": [
      ">CHALLENGE: Miscellaneous Challenge\n"
     ]
    },
    {
     "data": {
      "text/html": [
       "<div>\n",
       "<style scoped>\n",
       "    .dataframe tbody tr th:only-of-type {\n",
       "        vertical-align: middle;\n",
       "    }\n",
       "\n",
       "    .dataframe tbody tr th {\n",
       "        vertical-align: top;\n",
       "    }\n",
       "\n",
       "    .dataframe thead th {\n",
       "        text-align: right;\n",
       "    }\n",
       "</style>\n",
       "<table border=\"1\" class=\"dataframe\">\n",
       "  <thead>\n",
       "    <tr style=\"text-align: right;\">\n",
       "      <th></th>\n",
       "      <th>YES</th>\n",
       "      <th>NO</th>\n",
       "      <th>Result</th>\n",
       "    </tr>\n",
       "  </thead>\n",
       "  <tbody>\n",
       "    <tr>\n",
       "      <th>0</th>\n",
       "      <td>149690046</td>\n",
       "      <td>14708558</td>\n",
       "      <td>134981488</td>\n",
       "    </tr>\n",
       "    <tr>\n",
       "      <th>1</th>\n",
       "      <td>123606893</td>\n",
       "      <td>3421498</td>\n",
       "      <td>120185395</td>\n",
       "    </tr>\n",
       "    <tr>\n",
       "      <th>2</th>\n",
       "      <td>94001931</td>\n",
       "      <td>4734656</td>\n",
       "      <td>89267275</td>\n",
       "    </tr>\n",
       "  </tbody>\n",
       "</table>\n",
       "</div>"
      ],
      "text/plain": [
       "         YES        NO     Result\n",
       "0  149690046  14708558  134981488\n",
       "1  123606893   3421498  120185395\n",
       "2   94001931   4734656   89267275"
      ]
     },
     "metadata": {},
     "output_type": "display_data"
    },
    {
     "name": "stdout",
     "output_type": "stream",
     "text": [
      ">CHALLENGE: Nation Building Dapps\n"
     ]
    },
    {
     "data": {
      "text/html": [
       "<div>\n",
       "<style scoped>\n",
       "    .dataframe tbody tr th:only-of-type {\n",
       "        vertical-align: middle;\n",
       "    }\n",
       "\n",
       "    .dataframe tbody tr th {\n",
       "        vertical-align: top;\n",
       "    }\n",
       "\n",
       "    .dataframe thead th {\n",
       "        text-align: right;\n",
       "    }\n",
       "</style>\n",
       "<table border=\"1\" class=\"dataframe\">\n",
       "  <thead>\n",
       "    <tr style=\"text-align: right;\">\n",
       "      <th></th>\n",
       "      <th>YES</th>\n",
       "      <th>NO</th>\n",
       "      <th>Result</th>\n",
       "    </tr>\n",
       "  </thead>\n",
       "  <tbody>\n",
       "    <tr>\n",
       "      <th>0</th>\n",
       "      <td>183918374</td>\n",
       "      <td>8084229</td>\n",
       "      <td>175834145</td>\n",
       "    </tr>\n",
       "    <tr>\n",
       "      <th>1</th>\n",
       "      <td>138049356</td>\n",
       "      <td>12000524</td>\n",
       "      <td>126048832</td>\n",
       "    </tr>\n",
       "    <tr>\n",
       "      <th>2</th>\n",
       "      <td>101553805</td>\n",
       "      <td>3629855</td>\n",
       "      <td>97923950</td>\n",
       "    </tr>\n",
       "  </tbody>\n",
       "</table>\n",
       "</div>"
      ],
      "text/plain": [
       "         YES        NO     Result\n",
       "0  183918374   8084229  175834145\n",
       "1  138049356  12000524  126048832\n",
       "2  101553805   3629855   97923950"
      ]
     },
     "metadata": {},
     "output_type": "display_data"
    },
    {
     "name": "stdout",
     "output_type": "stream",
     "text": [
      ">CHALLENGE: New Member Onboarding\n"
     ]
    },
    {
     "data": {
      "text/html": [
       "<div>\n",
       "<style scoped>\n",
       "    .dataframe tbody tr th:only-of-type {\n",
       "        vertical-align: middle;\n",
       "    }\n",
       "\n",
       "    .dataframe tbody tr th {\n",
       "        vertical-align: top;\n",
       "    }\n",
       "\n",
       "    .dataframe thead th {\n",
       "        text-align: right;\n",
       "    }\n",
       "</style>\n",
       "<table border=\"1\" class=\"dataframe\">\n",
       "  <thead>\n",
       "    <tr style=\"text-align: right;\">\n",
       "      <th></th>\n",
       "      <th>YES</th>\n",
       "      <th>NO</th>\n",
       "      <th>Result</th>\n",
       "    </tr>\n",
       "  </thead>\n",
       "  <tbody>\n",
       "    <tr>\n",
       "      <th>0</th>\n",
       "      <td>122007252</td>\n",
       "      <td>1790855</td>\n",
       "      <td>120216397</td>\n",
       "    </tr>\n",
       "    <tr>\n",
       "      <th>1</th>\n",
       "      <td>77400850</td>\n",
       "      <td>1800945</td>\n",
       "      <td>75599905</td>\n",
       "    </tr>\n",
       "    <tr>\n",
       "      <th>2</th>\n",
       "      <td>67470377</td>\n",
       "      <td>3407835</td>\n",
       "      <td>64062542</td>\n",
       "    </tr>\n",
       "  </tbody>\n",
       "</table>\n",
       "</div>"
      ],
      "text/plain": [
       "         YES       NO     Result\n",
       "0  122007252  1790855  120216397\n",
       "1   77400850  1800945   75599905\n",
       "2   67470377  3407835   64062542"
      ]
     },
     "metadata": {},
     "output_type": "display_data"
    },
    {
     "name": "stdout",
     "output_type": "stream",
     "text": [
      ">CHALLENGE: Open Source Development Ecosyst\n"
     ]
    },
    {
     "data": {
      "text/html": [
       "<div>\n",
       "<style scoped>\n",
       "    .dataframe tbody tr th:only-of-type {\n",
       "        vertical-align: middle;\n",
       "    }\n",
       "\n",
       "    .dataframe tbody tr th {\n",
       "        vertical-align: top;\n",
       "    }\n",
       "\n",
       "    .dataframe thead th {\n",
       "        text-align: right;\n",
       "    }\n",
       "</style>\n",
       "<table border=\"1\" class=\"dataframe\">\n",
       "  <thead>\n",
       "    <tr style=\"text-align: right;\">\n",
       "      <th></th>\n",
       "      <th>YES</th>\n",
       "      <th>NO</th>\n",
       "      <th>Result</th>\n",
       "    </tr>\n",
       "  </thead>\n",
       "  <tbody>\n",
       "    <tr>\n",
       "      <th>0</th>\n",
       "      <td>348111439</td>\n",
       "      <td>3140287</td>\n",
       "      <td>344971152</td>\n",
       "    </tr>\n",
       "    <tr>\n",
       "      <th>1</th>\n",
       "      <td>207722907</td>\n",
       "      <td>4831816</td>\n",
       "      <td>202891091</td>\n",
       "    </tr>\n",
       "    <tr>\n",
       "      <th>2</th>\n",
       "      <td>202455403</td>\n",
       "      <td>12739108</td>\n",
       "      <td>189716295</td>\n",
       "    </tr>\n",
       "  </tbody>\n",
       "</table>\n",
       "</div>"
      ],
      "text/plain": [
       "         YES        NO     Result\n",
       "0  348111439   3140287  344971152\n",
       "1  207722907   4831816  202891091\n",
       "2  202455403  12739108  189716295"
      ]
     },
     "metadata": {},
     "output_type": "display_data"
    },
    {
     "name": "stdout",
     "output_type": "stream",
     "text": [
      ">CHALLENGE: Open Standards & Interoperabili\n"
     ]
    },
    {
     "data": {
      "text/html": [
       "<div>\n",
       "<style scoped>\n",
       "    .dataframe tbody tr th:only-of-type {\n",
       "        vertical-align: middle;\n",
       "    }\n",
       "\n",
       "    .dataframe tbody tr th {\n",
       "        vertical-align: top;\n",
       "    }\n",
       "\n",
       "    .dataframe thead th {\n",
       "        text-align: right;\n",
       "    }\n",
       "</style>\n",
       "<table border=\"1\" class=\"dataframe\">\n",
       "  <thead>\n",
       "    <tr style=\"text-align: right;\">\n",
       "      <th></th>\n",
       "      <th>YES</th>\n",
       "      <th>NO</th>\n",
       "      <th>Result</th>\n",
       "    </tr>\n",
       "  </thead>\n",
       "  <tbody>\n",
       "    <tr>\n",
       "      <th>0</th>\n",
       "      <td>129774237</td>\n",
       "      <td>6614336</td>\n",
       "      <td>123159901</td>\n",
       "    </tr>\n",
       "    <tr>\n",
       "      <th>1</th>\n",
       "      <td>113499565</td>\n",
       "      <td>4903996</td>\n",
       "      <td>108595569</td>\n",
       "    </tr>\n",
       "    <tr>\n",
       "      <th>2</th>\n",
       "      <td>60563871</td>\n",
       "      <td>2781356</td>\n",
       "      <td>57782515</td>\n",
       "    </tr>\n",
       "  </tbody>\n",
       "</table>\n",
       "</div>"
      ],
      "text/plain": [
       "         YES       NO     Result\n",
       "0  129774237  6614336  123159901\n",
       "1  113499565  4903996  108595569\n",
       "2   60563871  2781356   57782515"
      ]
     },
     "metadata": {},
     "output_type": "display_data"
    },
    {
     "name": "stdout",
     "output_type": "stream",
     "text": [
      ">CHALLENGE: Scale-UP Cardanos Community Hub\n"
     ]
    },
    {
     "data": {
      "text/html": [
       "<div>\n",
       "<style scoped>\n",
       "    .dataframe tbody tr th:only-of-type {\n",
       "        vertical-align: middle;\n",
       "    }\n",
       "\n",
       "    .dataframe tbody tr th {\n",
       "        vertical-align: top;\n",
       "    }\n",
       "\n",
       "    .dataframe thead th {\n",
       "        text-align: right;\n",
       "    }\n",
       "</style>\n",
       "<table border=\"1\" class=\"dataframe\">\n",
       "  <thead>\n",
       "    <tr style=\"text-align: right;\">\n",
       "      <th></th>\n",
       "      <th>YES</th>\n",
       "      <th>NO</th>\n",
       "      <th>Result</th>\n",
       "    </tr>\n",
       "  </thead>\n",
       "  <tbody>\n",
       "    <tr>\n",
       "      <th>0</th>\n",
       "      <td>149893287</td>\n",
       "      <td>9644640</td>\n",
       "      <td>140248647</td>\n",
       "    </tr>\n",
       "    <tr>\n",
       "      <th>1</th>\n",
       "      <td>129709105</td>\n",
       "      <td>3707746</td>\n",
       "      <td>126001359</td>\n",
       "    </tr>\n",
       "    <tr>\n",
       "      <th>2</th>\n",
       "      <td>124095533</td>\n",
       "      <td>4462834</td>\n",
       "      <td>119632699</td>\n",
       "    </tr>\n",
       "  </tbody>\n",
       "</table>\n",
       "</div>"
      ],
      "text/plain": [
       "         YES       NO     Result\n",
       "0  149893287  9644640  140248647\n",
       "1  129709105  3707746  126001359\n",
       "2  124095533  4462834  119632699"
      ]
     },
     "metadata": {},
     "output_type": "display_data"
    },
    {
     "name": "stdout",
     "output_type": "stream",
     "text": [
      ">CHALLENGE: Self-Sovereign Identity\n"
     ]
    },
    {
     "data": {
      "text/html": [
       "<div>\n",
       "<style scoped>\n",
       "    .dataframe tbody tr th:only-of-type {\n",
       "        vertical-align: middle;\n",
       "    }\n",
       "\n",
       "    .dataframe tbody tr th {\n",
       "        vertical-align: top;\n",
       "    }\n",
       "\n",
       "    .dataframe thead th {\n",
       "        text-align: right;\n",
       "    }\n",
       "</style>\n",
       "<table border=\"1\" class=\"dataframe\">\n",
       "  <thead>\n",
       "    <tr style=\"text-align: right;\">\n",
       "      <th></th>\n",
       "      <th>YES</th>\n",
       "      <th>NO</th>\n",
       "      <th>Result</th>\n",
       "    </tr>\n",
       "  </thead>\n",
       "  <tbody>\n",
       "    <tr>\n",
       "      <th>0</th>\n",
       "      <td>109517865</td>\n",
       "      <td>773866</td>\n",
       "      <td>108743999</td>\n",
       "    </tr>\n",
       "    <tr>\n",
       "      <th>1</th>\n",
       "      <td>95629710</td>\n",
       "      <td>1786068</td>\n",
       "      <td>93843642</td>\n",
       "    </tr>\n",
       "    <tr>\n",
       "      <th>2</th>\n",
       "      <td>88563703</td>\n",
       "      <td>1231531</td>\n",
       "      <td>87332172</td>\n",
       "    </tr>\n",
       "  </tbody>\n",
       "</table>\n",
       "</div>"
      ],
      "text/plain": [
       "         YES       NO     Result\n",
       "0  109517865   773866  108743999\n",
       "1   95629710  1786068   93843642\n",
       "2   88563703  1231531   87332172"
      ]
     },
     "metadata": {},
     "output_type": "display_data"
    },
    {
     "name": "stdout",
     "output_type": "stream",
     "text": [
      ">CHALLENGE: The Great Migration (from Ether\n"
     ]
    },
    {
     "data": {
      "text/html": [
       "<div>\n",
       "<style scoped>\n",
       "    .dataframe tbody tr th:only-of-type {\n",
       "        vertical-align: middle;\n",
       "    }\n",
       "\n",
       "    .dataframe tbody tr th {\n",
       "        vertical-align: top;\n",
       "    }\n",
       "\n",
       "    .dataframe thead th {\n",
       "        text-align: right;\n",
       "    }\n",
       "</style>\n",
       "<table border=\"1\" class=\"dataframe\">\n",
       "  <thead>\n",
       "    <tr style=\"text-align: right;\">\n",
       "      <th></th>\n",
       "      <th>YES</th>\n",
       "      <th>NO</th>\n",
       "      <th>Result</th>\n",
       "    </tr>\n",
       "  </thead>\n",
       "  <tbody>\n",
       "    <tr>\n",
       "      <th>0</th>\n",
       "      <td>152988834</td>\n",
       "      <td>2545273</td>\n",
       "      <td>150443561</td>\n",
       "    </tr>\n",
       "    <tr>\n",
       "      <th>1</th>\n",
       "      <td>102707040</td>\n",
       "      <td>11190433</td>\n",
       "      <td>91516607</td>\n",
       "    </tr>\n",
       "    <tr>\n",
       "      <th>2</th>\n",
       "      <td>89251675</td>\n",
       "      <td>10487144</td>\n",
       "      <td>78764531</td>\n",
       "    </tr>\n",
       "  </tbody>\n",
       "</table>\n",
       "</div>"
      ],
      "text/plain": [
       "         YES        NO     Result\n",
       "0  152988834   2545273  150443561\n",
       "1  102707040  11190433   91516607\n",
       "2   89251675  10487144   78764531"
      ]
     },
     "metadata": {},
     "output_type": "display_data"
    },
    {
     "name": "stdout",
     "output_type": "stream",
     "text": [
      ">CHALLENGE: Fund9 challenge setting\n"
     ]
    },
    {
     "data": {
      "text/html": [
       "<div>\n",
       "<style scoped>\n",
       "    .dataframe tbody tr th:only-of-type {\n",
       "        vertical-align: middle;\n",
       "    }\n",
       "\n",
       "    .dataframe tbody tr th {\n",
       "        vertical-align: top;\n",
       "    }\n",
       "\n",
       "    .dataframe thead th {\n",
       "        text-align: right;\n",
       "    }\n",
       "</style>\n",
       "<table border=\"1\" class=\"dataframe\">\n",
       "  <thead>\n",
       "    <tr style=\"text-align: right;\">\n",
       "      <th></th>\n",
       "      <th>YES</th>\n",
       "      <th>NO</th>\n",
       "      <th>Result</th>\n",
       "    </tr>\n",
       "  </thead>\n",
       "  <tbody>\n",
       "    <tr>\n",
       "      <th>0</th>\n",
       "      <td>179238979</td>\n",
       "      <td>3252552</td>\n",
       "      <td>175986427</td>\n",
       "    </tr>\n",
       "    <tr>\n",
       "      <th>1</th>\n",
       "      <td>164478433</td>\n",
       "      <td>3922745</td>\n",
       "      <td>160555688</td>\n",
       "    </tr>\n",
       "    <tr>\n",
       "      <th>2</th>\n",
       "      <td>165086738</td>\n",
       "      <td>20049656</td>\n",
       "      <td>145037082</td>\n",
       "    </tr>\n",
       "  </tbody>\n",
       "</table>\n",
       "</div>"
      ],
      "text/plain": [
       "         YES        NO     Result\n",
       "0  179238979   3252552  175986427\n",
       "1  164478433   3922745  160555688\n",
       "2  165086738  20049656  145037082"
      ]
     },
     "metadata": {},
     "output_type": "display_data"
    },
    {
     "name": "stdout",
     "output_type": "stream",
     "text": [
      ">CHALLENGE: Funded by leftovers\n"
     ]
    },
    {
     "data": {
      "text/html": [
       "<div>\n",
       "<style scoped>\n",
       "    .dataframe tbody tr th:only-of-type {\n",
       "        vertical-align: middle;\n",
       "    }\n",
       "\n",
       "    .dataframe tbody tr th {\n",
       "        vertical-align: top;\n",
       "    }\n",
       "\n",
       "    .dataframe thead th {\n",
       "        text-align: right;\n",
       "    }\n",
       "</style>\n",
       "<table border=\"1\" class=\"dataframe\">\n",
       "  <thead>\n",
       "    <tr style=\"text-align: right;\">\n",
       "      <th></th>\n",
       "      <th>YES</th>\n",
       "      <th>NO</th>\n",
       "      <th>Result</th>\n",
       "    </tr>\n",
       "  </thead>\n",
       "  <tbody>\n",
       "    <tr>\n",
       "      <th>0</th>\n",
       "      <td>162936139</td>\n",
       "      <td>26399356</td>\n",
       "      <td>136536783</td>\n",
       "    </tr>\n",
       "    <tr>\n",
       "      <th>1</th>\n",
       "      <td>83876492</td>\n",
       "      <td>14733406</td>\n",
       "      <td>69143086</td>\n",
       "    </tr>\n",
       "    <tr>\n",
       "      <th>2</th>\n",
       "      <td>76731726</td>\n",
       "      <td>9878372</td>\n",
       "      <td>66853354</td>\n",
       "    </tr>\n",
       "  </tbody>\n",
       "</table>\n",
       "</div>"
      ],
      "text/plain": [
       "         YES        NO     Result\n",
       "0  162936139  26399356  136536783\n",
       "1   83876492  14733406   69143086\n",
       "2   76731726   9878372   66853354"
      ]
     },
     "metadata": {},
     "output_type": "display_data"
    }
   ],
   "source": [
    "for fund in funds:\n",
    "    print('\\n >> FUND: {}'.format(fund))\n",
    "    view_currency_cols(fund)"
   ]
  },
  {
   "cell_type": "markdown",
   "id": "14828259",
   "metadata": {},
   "source": [
    "#### 'REQUESTED \\$' FEATURE "
   ]
  },
  {
   "cell_type": "code",
   "execution_count": 22,
   "id": "ec170ef2",
   "metadata": {
    "scrolled": true
   },
   "outputs": [
    {
     "name": "stdout",
     "output_type": "stream",
     "text": [
      "\n",
      " >> FUND: f3\n",
      ">CHALLENGE: DApp creation\n"
     ]
    },
    {
     "data": {
      "text/plain": [
       "0    53000\n",
       "1    33000\n",
       "2    48965\n",
       "Name: REQUESTED $, dtype: int64"
      ]
     },
     "metadata": {},
     "output_type": "display_data"
    },
    {
     "name": "stdout",
     "output_type": "stream",
     "text": [
      ">CHALLENGE: Developer ecosystem\n"
     ]
    },
    {
     "data": {
      "text/plain": [
       "0    10000\n",
       "1    16450\n",
       "2    53000\n",
       "Name: REQUESTED $, dtype: int64"
      ]
     },
     "metadata": {},
     "output_type": "display_data"
    },
    {
     "name": "stdout",
     "output_type": "stream",
     "text": [
      ">CHALLENGE: Community choice\n"
     ]
    },
    {
     "data": {
      "text/plain": [
       "0    250000\n",
       "1    250000\n",
       "2    400000\n",
       "Name: REQUESTED $, dtype: int64"
      ]
     },
     "metadata": {},
     "output_type": "display_data"
    },
    {
     "name": "stdout",
     "output_type": "stream",
     "text": [
      "\n",
      " >> FUND: f4\n",
      ">CHALLENGE: DApp&Integrations\n"
     ]
    },
    {
     "data": {
      "text/plain": [
       "0    36500\n",
       "1    15000\n",
       "2    50000\n",
       "Name: REQUESTED $, dtype: int64"
      ]
     },
     "metadata": {},
     "output_type": "display_data"
    },
    {
     "name": "stdout",
     "output_type": "stream",
     "text": [
      ">CHALLENGE: Developer ecosystem\n"
     ]
    },
    {
     "data": {
      "text/plain": [
       "0    56500\n",
       "1     6500\n",
       "2    80000\n",
       "Name: REQUESTED $, dtype: int64"
      ]
     },
     "metadata": {},
     "output_type": "display_data"
    },
    {
     "name": "stdout",
     "output_type": "stream",
     "text": [
      ">CHALLENGE: Distributed decision making\n"
     ]
    },
    {
     "data": {
      "text/plain": [
       "0      800\n",
       "1    14000\n",
       "2    30669\n",
       "Name: REQUESTED $, dtype: int64"
      ]
     },
     "metadata": {},
     "output_type": "display_data"
    },
    {
     "name": "stdout",
     "output_type": "stream",
     "text": [
      ">CHALLENGE: Proposer Outreach\n"
     ]
    },
    {
     "data": {
      "text/plain": [
       "0     6000\n",
       "1    13280\n",
       "2    10000\n",
       "Name: REQUESTED $, dtype: int64"
      ]
     },
     "metadata": {},
     "output_type": "display_data"
    },
    {
     "name": "stdout",
     "output_type": "stream",
     "text": [
      ">CHALLENGE: Catalyst Value Onboarding\n"
     ]
    },
    {
     "data": {
      "text/plain": [
       "0    10000\n",
       "1     8740\n",
       "2    15000\n",
       "Name: REQUESTED $, dtype: int64"
      ]
     },
     "metadata": {},
     "output_type": "display_data"
    },
    {
     "name": "stdout",
     "output_type": "stream",
     "text": [
      ">CHALLENGE: Local Community Centers\n"
     ]
    },
    {
     "data": {
      "text/plain": [
       "0     4000\n",
       "1     3000\n",
       "2    16900\n",
       "Name: REQUESTED $, dtype: int64"
      ]
     },
     "metadata": {},
     "output_type": "display_data"
    },
    {
     "name": "stdout",
     "output_type": "stream",
     "text": [
      ">CHALLENGE: Fund6 Challenge Setting\n"
     ]
    },
    {
     "data": {
      "text/plain": [
       "0    50000\n",
       "1    75000\n",
       "2    90000\n",
       "Name: REQUESTED $, dtype: int64"
      ]
     },
     "metadata": {},
     "output_type": "display_data"
    },
    {
     "name": "stdout",
     "output_type": "stream",
     "text": [
      ">CHALLENGE: Sponsored by leftovers\n"
     ]
    },
    {
     "data": {
      "text/plain": [
       "0    28648\n",
       "1     5000\n",
       "2    30000\n",
       "Name: REQUESTED $, dtype: int64"
      ]
     },
     "metadata": {},
     "output_type": "display_data"
    },
    {
     "name": "stdout",
     "output_type": "stream",
     "text": [
      "\n",
      " >> FUND: f5\n",
      ">CHALLENGE: Developer ecosystem\n"
     ]
    },
    {
     "data": {
      "text/plain": [
       "0     7500\n",
       "1    50000\n",
       "2     9000\n",
       "Name: REQUESTED $, dtype: int64"
      ]
     },
     "metadata": {},
     "output_type": "display_data"
    },
    {
     "name": "stdout",
     "output_type": "stream",
     "text": [
      ">CHALLENGE: DApp&Integrations\n"
     ]
    },
    {
     "data": {
      "text/plain": [
       "0     30000\n",
       "1    100000\n",
       "2     40000\n",
       "Name: REQUESTED $, dtype: int64"
      ]
     },
     "metadata": {},
     "output_type": "display_data"
    },
    {
     "name": "stdout",
     "output_type": "stream",
     "text": [
      ">CHALLENGE: Distributed decision making\n"
     ]
    },
    {
     "data": {
      "text/plain": [
       "0    29000\n",
       "1     4600\n",
       "2     8400\n",
       "Name: REQUESTED $, dtype: int64"
      ]
     },
     "metadata": {},
     "output_type": "display_data"
    },
    {
     "name": "stdout",
     "output_type": "stream",
     "text": [
      ">CHALLENGE: Proposer Outreach\n"
     ]
    },
    {
     "data": {
      "text/plain": [
       "0    19000\n",
       "1    11600\n",
       "2    43827\n",
       "Name: REQUESTED $, dtype: int64"
      ]
     },
     "metadata": {},
     "output_type": "display_data"
    },
    {
     "name": "stdout",
     "output_type": "stream",
     "text": [
      ">CHALLENGE: Catalyst Value Onboarding\n"
     ]
    },
    {
     "data": {
      "text/plain": [
       "0     8900\n",
       "1    11000\n",
       "2      500\n",
       "Name: REQUESTED $, dtype: int64"
      ]
     },
     "metadata": {},
     "output_type": "display_data"
    },
    {
     "name": "stdout",
     "output_type": "stream",
     "text": [
      ">CHALLENGE: Metadata challenge\n"
     ]
    },
    {
     "data": {
      "text/plain": [
       "0    19200\n",
       "1    12500\n",
       "2     3000\n",
       "Name: REQUESTED $, dtype: int64"
      ]
     },
     "metadata": {},
     "output_type": "display_data"
    },
    {
     "name": "stdout",
     "output_type": "stream",
     "text": [
      ">CHALLENGE: Grow Africa, Grow Cardano wv\n"
     ]
    },
    {
     "data": {
      "text/plain": [
       "0    45000\n",
       "1    20000\n",
       "2    60000\n",
       "Name: REQUESTED $, dtype: int64"
      ]
     },
     "metadata": {},
     "output_type": "display_data"
    },
    {
     "name": "stdout",
     "output_type": "stream",
     "text": [
      ">CHALLENGE: Scale-UP Cardanos DeFi Ecosyste\n"
     ]
    },
    {
     "data": {
      "text/plain": [
       "0    119000\n",
       "1     25000\n",
       "2     37500\n",
       "Name: REQUESTED $, dtype: int64"
      ]
     },
     "metadata": {},
     "output_type": "display_data"
    },
    {
     "name": "stdout",
     "output_type": "stream",
     "text": [
      ">CHALLENGE: Fund7 Challenge Setting wv\n"
     ]
    },
    {
     "data": {
      "text/plain": [
       "0    200000\n",
       "1    250000\n",
       "2    150000\n",
       "Name: REQUESTED $, dtype: int64"
      ]
     },
     "metadata": {},
     "output_type": "display_data"
    },
    {
     "name": "stdout",
     "output_type": "stream",
     "text": [
      ">CHALLENGE: Sponsored by leftovers\n"
     ]
    },
    {
     "data": {
      "text/plain": [
       "0    125695\n",
       "1     91000\n",
       "2     40000\n",
       "Name: REQUESTED $, dtype: int64"
      ]
     },
     "metadata": {},
     "output_type": "display_data"
    },
    {
     "name": "stdout",
     "output_type": "stream",
     "text": [
      "\n",
      " >> FUND: f6\n",
      ">CHALLENGE: Developer ecosystem\n"
     ]
    },
    {
     "data": {
      "text/plain": [
       "0    60000\n",
       "1    35000\n",
       "2    87700\n",
       "Name: REQUESTED $, dtype: int64"
      ]
     },
     "metadata": {},
     "output_type": "display_data"
    },
    {
     "name": "stdout",
     "output_type": "stream",
     "text": [
      ">CHALLENGE: DApps & Integrations\n"
     ]
    },
    {
     "data": {
      "text/plain": [
       "0    25000\n",
       "1    46850\n",
       "2    40000\n",
       "Name: REQUESTED $, dtype: int64"
      ]
     },
     "metadata": {},
     "output_type": "display_data"
    },
    {
     "name": "stdout",
     "output_type": "stream",
     "text": [
      ">CHALLENGE: Distributed decision making\n"
     ]
    },
    {
     "data": {
      "text/plain": [
       "0     3200\n",
       "1    15000\n",
       "2     3650\n",
       "Name: REQUESTED $, dtype: int64"
      ]
     },
     "metadata": {},
     "output_type": "display_data"
    },
    {
     "name": "stdout",
     "output_type": "stream",
     "text": [
      ">CHALLENGE: Proposer outreach\n"
     ]
    },
    {
     "data": {
      "text/plain": [
       "0     6370\n",
       "1    20000\n",
       "2    12690\n",
       "Name: REQUESTED $, dtype: int64"
      ]
     },
     "metadata": {},
     "output_type": "display_data"
    },
    {
     "name": "stdout",
     "output_type": "stream",
     "text": [
      ">CHALLENGE: Catalyst value onboarding\n"
     ]
    },
    {
     "data": {
      "text/plain": [
       "0    17500\n",
       "1    21000\n",
       "2    10000\n",
       "Name: REQUESTED $, dtype: int64"
      ]
     },
     "metadata": {},
     "output_type": "display_data"
    },
    {
     "name": "stdout",
     "output_type": "stream",
     "text": [
      ">CHALLENGE: Metadata\n"
     ]
    },
    {
     "data": {
      "text/plain": [
       "0    25000\n",
       "1    40000\n",
       "2     6000\n",
       "Name: REQUESTED $, dtype: int64"
      ]
     },
     "metadata": {},
     "output_type": "display_data"
    },
    {
     "name": "stdout",
     "output_type": "stream",
     "text": [
      ">CHALLENGE: Grow Africa, Grow Cardano\n"
     ]
    },
    {
     "data": {
      "text/plain": [
       "0     9840\n",
       "1    50000\n",
       "2    40000\n",
       "Name: REQUESTED $, dtype: int64"
      ]
     },
     "metadata": {},
     "output_type": "display_data"
    },
    {
     "name": "stdout",
     "output_type": "stream",
     "text": [
      ">CHALLENGE: Scale-UP Cardano’s DeFi Ecosyst\n"
     ]
    },
    {
     "data": {
      "text/plain": [
       "0    50000\n",
       "1    60000\n",
       "2    60000\n",
       "Name: REQUESTED $, dtype: int64"
      ]
     },
     "metadata": {},
     "output_type": "display_data"
    },
    {
     "name": "stdout",
     "output_type": "stream",
     "text": [
      ">CHALLENGE: Cardano Emerging Threat Alarm\n"
     ]
    },
    {
     "data": {
      "text/plain": [
       "0    10000\n",
       "1    30000\n",
       "2    40000\n",
       "Name: REQUESTED $, dtype: int64"
      ]
     },
     "metadata": {},
     "output_type": "display_data"
    },
    {
     "name": "stdout",
     "output_type": "stream",
     "text": [
      ">CHALLENGE: Multilingual resources\n"
     ]
    },
    {
     "data": {
      "text/plain": [
       "0    12500\n",
       "1    16830\n",
       "2     4360\n",
       "Name: REQUESTED $, dtype: int64"
      ]
     },
     "metadata": {},
     "output_type": "display_data"
    },
    {
     "name": "stdout",
     "output_type": "stream",
     "text": [
      ">CHALLENGE: DeFi and Microlending for Afric\n"
     ]
    },
    {
     "data": {
      "text/plain": [
       "0     9280\n",
       "1    28520\n",
       "2     9200\n",
       "Name: REQUESTED $, dtype: int64"
      ]
     },
     "metadata": {},
     "output_type": "display_data"
    },
    {
     "name": "stdout",
     "output_type": "stream",
     "text": [
      ">CHALLENGE: DLT Entrepreneurship Toolbox\n"
     ]
    },
    {
     "data": {
      "text/plain": [
       "0    35000\n",
       "1    25000\n",
       "2     7000\n",
       "Name: REQUESTED $, dtype: int64"
      ]
     },
     "metadata": {},
     "output_type": "display_data"
    },
    {
     "name": "stdout",
     "output_type": "stream",
     "text": [
      ">CHALLENGE: Partnerships for Global Adoptio\n"
     ]
    },
    {
     "data": {
      "text/plain": [
       "0     8400\n",
       "1    10000\n",
       "2     7500\n",
       "Name: REQUESTED $, dtype: int64"
      ]
     },
     "metadata": {},
     "output_type": "display_data"
    },
    {
     "name": "stdout",
     "output_type": "stream",
     "text": [
      ">CHALLENGE: NFT Business models\n"
     ]
    },
    {
     "data": {
      "text/plain": [
       "0    15000\n",
       "1    80000\n",
       "2    18600\n",
       "Name: REQUESTED $, dtype: int64"
      ]
     },
     "metadata": {},
     "output_type": "display_data"
    },
    {
     "name": "stdout",
     "output_type": "stream",
     "text": [
      ">CHALLENGE: Atala PRISM DID Mass-Scale Adop\n"
     ]
    },
    {
     "data": {
      "text/plain": [
       "0    10000\n",
       "1    37000\n",
       "2    12500\n",
       "Name: REQUESTED $, dtype: int64"
      ]
     },
     "metadata": {},
     "output_type": "display_data"
    },
    {
     "name": "stdout",
     "output_type": "stream",
     "text": [
      ">CHALLENGE: Disaster When all is at stake\n"
     ]
    },
    {
     "data": {
      "text/plain": [
       "0    40000\n",
       "1     1000\n",
       "2    22000\n",
       "Name: REQUESTED $, dtype: int64"
      ]
     },
     "metadata": {},
     "output_type": "display_data"
    },
    {
     "name": "stdout",
     "output_type": "stream",
     "text": [
      ">CHALLENGE: Scale-UP Cardano’s Community Hu\n"
     ]
    },
    {
     "data": {
      "text/plain": [
       "0    7250\n",
       "1    9900\n",
       "2    3000\n",
       "Name: REQUESTED $, dtype: int64"
      ]
     },
     "metadata": {},
     "output_type": "display_data"
    },
    {
     "name": "stdout",
     "output_type": "stream",
     "text": [
      ">CHALLENGE: Improve and Grow Auditability\n"
     ]
    },
    {
     "data": {
      "text/plain": [
       "0     8720\n",
       "1    17200\n",
       "2    15000\n",
       "Name: REQUESTED $, dtype: int64"
      ]
     },
     "metadata": {},
     "output_type": "display_data"
    },
    {
     "name": "stdout",
     "output_type": "stream",
     "text": [
      ">CHALLENGE: Fund7 challenge setting\n"
     ]
    },
    {
     "data": {
      "text/plain": [
       "0    500000\n",
       "1    200000\n",
       "2     75000\n",
       "Name: REQUESTED $, dtype: int64"
      ]
     },
     "metadata": {},
     "output_type": "display_data"
    },
    {
     "name": "stdout",
     "output_type": "stream",
     "text": [
      ">CHALLENGE: Sponsored by leftovers\n"
     ]
    },
    {
     "data": {
      "text/plain": [
       "0     33000\n",
       "1    115700\n",
       "2     40000\n",
       "Name: REQUESTED $, dtype: int64"
      ]
     },
     "metadata": {},
     "output_type": "display_data"
    },
    {
     "name": "stdout",
     "output_type": "stream",
     "text": [
      "\n",
      " >> FUND: f7\n",
      ">CHALLENGE: A.I. & SingularityNet a $5T mar\n"
     ]
    },
    {
     "data": {
      "text/plain": [
       "0    120000\n",
       "1    110000\n",
       "2     30000\n",
       "Name: REQUESTED $, dtype: int64"
      ]
     },
     "metadata": {},
     "output_type": "display_data"
    },
    {
     "name": "stdout",
     "output_type": "stream",
     "text": [
      ">CHALLENGE: Accelerate Decentralized Identi\n"
     ]
    },
    {
     "data": {
      "text/plain": [
       "0    18200\n",
       "1     5500\n",
       "2    50000\n",
       "Name: REQUESTED $, dtype: int64"
      ]
     },
     "metadata": {},
     "output_type": "display_data"
    },
    {
     "name": "stdout",
     "output_type": "stream",
     "text": [
      ">CHALLENGE: Boosting Cardanos DeFi\n"
     ]
    },
    {
     "data": {
      "text/plain": [
       "0    80000\n",
       "1    92820\n",
       "2    21900\n",
       "Name: REQUESTED $, dtype: int64"
      ]
     },
     "metadata": {},
     "output_type": "display_data"
    },
    {
     "name": "stdout",
     "output_type": "stream",
     "text": [
      ">CHALLENGE: Catalyst - Rapid Funding Mechan\n"
     ]
    },
    {
     "data": {
      "text/plain": [
       "0    96000\n",
       "1    71000\n",
       "2    41000\n",
       "Name: REQUESTED $, dtype: int64"
      ]
     },
     "metadata": {},
     "output_type": "display_data"
    },
    {
     "name": "stdout",
     "output_type": "stream",
     "text": [
      ">CHALLENGE: Catalyst Accelerator & Mentors\n"
     ]
    },
    {
     "data": {
      "text/plain": [
       "0    10000\n",
       "1    34250\n",
       "2    60000\n",
       "Name: REQUESTED $, dtype: int64"
      ]
     },
     "metadata": {},
     "output_type": "display_data"
    },
    {
     "name": "stdout",
     "output_type": "stream",
     "text": [
      ">CHALLENGE: Catalyst Natives COTI Pay with \n"
     ]
    },
    {
     "data": {
      "text/plain": [
       "0    35160\n",
       "1    13200\n",
       "2    19600\n",
       "Name: REQUESTED $, dtype: int64"
      ]
     },
     "metadata": {},
     "output_type": "display_data"
    },
    {
     "name": "stdout",
     "output_type": "stream",
     "text": [
      ">CHALLENGE: Community Events\n"
     ]
    },
    {
     "data": {
      "text/plain": [
       "0     4000\n",
       "1    22700\n",
       "2     4350\n",
       "Name: REQUESTED $, dtype: int64"
      ]
     },
     "metadata": {},
     "output_type": "display_data"
    },
    {
     "name": "stdout",
     "output_type": "stream",
     "text": [
      ">CHALLENGE: Connecting Japan日本 Community\n"
     ]
    },
    {
     "data": {
      "text/plain": [
       "0     9000\n",
       "1    10000\n",
       "2     5000\n",
       "Name: REQUESTED $, dtype: int64"
      ]
     },
     "metadata": {},
     "output_type": "display_data"
    },
    {
     "name": "stdout",
     "output_type": "stream",
     "text": [
      ">CHALLENGE: DAOs ❤ Cardano\n"
     ]
    },
    {
     "data": {
      "text/plain": [
       "0     2987\n",
       "1    25000\n",
       "2    72000\n",
       "Name: REQUESTED $, dtype: int64"
      ]
     },
     "metadata": {},
     "output_type": "display_data"
    },
    {
     "name": "stdout",
     "output_type": "stream",
     "text": [
      ">CHALLENGE: DApps & Integrations\n"
     ]
    },
    {
     "data": {
      "text/plain": [
       "0    23700\n",
       "1    50000\n",
       "2    25050\n",
       "Name: REQUESTED $, dtype: int64"
      ]
     },
     "metadata": {},
     "output_type": "display_data"
    },
    {
     "name": "stdout",
     "output_type": "stream",
     "text": [
      ">CHALLENGE: Disarm cyber disinformation att\n"
     ]
    },
    {
     "data": {
      "text/plain": [
       "0    39500\n",
       "1    20000\n",
       "2     1500\n",
       "Name: REQUESTED $, dtype: int64"
      ]
     },
     "metadata": {},
     "output_type": "display_data"
    },
    {
     "name": "stdout",
     "output_type": "stream",
     "text": [
      ">CHALLENGE: Gamers On-Chained\n"
     ]
    },
    {
     "data": {
      "text/plain": [
       "0    57000\n",
       "1    45000\n",
       "2    31426\n",
       "Name: REQUESTED $, dtype: int64"
      ]
     },
     "metadata": {},
     "output_type": "display_data"
    },
    {
     "name": "stdout",
     "output_type": "stream",
     "text": [
      ">CHALLENGE: Global Sustainable Indep. SPOs\n"
     ]
    },
    {
     "data": {
      "text/plain": [
       "0     3500\n",
       "1    38100\n",
       "2     5000\n",
       "Name: REQUESTED $, dtype: int64"
      ]
     },
     "metadata": {},
     "output_type": "display_data"
    },
    {
     "name": "stdout",
     "output_type": "stream",
     "text": [
      ">CHALLENGE: Grow Latin America, Grow Cardan\n"
     ]
    },
    {
     "data": {
      "text/plain": [
       "0     9150\n",
       "1     7500\n",
       "2    19488\n",
       "Name: REQUESTED $, dtype: int64"
      ]
     },
     "metadata": {},
     "output_type": "display_data"
    },
    {
     "name": "stdout",
     "output_type": "stream",
     "text": [
      ">CHALLENGE: Improve and Grow Auditability\n"
     ]
    },
    {
     "data": {
      "text/plain": [
       "0    19000\n",
       "1    19100\n",
       "2    16100\n",
       "Name: REQUESTED $, dtype: int64"
      ]
     },
     "metadata": {},
     "output_type": "display_data"
    },
    {
     "name": "stdout",
     "output_type": "stream",
     "text": [
      ">CHALLENGE: Lobbying for favorable legislat\n"
     ]
    },
    {
     "data": {
      "text/plain": [
       "0     3000\n",
       "1    25000\n",
       "2     7500\n",
       "Name: REQUESTED $, dtype: int64"
      ]
     },
     "metadata": {},
     "output_type": "display_data"
    },
    {
     "name": "stdout",
     "output_type": "stream",
     "text": [
      ">CHALLENGE: MiniLow-Budget Dapps & Integrat\n"
     ]
    },
    {
     "data": {
      "text/plain": [
       "0    10000\n",
       "1    10000\n",
       "2    10000\n",
       "Name: REQUESTED $, dtype: int64"
      ]
     },
     "metadata": {},
     "output_type": "display_data"
    },
    {
     "name": "stdout",
     "output_type": "stream",
     "text": [
      ">CHALLENGE: Miscellaneous Challenge\n"
     ]
    },
    {
     "data": {
      "text/plain": [
       "0    28000\n",
       "1     4980\n",
       "2    40000\n",
       "Name: REQUESTED $, dtype: int64"
      ]
     },
     "metadata": {},
     "output_type": "display_data"
    },
    {
     "name": "stdout",
     "output_type": "stream",
     "text": [
      ">CHALLENGE: Multilingual resources\n"
     ]
    },
    {
     "data": {
      "text/plain": [
       "0    15000\n",
       "1     7500\n",
       "2    12500\n",
       "Name: REQUESTED $, dtype: int64"
      ]
     },
     "metadata": {},
     "output_type": "display_data"
    },
    {
     "name": "stdout",
     "output_type": "stream",
     "text": [
      ">CHALLENGE: Nation Building Dapps\n"
     ]
    },
    {
     "data": {
      "text/plain": [
       "0     75000\n",
       "1     75000\n",
       "2    146960\n",
       "Name: REQUESTED $, dtype: int64"
      ]
     },
     "metadata": {},
     "output_type": "display_data"
    },
    {
     "name": "stdout",
     "output_type": "stream",
     "text": [
      ">CHALLENGE: New SPO Business Opportunities\n"
     ]
    },
    {
     "data": {
      "text/plain": [
       "0     35300\n",
       "1     20000\n",
       "2    100000\n",
       "Name: REQUESTED $, dtype: int64"
      ]
     },
     "metadata": {},
     "output_type": "display_data"
    },
    {
     "name": "stdout",
     "output_type": "stream",
     "text": [
      ">CHALLENGE: Open Source Developer Ecosystem\n"
     ]
    },
    {
     "data": {
      "text/plain": [
       "0     75000\n",
       "1     40000\n",
       "2    119000\n",
       "Name: REQUESTED $, dtype: int64"
      ]
     },
     "metadata": {},
     "output_type": "display_data"
    },
    {
     "name": "stdout",
     "output_type": "stream",
     "text": [
      ">CHALLENGE: Scale-UP Cardanos Community Hub\n"
     ]
    },
    {
     "data": {
      "text/plain": [
       "0    80000\n",
       "1    10000\n",
       "2     1500\n",
       "Name: REQUESTED $, dtype: int64"
      ]
     },
     "metadata": {},
     "output_type": "display_data"
    },
    {
     "name": "stdout",
     "output_type": "stream",
     "text": [
      ">CHALLENGE: Seeding Cardanos Grassroots DeF\n"
     ]
    },
    {
     "data": {
      "text/plain": [
       "0    12000\n",
       "1    50000\n",
       "2    26500\n",
       "Name: REQUESTED $, dtype: int64"
      ]
     },
     "metadata": {},
     "output_type": "display_data"
    },
    {
     "name": "stdout",
     "output_type": "stream",
     "text": [
      ">CHALLENGE: Fund8 challenge setting\n"
     ]
    },
    {
     "data": {
      "text/plain": [
       "0    1000000\n",
       "1    1200000\n",
       "2     800000\n",
       "Name: REQUESTED $, dtype: int64"
      ]
     },
     "metadata": {},
     "output_type": "display_data"
    },
    {
     "name": "stdout",
     "output_type": "stream",
     "text": [
      ">CHALLENGE: Sponsored by leftovers\n"
     ]
    },
    {
     "data": {
      "text/plain": [
       "0    119000\n",
       "1     25000\n",
       "2     12000\n",
       "Name: REQUESTED $, dtype: int64"
      ]
     },
     "metadata": {},
     "output_type": "display_data"
    },
    {
     "name": "stdout",
     "output_type": "stream",
     "text": [
      "\n",
      " >> FUND: f8\n",
      ">CHALLENGE: Accelerate Decentralized Identi\n"
     ]
    },
    {
     "data": {
      "text/plain": [
       "0     6425\n",
       "1    46200\n",
       "2    25000\n",
       "Name: REQUESTED $, dtype: int64"
      ]
     },
     "metadata": {},
     "output_type": "display_data"
    },
    {
     "name": "stdout",
     "output_type": "stream",
     "text": [
      ">CHALLENGE: Business Solutions (B2B & B2C)\n"
     ]
    },
    {
     "data": {
      "text/plain": [
       "0    100000\n",
       "1     40000\n",
       "2     56000\n",
       "Name: REQUESTED $, dtype: int64"
      ]
     },
     "metadata": {},
     "output_type": "display_data"
    },
    {
     "name": "stdout",
     "output_type": "stream",
     "text": [
      ">CHALLENGE: Cardano scaling solutions\n"
     ]
    },
    {
     "data": {
      "text/plain": [
       "0      80000\n",
       "1      75000\n",
       "2    1000000\n",
       "Name: REQUESTED $, dtype: int64"
      ]
     },
     "metadata": {},
     "output_type": "display_data"
    },
    {
     "name": "stdout",
     "output_type": "stream",
     "text": [
      ">CHALLENGE: Community Advisor Improvements\n"
     ]
    },
    {
     "data": {
      "text/plain": [
       "0    7500\n",
       "1    7500\n",
       "2    3800\n",
       "Name: REQUESTED $, dtype: int64"
      ]
     },
     "metadata": {},
     "output_type": "display_data"
    },
    {
     "name": "stdout",
     "output_type": "stream",
     "text": [
      ">CHALLENGE: Cross-Chain Collaboration\n"
     ]
    },
    {
     "data": {
      "text/plain": [
       "0    20000\n",
       "1    75000\n",
       "2     8500\n",
       "Name: REQUESTED $, dtype: int64"
      ]
     },
     "metadata": {},
     "output_type": "display_data"
    },
    {
     "name": "stdout",
     "output_type": "stream",
     "text": [
      ">CHALLENGE: DApps and Integrations\n"
     ]
    },
    {
     "data": {
      "text/plain": [
       "0    45000\n",
       "1    30200\n",
       "2    20000\n",
       "Name: REQUESTED $, dtype: int64"
      ]
     },
     "metadata": {},
     "output_type": "display_data"
    },
    {
     "name": "stdout",
     "output_type": "stream",
     "text": [
      ">CHALLENGE: Developer Ecosystem\n"
     ]
    },
    {
     "data": {
      "text/plain": [
       "0    83000\n",
       "1    20000\n",
       "2    90000\n",
       "Name: REQUESTED $, dtype: int64"
      ]
     },
     "metadata": {},
     "output_type": "display_data"
    },
    {
     "name": "stdout",
     "output_type": "stream",
     "text": [
      ">CHALLENGE: Film + Media (FAM) creatives un\n"
     ]
    },
    {
     "data": {
      "text/plain": [
       "0    10000\n",
       "1    15000\n",
       "2    15000\n",
       "Name: REQUESTED $, dtype: int64"
      ]
     },
     "metadata": {},
     "output_type": "display_data"
    },
    {
     "name": "stdout",
     "output_type": "stream",
     "text": [
      ">CHALLENGE: Gamers On - Chained\n"
     ]
    },
    {
     "data": {
      "text/plain": [
       "0    54050\n",
       "1    13200\n",
       "2    35000\n",
       "Name: REQUESTED $, dtype: int64"
      ]
     },
     "metadata": {},
     "output_type": "display_data"
    },
    {
     "name": "stdout",
     "output_type": "stream",
     "text": [
      ">CHALLENGE: Grow Africa, Grow Cardano\n"
     ]
    },
    {
     "data": {
      "text/plain": [
       "0    15000\n",
       "1    24200\n",
       "2     9800\n",
       "Name: REQUESTED $, dtype: int64"
      ]
     },
     "metadata": {},
     "output_type": "display_data"
    },
    {
     "name": "stdout",
     "output_type": "stream",
     "text": [
      ">CHALLENGE: Grow East Asia, Grow Cardano\n"
     ]
    },
    {
     "data": {
      "text/plain": [
       "0    50000\n",
       "1     8640\n",
       "2    11500\n",
       "Name: REQUESTED $, dtype: int64"
      ]
     },
     "metadata": {},
     "output_type": "display_data"
    },
    {
     "name": "stdout",
     "output_type": "stream",
     "text": [
      ">CHALLENGE: Grow India, Grow Cardano\n"
     ]
    },
    {
     "data": {
      "text/plain": [
       "0    22500\n",
       "1    24900\n",
       "2    29750\n",
       "Name: REQUESTED $, dtype: int64"
      ]
     },
     "metadata": {},
     "output_type": "display_data"
    },
    {
     "name": "stdout",
     "output_type": "stream",
     "text": [
      ">CHALLENGE: Improve and Grow Auditability\n"
     ]
    },
    {
     "data": {
      "text/plain": [
       "0    26000\n",
       "1    28420\n",
       "2    50000\n",
       "Name: REQUESTED $, dtype: int64"
      ]
     },
     "metadata": {},
     "output_type": "display_data"
    },
    {
     "name": "stdout",
     "output_type": "stream",
     "text": [
      ">CHALLENGE: Lobbying for favorable legislat\n"
     ]
    },
    {
     "data": {
      "text/plain": [
       "0    13830\n",
       "1    30000\n",
       "2    20000\n",
       "Name: REQUESTED $, dtype: int64"
      ]
     },
     "metadata": {},
     "output_type": "display_data"
    },
    {
     "name": "stdout",
     "output_type": "stream",
     "text": [
      ">CHALLENGE: Miscellaneous Challenge\n"
     ]
    },
    {
     "data": {
      "text/plain": [
       "0    45000\n",
       "1    30000\n",
       "2    24600\n",
       "Name: REQUESTED $, dtype: int64"
      ]
     },
     "metadata": {},
     "output_type": "display_data"
    },
    {
     "name": "stdout",
     "output_type": "stream",
     "text": [
      ">CHALLENGE: Nation Building Dapps\n"
     ]
    },
    {
     "data": {
      "text/plain": [
       "0    111100\n",
       "1     48500\n",
       "2     18600\n",
       "Name: REQUESTED $, dtype: int64"
      ]
     },
     "metadata": {},
     "output_type": "display_data"
    },
    {
     "name": "stdout",
     "output_type": "stream",
     "text": [
      ">CHALLENGE: New Member Onboarding\n"
     ]
    },
    {
     "data": {
      "text/plain": [
       "0    15000\n",
       "1    15000\n",
       "2    27260\n",
       "Name: REQUESTED $, dtype: int64"
      ]
     },
     "metadata": {},
     "output_type": "display_data"
    },
    {
     "name": "stdout",
     "output_type": "stream",
     "text": [
      ">CHALLENGE: Open Source Development Ecosyst\n"
     ]
    },
    {
     "data": {
      "text/plain": [
       "0    75000\n",
       "1     8000\n",
       "2    30000\n",
       "Name: REQUESTED $, dtype: int64"
      ]
     },
     "metadata": {},
     "output_type": "display_data"
    },
    {
     "name": "stdout",
     "output_type": "stream",
     "text": [
      ">CHALLENGE: Open Standards & Interoperabili\n"
     ]
    },
    {
     "data": {
      "text/plain": [
       "0    20000\n",
       "1    31600\n",
       "2    49500\n",
       "Name: REQUESTED $, dtype: int64"
      ]
     },
     "metadata": {},
     "output_type": "display_data"
    },
    {
     "name": "stdout",
     "output_type": "stream",
     "text": [
      ">CHALLENGE: Scale-UP Cardanos Community Hub\n"
     ]
    },
    {
     "data": {
      "text/plain": [
       "0    80000\n",
       "1    17600\n",
       "2    22500\n",
       "Name: REQUESTED $, dtype: int64"
      ]
     },
     "metadata": {},
     "output_type": "display_data"
    },
    {
     "name": "stdout",
     "output_type": "stream",
     "text": [
      ">CHALLENGE: Self-Sovereign Identity\n"
     ]
    },
    {
     "data": {
      "text/plain": [
       "0    10000\n",
       "1     7000\n",
       "2    30300\n",
       "Name: REQUESTED $, dtype: int64"
      ]
     },
     "metadata": {},
     "output_type": "display_data"
    },
    {
     "name": "stdout",
     "output_type": "stream",
     "text": [
      ">CHALLENGE: The Great Migration (from Ether\n"
     ]
    },
    {
     "data": {
      "text/plain": [
       "0    27000\n",
       "1    90000\n",
       "2    75000\n",
       "Name: REQUESTED $, dtype: int64"
      ]
     },
     "metadata": {},
     "output_type": "display_data"
    },
    {
     "name": "stdout",
     "output_type": "stream",
     "text": [
      ">CHALLENGE: Fund9 challenge setting\n"
     ]
    },
    {
     "data": {
      "text/plain": [
       "0     500000\n",
       "1    1000000\n",
       "2    2350000\n",
       "Name: REQUESTED $, dtype: int64"
      ]
     },
     "metadata": {},
     "output_type": "display_data"
    },
    {
     "name": "stdout",
     "output_type": "stream",
     "text": [
      ">CHALLENGE: Funded by leftovers\n"
     ]
    },
    {
     "data": {
      "text/plain": [
       "0    1000000\n",
       "1      50000\n",
       "2      24150\n",
       "Name: REQUESTED $, dtype: int64"
      ]
     },
     "metadata": {},
     "output_type": "display_data"
    }
   ],
   "source": [
    "for fund in funds:\n",
    "    print('\\n >> FUND: {}'.format(fund))\n",
    "    print_requested(fund)"
   ]
  },
  {
   "cell_type": "markdown",
   "id": "2d1ac211",
   "metadata": {},
   "source": [
    "#### Columns and Missing default-columns"
   ]
  },
  {
   "cell_type": "code",
   "execution_count": 23,
   "id": "6fe37aaa",
   "metadata": {
    "scrolled": true
   },
   "outputs": [
    {
     "name": "stdout",
     "output_type": "stream",
     "text": [
      "\n",
      " >> FUND: f3\n",
      "#CHALLANGES: 3\n",
      "\n",
      "CHALLANGE: DApp creation\n",
      "columns: ['Proposal', 'YES', 'NO', 'Result', 'Meets approval threshold', 'REQUESTED $', 'STATUS', 'FUND DEPLETION', 'Reason for not funded status', 'challenge', 'Budget', 'REQUESTED %']\n",
      "Missing defaults: {'Unique No', 'Unique Yes', 'SCORE'}\n",
      "\n",
      "CHALLANGE: Developer ecosystem\n",
      "columns: ['Proposal', 'YES', 'NO', 'Result', 'Meets approval threshold', 'REQUESTED $', 'STATUS', 'FUND DEPLETION', 'Reason for not funded status', 'challenge', 'Budget', 'REQUESTED %']\n",
      "Missing defaults: {'Unique No', 'Unique Yes', 'SCORE'}\n",
      "\n",
      "CHALLANGE: Community choice\n",
      "columns: ['Proposal', 'YES', 'NO', 'Result', 'Meets approval threshold', 'REQUESTED $', 'STATUS', 'FUND DEPLETION', 'Reason for not funded status', 'challenge', 'Budget', 'REQUESTED %']\n",
      "Missing defaults: {'Unique No', 'Unique Yes', 'SCORE'}\n",
      "\n",
      " >> FUND: f4\n",
      "#CHALLANGES: 8\n",
      "\n",
      "CHALLANGE: DApp&Integrations\n",
      "columns: ['Proposal', 'Link to ideascale', 'SCORE', 'YES', 'NO', 'Result', 'Meets approval threshold', 'REQUESTED $', 'STATUS', 'FUND DEPLETION', 'Reason for not funded status', 'challenge', 'Budget', 'REQUESTED %']\n",
      "Missing defaults: {'Unique Yes', 'Unique No'}\n",
      "\n",
      "CHALLANGE: Developer ecosystem\n",
      "columns: ['Proposal', 'Link to ideascale', 'SCORE', 'YES', 'NO', 'Result', 'Meets approval threshold', 'REQUESTED $', 'STATUS', 'FUND DEPLETION', 'Reason for not funded status', 'challenge', 'Budget', 'REQUESTED %']\n",
      "Missing defaults: {'Unique Yes', 'Unique No'}\n",
      "\n",
      "CHALLANGE: Distributed decision making\n",
      "columns: ['Proposal', 'Link to ideascale', 'SCORE', 'YES', 'NO', 'Result', 'Meets approval threshold', 'REQUESTED $', 'STATUS', 'FUND DEPLETION', 'Reason for not funded status', 'challenge', 'Budget', 'REQUESTED %']\n",
      "Missing defaults: {'Unique Yes', 'Unique No'}\n",
      "\n",
      "CHALLANGE: Proposer Outreach\n",
      "columns: ['Proposal', 'Link to Ideascale', 'SCORE', 'YES', 'NO', 'Result', 'Meets approval threshold', 'REQUESTED $', 'STATUS', 'FUND DEPLETION', 'Reason for not funded status', 'challenge', 'Budget', 'REQUESTED %']\n",
      "Missing defaults: {'Unique Yes', 'Unique No'}\n",
      "\n",
      "CHALLANGE: Catalyst Value Onboarding\n",
      "columns: ['Proposal', 'Link to ideascale', 'SCORE', 'YES', 'NO', 'Result', 'Meets approval threshold', 'REQUESTED $', 'STATUS', 'FUND DEPLETION', 'Reason for not funded status', 'challenge', 'Budget', 'REQUESTED %']\n",
      "Missing defaults: {'Unique Yes', 'Unique No'}\n",
      "\n",
      "CHALLANGE: Local Community Centers\n",
      "columns: ['Proposal', 'Link to ideascale', 'SCORE', 'YES', 'NO', 'Result', 'Meets approval threshold', 'REQUESTED $', 'STATUS', 'FUND DEPLETION', 'Reason for not funded status', 'challenge', 'Budget', 'REQUESTED %']\n",
      "Missing defaults: {'Unique Yes', 'Unique No'}\n",
      "\n",
      "CHALLANGE: Fund6 Challenge Setting\n",
      "columns: ['Proposal', 'Link to ideascale', 'SCORE', 'YES', 'NO', 'Result', 'Meets approval threshold', 'REQUESTED $', 'STATUS', 'FUND DEPLETION', 'Reason for not funded status', 'challenge', 'Budget', 'REQUESTED %']\n",
      "Missing defaults: {'Unique Yes', 'Unique No'}\n",
      "\n",
      "CHALLANGE: Sponsored by leftovers\n",
      "columns: ['Proposal', 'Link to ideascale', 'SCORE', 'YES', 'NO', 'Result', 'Meets approval threshold', 'REQUESTED $', 'STATUS', 'FUND DEPLETION', 'Reason for not funded status', 'challenge', 'Budget', 'REQUESTED %']\n",
      "Missing defaults: {'Unique Yes', 'Unique No'}\n",
      "\n",
      " >> FUND: f5\n",
      "#CHALLANGES: 10\n",
      "\n",
      "CHALLANGE: Developer ecosystem\n",
      "columns: ['Proposal', 'Link to ideascale', 'SCORE', 'Unique Yes', 'Unique No', 'Votes casted', 'YES', 'NO', 'Result', 'Meets approval threshold', 'REQUESTED $', 'STATUS', 'FUND DEPLETION', 'Reason for not funded status', 'challenge', 'Budget', 'REQUESTED %']\n",
      "Missing defaults: set()\n",
      "\n",
      "CHALLANGE: DApp&Integrations\n",
      "columns: ['Proposal', 'Link to ideascale', 'SCORE', 'Unique Yes', 'Unique No', 'Votes casted', 'YES', 'NO', 'Result', 'Meets approval threshold', 'REQUESTED $', 'STATUS', 'FUND DEPLETION', 'Reason for not funded status', 'challenge', 'Budget', 'REQUESTED %']\n",
      "Missing defaults: set()\n",
      "\n",
      "CHALLANGE: Distributed decision making\n",
      "columns: ['Proposal', 'Link to ideascale', 'SCORE', 'Unique Yes', 'Unique No', 'Votes casted', 'YES', 'NO', 'Result', 'Meets approval threshold', 'REQUESTED $', 'STATUS', 'FUND DEPLETION', 'Reason for not funded status', 'challenge', 'Budget', 'REQUESTED %']\n",
      "Missing defaults: set()\n",
      "\n",
      "CHALLANGE: Proposer Outreach\n",
      "columns: ['Proposal', 'Link to Ideascale', 'SCORE', 'Unique Yes', 'Unique No', 'Votes casted', 'YES', 'NO', 'Result', 'Meets approval threshold', 'REQUESTED $', 'STATUS', 'FUND DEPLETION', 'Reason for not funded status', 'challenge', 'Budget', 'REQUESTED %']\n",
      "Missing defaults: set()\n",
      "\n",
      "CHALLANGE: Catalyst Value Onboarding\n",
      "columns: ['Proposal', 'Link to ideascale', 'SCORE', 'Unique Yes', 'Unique No', 'Votes casted', 'YES', 'NO', 'Result', 'Meets approval threshold', 'REQUESTED $', 'STATUS', 'FUND DEPLETION', 'Reason for not funded status', 'challenge', 'Budget', 'REQUESTED %']\n",
      "Missing defaults: set()\n",
      "\n",
      "CHALLANGE: Metadata challenge\n",
      "columns: ['Proposal', 'Link to ideascale', 'SCORE', 'Unique Yes', 'Unique No', 'Votes casted', 'YES', 'NO', 'Result', 'Meets approval threshold', 'REQUESTED $', 'STATUS', 'FUND DEPLETION', 'Reason for not funded status', 'challenge', 'Budget', 'REQUESTED %']\n",
      "Missing defaults: set()\n",
      "\n",
      "CHALLANGE: Grow Africa, Grow Cardano wv\n",
      "columns: ['Proposal', 'Link to ideascale', 'SCORE', 'Unique Yes', 'Unique No', 'Votes casted', 'YES', 'NO', 'Result', 'Meets approval threshold', 'REQUESTED $', 'STATUS', 'FUND DEPLETION', 'Reason for not funded status', 'challenge', 'Budget', 'REQUESTED %']\n",
      "Missing defaults: set()\n",
      "\n",
      "CHALLANGE: Scale-UP Cardanos DeFi Ecosyste\n",
      "columns: ['Proposal', 'Link to ideascale', 'SCORE', 'Unique Yes', 'Unique No', 'Votes casted', 'YES', 'NO', 'Result', 'Meets approval threshold', 'REQUESTED $', 'STATUS', 'FUND DEPLETION', 'Reason for not funded status', 'challenge', 'Budget', 'REQUESTED %']\n",
      "Missing defaults: set()\n",
      "\n",
      "CHALLANGE: Fund7 Challenge Setting wv\n",
      "columns: ['Proposal', 'Link to ideascale', 'SCORE', 'Unique Yes', 'Unique No', 'Votes casted', 'YES', 'NO', 'Result', 'Meets approval threshold', 'REQUESTED $', 'STATUS', 'FUND DEPLETION', 'Reason for not funded status', 'challenge', 'Budget', 'REQUESTED %']\n",
      "Missing defaults: set()\n",
      "\n",
      "CHALLANGE: Sponsored by leftovers\n",
      "columns: ['Proposal', 'Link to ideascale', 'SCORE', 'Unique Yes', 'Unique No', 'Votes casted', 'YES', 'NO', 'Result', 'Meets approval threshold', 'REQUESTED $', 'STATUS', 'FUND DEPLETION', 'Reason for not funded status', 'challenge', 'Budget', 'REQUESTED %']\n",
      "Missing defaults: set()\n",
      "\n",
      " >> FUND: f6\n",
      "#CHALLANGES: 20\n",
      "\n",
      "CHALLANGE: Developer ecosystem\n",
      "columns: ['Proposal', 'Link to ideascale', 'SCORE', 'Votes cast', 'YES', 'NO', 'Result', 'Meets approval threshold', 'REQUESTED $', 'STATUS', 'FUND DEPLETION', 'Reason for not funded status', 'challenge', 'Budget', 'REQUESTED %']\n",
      "Missing defaults: {'Unique Yes', 'Unique No'}\n",
      "\n",
      "CHALLANGE: DApps & Integrations\n",
      "columns: ['Proposal', 'Link to ideascale', 'SCORE', 'Votes cast', 'YES', 'NO', 'Result', 'Meets approval threshold', 'REQUESTED $', 'STATUS', 'FUND DEPLETION', 'Reason for not funded status', 'challenge', 'Budget', 'REQUESTED %']\n",
      "Missing defaults: {'Unique Yes', 'Unique No'}\n",
      "\n",
      "CHALLANGE: Distributed decision making\n",
      "columns: ['Proposal', 'Link to ideascale', 'SCORE', 'Votes cast', 'YES', 'NO', 'Result', 'Meets approval threshold', 'REQUESTED $', 'STATUS', 'FUND DEPLETION', 'Reason for not funded status', 'challenge', 'Budget', 'REQUESTED %']\n",
      "Missing defaults: {'Unique Yes', 'Unique No'}\n",
      "\n",
      "CHALLANGE: Proposer outreach\n",
      "columns: ['Proposal', 'Link to ideascale', 'SCORE', 'Votes cast', 'YES', 'NO', 'Result', 'Meets approval threshold', 'REQUESTED $', 'STATUS', 'FUND DEPLETION', 'Reason for not funded status', 'challenge', 'Budget', 'REQUESTED %']\n",
      "Missing defaults: {'Unique Yes', 'Unique No'}\n",
      "\n",
      "CHALLANGE: Catalyst value onboarding\n",
      "columns: ['Proposal', 'Link to ideascale', 'SCORE', 'Votes cast', 'YES', 'NO', 'Result', 'Meets approval threshold', 'REQUESTED $', 'STATUS', 'FUND DEPLETION', 'Reason for not funded status', 'challenge', 'Budget', 'REQUESTED %']\n",
      "Missing defaults: {'Unique Yes', 'Unique No'}\n",
      "\n",
      "CHALLANGE: Metadata\n",
      "columns: ['Proposal', 'Link to ideascale', 'SCORE', 'Votes cast', 'YES', 'NO', 'Result', 'Meets approval threshold', 'REQUESTED $', 'STATUS', 'FUND DEPLETION', 'Reason for not funded status', 'challenge', 'Budget', 'REQUESTED %']\n",
      "Missing defaults: {'Unique Yes', 'Unique No'}\n",
      "\n",
      "CHALLANGE: Grow Africa, Grow Cardano\n",
      "columns: ['Proposal', 'Link to ideascale', 'SCORE', 'Votes cast', 'YES', 'NO', 'Result', 'Meets approval threshold', 'REQUESTED $', 'STATUS', 'FUND DEPLETION', 'Reason for not funded status', 'challenge', 'Budget', 'REQUESTED %']\n",
      "Missing defaults: {'Unique Yes', 'Unique No'}\n",
      "\n",
      "CHALLANGE: Scale-UP Cardano’s DeFi Ecosyst\n",
      "columns: ['Proposal', 'Link to ideascale', 'SCORE', 'Votes cast', 'YES', 'NO', 'Result', 'Meets approval threshold', 'REQUESTED $', 'STATUS', 'FUND DEPLETION', 'Reason for not funded status', 'challenge', 'Budget', 'REQUESTED %']\n",
      "Missing defaults: {'Unique Yes', 'Unique No'}\n",
      "\n",
      "CHALLANGE: Cardano Emerging Threat Alarm\n",
      "columns: ['Proposal', 'Link to ideascale', 'SCORE', 'Votes cast', 'YES', 'NO', 'Result', 'Meets approval threshold', 'REQUESTED $', 'STATUS', 'FUND DEPLETION', 'Reason for not funded status', 'challenge', 'Budget', 'REQUESTED %']\n",
      "Missing defaults: {'Unique Yes', 'Unique No'}\n",
      "\n",
      "CHALLANGE: Multilingual resources\n",
      "columns: ['Proposal', 'Link to ideascale', 'SCORE', 'Votes cast', 'YES', 'NO', 'Result', 'Meets approval threshold', 'REQUESTED $', 'STATUS', 'FUND DEPLETION', 'Reason for not funded status', 'challenge', 'Budget', 'REQUESTED %']\n",
      "Missing defaults: {'Unique Yes', 'Unique No'}\n",
      "\n",
      "CHALLANGE: DeFi and Microlending for Afric\n",
      "columns: ['Proposal', 'Link to ideascale', 'SCORE', 'Votes cast', 'YES', 'NO', 'Result', 'Meets approval threshold', 'REQUESTED $', 'STATUS', 'FUND DEPLETION', 'Reason for not funded status', 'challenge', 'Budget', 'REQUESTED %']\n",
      "Missing defaults: {'Unique Yes', 'Unique No'}\n",
      "\n",
      "CHALLANGE: DLT Entrepreneurship Toolbox\n",
      "columns: ['Proposal', 'Link to ideascale', 'SCORE', 'Votes cast', 'YES', 'NO', 'Result', 'Meets approval threshold', 'REQUESTED $', 'STATUS', 'FUND DEPLETION', 'Reason for not funded status', 'challenge', 'Budget', 'REQUESTED %']\n",
      "Missing defaults: {'Unique Yes', 'Unique No'}\n",
      "\n",
      "CHALLANGE: Partnerships for Global Adoptio\n",
      "columns: ['Proposal', 'Link to ideascale', 'SCORE', 'Votes cast', 'YES', 'NO', 'Result', 'Meets approval threshold', 'REQUESTED $', 'STATUS', 'FUND DEPLETION', 'Reason for not funded status', 'challenge', 'Budget', 'REQUESTED %']\n",
      "Missing defaults: {'Unique Yes', 'Unique No'}\n",
      "\n",
      "CHALLANGE: NFT Business models\n",
      "columns: ['Proposal', 'Link to ideascale', 'SCORE', 'Votes cast', 'YES', 'NO', 'Result', 'Meets approval threshold', 'REQUESTED $', 'STATUS', 'FUND DEPLETION', 'Reason for not funded status', 'challenge', 'Budget', 'REQUESTED %']\n",
      "Missing defaults: {'Unique Yes', 'Unique No'}\n",
      "\n",
      "CHALLANGE: Atala PRISM DID Mass-Scale Adop\n",
      "columns: ['Proposal', 'Link to ideascale', 'SCORE', 'Votes cast', 'YES', 'NO', 'Result', 'Meets approval threshold', 'REQUESTED $', 'STATUS', 'FUND DEPLETION', 'Reason for not funded status', 'challenge', 'Budget', 'REQUESTED %']\n",
      "Missing defaults: {'Unique Yes', 'Unique No'}\n",
      "\n",
      "CHALLANGE: Disaster When all is at stake\n",
      "columns: ['Proposal', 'Link to ideascale', 'SCORE', 'Votes cast', 'YES', 'NO', 'Result', 'Meets approval threshold', 'REQUESTED $', 'STATUS', 'FUND DEPLETION', 'Reason for not funded status', 'challenge', 'Budget', 'REQUESTED %']\n",
      "Missing defaults: {'Unique Yes', 'Unique No'}\n",
      "\n",
      "CHALLANGE: Scale-UP Cardano’s Community Hu\n",
      "columns: ['Proposal', 'Link to ideascale', 'SCORE', 'Votes cast', 'YES', 'NO', 'Result', 'Meets approval threshold', 'REQUESTED $', 'STATUS', 'FUND DEPLETION', 'Reason for not funded status', 'challenge', 'Budget', 'REQUESTED %']\n",
      "Missing defaults: {'Unique Yes', 'Unique No'}\n",
      "\n",
      "CHALLANGE: Improve and Grow Auditability\n",
      "columns: ['Proposal', 'Link to ideascale', 'SCORE', 'Votes cast', 'YES', 'NO', 'Result', 'Meets approval threshold', 'REQUESTED $', 'STATUS', 'FUND DEPLETION', 'Reason for not funded status', 'challenge', 'Budget', 'REQUESTED %']\n",
      "Missing defaults: {'Unique Yes', 'Unique No'}\n",
      "\n",
      "CHALLANGE: Fund7 challenge setting\n",
      "columns: ['Proposal', 'Link to ideascale', 'SCORE', 'Votes cast', 'YES', 'NO', 'Result', 'Meets approval threshold', 'REQUESTED $', 'STATUS', 'FUND DEPLETION', 'Reason for not funded status', 'challenge', 'Budget', 'REQUESTED %']\n",
      "Missing defaults: {'Unique Yes', 'Unique No'}\n",
      "\n",
      "CHALLANGE: Sponsored by leftovers\n",
      "columns: ['Challenge', 'Proposal', 'Link to ideascale', 'SCORE', 'Votes cast', 'YES', 'NO', 'Result', 'Meets approval threshold', 'REQUESTED $', 'STATUS', 'FUND DEPLETION', 'Reason for not funded status', 'challenge', 'Budget', 'REQUESTED %']\n",
      "Missing defaults: {'Unique Yes', 'Unique No'}\n",
      "\n",
      " >> FUND: f7\n",
      "#CHALLANGES: 26\n",
      "\n",
      "CHALLANGE: A.I. & SingularityNet a $5T mar\n",
      "columns: ['Proposal', 'SCORE', 'Votes cast', 'YES', 'NO', 'Result', 'Meets approval threshold', 'REQUESTED $', 'STATUS', 'FUND DEPLETION', 'Reason for not funded status', 'challenge', 'Budget', 'REQUESTED %']\n",
      "Missing defaults: {'Unique Yes', 'Unique No'}\n",
      "\n",
      "CHALLANGE: Accelerate Decentralized Identi\n",
      "columns: ['Proposal', 'SCORE', 'Votes cast', 'YES', 'NO', 'Result', 'Meets approval threshold', 'REQUESTED $', 'STATUS', 'FUND DEPLETION', 'Reason for not funded status', 'challenge', 'Budget', 'REQUESTED %']\n",
      "Missing defaults: {'Unique Yes', 'Unique No'}\n",
      "\n",
      "CHALLANGE: Boosting Cardanos DeFi\n",
      "columns: ['Proposal', 'SCORE', 'Votes cast', 'YES', 'NO', 'Result', 'Meets approval threshold', 'REQUESTED $', 'STATUS', 'FUND DEPLETION', 'Reason for not funded status', 'challenge', 'Budget', 'REQUESTED %']\n",
      "Missing defaults: {'Unique Yes', 'Unique No'}\n",
      "\n",
      "CHALLANGE: Catalyst - Rapid Funding Mechan\n",
      "columns: ['Proposal', 'SCORE', 'Votes cast', 'YES', 'NO', 'Result', 'Meets approval threshold', 'REQUESTED $', 'STATUS', 'FUND DEPLETION', 'Reason for not funded status', 'challenge', 'Budget', 'REQUESTED %']\n",
      "Missing defaults: {'Unique Yes', 'Unique No'}\n",
      "\n",
      "CHALLANGE: Catalyst Accelerator & Mentors\n",
      "columns: ['Proposal', 'SCORE', 'Votes cast', 'YES', 'NO', 'Result', 'Meets approval threshold', 'REQUESTED $', 'STATUS', 'FUND DEPLETION', 'Reason for not funded status', 'challenge', 'Budget', 'REQUESTED %']\n",
      "Missing defaults: {'Unique Yes', 'Unique No'}\n",
      "\n",
      "CHALLANGE: Catalyst Natives COTI Pay with \n",
      "columns: ['Proposal', 'SCORE', 'Votes cast', 'YES', 'NO', 'Result', 'Meets approval threshold', 'REQUESTED $', 'STATUS', 'FUND DEPLETION', 'Reason for not funded status', 'challenge', 'Budget', 'REQUESTED %']\n",
      "Missing defaults: {'Unique Yes', 'Unique No'}\n",
      "\n",
      "CHALLANGE: Community Events\n",
      "columns: ['Proposal', 'SCORE', 'Votes cast', 'YES', 'NO', 'Result', 'Meets approval threshold', 'REQUESTED $', 'STATUS', 'FUND DEPLETION', 'Reason for not funded status', 'challenge', 'Budget', 'REQUESTED %']\n",
      "Missing defaults: {'Unique Yes', 'Unique No'}\n",
      "\n",
      "CHALLANGE: Connecting Japan日本 Community\n",
      "columns: ['Proposal', 'SCORE', 'Votes cast', 'YES', 'NO', 'Result', 'Meets approval threshold', 'REQUESTED $', 'STATUS', 'FUND DEPLETION', 'Reason for not funded status', 'challenge', 'Budget', 'REQUESTED %']\n",
      "Missing defaults: {'Unique Yes', 'Unique No'}\n",
      "\n",
      "CHALLANGE: DAOs ❤ Cardano\n",
      "columns: ['Proposal', 'SCORE', 'Votes cast', 'YES', 'NO', 'Result', 'Meets approval threshold', 'REQUESTED $', 'STATUS', 'FUND DEPLETION', 'Reason for not funded status', 'challenge', 'Budget', 'REQUESTED %']\n",
      "Missing defaults: {'Unique Yes', 'Unique No'}\n",
      "\n",
      "CHALLANGE: DApps & Integrations\n",
      "columns: ['Proposal', 'SCORE', 'Votes cast', 'YES', 'NO', 'Result', 'Meets approval threshold', 'REQUESTED $', 'STATUS', 'FUND DEPLETION', 'Reason for not funded status', 'challenge', 'Budget', 'REQUESTED %']\n",
      "Missing defaults: {'Unique Yes', 'Unique No'}\n",
      "\n",
      "CHALLANGE: Disarm cyber disinformation att\n",
      "columns: ['Proposal', 'SCORE', 'Votes cast', 'YES', 'NO', 'Result', 'Meets approval threshold', 'REQUESTED $', 'STATUS', 'FUND DEPLETION', 'Reason for not funded status', 'challenge', 'Budget', 'REQUESTED %']\n",
      "Missing defaults: {'Unique Yes', 'Unique No'}\n",
      "\n",
      "CHALLANGE: Gamers On-Chained\n",
      "columns: ['Proposal', 'SCORE', 'Votes cast', 'YES', 'NO', 'Result', 'Meets approval threshold', 'REQUESTED $', 'STATUS', 'FUND DEPLETION', 'Reason for not funded status', 'challenge', 'Budget', 'REQUESTED %']\n",
      "Missing defaults: {'Unique Yes', 'Unique No'}\n",
      "\n",
      "CHALLANGE: Global Sustainable Indep. SPOs\n",
      "columns: ['Proposal', 'SCORE', 'Votes cast', 'YES', 'NO', 'Result', 'Meets approval threshold', 'REQUESTED $', 'STATUS', 'FUND DEPLETION', 'Reason for not funded status', 'challenge', 'Budget', 'REQUESTED %']\n",
      "Missing defaults: {'Unique Yes', 'Unique No'}\n",
      "\n",
      "CHALLANGE: Grow Latin America, Grow Cardan\n",
      "columns: ['Proposal', 'SCORE', 'Votes cast', 'YES', 'NO', 'Result', 'Meets approval threshold', 'REQUESTED $', 'STATUS', 'FUND DEPLETION', 'Reason for not funded status', 'challenge', 'Budget', 'REQUESTED %']\n",
      "Missing defaults: {'Unique Yes', 'Unique No'}\n",
      "\n",
      "CHALLANGE: Improve and Grow Auditability\n",
      "columns: ['Proposal', 'SCORE', 'Votes cast', 'YES', 'NO', 'Result', 'Meets approval threshold', 'REQUESTED $', 'STATUS', 'FUND DEPLETION', 'Reason for not funded status', 'challenge', 'Budget', 'REQUESTED %']\n",
      "Missing defaults: {'Unique Yes', 'Unique No'}\n",
      "\n",
      "CHALLANGE: Lobbying for favorable legislat\n",
      "columns: ['Proposal', 'SCORE', 'Votes cast', 'YES', 'NO', 'Result', 'Meets approval threshold', 'REQUESTED $', 'STATUS', 'FUND DEPLETION', 'Reason for not funded status', 'challenge', 'Budget', 'REQUESTED %']\n",
      "Missing defaults: {'Unique Yes', 'Unique No'}\n",
      "\n",
      "CHALLANGE: MiniLow-Budget Dapps & Integrat\n",
      "columns: ['Proposal', 'SCORE', 'Votes cast', 'YES', 'NO', 'Result', 'Meets approval threshold', 'REQUESTED $', 'STATUS', 'FUND DEPLETION', 'Reason for not funded status', 'challenge', 'Budget', 'REQUESTED %']\n",
      "Missing defaults: {'Unique Yes', 'Unique No'}\n",
      "\n",
      "CHALLANGE: Miscellaneous Challenge\n",
      "columns: ['Proposal', 'SCORE', 'Votes cast', 'YES', 'NO', 'Result', 'Meets approval threshold', 'REQUESTED $', 'STATUS', 'FUND DEPLETION', 'Reason for not funded status', 'challenge', 'Budget', 'REQUESTED %']\n",
      "Missing defaults: {'Unique Yes', 'Unique No'}\n",
      "\n",
      "CHALLANGE: Multilingual resources\n",
      "columns: ['Proposal', 'SCORE', 'Votes cast', 'YES', 'NO', 'Result', 'Meets approval threshold', 'REQUESTED $', 'STATUS', 'FUND DEPLETION', 'Reason for not funded status', 'challenge', 'Budget', 'REQUESTED %']\n",
      "Missing defaults: {'Unique Yes', 'Unique No'}\n",
      "\n",
      "CHALLANGE: Nation Building Dapps\n",
      "columns: ['Proposal', 'SCORE', 'Votes cast', 'YES', 'NO', 'Result', 'Meets approval threshold', 'REQUESTED $', 'STATUS', 'FUND DEPLETION', 'Reason for not funded status', 'challenge', 'Budget', 'REQUESTED %']\n",
      "Missing defaults: {'Unique Yes', 'Unique No'}\n",
      "\n",
      "CHALLANGE: New SPO Business Opportunities\n",
      "columns: ['Proposal', 'SCORE', 'Votes cast', 'YES', 'NO', 'Result', 'Meets approval threshold', 'REQUESTED $', 'STATUS', 'FUND DEPLETION', 'Reason for not funded status', 'challenge', 'Budget', 'REQUESTED %']\n",
      "Missing defaults: {'Unique Yes', 'Unique No'}\n",
      "\n",
      "CHALLANGE: Open Source Developer Ecosystem\n",
      "columns: ['Proposal', 'SCORE', 'Votes cast', 'YES', 'NO', 'Result', 'Meets approval threshold', 'REQUESTED $', 'STATUS', 'FUND DEPLETION', 'Reason for not funded status', 'challenge', 'Budget', 'REQUESTED %']\n",
      "Missing defaults: {'Unique Yes', 'Unique No'}\n",
      "\n",
      "CHALLANGE: Scale-UP Cardanos Community Hub\n",
      "columns: ['Proposal', 'SCORE', 'Votes cast', 'YES', 'NO', 'Result', 'Meets approval threshold', 'REQUESTED $', 'STATUS', 'FUND DEPLETION', 'Reason for not funded status', 'challenge', 'Budget', 'REQUESTED %']\n",
      "Missing defaults: {'Unique Yes', 'Unique No'}\n",
      "\n",
      "CHALLANGE: Seeding Cardanos Grassroots DeF\n",
      "columns: ['Proposal', 'SCORE', 'Votes cast', 'YES', 'NO', 'Result', 'Meets approval threshold', 'REQUESTED $', 'STATUS', 'FUND DEPLETION', 'Reason for not funded status', 'challenge', 'Budget', 'REQUESTED %']\n",
      "Missing defaults: {'Unique Yes', 'Unique No'}\n",
      "\n",
      "CHALLANGE: Fund8 challenge setting\n",
      "columns: ['Proposal', 'SCORE', 'Votes cast', 'YES', 'NO', 'Result', 'Meets approval threshold', 'REQUESTED $', 'STATUS', 'FUND DEPLETION', 'Reason for not funded status', 'challenge', 'Budget', 'REQUESTED %']\n",
      "Missing defaults: {'Unique Yes', 'Unique No'}\n",
      "\n",
      "CHALLANGE: Sponsored by leftovers\n",
      "columns: ['Proposal', 'SCORE', 'Votes cast', 'YES', 'NO', 'Result', 'Meets approval threshold', 'REQUESTED $', 'STATUS', 'FUND DEPLETION', 'Reason for not funded status', 'challenge', 'Budget', 'REQUESTED %']\n",
      "Missing defaults: {'Unique Yes', 'Unique No'}\n",
      "\n",
      " >> FUND: f8\n",
      "#CHALLANGES: 24\n",
      "\n",
      "CHALLANGE: Accelerate Decentralized Identi\n",
      "columns: ['Proposal', 'SCORE', 'Votes cast', 'YES', 'NO', 'Result', 'Meets approval threshold', 'REQUESTED $', 'STATUS', 'FUND DEPLETION', 'Reason for not funded status', 'challenge', 'Budget', 'REQUESTED %']\n",
      "Missing defaults: {'Unique Yes', 'Unique No'}\n",
      "\n",
      "CHALLANGE: Business Solutions (B2B & B2C)\n",
      "columns: ['Proposal', 'SCORE', 'Votes cast', 'YES', 'NO', 'Result', 'Meets approval threshold', 'REQUESTED $', 'STATUS', 'FUND DEPLETION', 'Reason for not funded status', 'challenge', 'Budget', 'REQUESTED %']\n",
      "Missing defaults: {'Unique Yes', 'Unique No'}\n",
      "\n",
      "CHALLANGE: Cardano scaling solutions\n",
      "columns: ['Proposal', 'SCORE', 'Votes cast', 'YES', 'NO', 'Result', 'Meets approval threshold', 'REQUESTED $', 'STATUS', 'FUND DEPLETION', 'Reason for not funded status', 'challenge', 'Budget', 'REQUESTED %']\n",
      "Missing defaults: {'Unique Yes', 'Unique No'}\n",
      "\n",
      "CHALLANGE: Community Advisor Improvements\n",
      "columns: ['Proposal', 'SCORE', 'Votes cast', 'YES', 'NO', 'Result', 'Meets approval threshold', 'REQUESTED $', 'STATUS', 'FUND DEPLETION', 'Reason for not funded status', 'challenge', 'Budget', 'REQUESTED %']\n",
      "Missing defaults: {'Unique Yes', 'Unique No'}\n",
      "\n",
      "CHALLANGE: Cross-Chain Collaboration\n",
      "columns: ['Proposal', 'SCORE', 'Votes cast', 'YES', 'NO', 'Result', 'Meets approval threshold', 'REQUESTED $', 'STATUS', 'FUND DEPLETION', 'Reason for not funded status', 'challenge', 'Budget', 'REQUESTED %']\n",
      "Missing defaults: {'Unique Yes', 'Unique No'}\n",
      "\n",
      "CHALLANGE: DApps and Integrations\n",
      "columns: ['Proposal', 'SCORE', 'Votes cast', 'YES', 'NO', 'Result', 'Meets approval threshold', 'REQUESTED $', 'STATUS', 'FUND DEPLETION', 'Reason for not funded status', 'challenge', 'Budget', 'REQUESTED %']\n",
      "Missing defaults: {'Unique Yes', 'Unique No'}\n",
      "\n",
      "CHALLANGE: Developer Ecosystem\n",
      "columns: ['Proposal', 'SCORE', 'Votes cast', 'YES', 'NO', 'Result', 'Meets approval threshold', 'REQUESTED $', 'STATUS', 'FUND DEPLETION', 'Reason for not funded status', 'challenge', 'Budget', 'REQUESTED %']\n",
      "Missing defaults: {'Unique Yes', 'Unique No'}\n",
      "\n",
      "CHALLANGE: Film + Media (FAM) creatives un\n",
      "columns: ['Proposal', 'SCORE', 'Votes cast', 'YES', 'NO', 'Result', 'Meets approval threshold', 'REQUESTED $', 'STATUS', 'FUND DEPLETION', 'Reason for not funded status', 'challenge', 'Budget', 'REQUESTED %']\n",
      "Missing defaults: {'Unique Yes', 'Unique No'}\n",
      "\n",
      "CHALLANGE: Gamers On - Chained\n",
      "columns: ['Proposal', 'SCORE', 'Votes cast', 'YES', 'NO', 'Result', 'Meets approval threshold', 'REQUESTED $', 'STATUS', 'FUND DEPLETION', 'Reason for not funded status', 'challenge', 'Budget', 'REQUESTED %']\n",
      "Missing defaults: {'Unique Yes', 'Unique No'}\n",
      "\n",
      "CHALLANGE: Grow Africa, Grow Cardano\n",
      "columns: ['Proposal', 'SCORE', 'Votes cast', 'YES', 'NO', 'Result', 'Meets approval threshold', 'REQUESTED $', 'STATUS', 'FUND DEPLETION', 'Reason for not funded status', 'challenge', 'Budget', 'REQUESTED %']\n",
      "Missing defaults: {'Unique Yes', 'Unique No'}\n",
      "\n",
      "CHALLANGE: Grow East Asia, Grow Cardano\n",
      "columns: ['Proposal', 'SCORE', 'Votes cast', 'YES', 'NO', 'Result', 'Meets approval threshold', 'REQUESTED $', 'STATUS', 'FUND DEPLETION', 'Reason for not funded status', 'challenge', 'Budget', 'REQUESTED %']\n",
      "Missing defaults: {'Unique Yes', 'Unique No'}\n",
      "\n",
      "CHALLANGE: Grow India, Grow Cardano\n",
      "columns: ['Proposal', 'SCORE', 'Votes cast', 'YES', 'NO', 'Result', 'Meets approval threshold', 'REQUESTED $', 'STATUS', 'FUND DEPLETION', 'Reason for not funded status', 'challenge', 'Budget', 'REQUESTED %']\n",
      "Missing defaults: {'Unique Yes', 'Unique No'}\n",
      "\n",
      "CHALLANGE: Improve and Grow Auditability\n",
      "columns: ['Proposal', 'SCORE', 'Votes cast', 'YES', 'NO', 'Result', 'Meets approval threshold', 'REQUESTED $', 'STATUS', 'FUND DEPLETION', 'Reason for not funded status', 'challenge', 'Budget', 'REQUESTED %']\n",
      "Missing defaults: {'Unique Yes', 'Unique No'}\n",
      "\n",
      "CHALLANGE: Lobbying for favorable legislat\n",
      "columns: ['Proposal', 'SCORE', 'Votes cast', 'YES', 'NO', 'Result', 'Meets approval threshold', 'REQUESTED $', 'STATUS', 'FUND DEPLETION', 'Reason for not funded status', 'challenge', 'Budget', 'REQUESTED %']\n",
      "Missing defaults: {'Unique Yes', 'Unique No'}\n",
      "\n",
      "CHALLANGE: Miscellaneous Challenge\n",
      "columns: ['Proposal', 'SCORE', 'Votes cast', 'YES', 'NO', 'Result', 'Meets approval threshold', 'REQUESTED $', 'STATUS', 'FUND DEPLETION', 'Reason for not funded status', 'challenge', 'Budget', 'REQUESTED %']\n",
      "Missing defaults: {'Unique Yes', 'Unique No'}\n",
      "\n",
      "CHALLANGE: Nation Building Dapps\n",
      "columns: ['Proposal', 'SCORE', 'Votes cast', 'YES', 'NO', 'Result', 'Meets approval threshold', 'REQUESTED $', 'STATUS', 'FUND DEPLETION', 'Reason for not funded status', 'challenge', 'Budget', 'REQUESTED %']\n",
      "Missing defaults: {'Unique Yes', 'Unique No'}\n",
      "\n",
      "CHALLANGE: New Member Onboarding\n",
      "columns: ['Proposal', 'SCORE', 'Votes cast', 'YES', 'NO', 'Result', 'Meets approval threshold', 'REQUESTED $', 'STATUS', 'FUND DEPLETION', 'Reason for not funded status', 'challenge', 'Budget', 'REQUESTED %']\n",
      "Missing defaults: {'Unique Yes', 'Unique No'}\n",
      "\n",
      "CHALLANGE: Open Source Development Ecosyst\n",
      "columns: ['Proposal', 'SCORE', 'Votes cast', 'YES', 'NO', 'Result', 'Meets approval threshold', 'REQUESTED $', 'STATUS', 'FUND DEPLETION', 'Reason for not funded status', 'challenge', 'Budget', 'REQUESTED %']\n",
      "Missing defaults: {'Unique Yes', 'Unique No'}\n",
      "\n",
      "CHALLANGE: Open Standards & Interoperabili\n",
      "columns: ['Proposal', 'SCORE', 'Votes cast', 'YES', 'NO', 'Result', 'Meets approval threshold', 'REQUESTED $', 'STATUS', 'FUND DEPLETION', 'Reason for not funded status', 'challenge', 'Budget', 'REQUESTED %']\n",
      "Missing defaults: {'Unique Yes', 'Unique No'}\n",
      "\n",
      "CHALLANGE: Scale-UP Cardanos Community Hub\n",
      "columns: ['Proposal', 'SCORE', 'Votes cast', 'YES', 'NO', 'Result', 'Meets approval threshold', 'REQUESTED $', 'STATUS', 'FUND DEPLETION', 'Reason for not funded status', 'challenge', 'Budget', 'REQUESTED %']\n",
      "Missing defaults: {'Unique Yes', 'Unique No'}\n",
      "\n",
      "CHALLANGE: Self-Sovereign Identity\n",
      "columns: ['Proposal', 'SCORE', 'Votes cast', 'YES', 'NO', 'Result', 'Meets approval threshold', 'REQUESTED $', 'STATUS', 'FUND DEPLETION', 'Reason for not funded status', 'challenge', 'Budget', 'REQUESTED %']\n",
      "Missing defaults: {'Unique Yes', 'Unique No'}\n",
      "\n",
      "CHALLANGE: The Great Migration (from Ether\n",
      "columns: ['Proposal', 'SCORE', 'Votes cast', 'YES', 'NO', 'Result', 'Meets approval threshold', 'REQUESTED $', 'STATUS', 'FUND DEPLETION', 'Reason for not funded status', 'challenge', 'Budget', 'REQUESTED %']\n",
      "Missing defaults: {'Unique Yes', 'Unique No'}\n",
      "\n",
      "CHALLANGE: Fund9 challenge setting\n",
      "columns: ['Proposal', 'SCORE', 'Votes cast', 'YES', 'NO', 'Result', 'Meets approval threshold', 'REQUESTED $', 'STATUS', 'FUND DEPLETION', 'Reason for not funded status', 'challenge', 'Budget', 'REQUESTED %']\n",
      "Missing defaults: {'Unique Yes', 'Unique No'}\n",
      "\n",
      "CHALLANGE: Funded by leftovers\n",
      "columns: ['Proposal', 'SCORE', 'Votes cast', 'YES', 'NO', 'Result', 'Meets approval threshold', 'REQUESTED $', 'STATUS', 'FUND DEPLETION', 'Reason for not funded status', 'challenge', 'Budget', 'REQUESTED %']\n",
      "Missing defaults: {'Unique Yes', 'Unique No'}\n"
     ]
    }
   ],
   "source": [
    "for fund in funds:\n",
    "    print('\\n >> FUND: {}'.format(fund))\n",
    "    print_ch(fund)"
   ]
  },
  {
   "cell_type": "markdown",
   "id": "248793df",
   "metadata": {},
   "source": [
    "#### DataFrame.info()"
   ]
  },
  {
   "cell_type": "code",
   "execution_count": 24,
   "id": "ffb58d68",
   "metadata": {
    "scrolled": true
   },
   "outputs": [
    {
     "name": "stdout",
     "output_type": "stream",
     "text": [
      "\n",
      " >> FUND: f3\n",
      ">CHALLENGE: DApp creation\n",
      "<class 'pandas.core.frame.DataFrame'>\n",
      "RangeIndex: 76 entries, 0 to 75\n",
      "Data columns (total 12 columns):\n",
      " #   Column                        Non-Null Count  Dtype  \n",
      "---  ------                        --------------  -----  \n",
      " 0   Proposal                      76 non-null     object \n",
      " 1   YES                           76 non-null     int64  \n",
      " 2   NO                            76 non-null     int64  \n",
      " 3   Result                        76 non-null     int64  \n",
      " 4   Meets approval threshold      76 non-null     object \n",
      " 5   REQUESTED $                   76 non-null     int64  \n",
      " 6   STATUS                        76 non-null     object \n",
      " 7   FUND DEPLETION                76 non-null     int64  \n",
      " 8   Reason for not funded status  68 non-null     object \n",
      " 9   challenge                     76 non-null     object \n",
      " 10  Budget                        76 non-null     int64  \n",
      " 11  REQUESTED %                   76 non-null     float64\n",
      "dtypes: float64(1), int64(6), object(5)\n",
      "memory usage: 7.2+ KB\n"
     ]
    },
    {
     "data": {
      "text/plain": [
       "None"
      ]
     },
     "metadata": {},
     "output_type": "display_data"
    },
    {
     "name": "stdout",
     "output_type": "stream",
     "text": [
      ">CHALLENGE: Developer ecosystem\n",
      "<class 'pandas.core.frame.DataFrame'>\n",
      "RangeIndex: 47 entries, 0 to 46\n",
      "Data columns (total 12 columns):\n",
      " #   Column                        Non-Null Count  Dtype  \n",
      "---  ------                        --------------  -----  \n",
      " 0   Proposal                      47 non-null     object \n",
      " 1   YES                           47 non-null     int64  \n",
      " 2   NO                            47 non-null     int64  \n",
      " 3   Result                        47 non-null     int64  \n",
      " 4   Meets approval threshold      47 non-null     object \n",
      " 5   REQUESTED $                   47 non-null     int64  \n",
      " 6   STATUS                        47 non-null     object \n",
      " 7   FUND DEPLETION                47 non-null     int64  \n",
      " 8   Reason for not funded status  35 non-null     object \n",
      " 9   challenge                     47 non-null     object \n",
      " 10  Budget                        47 non-null     int64  \n",
      " 11  REQUESTED %                   47 non-null     float64\n",
      "dtypes: float64(1), int64(6), object(5)\n",
      "memory usage: 4.5+ KB\n"
     ]
    },
    {
     "data": {
      "text/plain": [
       "None"
      ]
     },
     "metadata": {},
     "output_type": "display_data"
    },
    {
     "name": "stdout",
     "output_type": "stream",
     "text": [
      ">CHALLENGE: Community choice\n",
      "<class 'pandas.core.frame.DataFrame'>\n",
      "RangeIndex: 27 entries, 0 to 26\n",
      "Data columns (total 12 columns):\n",
      " #   Column                        Non-Null Count  Dtype  \n",
      "---  ------                        --------------  -----  \n",
      " 0   Proposal                      27 non-null     object \n",
      " 1   YES                           27 non-null     int64  \n",
      " 2   NO                            27 non-null     int64  \n",
      " 3   Result                        27 non-null     int64  \n",
      " 4   Meets approval threshold      27 non-null     object \n",
      " 5   REQUESTED $                   27 non-null     int64  \n",
      " 6   STATUS                        27 non-null     object \n",
      " 7   FUND DEPLETION                27 non-null     int64  \n",
      " 8   Reason for not funded status  25 non-null     object \n",
      " 9   challenge                     27 non-null     object \n",
      " 10  Budget                        27 non-null     int64  \n",
      " 11  REQUESTED %                   27 non-null     float64\n",
      "dtypes: float64(1), int64(6), object(5)\n",
      "memory usage: 2.7+ KB\n"
     ]
    },
    {
     "data": {
      "text/plain": [
       "None"
      ]
     },
     "metadata": {},
     "output_type": "display_data"
    },
    {
     "name": "stdout",
     "output_type": "stream",
     "text": [
      "\n",
      " >> FUND: f4\n",
      ">CHALLENGE: DApp&Integrations\n",
      "<class 'pandas.core.frame.DataFrame'>\n",
      "RangeIndex: 104 entries, 0 to 103\n",
      "Data columns (total 14 columns):\n",
      " #   Column                        Non-Null Count  Dtype  \n",
      "---  ------                        --------------  -----  \n",
      " 0   Proposal                      104 non-null    object \n",
      " 1   Link to ideascale             104 non-null    object \n",
      " 2   SCORE                         104 non-null    float64\n",
      " 3   YES                           104 non-null    int64  \n",
      " 4   NO                            104 non-null    int64  \n",
      " 5   Result                        104 non-null    int64  \n",
      " 6   Meets approval threshold      104 non-null    object \n",
      " 7   REQUESTED $                   104 non-null    int64  \n",
      " 8   STATUS                        104 non-null    object \n",
      " 9   FUND DEPLETION                104 non-null    int64  \n",
      " 10  Reason for not funded status  97 non-null     object \n",
      " 11  challenge                     104 non-null    object \n",
      " 12  Budget                        104 non-null    int64  \n",
      " 13  REQUESTED %                   104 non-null    float64\n",
      "dtypes: float64(2), int64(6), object(6)\n",
      "memory usage: 11.5+ KB\n"
     ]
    },
    {
     "data": {
      "text/plain": [
       "None"
      ]
     },
     "metadata": {},
     "output_type": "display_data"
    },
    {
     "name": "stdout",
     "output_type": "stream",
     "text": [
      ">CHALLENGE: Developer ecosystem\n",
      "<class 'pandas.core.frame.DataFrame'>\n",
      "RangeIndex: 71 entries, 0 to 70\n",
      "Data columns (total 14 columns):\n",
      " #   Column                        Non-Null Count  Dtype  \n",
      "---  ------                        --------------  -----  \n",
      " 0   Proposal                      71 non-null     object \n",
      " 1   Link to ideascale             71 non-null     object \n",
      " 2   SCORE                         71 non-null     float64\n",
      " 3   YES                           71 non-null     int64  \n",
      " 4   NO                            71 non-null     int64  \n",
      " 5   Result                        71 non-null     int64  \n",
      " 6   Meets approval threshold      71 non-null     object \n",
      " 7   REQUESTED $                   71 non-null     int64  \n",
      " 8   STATUS                        71 non-null     object \n",
      " 9   FUND DEPLETION                71 non-null     int64  \n",
      " 10  Reason for not funded status  46 non-null     object \n",
      " 11  challenge                     71 non-null     object \n",
      " 12  Budget                        71 non-null     int64  \n",
      " 13  REQUESTED %                   71 non-null     float64\n",
      "dtypes: float64(2), int64(6), object(6)\n",
      "memory usage: 7.9+ KB\n"
     ]
    },
    {
     "data": {
      "text/plain": [
       "None"
      ]
     },
     "metadata": {},
     "output_type": "display_data"
    },
    {
     "name": "stdout",
     "output_type": "stream",
     "text": [
      ">CHALLENGE: Distributed decision making\n",
      "<class 'pandas.core.frame.DataFrame'>\n",
      "RangeIndex: 19 entries, 0 to 18\n",
      "Data columns (total 14 columns):\n",
      " #   Column                        Non-Null Count  Dtype  \n",
      "---  ------                        --------------  -----  \n",
      " 0   Proposal                      19 non-null     object \n",
      " 1   Link to ideascale             19 non-null     object \n",
      " 2   SCORE                         19 non-null     float64\n",
      " 3   YES                           19 non-null     int64  \n",
      " 4   NO                            19 non-null     int64  \n",
      " 5   Result                        19 non-null     int64  \n",
      " 6   Meets approval threshold      19 non-null     object \n",
      " 7   REQUESTED $                   19 non-null     int64  \n",
      " 8   STATUS                        19 non-null     object \n",
      " 9   FUND DEPLETION                19 non-null     int64  \n",
      " 10  Reason for not funded status  16 non-null     object \n",
      " 11  challenge                     19 non-null     object \n",
      " 12  Budget                        19 non-null     int64  \n",
      " 13  REQUESTED %                   19 non-null     float64\n",
      "dtypes: float64(2), int64(6), object(6)\n",
      "memory usage: 2.2+ KB\n"
     ]
    },
    {
     "data": {
      "text/plain": [
       "None"
      ]
     },
     "metadata": {},
     "output_type": "display_data"
    },
    {
     "name": "stdout",
     "output_type": "stream",
     "text": [
      ">CHALLENGE: Proposer Outreach\n",
      "<class 'pandas.core.frame.DataFrame'>\n",
      "RangeIndex: 17 entries, 0 to 16\n",
      "Data columns (total 14 columns):\n",
      " #   Column                        Non-Null Count  Dtype  \n",
      "---  ------                        --------------  -----  \n",
      " 0   Proposal                      17 non-null     object \n",
      " 1   Link to Ideascale             17 non-null     object \n",
      " 2   SCORE                         17 non-null     float64\n",
      " 3   YES                           17 non-null     int64  \n",
      " 4   NO                            17 non-null     int64  \n",
      " 5   Result                        17 non-null     int64  \n",
      " 6   Meets approval threshold      17 non-null     object \n",
      " 7   REQUESTED $                   17 non-null     int64  \n",
      " 8   STATUS                        17 non-null     object \n",
      " 9   FUND DEPLETION                17 non-null     int64  \n",
      " 10  Reason for not funded status  14 non-null     object \n",
      " 11  challenge                     17 non-null     object \n",
      " 12  Budget                        17 non-null     int64  \n",
      " 13  REQUESTED %                   17 non-null     float64\n",
      "dtypes: float64(2), int64(6), object(6)\n",
      "memory usage: 2.0+ KB\n"
     ]
    },
    {
     "data": {
      "text/plain": [
       "None"
      ]
     },
     "metadata": {},
     "output_type": "display_data"
    },
    {
     "name": "stdout",
     "output_type": "stream",
     "text": [
      ">CHALLENGE: Catalyst Value Onboarding\n",
      "<class 'pandas.core.frame.DataFrame'>\n",
      "RangeIndex: 12 entries, 0 to 11\n",
      "Data columns (total 14 columns):\n",
      " #   Column                        Non-Null Count  Dtype  \n",
      "---  ------                        --------------  -----  \n",
      " 0   Proposal                      12 non-null     object \n",
      " 1   Link to ideascale             12 non-null     object \n",
      " 2   SCORE                         12 non-null     float64\n",
      " 3   YES                           12 non-null     int64  \n",
      " 4   NO                            12 non-null     int64  \n",
      " 5   Result                        12 non-null     int64  \n",
      " 6   Meets approval threshold      12 non-null     object \n",
      " 7   REQUESTED $                   12 non-null     int64  \n",
      " 8   STATUS                        12 non-null     object \n",
      " 9   FUND DEPLETION                12 non-null     int64  \n",
      " 10  Reason for not funded status  7 non-null      object \n",
      " 11  challenge                     12 non-null     object \n",
      " 12  Budget                        12 non-null     int64  \n",
      " 13  REQUESTED %                   12 non-null     float64\n",
      "dtypes: float64(2), int64(6), object(6)\n",
      "memory usage: 1.4+ KB\n"
     ]
    },
    {
     "data": {
      "text/plain": [
       "None"
      ]
     },
     "metadata": {},
     "output_type": "display_data"
    },
    {
     "name": "stdout",
     "output_type": "stream",
     "text": [
      ">CHALLENGE: Local Community Centers\n",
      "<class 'pandas.core.frame.DataFrame'>\n",
      "RangeIndex: 25 entries, 0 to 24\n",
      "Data columns (total 14 columns):\n",
      " #   Column                        Non-Null Count  Dtype  \n",
      "---  ------                        --------------  -----  \n",
      " 0   Proposal                      25 non-null     object \n",
      " 1   Link to ideascale             25 non-null     object \n",
      " 2   SCORE                         25 non-null     float64\n",
      " 3   YES                           25 non-null     int64  \n",
      " 4   NO                            25 non-null     int64  \n",
      " 5   Result                        25 non-null     int64  \n",
      " 6   Meets approval threshold      25 non-null     object \n",
      " 7   REQUESTED $                   25 non-null     int64  \n",
      " 8   STATUS                        25 non-null     object \n",
      " 9   FUND DEPLETION                25 non-null     int64  \n",
      " 10  Reason for not funded status  20 non-null     object \n",
      " 11  challenge                     25 non-null     object \n",
      " 12  Budget                        25 non-null     int64  \n",
      " 13  REQUESTED %                   25 non-null     float64\n",
      "dtypes: float64(2), int64(6), object(6)\n",
      "memory usage: 2.9+ KB\n"
     ]
    },
    {
     "data": {
      "text/plain": [
       "None"
      ]
     },
     "metadata": {},
     "output_type": "display_data"
    },
    {
     "name": "stdout",
     "output_type": "stream",
     "text": [
      ">CHALLENGE: Fund6 Challenge Setting\n",
      "<class 'pandas.core.frame.DataFrame'>\n",
      "RangeIndex: 29 entries, 0 to 28\n",
      "Data columns (total 14 columns):\n",
      " #   Column                        Non-Null Count  Dtype  \n",
      "---  ------                        --------------  -----  \n",
      " 0   Proposal                      29 non-null     object \n",
      " 1   Link to ideascale             29 non-null     object \n",
      " 2   SCORE                         29 non-null     float64\n",
      " 3   YES                           29 non-null     int64  \n",
      " 4   NO                            29 non-null     int64  \n",
      " 5   Result                        29 non-null     int64  \n",
      " 6   Meets approval threshold      29 non-null     object \n",
      " 7   REQUESTED $                   29 non-null     int64  \n",
      " 8   STATUS                        29 non-null     object \n",
      " 9   FUND DEPLETION                29 non-null     int64  \n",
      " 10  Reason for not funded status  24 non-null     object \n",
      " 11  challenge                     29 non-null     object \n",
      " 12  Budget                        29 non-null     int64  \n",
      " 13  REQUESTED %                   29 non-null     float64\n",
      "dtypes: float64(2), int64(6), object(6)\n",
      "memory usage: 3.3+ KB\n"
     ]
    },
    {
     "data": {
      "text/plain": [
       "None"
      ]
     },
     "metadata": {},
     "output_type": "display_data"
    },
    {
     "name": "stdout",
     "output_type": "stream",
     "text": [
      ">CHALLENGE: Sponsored by leftovers\n",
      "<class 'pandas.core.frame.DataFrame'>\n",
      "RangeIndex: 26 entries, 0 to 25\n",
      "Data columns (total 14 columns):\n",
      " #   Column                        Non-Null Count  Dtype  \n",
      "---  ------                        --------------  -----  \n",
      " 0   Proposal                      26 non-null     object \n",
      " 1   Link to ideascale             26 non-null     object \n",
      " 2   SCORE                         26 non-null     float64\n",
      " 3   YES                           26 non-null     int64  \n",
      " 4   NO                            26 non-null     int64  \n",
      " 5   Result                        26 non-null     int64  \n",
      " 6   Meets approval threshold      26 non-null     object \n",
      " 7   REQUESTED $                   26 non-null     int64  \n",
      " 8   STATUS                        26 non-null     object \n",
      " 9   FUND DEPLETION                26 non-null     int64  \n",
      " 10  Reason for not funded status  23 non-null     object \n",
      " 11  challenge                     26 non-null     object \n",
      " 12  Budget                        26 non-null     int64  \n",
      " 13  REQUESTED %                   26 non-null     float64\n",
      "dtypes: float64(2), int64(6), object(6)\n",
      "memory usage: 3.0+ KB\n"
     ]
    },
    {
     "data": {
      "text/plain": [
       "None"
      ]
     },
     "metadata": {},
     "output_type": "display_data"
    },
    {
     "name": "stdout",
     "output_type": "stream",
     "text": [
      "\n",
      " >> FUND: f5\n",
      ">CHALLENGE: Developer ecosystem\n",
      "<class 'pandas.core.frame.DataFrame'>\n",
      "RangeIndex: 43 entries, 0 to 42\n",
      "Data columns (total 17 columns):\n",
      " #   Column                        Non-Null Count  Dtype  \n",
      "---  ------                        --------------  -----  \n",
      " 0   Proposal                      43 non-null     object \n",
      " 1   Link to ideascale             43 non-null     object \n",
      " 2   SCORE                         43 non-null     float64\n",
      " 3   Unique Yes                    43 non-null     int64  \n",
      " 4   Unique No                     43 non-null     int64  \n",
      " 5   Votes casted                  43 non-null     float64\n",
      " 6   YES                           43 non-null     int64  \n",
      " 7   NO                            43 non-null     int64  \n",
      " 8   Result                        43 non-null     int64  \n",
      " 9   Meets approval threshold      43 non-null     object \n",
      " 10  REQUESTED $                   43 non-null     int64  \n",
      " 11  STATUS                        43 non-null     object \n",
      " 12  FUND DEPLETION                43 non-null     int64  \n",
      " 13  Reason for not funded status  19 non-null     object \n",
      " 14  challenge                     43 non-null     object \n",
      " 15  Budget                        43 non-null     int64  \n",
      " 16  REQUESTED %                   43 non-null     float64\n",
      "dtypes: float64(3), int64(8), object(6)\n",
      "memory usage: 5.8+ KB\n"
     ]
    },
    {
     "data": {
      "text/plain": [
       "None"
      ]
     },
     "metadata": {},
     "output_type": "display_data"
    },
    {
     "name": "stdout",
     "output_type": "stream",
     "text": [
      ">CHALLENGE: DApp&Integrations\n",
      "<class 'pandas.core.frame.DataFrame'>\n",
      "RangeIndex: 81 entries, 0 to 80\n",
      "Data columns (total 17 columns):\n",
      " #   Column                        Non-Null Count  Dtype  \n",
      "---  ------                        --------------  -----  \n",
      " 0   Proposal                      81 non-null     object \n",
      " 1   Link to ideascale             81 non-null     object \n",
      " 2   SCORE                         81 non-null     float64\n",
      " 3   Unique Yes                    81 non-null     int64  \n",
      " 4   Unique No                     81 non-null     int64  \n",
      " 5   Votes casted                  81 non-null     float64\n",
      " 6   YES                           81 non-null     int64  \n",
      " 7   NO                            81 non-null     int64  \n",
      " 8   Result                        81 non-null     int64  \n",
      " 9   Meets approval threshold      81 non-null     object \n",
      " 10  REQUESTED $                   81 non-null     int64  \n",
      " 11  STATUS                        81 non-null     object \n",
      " 12  FUND DEPLETION                81 non-null     int64  \n",
      " 13  Reason for not funded status  76 non-null     object \n",
      " 14  challenge                     81 non-null     object \n",
      " 15  Budget                        81 non-null     int64  \n",
      " 16  REQUESTED %                   81 non-null     float64\n",
      "dtypes: float64(3), int64(8), object(6)\n",
      "memory usage: 10.9+ KB\n"
     ]
    },
    {
     "data": {
      "text/plain": [
       "None"
      ]
     },
     "metadata": {},
     "output_type": "display_data"
    },
    {
     "name": "stdout",
     "output_type": "stream",
     "text": [
      ">CHALLENGE: Distributed decision making\n",
      "<class 'pandas.core.frame.DataFrame'>\n",
      "RangeIndex: 13 entries, 0 to 12\n",
      "Data columns (total 17 columns):\n",
      " #   Column                        Non-Null Count  Dtype  \n",
      "---  ------                        --------------  -----  \n",
      " 0   Proposal                      13 non-null     object \n",
      " 1   Link to ideascale             13 non-null     object \n",
      " 2   SCORE                         13 non-null     float64\n",
      " 3   Unique Yes                    13 non-null     int64  \n",
      " 4   Unique No                     13 non-null     int64  \n",
      " 5   Votes casted                  13 non-null     float64\n",
      " 6   YES                           13 non-null     int64  \n",
      " 7   NO                            13 non-null     int64  \n",
      " 8   Result                        13 non-null     int64  \n",
      " 9   Meets approval threshold      13 non-null     object \n",
      " 10  REQUESTED $                   13 non-null     int64  \n",
      " 11  STATUS                        13 non-null     object \n",
      " 12  FUND DEPLETION                13 non-null     int64  \n",
      " 13  Reason for not funded status  7 non-null      object \n",
      " 14  challenge                     13 non-null     object \n",
      " 15  Budget                        13 non-null     int64  \n",
      " 16  REQUESTED %                   13 non-null     float64\n",
      "dtypes: float64(3), int64(8), object(6)\n",
      "memory usage: 1.9+ KB\n"
     ]
    },
    {
     "data": {
      "text/plain": [
       "None"
      ]
     },
     "metadata": {},
     "output_type": "display_data"
    },
    {
     "name": "stdout",
     "output_type": "stream",
     "text": [
      ">CHALLENGE: Proposer Outreach\n",
      "<class 'pandas.core.frame.DataFrame'>\n",
      "RangeIndex: 19 entries, 0 to 18\n",
      "Data columns (total 17 columns):\n",
      " #   Column                        Non-Null Count  Dtype  \n",
      "---  ------                        --------------  -----  \n",
      " 0   Proposal                      19 non-null     object \n",
      " 1   Link to Ideascale             19 non-null     object \n",
      " 2   SCORE                         19 non-null     float64\n",
      " 3   Unique Yes                    19 non-null     int64  \n",
      " 4   Unique No                     19 non-null     int64  \n",
      " 5   Votes casted                  19 non-null     float64\n",
      " 6   YES                           19 non-null     int64  \n",
      " 7   NO                            19 non-null     int64  \n",
      " 8   Result                        19 non-null     int64  \n",
      " 9   Meets approval threshold      19 non-null     object \n",
      " 10  REQUESTED $                   19 non-null     int64  \n",
      " 11  STATUS                        19 non-null     object \n",
      " 12  FUND DEPLETION                19 non-null     int64  \n",
      " 13  Reason for not funded status  13 non-null     object \n",
      " 14  challenge                     19 non-null     object \n",
      " 15  Budget                        19 non-null     int64  \n",
      " 16  REQUESTED %                   19 non-null     float64\n",
      "dtypes: float64(3), int64(8), object(6)\n",
      "memory usage: 2.6+ KB\n"
     ]
    },
    {
     "data": {
      "text/plain": [
       "None"
      ]
     },
     "metadata": {},
     "output_type": "display_data"
    },
    {
     "name": "stdout",
     "output_type": "stream",
     "text": [
      ">CHALLENGE: Catalyst Value Onboarding\n",
      "<class 'pandas.core.frame.DataFrame'>\n",
      "RangeIndex: 19 entries, 0 to 18\n",
      "Data columns (total 17 columns):\n",
      " #   Column                        Non-Null Count  Dtype  \n",
      "---  ------                        --------------  -----  \n",
      " 0   Proposal                      19 non-null     object \n",
      " 1   Link to ideascale             19 non-null     object \n",
      " 2   SCORE                         19 non-null     float64\n",
      " 3   Unique Yes                    19 non-null     int64  \n",
      " 4   Unique No                     19 non-null     int64  \n",
      " 5   Votes casted                  19 non-null     float64\n",
      " 6   YES                           19 non-null     int64  \n",
      " 7   NO                            19 non-null     int64  \n",
      " 8   Result                        19 non-null     int64  \n",
      " 9   Meets approval threshold      19 non-null     object \n",
      " 10  REQUESTED $                   19 non-null     int64  \n",
      " 11  STATUS                        19 non-null     object \n",
      " 12  FUND DEPLETION                19 non-null     int64  \n",
      " 13  Reason for not funded status  9 non-null      object \n",
      " 14  challenge                     19 non-null     object \n",
      " 15  Budget                        19 non-null     int64  \n",
      " 16  REQUESTED %                   19 non-null     float64\n",
      "dtypes: float64(3), int64(8), object(6)\n",
      "memory usage: 2.6+ KB\n"
     ]
    },
    {
     "data": {
      "text/plain": [
       "None"
      ]
     },
     "metadata": {},
     "output_type": "display_data"
    },
    {
     "name": "stdout",
     "output_type": "stream",
     "text": [
      ">CHALLENGE: Metadata challenge\n",
      "<class 'pandas.core.frame.DataFrame'>\n",
      "RangeIndex: 20 entries, 0 to 19\n",
      "Data columns (total 17 columns):\n",
      " #   Column                        Non-Null Count  Dtype  \n",
      "---  ------                        --------------  -----  \n",
      " 0   Proposal                      20 non-null     object \n",
      " 1   Link to ideascale             20 non-null     object \n",
      " 2   SCORE                         20 non-null     float64\n",
      " 3   Unique Yes                    20 non-null     int64  \n",
      " 4   Unique No                     20 non-null     int64  \n",
      " 5   Votes casted                  20 non-null     float64\n",
      " 6   YES                           20 non-null     int64  \n",
      " 7   NO                            20 non-null     int64  \n",
      " 8   Result                        20 non-null     int64  \n",
      " 9   Meets approval threshold      20 non-null     object \n",
      " 10  REQUESTED $                   20 non-null     int64  \n",
      " 11  STATUS                        20 non-null     object \n",
      " 12  FUND DEPLETION                20 non-null     int64  \n",
      " 13  Reason for not funded status  15 non-null     object \n",
      " 14  challenge                     20 non-null     object \n",
      " 15  Budget                        20 non-null     int64  \n",
      " 16  REQUESTED %                   20 non-null     float64\n",
      "dtypes: float64(3), int64(8), object(6)\n",
      "memory usage: 2.8+ KB\n"
     ]
    },
    {
     "data": {
      "text/plain": [
       "None"
      ]
     },
     "metadata": {},
     "output_type": "display_data"
    },
    {
     "name": "stdout",
     "output_type": "stream",
     "text": [
      ">CHALLENGE: Grow Africa, Grow Cardano wv\n",
      "<class 'pandas.core.frame.DataFrame'>\n",
      "RangeIndex: 27 entries, 0 to 26\n",
      "Data columns (total 17 columns):\n",
      " #   Column                        Non-Null Count  Dtype  \n",
      "---  ------                        --------------  -----  \n",
      " 0   Proposal                      27 non-null     object \n",
      " 1   Link to ideascale             27 non-null     object \n",
      " 2   SCORE                         27 non-null     float64\n",
      " 3   Unique Yes                    27 non-null     int64  \n",
      " 4   Unique No                     27 non-null     int64  \n",
      " 5   Votes casted                  27 non-null     float64\n",
      " 6   YES                           27 non-null     int64  \n",
      " 7   NO                            27 non-null     int64  \n",
      " 8   Result                        27 non-null     int64  \n",
      " 9   Meets approval threshold      27 non-null     object \n",
      " 10  REQUESTED $                   27 non-null     int64  \n",
      " 11  STATUS                        27 non-null     object \n",
      " 12  FUND DEPLETION                27 non-null     int64  \n",
      " 13  Reason for not funded status  19 non-null     object \n",
      " 14  challenge                     27 non-null     object \n",
      " 15  Budget                        27 non-null     int64  \n",
      " 16  REQUESTED %                   27 non-null     float64\n",
      "dtypes: float64(3), int64(8), object(6)\n",
      "memory usage: 3.7+ KB\n"
     ]
    },
    {
     "data": {
      "text/plain": [
       "None"
      ]
     },
     "metadata": {},
     "output_type": "display_data"
    },
    {
     "name": "stdout",
     "output_type": "stream",
     "text": [
      ">CHALLENGE: Scale-UP Cardanos DeFi Ecosyste\n",
      "<class 'pandas.core.frame.DataFrame'>\n",
      "RangeIndex: 21 entries, 0 to 20\n",
      "Data columns (total 17 columns):\n",
      " #   Column                        Non-Null Count  Dtype  \n",
      "---  ------                        --------------  -----  \n",
      " 0   Proposal                      21 non-null     object \n",
      " 1   Link to ideascale             21 non-null     object \n",
      " 2   SCORE                         21 non-null     float64\n",
      " 3   Unique Yes                    21 non-null     int64  \n",
      " 4   Unique No                     21 non-null     int64  \n",
      " 5   Votes casted                  21 non-null     float64\n",
      " 6   YES                           21 non-null     int64  \n",
      " 7   NO                            21 non-null     int64  \n",
      " 8   Result                        21 non-null     int64  \n",
      " 9   Meets approval threshold      21 non-null     object \n",
      " 10  REQUESTED $                   21 non-null     int64  \n",
      " 11  STATUS                        21 non-null     object \n",
      " 12  FUND DEPLETION                21 non-null     int64  \n",
      " 13  Reason for not funded status  16 non-null     object \n",
      " 14  challenge                     21 non-null     object \n",
      " 15  Budget                        21 non-null     int64  \n",
      " 16  REQUESTED %                   21 non-null     float64\n",
      "dtypes: float64(3), int64(8), object(6)\n",
      "memory usage: 2.9+ KB\n"
     ]
    },
    {
     "data": {
      "text/plain": [
       "None"
      ]
     },
     "metadata": {},
     "output_type": "display_data"
    },
    {
     "name": "stdout",
     "output_type": "stream",
     "text": [
      ">CHALLENGE: Fund7 Challenge Setting wv\n",
      "<class 'pandas.core.frame.DataFrame'>\n",
      "RangeIndex: 23 entries, 0 to 22\n",
      "Data columns (total 17 columns):\n",
      " #   Column                        Non-Null Count  Dtype  \n",
      "---  ------                        --------------  -----  \n",
      " 0   Proposal                      23 non-null     object \n",
      " 1   Link to ideascale             23 non-null     object \n",
      " 2   SCORE                         23 non-null     float64\n",
      " 3   Unique Yes                    23 non-null     int64  \n",
      " 4   Unique No                     23 non-null     int64  \n",
      " 5   Votes casted                  23 non-null     float64\n",
      " 6   YES                           23 non-null     int64  \n",
      " 7   NO                            23 non-null     int64  \n",
      " 8   Result                        23 non-null     int64  \n",
      " 9   Meets approval threshold      23 non-null     object \n",
      " 10  REQUESTED $                   23 non-null     int64  \n",
      " 11  STATUS                        23 non-null     object \n",
      " 12  FUND DEPLETION                23 non-null     int64  \n",
      " 13  Reason for not funded status  18 non-null     object \n",
      " 14  challenge                     23 non-null     object \n",
      " 15  Budget                        23 non-null     int64  \n",
      " 16  REQUESTED %                   23 non-null     float64\n",
      "dtypes: float64(3), int64(8), object(6)\n",
      "memory usage: 3.2+ KB\n"
     ]
    },
    {
     "data": {
      "text/plain": [
       "None"
      ]
     },
     "metadata": {},
     "output_type": "display_data"
    },
    {
     "name": "stdout",
     "output_type": "stream",
     "text": [
      ">CHALLENGE: Sponsored by leftovers\n",
      "<class 'pandas.core.frame.DataFrame'>\n",
      "RangeIndex: 39 entries, 0 to 38\n",
      "Data columns (total 17 columns):\n",
      " #   Column                        Non-Null Count  Dtype  \n",
      "---  ------                        --------------  -----  \n",
      " 0   Proposal                      39 non-null     object \n",
      " 1   Link to ideascale             39 non-null     object \n",
      " 2   SCORE                         39 non-null     float64\n",
      " 3   Unique Yes                    39 non-null     int64  \n",
      " 4   Unique No                     39 non-null     int64  \n",
      " 5   Votes casted                  39 non-null     float64\n",
      " 6   YES                           39 non-null     int64  \n",
      " 7   NO                            39 non-null     int64  \n",
      " 8   Result                        39 non-null     int64  \n",
      " 9   Meets approval threshold      39 non-null     object \n",
      " 10  REQUESTED $                   39 non-null     int64  \n",
      " 11  STATUS                        39 non-null     object \n",
      " 12  FUND DEPLETION                39 non-null     int64  \n",
      " 13  Reason for not funded status  38 non-null     object \n",
      " 14  challenge                     39 non-null     object \n",
      " 15  Budget                        39 non-null     int64  \n",
      " 16  REQUESTED %                   39 non-null     float64\n",
      "dtypes: float64(3), int64(8), object(6)\n",
      "memory usage: 5.3+ KB\n"
     ]
    },
    {
     "data": {
      "text/plain": [
       "None"
      ]
     },
     "metadata": {},
     "output_type": "display_data"
    },
    {
     "name": "stdout",
     "output_type": "stream",
     "text": [
      "\n",
      " >> FUND: f6\n",
      ">CHALLENGE: Developer ecosystem\n",
      "<class 'pandas.core.frame.DataFrame'>\n",
      "RangeIndex: 102 entries, 0 to 101\n",
      "Data columns (total 15 columns):\n",
      " #   Column                        Non-Null Count  Dtype  \n",
      "---  ------                        --------------  -----  \n",
      " 0   Proposal                      102 non-null    object \n",
      " 1   Link to ideascale             102 non-null    object \n",
      " 2   SCORE                         102 non-null    float64\n",
      " 3   Votes cast                    102 non-null    float64\n",
      " 4   YES                           102 non-null    int64  \n",
      " 5   NO                            102 non-null    int64  \n",
      " 6   Result                        102 non-null    int64  \n",
      " 7   Meets approval threshold      102 non-null    object \n",
      " 8   REQUESTED $                   102 non-null    int64  \n",
      " 9   STATUS                        102 non-null    object \n",
      " 10  FUND DEPLETION                102 non-null    int64  \n",
      " 11  Reason for not funded status  82 non-null     object \n",
      " 12  challenge                     102 non-null    object \n",
      " 13  Budget                        102 non-null    int64  \n",
      " 14  REQUESTED %                   102 non-null    float64\n",
      "dtypes: float64(3), int64(6), object(6)\n",
      "memory usage: 12.1+ KB\n"
     ]
    },
    {
     "data": {
      "text/plain": [
       "None"
      ]
     },
     "metadata": {},
     "output_type": "display_data"
    },
    {
     "name": "stdout",
     "output_type": "stream",
     "text": [
      ">CHALLENGE: DApps & Integrations\n",
      "<class 'pandas.core.frame.DataFrame'>\n",
      "RangeIndex: 105 entries, 0 to 104\n",
      "Data columns (total 15 columns):\n",
      " #   Column                        Non-Null Count  Dtype  \n",
      "---  ------                        --------------  -----  \n",
      " 0   Proposal                      105 non-null    object \n",
      " 1   Link to ideascale             105 non-null    object \n",
      " 2   SCORE                         105 non-null    float64\n",
      " 3   Votes cast                    105 non-null    float64\n",
      " 4   YES                           105 non-null    int64  \n",
      " 5   NO                            105 non-null    int64  \n",
      " 6   Result                        105 non-null    int64  \n",
      " 7   Meets approval threshold      105 non-null    object \n",
      " 8   REQUESTED $                   105 non-null    int64  \n",
      " 9   STATUS                        105 non-null    object \n",
      " 10  FUND DEPLETION                105 non-null    int64  \n",
      " 11  Reason for not funded status  96 non-null     object \n",
      " 12  challenge                     105 non-null    object \n",
      " 13  Budget                        105 non-null    int64  \n",
      " 14  REQUESTED %                   105 non-null    float64\n",
      "dtypes: float64(3), int64(6), object(6)\n",
      "memory usage: 12.4+ KB\n"
     ]
    },
    {
     "data": {
      "text/plain": [
       "None"
      ]
     },
     "metadata": {},
     "output_type": "display_data"
    },
    {
     "name": "stdout",
     "output_type": "stream",
     "text": [
      ">CHALLENGE: Distributed decision making\n",
      "<class 'pandas.core.frame.DataFrame'>\n",
      "RangeIndex: 20 entries, 0 to 19\n",
      "Data columns (total 15 columns):\n",
      " #   Column                        Non-Null Count  Dtype  \n",
      "---  ------                        --------------  -----  \n",
      " 0   Proposal                      20 non-null     object \n",
      " 1   Link to ideascale             20 non-null     object \n",
      " 2   SCORE                         20 non-null     float64\n",
      " 3   Votes cast                    20 non-null     float64\n",
      " 4   YES                           20 non-null     int64  \n",
      " 5   NO                            20 non-null     int64  \n",
      " 6   Result                        20 non-null     int64  \n",
      " 7   Meets approval threshold      20 non-null     object \n",
      " 8   REQUESTED $                   20 non-null     int64  \n",
      " 9   STATUS                        20 non-null     object \n",
      " 10  FUND DEPLETION                20 non-null     int64  \n",
      " 11  Reason for not funded status  10 non-null     object \n",
      " 12  challenge                     20 non-null     object \n",
      " 13  Budget                        20 non-null     int64  \n",
      " 14  REQUESTED %                   20 non-null     float64\n",
      "dtypes: float64(3), int64(6), object(6)\n",
      "memory usage: 2.5+ KB\n"
     ]
    },
    {
     "data": {
      "text/plain": [
       "None"
      ]
     },
     "metadata": {},
     "output_type": "display_data"
    },
    {
     "name": "stdout",
     "output_type": "stream",
     "text": [
      ">CHALLENGE: Proposer outreach\n",
      "<class 'pandas.core.frame.DataFrame'>\n",
      "RangeIndex: 28 entries, 0 to 27\n",
      "Data columns (total 15 columns):\n",
      " #   Column                        Non-Null Count  Dtype  \n",
      "---  ------                        --------------  -----  \n",
      " 0   Proposal                      28 non-null     object \n",
      " 1   Link to ideascale             28 non-null     object \n",
      " 2   SCORE                         28 non-null     float64\n",
      " 3   Votes cast                    28 non-null     float64\n",
      " 4   YES                           28 non-null     int64  \n",
      " 5   NO                            28 non-null     int64  \n",
      " 6   Result                        28 non-null     int64  \n",
      " 7   Meets approval threshold      28 non-null     object \n",
      " 8   REQUESTED $                   28 non-null     int64  \n",
      " 9   STATUS                        28 non-null     object \n",
      " 10  FUND DEPLETION                28 non-null     int64  \n",
      " 11  Reason for not funded status  19 non-null     object \n",
      " 12  challenge                     28 non-null     object \n",
      " 13  Budget                        28 non-null     int64  \n",
      " 14  REQUESTED %                   28 non-null     float64\n",
      "dtypes: float64(3), int64(6), object(6)\n",
      "memory usage: 3.4+ KB\n"
     ]
    },
    {
     "data": {
      "text/plain": [
       "None"
      ]
     },
     "metadata": {},
     "output_type": "display_data"
    },
    {
     "name": "stdout",
     "output_type": "stream",
     "text": [
      ">CHALLENGE: Catalyst value onboarding\n",
      "<class 'pandas.core.frame.DataFrame'>\n",
      "RangeIndex: 26 entries, 0 to 25\n",
      "Data columns (total 15 columns):\n",
      " #   Column                        Non-Null Count  Dtype  \n",
      "---  ------                        --------------  -----  \n",
      " 0   Proposal                      26 non-null     object \n",
      " 1   Link to ideascale             26 non-null     object \n",
      " 2   SCORE                         26 non-null     float64\n",
      " 3   Votes cast                    26 non-null     float64\n",
      " 4   YES                           26 non-null     int64  \n",
      " 5   NO                            26 non-null     int64  \n",
      " 6   Result                        26 non-null     int64  \n",
      " 7   Meets approval threshold      26 non-null     object \n",
      " 8   REQUESTED $                   26 non-null     int64  \n",
      " 9   STATUS                        26 non-null     object \n",
      " 10  FUND DEPLETION                26 non-null     int64  \n",
      " 11  Reason for not funded status  19 non-null     object \n",
      " 12  challenge                     26 non-null     object \n",
      " 13  Budget                        26 non-null     int64  \n",
      " 14  REQUESTED %                   26 non-null     float64\n",
      "dtypes: float64(3), int64(6), object(6)\n",
      "memory usage: 3.2+ KB\n"
     ]
    },
    {
     "data": {
      "text/plain": [
       "None"
      ]
     },
     "metadata": {},
     "output_type": "display_data"
    },
    {
     "name": "stdout",
     "output_type": "stream",
     "text": [
      ">CHALLENGE: Metadata\n",
      "<class 'pandas.core.frame.DataFrame'>\n",
      "RangeIndex: 30 entries, 0 to 29\n",
      "Data columns (total 15 columns):\n",
      " #   Column                        Non-Null Count  Dtype  \n",
      "---  ------                        --------------  -----  \n",
      " 0   Proposal                      30 non-null     object \n",
      " 1   Link to ideascale             30 non-null     object \n",
      " 2   SCORE                         30 non-null     float64\n",
      " 3   Votes cast                    30 non-null     float64\n",
      " 4   YES                           30 non-null     int64  \n",
      " 5   NO                            30 non-null     int64  \n",
      " 6   Result                        30 non-null     int64  \n",
      " 7   Meets approval threshold      30 non-null     object \n",
      " 8   REQUESTED $                   30 non-null     int64  \n",
      " 9   STATUS                        30 non-null     object \n",
      " 10  FUND DEPLETION                30 non-null     int64  \n",
      " 11  Reason for not funded status  25 non-null     object \n",
      " 12  challenge                     30 non-null     object \n",
      " 13  Budget                        30 non-null     int64  \n",
      " 14  REQUESTED %                   30 non-null     float64\n",
      "dtypes: float64(3), int64(6), object(6)\n",
      "memory usage: 3.6+ KB\n"
     ]
    },
    {
     "data": {
      "text/plain": [
       "None"
      ]
     },
     "metadata": {},
     "output_type": "display_data"
    },
    {
     "name": "stdout",
     "output_type": "stream",
     "text": [
      ">CHALLENGE: Grow Africa, Grow Cardano\n",
      "<class 'pandas.core.frame.DataFrame'>\n",
      "RangeIndex: 41 entries, 0 to 40\n",
      "Data columns (total 15 columns):\n",
      " #   Column                        Non-Null Count  Dtype  \n",
      "---  ------                        --------------  -----  \n",
      " 0   Proposal                      41 non-null     object \n",
      " 1   Link to ideascale             41 non-null     object \n",
      " 2   SCORE                         41 non-null     float64\n",
      " 3   Votes cast                    41 non-null     float64\n",
      " 4   YES                           41 non-null     int64  \n",
      " 5   NO                            41 non-null     int64  \n",
      " 6   Result                        41 non-null     int64  \n",
      " 7   Meets approval threshold      41 non-null     object \n",
      " 8   REQUESTED $                   41 non-null     int64  \n",
      " 9   STATUS                        41 non-null     object \n",
      " 10  FUND DEPLETION                41 non-null     int64  \n",
      " 11  Reason for not funded status  30 non-null     object \n",
      " 12  challenge                     41 non-null     object \n",
      " 13  Budget                        41 non-null     int64  \n",
      " 14  REQUESTED %                   41 non-null     float64\n",
      "dtypes: float64(3), int64(6), object(6)\n",
      "memory usage: 4.9+ KB\n"
     ]
    },
    {
     "data": {
      "text/plain": [
       "None"
      ]
     },
     "metadata": {},
     "output_type": "display_data"
    },
    {
     "name": "stdout",
     "output_type": "stream",
     "text": [
      ">CHALLENGE: Scale-UP Cardano’s DeFi Ecosyst\n",
      "<class 'pandas.core.frame.DataFrame'>\n",
      "RangeIndex: 21 entries, 0 to 20\n",
      "Data columns (total 15 columns):\n",
      " #   Column                        Non-Null Count  Dtype  \n",
      "---  ------                        --------------  -----  \n",
      " 0   Proposal                      21 non-null     object \n",
      " 1   Link to ideascale             21 non-null     object \n",
      " 2   SCORE                         21 non-null     float64\n",
      " 3   Votes cast                    21 non-null     float64\n",
      " 4   YES                           21 non-null     int64  \n",
      " 5   NO                            21 non-null     int64  \n",
      " 6   Result                        21 non-null     int64  \n",
      " 7   Meets approval threshold      21 non-null     object \n",
      " 8   REQUESTED $                   21 non-null     int64  \n",
      " 9   STATUS                        21 non-null     object \n",
      " 10  FUND DEPLETION                21 non-null     int64  \n",
      " 11  Reason for not funded status  15 non-null     object \n",
      " 12  challenge                     21 non-null     object \n",
      " 13  Budget                        21 non-null     int64  \n",
      " 14  REQUESTED %                   21 non-null     float64\n",
      "dtypes: float64(3), int64(6), object(6)\n",
      "memory usage: 2.6+ KB\n"
     ]
    },
    {
     "data": {
      "text/plain": [
       "None"
      ]
     },
     "metadata": {},
     "output_type": "display_data"
    },
    {
     "name": "stdout",
     "output_type": "stream",
     "text": [
      ">CHALLENGE: Cardano Emerging Threat Alarm\n",
      "<class 'pandas.core.frame.DataFrame'>\n",
      "RangeIndex: 9 entries, 0 to 8\n",
      "Data columns (total 15 columns):\n",
      " #   Column                        Non-Null Count  Dtype  \n",
      "---  ------                        --------------  -----  \n",
      " 0   Proposal                      9 non-null      object \n",
      " 1   Link to ideascale             9 non-null      object \n",
      " 2   SCORE                         9 non-null      float64\n",
      " 3   Votes cast                    9 non-null      float64\n",
      " 4   YES                           9 non-null      int64  \n",
      " 5   NO                            9 non-null      int64  \n",
      " 6   Result                        9 non-null      int64  \n",
      " 7   Meets approval threshold      9 non-null      object \n",
      " 8   REQUESTED $                   9 non-null      int64  \n",
      " 9   STATUS                        9 non-null      object \n",
      " 10  FUND DEPLETION                9 non-null      int64  \n",
      " 11  Reason for not funded status  6 non-null      object \n",
      " 12  challenge                     9 non-null      object \n",
      " 13  Budget                        9 non-null      int64  \n",
      " 14  REQUESTED %                   9 non-null      float64\n",
      "dtypes: float64(3), int64(6), object(6)\n",
      "memory usage: 1.2+ KB\n"
     ]
    },
    {
     "data": {
      "text/plain": [
       "None"
      ]
     },
     "metadata": {},
     "output_type": "display_data"
    },
    {
     "name": "stdout",
     "output_type": "stream",
     "text": [
      ">CHALLENGE: Multilingual resources\n",
      "<class 'pandas.core.frame.DataFrame'>\n",
      "RangeIndex: 41 entries, 0 to 40\n",
      "Data columns (total 15 columns):\n",
      " #   Column                        Non-Null Count  Dtype  \n",
      "---  ------                        --------------  -----  \n",
      " 0   Proposal                      41 non-null     object \n",
      " 1   Link to ideascale             41 non-null     object \n",
      " 2   SCORE                         41 non-null     float64\n",
      " 3   Votes cast                    41 non-null     float64\n",
      " 4   YES                           41 non-null     int64  \n",
      " 5   NO                            41 non-null     int64  \n",
      " 6   Result                        41 non-null     int64  \n",
      " 7   Meets approval threshold      41 non-null     object \n",
      " 8   REQUESTED $                   41 non-null     int64  \n",
      " 9   STATUS                        41 non-null     object \n",
      " 10  FUND DEPLETION                41 non-null     int64  \n",
      " 11  Reason for not funded status  35 non-null     object \n",
      " 12  challenge                     41 non-null     object \n",
      " 13  Budget                        41 non-null     int64  \n",
      " 14  REQUESTED %                   41 non-null     float64\n",
      "dtypes: float64(3), int64(6), object(6)\n",
      "memory usage: 4.9+ KB\n"
     ]
    },
    {
     "data": {
      "text/plain": [
       "None"
      ]
     },
     "metadata": {},
     "output_type": "display_data"
    },
    {
     "name": "stdout",
     "output_type": "stream",
     "text": [
      ">CHALLENGE: DeFi and Microlending for Afric\n",
      "<class 'pandas.core.frame.DataFrame'>\n",
      "RangeIndex: 12 entries, 0 to 11\n",
      "Data columns (total 15 columns):\n",
      " #   Column                        Non-Null Count  Dtype  \n",
      "---  ------                        --------------  -----  \n",
      " 0   Proposal                      12 non-null     object \n",
      " 1   Link to ideascale             12 non-null     object \n",
      " 2   SCORE                         12 non-null     float64\n",
      " 3   Votes cast                    12 non-null     float64\n",
      " 4   YES                           12 non-null     int64  \n",
      " 5   NO                            12 non-null     int64  \n",
      " 6   Result                        12 non-null     int64  \n",
      " 7   Meets approval threshold      12 non-null     object \n",
      " 8   REQUESTED $                   12 non-null     int64  \n",
      " 9   STATUS                        12 non-null     object \n",
      " 10  FUND DEPLETION                12 non-null     int64  \n",
      " 11  Reason for not funded status  7 non-null      object \n",
      " 12  challenge                     12 non-null     object \n",
      " 13  Budget                        12 non-null     int64  \n",
      " 14  REQUESTED %                   12 non-null     float64\n",
      "dtypes: float64(3), int64(6), object(6)\n",
      "memory usage: 1.5+ KB\n"
     ]
    },
    {
     "data": {
      "text/plain": [
       "None"
      ]
     },
     "metadata": {},
     "output_type": "display_data"
    },
    {
     "name": "stdout",
     "output_type": "stream",
     "text": [
      ">CHALLENGE: DLT Entrepreneurship Toolbox\n",
      "<class 'pandas.core.frame.DataFrame'>\n",
      "RangeIndex: 23 entries, 0 to 22\n",
      "Data columns (total 15 columns):\n",
      " #   Column                        Non-Null Count  Dtype  \n",
      "---  ------                        --------------  -----  \n",
      " 0   Proposal                      23 non-null     object \n",
      " 1   Link to ideascale             23 non-null     object \n",
      " 2   SCORE                         23 non-null     float64\n",
      " 3   Votes cast                    23 non-null     float64\n",
      " 4   YES                           23 non-null     int64  \n",
      " 5   NO                            23 non-null     int64  \n",
      " 6   Result                        23 non-null     int64  \n",
      " 7   Meets approval threshold      23 non-null     object \n",
      " 8   REQUESTED $                   23 non-null     int64  \n",
      " 9   STATUS                        23 non-null     object \n",
      " 10  FUND DEPLETION                23 non-null     int64  \n",
      " 11  Reason for not funded status  13 non-null     object \n",
      " 12  challenge                     23 non-null     object \n",
      " 13  Budget                        23 non-null     int64  \n",
      " 14  REQUESTED %                   23 non-null     float64\n",
      "dtypes: float64(3), int64(6), object(6)\n",
      "memory usage: 2.8+ KB\n"
     ]
    },
    {
     "data": {
      "text/plain": [
       "None"
      ]
     },
     "metadata": {},
     "output_type": "display_data"
    },
    {
     "name": "stdout",
     "output_type": "stream",
     "text": [
      ">CHALLENGE: Partnerships for Global Adoptio\n",
      "<class 'pandas.core.frame.DataFrame'>\n",
      "RangeIndex: 13 entries, 0 to 12\n",
      "Data columns (total 15 columns):\n",
      " #   Column                        Non-Null Count  Dtype  \n",
      "---  ------                        --------------  -----  \n",
      " 0   Proposal                      13 non-null     object \n",
      " 1   Link to ideascale             13 non-null     object \n",
      " 2   SCORE                         13 non-null     float64\n",
      " 3   Votes cast                    13 non-null     float64\n",
      " 4   YES                           13 non-null     int64  \n",
      " 5   NO                            13 non-null     int64  \n",
      " 6   Result                        13 non-null     int64  \n",
      " 7   Meets approval threshold      13 non-null     object \n",
      " 8   REQUESTED $                   13 non-null     int64  \n",
      " 9   STATUS                        13 non-null     object \n",
      " 10  FUND DEPLETION                13 non-null     int64  \n",
      " 11  Reason for not funded status  8 non-null      object \n",
      " 12  challenge                     13 non-null     object \n",
      " 13  Budget                        13 non-null     int64  \n",
      " 14  REQUESTED %                   13 non-null     float64\n",
      "dtypes: float64(3), int64(6), object(6)\n",
      "memory usage: 1.6+ KB\n"
     ]
    },
    {
     "data": {
      "text/plain": [
       "None"
      ]
     },
     "metadata": {},
     "output_type": "display_data"
    },
    {
     "name": "stdout",
     "output_type": "stream",
     "text": [
      ">CHALLENGE: NFT Business models\n",
      "<class 'pandas.core.frame.DataFrame'>\n",
      "RangeIndex: 80 entries, 0 to 79\n",
      "Data columns (total 15 columns):\n",
      " #   Column                        Non-Null Count  Dtype  \n",
      "---  ------                        --------------  -----  \n",
      " 0   Proposal                      80 non-null     object \n",
      " 1   Link to ideascale             80 non-null     object \n",
      " 2   SCORE                         80 non-null     float64\n",
      " 3   Votes cast                    80 non-null     float64\n",
      " 4   YES                           80 non-null     int64  \n",
      " 5   NO                            80 non-null     int64  \n",
      " 6   Result                        80 non-null     int64  \n",
      " 7   Meets approval threshold      80 non-null     object \n",
      " 8   REQUESTED $                   80 non-null     int64  \n",
      " 9   STATUS                        80 non-null     object \n",
      " 10  FUND DEPLETION                80 non-null     int64  \n",
      " 11  Reason for not funded status  72 non-null     object \n",
      " 12  challenge                     80 non-null     object \n",
      " 13  Budget                        80 non-null     int64  \n",
      " 14  REQUESTED %                   80 non-null     float64\n",
      "dtypes: float64(3), int64(6), object(6)\n",
      "memory usage: 9.5+ KB\n"
     ]
    },
    {
     "data": {
      "text/plain": [
       "None"
      ]
     },
     "metadata": {},
     "output_type": "display_data"
    },
    {
     "name": "stdout",
     "output_type": "stream",
     "text": [
      ">CHALLENGE: Atala PRISM DID Mass-Scale Adop\n",
      "<class 'pandas.core.frame.DataFrame'>\n",
      "RangeIndex: 44 entries, 0 to 43\n",
      "Data columns (total 15 columns):\n",
      " #   Column                        Non-Null Count  Dtype  \n",
      "---  ------                        --------------  -----  \n",
      " 0   Proposal                      44 non-null     object \n",
      " 1   Link to ideascale             44 non-null     object \n",
      " 2   SCORE                         44 non-null     float64\n",
      " 3   Votes cast                    44 non-null     float64\n",
      " 4   YES                           44 non-null     int64  \n",
      " 5   NO                            44 non-null     int64  \n",
      " 6   Result                        44 non-null     int64  \n",
      " 7   Meets approval threshold      44 non-null     object \n",
      " 8   REQUESTED $                   44 non-null     int64  \n",
      " 9   STATUS                        44 non-null     object \n",
      " 10  FUND DEPLETION                44 non-null     int64  \n",
      " 11  Reason for not funded status  35 non-null     object \n",
      " 12  challenge                     44 non-null     object \n",
      " 13  Budget                        44 non-null     int64  \n",
      " 14  REQUESTED %                   44 non-null     float64\n",
      "dtypes: float64(3), int64(6), object(6)\n",
      "memory usage: 5.3+ KB\n"
     ]
    },
    {
     "data": {
      "text/plain": [
       "None"
      ]
     },
     "metadata": {},
     "output_type": "display_data"
    },
    {
     "name": "stdout",
     "output_type": "stream",
     "text": [
      ">CHALLENGE: Disaster When all is at stake\n",
      "<class 'pandas.core.frame.DataFrame'>\n",
      "RangeIndex: 10 entries, 0 to 9\n",
      "Data columns (total 15 columns):\n",
      " #   Column                        Non-Null Count  Dtype  \n",
      "---  ------                        --------------  -----  \n",
      " 0   Proposal                      10 non-null     object \n",
      " 1   Link to ideascale             10 non-null     object \n",
      " 2   SCORE                         10 non-null     float64\n",
      " 3   Votes cast                    10 non-null     float64\n",
      " 4   YES                           10 non-null     int64  \n",
      " 5   NO                            10 non-null     int64  \n",
      " 6   Result                        10 non-null     int64  \n",
      " 7   Meets approval threshold      10 non-null     object \n",
      " 8   REQUESTED $                   10 non-null     int64  \n",
      " 9   STATUS                        10 non-null     object \n",
      " 10  FUND DEPLETION                10 non-null     int64  \n",
      " 11  Reason for not funded status  5 non-null      object \n",
      " 12  challenge                     10 non-null     object \n",
      " 13  Budget                        10 non-null     int64  \n",
      " 14  REQUESTED %                   10 non-null     float64\n",
      "dtypes: float64(3), int64(6), object(6)\n",
      "memory usage: 1.3+ KB\n"
     ]
    },
    {
     "data": {
      "text/plain": [
       "None"
      ]
     },
     "metadata": {},
     "output_type": "display_data"
    },
    {
     "name": "stdout",
     "output_type": "stream",
     "text": [
      ">CHALLENGE: Scale-UP Cardano’s Community Hu\n",
      "<class 'pandas.core.frame.DataFrame'>\n",
      "RangeIndex: 32 entries, 0 to 31\n",
      "Data columns (total 15 columns):\n",
      " #   Column                        Non-Null Count  Dtype  \n",
      "---  ------                        --------------  -----  \n",
      " 0   Proposal                      32 non-null     object \n",
      " 1   Link to ideascale             32 non-null     object \n",
      " 2   SCORE                         32 non-null     float64\n",
      " 3   Votes cast                    32 non-null     float64\n",
      " 4   YES                           32 non-null     int64  \n",
      " 5   NO                            32 non-null     int64  \n",
      " 6   Result                        32 non-null     int64  \n",
      " 7   Meets approval threshold      32 non-null     object \n",
      " 8   REQUESTED $                   32 non-null     int64  \n",
      " 9   STATUS                        32 non-null     object \n",
      " 10  FUND DEPLETION                32 non-null     int64  \n",
      " 11  Reason for not funded status  21 non-null     object \n",
      " 12  challenge                     32 non-null     object \n",
      " 13  Budget                        32 non-null     int64  \n",
      " 14  REQUESTED %                   32 non-null     float64\n",
      "dtypes: float64(3), int64(6), object(6)\n",
      "memory usage: 3.9+ KB\n"
     ]
    },
    {
     "data": {
      "text/plain": [
       "None"
      ]
     },
     "metadata": {},
     "output_type": "display_data"
    },
    {
     "name": "stdout",
     "output_type": "stream",
     "text": [
      ">CHALLENGE: Improve and Grow Auditability\n",
      "<class 'pandas.core.frame.DataFrame'>\n",
      "RangeIndex: 11 entries, 0 to 10\n",
      "Data columns (total 15 columns):\n",
      " #   Column                        Non-Null Count  Dtype  \n",
      "---  ------                        --------------  -----  \n",
      " 0   Proposal                      11 non-null     object \n",
      " 1   Link to ideascale             11 non-null     object \n",
      " 2   SCORE                         11 non-null     float64\n",
      " 3   Votes cast                    11 non-null     float64\n",
      " 4   YES                           11 non-null     int64  \n",
      " 5   NO                            11 non-null     int64  \n",
      " 6   Result                        11 non-null     int64  \n",
      " 7   Meets approval threshold      11 non-null     object \n",
      " 8   REQUESTED $                   11 non-null     int64  \n",
      " 9   STATUS                        11 non-null     object \n",
      " 10  FUND DEPLETION                11 non-null     int64  \n",
      " 11  Reason for not funded status  5 non-null      object \n",
      " 12  challenge                     11 non-null     object \n",
      " 13  Budget                        11 non-null     int64  \n",
      " 14  REQUESTED %                   11 non-null     float64\n",
      "dtypes: float64(3), int64(6), object(6)\n",
      "memory usage: 1.4+ KB\n"
     ]
    },
    {
     "data": {
      "text/plain": [
       "None"
      ]
     },
     "metadata": {},
     "output_type": "display_data"
    },
    {
     "name": "stdout",
     "output_type": "stream",
     "text": [
      ">CHALLENGE: Fund7 challenge setting\n",
      "<class 'pandas.core.frame.DataFrame'>\n",
      "RangeIndex: 60 entries, 0 to 59\n",
      "Data columns (total 15 columns):\n",
      " #   Column                        Non-Null Count  Dtype  \n",
      "---  ------                        --------------  -----  \n",
      " 0   Proposal                      60 non-null     object \n",
      " 1   Link to ideascale             60 non-null     object \n",
      " 2   SCORE                         60 non-null     float64\n",
      " 3   Votes cast                    60 non-null     float64\n",
      " 4   YES                           60 non-null     int64  \n",
      " 5   NO                            60 non-null     int64  \n",
      " 6   Result                        60 non-null     int64  \n",
      " 7   Meets approval threshold      60 non-null     object \n",
      " 8   REQUESTED $                   60 non-null     int64  \n",
      " 9   STATUS                        60 non-null     object \n",
      " 10  FUND DEPLETION                60 non-null     int64  \n",
      " 11  Reason for not funded status  39 non-null     object \n",
      " 12  challenge                     60 non-null     object \n",
      " 13  Budget                        60 non-null     int64  \n",
      " 14  REQUESTED %                   60 non-null     float64\n",
      "dtypes: float64(3), int64(6), object(6)\n",
      "memory usage: 7.2+ KB\n"
     ]
    },
    {
     "data": {
      "text/plain": [
       "None"
      ]
     },
     "metadata": {},
     "output_type": "display_data"
    },
    {
     "name": "stdout",
     "output_type": "stream",
     "text": [
      ">CHALLENGE: Sponsored by leftovers\n",
      "<class 'pandas.core.frame.DataFrame'>\n",
      "RangeIndex: 177 entries, 0 to 176\n",
      "Data columns (total 16 columns):\n",
      " #   Column                        Non-Null Count  Dtype  \n",
      "---  ------                        --------------  -----  \n",
      " 0   Challenge                     177 non-null    object \n",
      " 1   Proposal                      177 non-null    object \n",
      " 2   Link to ideascale             177 non-null    object \n",
      " 3   SCORE                         177 non-null    float64\n",
      " 4   Votes cast                    177 non-null    float64\n",
      " 5   YES                           177 non-null    int64  \n",
      " 6   NO                            177 non-null    int64  \n",
      " 7   Result                        177 non-null    int64  \n",
      " 8   Meets approval threshold      177 non-null    object \n",
      " 9   REQUESTED $                   177 non-null    int64  \n",
      " 10  STATUS                        177 non-null    object \n",
      " 11  FUND DEPLETION                177 non-null    int64  \n",
      " 12  Reason for not funded status  171 non-null    object \n",
      " 13  challenge                     177 non-null    object \n",
      " 14  Budget                        177 non-null    int64  \n",
      " 15  REQUESTED %                   177 non-null    float64\n",
      "dtypes: float64(3), int64(6), object(7)\n",
      "memory usage: 22.2+ KB\n"
     ]
    },
    {
     "data": {
      "text/plain": [
       "None"
      ]
     },
     "metadata": {},
     "output_type": "display_data"
    },
    {
     "name": "stdout",
     "output_type": "stream",
     "text": [
      "\n",
      " >> FUND: f7\n",
      ">CHALLENGE: A.I. & SingularityNet a $5T mar\n",
      "<class 'pandas.core.frame.DataFrame'>\n",
      "RangeIndex: 38 entries, 0 to 37\n",
      "Data columns (total 14 columns):\n",
      " #   Column                        Non-Null Count  Dtype  \n",
      "---  ------                        --------------  -----  \n",
      " 0   Proposal                      38 non-null     object \n",
      " 1   SCORE                         38 non-null     float64\n",
      " 2   Votes cast                    38 non-null     float64\n",
      " 3   YES                           38 non-null     int64  \n",
      " 4   NO                            38 non-null     int64  \n",
      " 5   Result                        38 non-null     int64  \n",
      " 6   Meets approval threshold      38 non-null     object \n",
      " 7   REQUESTED $                   38 non-null     int64  \n",
      " 8   STATUS                        38 non-null     object \n",
      " 9   FUND DEPLETION                38 non-null     int64  \n",
      " 10  Reason for not funded status  29 non-null     object \n",
      " 11  challenge                     38 non-null     object \n",
      " 12  Budget                        38 non-null     int64  \n",
      " 13  REQUESTED %                   38 non-null     float64\n",
      "dtypes: float64(3), int64(6), object(5)\n",
      "memory usage: 4.3+ KB\n"
     ]
    },
    {
     "data": {
      "text/plain": [
       "None"
      ]
     },
     "metadata": {},
     "output_type": "display_data"
    },
    {
     "name": "stdout",
     "output_type": "stream",
     "text": [
      ">CHALLENGE: Accelerate Decentralized Identi\n",
      "<class 'pandas.core.frame.DataFrame'>\n",
      "RangeIndex: 56 entries, 0 to 55\n",
      "Data columns (total 14 columns):\n",
      " #   Column                        Non-Null Count  Dtype  \n",
      "---  ------                        --------------  -----  \n",
      " 0   Proposal                      56 non-null     object \n",
      " 1   SCORE                         56 non-null     float64\n",
      " 2   Votes cast                    56 non-null     float64\n",
      " 3   YES                           56 non-null     int64  \n",
      " 4   NO                            56 non-null     int64  \n",
      " 5   Result                        56 non-null     int64  \n",
      " 6   Meets approval threshold      56 non-null     object \n",
      " 7   REQUESTED $                   56 non-null     int64  \n",
      " 8   STATUS                        56 non-null     object \n",
      " 9   FUND DEPLETION                56 non-null     int64  \n",
      " 10  Reason for not funded status  36 non-null     object \n",
      " 11  challenge                     56 non-null     object \n",
      " 12  Budget                        0 non-null      float64\n",
      " 13  REQUESTED %                   0 non-null      float64\n",
      "dtypes: float64(4), int64(5), object(5)\n",
      "memory usage: 6.2+ KB\n"
     ]
    },
    {
     "data": {
      "text/plain": [
       "None"
      ]
     },
     "metadata": {},
     "output_type": "display_data"
    },
    {
     "name": "stdout",
     "output_type": "stream",
     "text": [
      ">CHALLENGE: Boosting Cardanos DeFi\n",
      "<class 'pandas.core.frame.DataFrame'>\n",
      "RangeIndex: 43 entries, 0 to 42\n",
      "Data columns (total 14 columns):\n",
      " #   Column                        Non-Null Count  Dtype  \n",
      "---  ------                        --------------  -----  \n",
      " 0   Proposal                      43 non-null     object \n",
      " 1   SCORE                         43 non-null     float64\n",
      " 2   Votes cast                    43 non-null     float64\n",
      " 3   YES                           43 non-null     int64  \n",
      " 4   NO                            43 non-null     int64  \n",
      " 5   Result                        43 non-null     int64  \n",
      " 6   Meets approval threshold      43 non-null     object \n",
      " 7   REQUESTED $                   43 non-null     int64  \n",
      " 8   STATUS                        43 non-null     object \n",
      " 9   FUND DEPLETION                43 non-null     int64  \n",
      " 10  Reason for not funded status  33 non-null     object \n",
      " 11  challenge                     43 non-null     object \n",
      " 12  Budget                        43 non-null     int64  \n",
      " 13  REQUESTED %                   43 non-null     float64\n",
      "dtypes: float64(3), int64(6), object(5)\n",
      "memory usage: 4.8+ KB\n"
     ]
    },
    {
     "data": {
      "text/plain": [
       "None"
      ]
     },
     "metadata": {},
     "output_type": "display_data"
    },
    {
     "name": "stdout",
     "output_type": "stream",
     "text": [
      ">CHALLENGE: Catalyst - Rapid Funding Mechan\n",
      "<class 'pandas.core.frame.DataFrame'>\n",
      "RangeIndex: 15 entries, 0 to 14\n",
      "Data columns (total 14 columns):\n",
      " #   Column                        Non-Null Count  Dtype  \n",
      "---  ------                        --------------  -----  \n",
      " 0   Proposal                      15 non-null     object \n",
      " 1   SCORE                         15 non-null     float64\n",
      " 2   Votes cast                    15 non-null     float64\n",
      " 3   YES                           15 non-null     int64  \n",
      " 4   NO                            15 non-null     int64  \n",
      " 5   Result                        15 non-null     int64  \n",
      " 6   Meets approval threshold      15 non-null     object \n",
      " 7   REQUESTED $                   15 non-null     int64  \n",
      " 8   STATUS                        15 non-null     object \n",
      " 9   FUND DEPLETION                15 non-null     int64  \n",
      " 10  Reason for not funded status  11 non-null     object \n",
      " 11  challenge                     15 non-null     object \n",
      " 12  Budget                        15 non-null     int64  \n",
      " 13  REQUESTED %                   15 non-null     float64\n",
      "dtypes: float64(3), int64(6), object(5)\n",
      "memory usage: 1.8+ KB\n"
     ]
    },
    {
     "data": {
      "text/plain": [
       "None"
      ]
     },
     "metadata": {},
     "output_type": "display_data"
    },
    {
     "name": "stdout",
     "output_type": "stream",
     "text": [
      ">CHALLENGE: Catalyst Accelerator & Mentors\n",
      "<class 'pandas.core.frame.DataFrame'>\n",
      "RangeIndex: 27 entries, 0 to 26\n",
      "Data columns (total 14 columns):\n",
      " #   Column                        Non-Null Count  Dtype  \n",
      "---  ------                        --------------  -----  \n",
      " 0   Proposal                      27 non-null     object \n",
      " 1   SCORE                         27 non-null     float64\n",
      " 2   Votes cast                    27 non-null     float64\n",
      " 3   YES                           27 non-null     int64  \n",
      " 4   NO                            27 non-null     int64  \n",
      " 5   Result                        27 non-null     int64  \n",
      " 6   Meets approval threshold      27 non-null     object \n",
      " 7   REQUESTED $                   27 non-null     int64  \n",
      " 8   STATUS                        27 non-null     object \n",
      " 9   FUND DEPLETION                27 non-null     int64  \n",
      " 10  Reason for not funded status  15 non-null     object \n",
      " 11  challenge                     27 non-null     object \n",
      " 12  Budget                        27 non-null     int64  \n",
      " 13  REQUESTED %                   27 non-null     float64\n",
      "dtypes: float64(3), int64(6), object(5)\n",
      "memory usage: 3.1+ KB\n"
     ]
    },
    {
     "data": {
      "text/plain": [
       "None"
      ]
     },
     "metadata": {},
     "output_type": "display_data"
    },
    {
     "name": "stdout",
     "output_type": "stream",
     "text": [
      ">CHALLENGE: Catalyst Natives COTI Pay with \n",
      "<class 'pandas.core.frame.DataFrame'>\n",
      "RangeIndex: 16 entries, 0 to 15\n",
      "Data columns (total 14 columns):\n",
      " #   Column                        Non-Null Count  Dtype  \n",
      "---  ------                        --------------  -----  \n",
      " 0   Proposal                      16 non-null     object \n",
      " 1   SCORE                         16 non-null     float64\n",
      " 2   Votes cast                    16 non-null     float64\n",
      " 3   YES                           16 non-null     int64  \n",
      " 4   NO                            16 non-null     int64  \n",
      " 5   Result                        16 non-null     int64  \n",
      " 6   Meets approval threshold      16 non-null     object \n",
      " 7   REQUESTED $                   16 non-null     int64  \n",
      " 8   STATUS                        16 non-null     object \n",
      " 9   FUND DEPLETION                16 non-null     int64  \n",
      " 10  Reason for not funded status  11 non-null     object \n",
      " 11  challenge                     16 non-null     object \n",
      " 12  Budget                        16 non-null     int64  \n",
      " 13  REQUESTED %                   16 non-null     float64\n",
      "dtypes: float64(3), int64(6), object(5)\n",
      "memory usage: 1.9+ KB\n"
     ]
    },
    {
     "data": {
      "text/plain": [
       "None"
      ]
     },
     "metadata": {},
     "output_type": "display_data"
    },
    {
     "name": "stdout",
     "output_type": "stream",
     "text": [
      ">CHALLENGE: Community Events\n",
      "<class 'pandas.core.frame.DataFrame'>\n",
      "RangeIndex: 44 entries, 0 to 43\n",
      "Data columns (total 14 columns):\n",
      " #   Column                        Non-Null Count  Dtype  \n",
      "---  ------                        --------------  -----  \n",
      " 0   Proposal                      44 non-null     object \n",
      " 1   SCORE                         44 non-null     float64\n",
      " 2   Votes cast                    44 non-null     float64\n",
      " 3   YES                           44 non-null     int64  \n",
      " 4   NO                            44 non-null     int64  \n",
      " 5   Result                        44 non-null     int64  \n",
      " 6   Meets approval threshold      44 non-null     object \n",
      " 7   REQUESTED $                   44 non-null     int64  \n",
      " 8   STATUS                        44 non-null     object \n",
      " 9   FUND DEPLETION                44 non-null     int64  \n",
      " 10  Reason for not funded status  29 non-null     object \n",
      " 11  challenge                     44 non-null     object \n",
      " 12  Budget                        44 non-null     int64  \n",
      " 13  REQUESTED %                   44 non-null     float64\n",
      "dtypes: float64(3), int64(6), object(5)\n",
      "memory usage: 4.9+ KB\n"
     ]
    },
    {
     "data": {
      "text/plain": [
       "None"
      ]
     },
     "metadata": {},
     "output_type": "display_data"
    },
    {
     "name": "stdout",
     "output_type": "stream",
     "text": [
      ">CHALLENGE: Connecting Japan日本 Community\n",
      "<class 'pandas.core.frame.DataFrame'>\n",
      "RangeIndex: 11 entries, 0 to 10\n",
      "Data columns (total 14 columns):\n",
      " #   Column                        Non-Null Count  Dtype  \n",
      "---  ------                        --------------  -----  \n",
      " 0   Proposal                      11 non-null     object \n",
      " 1   SCORE                         11 non-null     float64\n",
      " 2   Votes cast                    11 non-null     float64\n",
      " 3   YES                           11 non-null     int64  \n",
      " 4   NO                            11 non-null     int64  \n",
      " 5   Result                        11 non-null     int64  \n",
      " 6   Meets approval threshold      11 non-null     object \n",
      " 7   REQUESTED $                   11 non-null     int64  \n",
      " 8   STATUS                        11 non-null     object \n",
      " 9   FUND DEPLETION                11 non-null     int64  \n",
      " 10  Reason for not funded status  3 non-null      object \n",
      " 11  challenge                     11 non-null     object \n",
      " 12  Budget                        11 non-null     int64  \n",
      " 13  REQUESTED %                   11 non-null     float64\n",
      "dtypes: float64(3), int64(6), object(5)\n",
      "memory usage: 1.3+ KB\n"
     ]
    },
    {
     "data": {
      "text/plain": [
       "None"
      ]
     },
     "metadata": {},
     "output_type": "display_data"
    },
    {
     "name": "stdout",
     "output_type": "stream",
     "text": [
      ">CHALLENGE: DAOs ❤ Cardano\n",
      "<class 'pandas.core.frame.DataFrame'>\n",
      "RangeIndex: 41 entries, 0 to 40\n",
      "Data columns (total 14 columns):\n",
      " #   Column                        Non-Null Count  Dtype  \n",
      "---  ------                        --------------  -----  \n",
      " 0   Proposal                      41 non-null     object \n",
      " 1   SCORE                         41 non-null     float64\n",
      " 2   Votes cast                    41 non-null     float64\n",
      " 3   YES                           41 non-null     int64  \n",
      " 4   NO                            41 non-null     int64  \n",
      " 5   Result                        41 non-null     int64  \n",
      " 6   Meets approval threshold      41 non-null     object \n",
      " 7   REQUESTED $                   41 non-null     int64  \n",
      " 8   STATUS                        41 non-null     object \n",
      " 9   FUND DEPLETION                41 non-null     int64  \n",
      " 10  Reason for not funded status  29 non-null     object \n",
      " 11  challenge                     41 non-null     object \n",
      " 12  Budget                        41 non-null     int64  \n",
      " 13  REQUESTED %                   41 non-null     float64\n",
      "dtypes: float64(3), int64(6), object(5)\n",
      "memory usage: 4.6+ KB\n"
     ]
    },
    {
     "data": {
      "text/plain": [
       "None"
      ]
     },
     "metadata": {},
     "output_type": "display_data"
    },
    {
     "name": "stdout",
     "output_type": "stream",
     "text": [
      ">CHALLENGE: DApps & Integrations\n",
      "<class 'pandas.core.frame.DataFrame'>\n",
      "RangeIndex: 85 entries, 0 to 84\n",
      "Data columns (total 14 columns):\n",
      " #   Column                        Non-Null Count  Dtype  \n",
      "---  ------                        --------------  -----  \n",
      " 0   Proposal                      85 non-null     object \n",
      " 1   SCORE                         85 non-null     float64\n",
      " 2   Votes cast                    85 non-null     float64\n",
      " 3   YES                           85 non-null     int64  \n",
      " 4   NO                            85 non-null     int64  \n",
      " 5   Result                        85 non-null     int64  \n",
      " 6   Meets approval threshold      85 non-null     object \n",
      " 7   REQUESTED $                   85 non-null     int64  \n",
      " 8   STATUS                        85 non-null     object \n",
      " 9   FUND DEPLETION                85 non-null     int64  \n",
      " 10  Reason for not funded status  76 non-null     object \n",
      " 11  challenge                     85 non-null     object \n",
      " 12  Budget                        85 non-null     int64  \n",
      " 13  REQUESTED %                   85 non-null     float64\n",
      "dtypes: float64(3), int64(6), object(5)\n",
      "memory usage: 9.4+ KB\n"
     ]
    },
    {
     "data": {
      "text/plain": [
       "None"
      ]
     },
     "metadata": {},
     "output_type": "display_data"
    },
    {
     "name": "stdout",
     "output_type": "stream",
     "text": [
      ">CHALLENGE: Disarm cyber disinformation att\n",
      "<class 'pandas.core.frame.DataFrame'>\n",
      "RangeIndex: 11 entries, 0 to 10\n",
      "Data columns (total 14 columns):\n",
      " #   Column                        Non-Null Count  Dtype  \n",
      "---  ------                        --------------  -----  \n",
      " 0   Proposal                      11 non-null     object \n",
      " 1   SCORE                         11 non-null     float64\n",
      " 2   Votes cast                    11 non-null     float64\n",
      " 3   YES                           11 non-null     int64  \n",
      " 4   NO                            11 non-null     int64  \n",
      " 5   Result                        11 non-null     int64  \n",
      " 6   Meets approval threshold      11 non-null     object \n",
      " 7   REQUESTED $                   11 non-null     int64  \n",
      " 8   STATUS                        11 non-null     object \n",
      " 9   FUND DEPLETION                11 non-null     int64  \n",
      " 10  Reason for not funded status  6 non-null      object \n",
      " 11  challenge                     11 non-null     object \n",
      " 12  Budget                        11 non-null     int64  \n",
      " 13  REQUESTED %                   11 non-null     float64\n",
      "dtypes: float64(3), int64(6), object(5)\n",
      "memory usage: 1.3+ KB\n"
     ]
    },
    {
     "data": {
      "text/plain": [
       "None"
      ]
     },
     "metadata": {},
     "output_type": "display_data"
    },
    {
     "name": "stdout",
     "output_type": "stream",
     "text": [
      ">CHALLENGE: Gamers On-Chained\n",
      "<class 'pandas.core.frame.DataFrame'>\n",
      "RangeIndex: 52 entries, 0 to 51\n",
      "Data columns (total 14 columns):\n",
      " #   Column                        Non-Null Count  Dtype  \n",
      "---  ------                        --------------  -----  \n",
      " 0   Proposal                      52 non-null     object \n",
      " 1   SCORE                         52 non-null     float64\n",
      " 2   Votes cast                    52 non-null     float64\n",
      " 3   YES                           52 non-null     int64  \n",
      " 4   NO                            52 non-null     int64  \n",
      " 5   Result                        52 non-null     int64  \n",
      " 6   Meets approval threshold      52 non-null     object \n",
      " 7   REQUESTED $                   52 non-null     int64  \n",
      " 8   STATUS                        52 non-null     object \n",
      " 9   FUND DEPLETION                52 non-null     int64  \n",
      " 10  Reason for not funded status  44 non-null     object \n",
      " 11  challenge                     52 non-null     object \n",
      " 12  Budget                        52 non-null     int64  \n",
      " 13  REQUESTED %                   52 non-null     float64\n",
      "dtypes: float64(3), int64(6), object(5)\n",
      "memory usage: 5.8+ KB\n"
     ]
    },
    {
     "data": {
      "text/plain": [
       "None"
      ]
     },
     "metadata": {},
     "output_type": "display_data"
    },
    {
     "name": "stdout",
     "output_type": "stream",
     "text": [
      ">CHALLENGE: Global Sustainable Indep. SPOs\n",
      "<class 'pandas.core.frame.DataFrame'>\n",
      "RangeIndex: 21 entries, 0 to 20\n",
      "Data columns (total 14 columns):\n",
      " #   Column                        Non-Null Count  Dtype  \n",
      "---  ------                        --------------  -----  \n",
      " 0   Proposal                      21 non-null     object \n",
      " 1   SCORE                         21 non-null     float64\n",
      " 2   Votes cast                    21 non-null     float64\n",
      " 3   YES                           21 non-null     int64  \n",
      " 4   NO                            21 non-null     int64  \n",
      " 5   Result                        21 non-null     int64  \n",
      " 6   Meets approval threshold      21 non-null     object \n",
      " 7   REQUESTED $                   21 non-null     int64  \n",
      " 8   STATUS                        21 non-null     object \n",
      " 9   FUND DEPLETION                21 non-null     int64  \n",
      " 10  Reason for not funded status  15 non-null     object \n",
      " 11  challenge                     21 non-null     object \n",
      " 12  Budget                        21 non-null     int64  \n",
      " 13  REQUESTED %                   21 non-null     float64\n",
      "dtypes: float64(3), int64(6), object(5)\n",
      "memory usage: 2.4+ KB\n"
     ]
    },
    {
     "data": {
      "text/plain": [
       "None"
      ]
     },
     "metadata": {},
     "output_type": "display_data"
    },
    {
     "name": "stdout",
     "output_type": "stream",
     "text": [
      ">CHALLENGE: Grow Latin America, Grow Cardan\n",
      "<class 'pandas.core.frame.DataFrame'>\n",
      "RangeIndex: 68 entries, 0 to 67\n",
      "Data columns (total 14 columns):\n",
      " #   Column                        Non-Null Count  Dtype  \n",
      "---  ------                        --------------  -----  \n",
      " 0   Proposal                      68 non-null     object \n",
      " 1   SCORE                         68 non-null     float64\n",
      " 2   Votes cast                    68 non-null     float64\n",
      " 3   YES                           68 non-null     int64  \n",
      " 4   NO                            68 non-null     int64  \n",
      " 5   Result                        68 non-null     int64  \n",
      " 6   Meets approval threshold      68 non-null     object \n",
      " 7   REQUESTED $                   68 non-null     int64  \n",
      " 8   STATUS                        68 non-null     object \n",
      " 9   FUND DEPLETION                68 non-null     int64  \n",
      " 10  Reason for not funded status  44 non-null     object \n",
      " 11  challenge                     68 non-null     object \n",
      " 12  Budget                        68 non-null     int64  \n",
      " 13  REQUESTED %                   68 non-null     float64\n",
      "dtypes: float64(3), int64(6), object(5)\n",
      "memory usage: 7.6+ KB\n"
     ]
    },
    {
     "data": {
      "text/plain": [
       "None"
      ]
     },
     "metadata": {},
     "output_type": "display_data"
    },
    {
     "name": "stdout",
     "output_type": "stream",
     "text": [
      ">CHALLENGE: Improve and Grow Auditability\n",
      "<class 'pandas.core.frame.DataFrame'>\n",
      "RangeIndex: 16 entries, 0 to 15\n",
      "Data columns (total 14 columns):\n",
      " #   Column                        Non-Null Count  Dtype  \n",
      "---  ------                        --------------  -----  \n",
      " 0   Proposal                      16 non-null     object \n",
      " 1   SCORE                         16 non-null     float64\n",
      " 2   Votes cast                    16 non-null     float64\n",
      " 3   YES                           16 non-null     int64  \n",
      " 4   NO                            16 non-null     int64  \n",
      " 5   Result                        16 non-null     int64  \n",
      " 6   Meets approval threshold      16 non-null     object \n",
      " 7   REQUESTED $                   16 non-null     int64  \n",
      " 8   STATUS                        16 non-null     object \n",
      " 9   FUND DEPLETION                16 non-null     int64  \n",
      " 10  Reason for not funded status  8 non-null      object \n",
      " 11  challenge                     16 non-null     object \n",
      " 12  Budget                        16 non-null     int64  \n",
      " 13  REQUESTED %                   16 non-null     float64\n",
      "dtypes: float64(3), int64(6), object(5)\n",
      "memory usage: 1.9+ KB\n"
     ]
    },
    {
     "data": {
      "text/plain": [
       "None"
      ]
     },
     "metadata": {},
     "output_type": "display_data"
    },
    {
     "name": "stdout",
     "output_type": "stream",
     "text": [
      ">CHALLENGE: Lobbying for favorable legislat\n",
      "<class 'pandas.core.frame.DataFrame'>\n",
      "RangeIndex: 18 entries, 0 to 17\n",
      "Data columns (total 14 columns):\n",
      " #   Column                        Non-Null Count  Dtype  \n",
      "---  ------                        --------------  -----  \n",
      " 0   Proposal                      18 non-null     object \n",
      " 1   SCORE                         18 non-null     float64\n",
      " 2   Votes cast                    18 non-null     float64\n",
      " 3   YES                           18 non-null     int64  \n",
      " 4   NO                            18 non-null     int64  \n",
      " 5   Result                        18 non-null     int64  \n",
      " 6   Meets approval threshold      18 non-null     object \n",
      " 7   REQUESTED $                   18 non-null     int64  \n",
      " 8   STATUS                        18 non-null     object \n",
      " 9   FUND DEPLETION                18 non-null     int64  \n",
      " 10  Reason for not funded status  11 non-null     object \n",
      " 11  challenge                     18 non-null     object \n",
      " 12  Budget                        18 non-null     int64  \n",
      " 13  REQUESTED %                   18 non-null     float64\n",
      "dtypes: float64(3), int64(6), object(5)\n",
      "memory usage: 2.1+ KB\n"
     ]
    },
    {
     "data": {
      "text/plain": [
       "None"
      ]
     },
     "metadata": {},
     "output_type": "display_data"
    },
    {
     "name": "stdout",
     "output_type": "stream",
     "text": [
      ">CHALLENGE: MiniLow-Budget Dapps & Integrat\n",
      "<class 'pandas.core.frame.DataFrame'>\n",
      "RangeIndex: 27 entries, 0 to 26\n",
      "Data columns (total 14 columns):\n",
      " #   Column                        Non-Null Count  Dtype  \n",
      "---  ------                        --------------  -----  \n",
      " 0   Proposal                      27 non-null     object \n",
      " 1   SCORE                         27 non-null     float64\n",
      " 2   Votes cast                    27 non-null     float64\n",
      " 3   YES                           27 non-null     int64  \n",
      " 4   NO                            27 non-null     int64  \n",
      " 5   Result                        27 non-null     int64  \n",
      " 6   Meets approval threshold      27 non-null     object \n",
      " 7   REQUESTED $                   27 non-null     int64  \n",
      " 8   STATUS                        27 non-null     object \n",
      " 9   FUND DEPLETION                27 non-null     int64  \n",
      " 10  Reason for not funded status  11 non-null     object \n",
      " 11  challenge                     27 non-null     object \n",
      " 12  Budget                        27 non-null     int64  \n",
      " 13  REQUESTED %                   27 non-null     float64\n",
      "dtypes: float64(3), int64(6), object(5)\n",
      "memory usage: 3.1+ KB\n"
     ]
    },
    {
     "data": {
      "text/plain": [
       "None"
      ]
     },
     "metadata": {},
     "output_type": "display_data"
    },
    {
     "name": "stdout",
     "output_type": "stream",
     "text": [
      ">CHALLENGE: Miscellaneous Challenge\n",
      "<class 'pandas.core.frame.DataFrame'>\n",
      "RangeIndex: 68 entries, 0 to 67\n",
      "Data columns (total 14 columns):\n",
      " #   Column                        Non-Null Count  Dtype  \n",
      "---  ------                        --------------  -----  \n",
      " 0   Proposal                      68 non-null     object \n",
      " 1   SCORE                         68 non-null     float64\n",
      " 2   Votes cast                    68 non-null     float64\n",
      " 3   YES                           68 non-null     int64  \n",
      " 4   NO                            68 non-null     int64  \n",
      " 5   Result                        68 non-null     int64  \n",
      " 6   Meets approval threshold      68 non-null     object \n",
      " 7   REQUESTED $                   68 non-null     int64  \n",
      " 8   STATUS                        68 non-null     object \n",
      " 9   FUND DEPLETION                68 non-null     int64  \n",
      " 10  Reason for not funded status  51 non-null     object \n",
      " 11  challenge                     68 non-null     object \n",
      " 12  Budget                        68 non-null     int64  \n",
      " 13  REQUESTED %                   68 non-null     float64\n",
      "dtypes: float64(3), int64(6), object(5)\n",
      "memory usage: 7.6+ KB\n"
     ]
    },
    {
     "data": {
      "text/plain": [
       "None"
      ]
     },
     "metadata": {},
     "output_type": "display_data"
    },
    {
     "name": "stdout",
     "output_type": "stream",
     "text": [
      ">CHALLENGE: Multilingual resources\n",
      "<class 'pandas.core.frame.DataFrame'>\n",
      "RangeIndex: 37 entries, 0 to 36\n",
      "Data columns (total 14 columns):\n",
      " #   Column                        Non-Null Count  Dtype  \n",
      "---  ------                        --------------  -----  \n",
      " 0   Proposal                      37 non-null     object \n",
      " 1   SCORE                         37 non-null     float64\n",
      " 2   Votes cast                    37 non-null     float64\n",
      " 3   YES                           37 non-null     int64  \n",
      " 4   NO                            37 non-null     int64  \n",
      " 5   Result                        37 non-null     int64  \n",
      " 6   Meets approval threshold      37 non-null     object \n",
      " 7   REQUESTED $                   37 non-null     int64  \n",
      " 8   STATUS                        37 non-null     object \n",
      " 9   FUND DEPLETION                37 non-null     int64  \n",
      " 10  Reason for not funded status  24 non-null     object \n",
      " 11  challenge                     37 non-null     object \n",
      " 12  Budget                        37 non-null     int64  \n",
      " 13  REQUESTED %                   37 non-null     float64\n",
      "dtypes: float64(3), int64(6), object(5)\n",
      "memory usage: 4.2+ KB\n"
     ]
    },
    {
     "data": {
      "text/plain": [
       "None"
      ]
     },
     "metadata": {},
     "output_type": "display_data"
    },
    {
     "name": "stdout",
     "output_type": "stream",
     "text": [
      ">CHALLENGE: Nation Building Dapps\n",
      "<class 'pandas.core.frame.DataFrame'>\n",
      "RangeIndex: 37 entries, 0 to 36\n",
      "Data columns (total 14 columns):\n",
      " #   Column                        Non-Null Count  Dtype  \n",
      "---  ------                        --------------  -----  \n",
      " 0   Proposal                      37 non-null     object \n",
      " 1   SCORE                         37 non-null     float64\n",
      " 2   Votes cast                    37 non-null     float64\n",
      " 3   YES                           37 non-null     int64  \n",
      " 4   NO                            37 non-null     int64  \n",
      " 5   Result                        37 non-null     int64  \n",
      " 6   Meets approval threshold      37 non-null     object \n",
      " 7   REQUESTED $                   37 non-null     int64  \n",
      " 8   STATUS                        37 non-null     object \n",
      " 9   FUND DEPLETION                37 non-null     int64  \n",
      " 10  Reason for not funded status  27 non-null     object \n",
      " 11  challenge                     37 non-null     object \n",
      " 12  Budget                        37 non-null     int64  \n",
      " 13  REQUESTED %                   37 non-null     float64\n",
      "dtypes: float64(3), int64(6), object(5)\n",
      "memory usage: 4.2+ KB\n"
     ]
    },
    {
     "data": {
      "text/plain": [
       "None"
      ]
     },
     "metadata": {},
     "output_type": "display_data"
    },
    {
     "name": "stdout",
     "output_type": "stream",
     "text": [
      ">CHALLENGE: New SPO Business Opportunities\n",
      "<class 'pandas.core.frame.DataFrame'>\n",
      "RangeIndex: 30 entries, 0 to 29\n",
      "Data columns (total 14 columns):\n",
      " #   Column                        Non-Null Count  Dtype  \n",
      "---  ------                        --------------  -----  \n",
      " 0   Proposal                      30 non-null     object \n",
      " 1   SCORE                         30 non-null     float64\n",
      " 2   Votes cast                    30 non-null     float64\n",
      " 3   YES                           30 non-null     int64  \n",
      " 4   NO                            30 non-null     int64  \n",
      " 5   Result                        30 non-null     int64  \n",
      " 6   Meets approval threshold      30 non-null     object \n",
      " 7   REQUESTED $                   30 non-null     int64  \n",
      " 8   STATUS                        30 non-null     object \n",
      " 9   FUND DEPLETION                30 non-null     int64  \n",
      " 10  Reason for not funded status  23 non-null     object \n",
      " 11  challenge                     30 non-null     object \n",
      " 12  Budget                        30 non-null     int64  \n",
      " 13  REQUESTED %                   30 non-null     float64\n",
      "dtypes: float64(3), int64(6), object(5)\n",
      "memory usage: 3.4+ KB\n"
     ]
    },
    {
     "data": {
      "text/plain": [
       "None"
      ]
     },
     "metadata": {},
     "output_type": "display_data"
    },
    {
     "name": "stdout",
     "output_type": "stream",
     "text": [
      ">CHALLENGE: Open Source Developer Ecosystem\n",
      "<class 'pandas.core.frame.DataFrame'>\n",
      "RangeIndex: 29 entries, 0 to 28\n",
      "Data columns (total 14 columns):\n",
      " #   Column                        Non-Null Count  Dtype  \n",
      "---  ------                        --------------  -----  \n",
      " 0   Proposal                      29 non-null     object \n",
      " 1   SCORE                         29 non-null     float64\n",
      " 2   Votes cast                    29 non-null     float64\n",
      " 3   YES                           29 non-null     int64  \n",
      " 4   NO                            29 non-null     int64  \n",
      " 5   Result                        29 non-null     int64  \n",
      " 6   Meets approval threshold      29 non-null     object \n",
      " 7   REQUESTED $                   29 non-null     int64  \n",
      " 8   STATUS                        29 non-null     object \n",
      " 9   FUND DEPLETION                29 non-null     int64  \n",
      " 10  Reason for not funded status  16 non-null     object \n",
      " 11  challenge                     29 non-null     object \n",
      " 12  Budget                        29 non-null     int64  \n",
      " 13  REQUESTED %                   29 non-null     float64\n",
      "dtypes: float64(3), int64(6), object(5)\n",
      "memory usage: 3.3+ KB\n"
     ]
    },
    {
     "data": {
      "text/plain": [
       "None"
      ]
     },
     "metadata": {},
     "output_type": "display_data"
    },
    {
     "name": "stdout",
     "output_type": "stream",
     "text": [
      ">CHALLENGE: Scale-UP Cardanos Community Hub\n",
      "<class 'pandas.core.frame.DataFrame'>\n",
      "RangeIndex: 62 entries, 0 to 61\n",
      "Data columns (total 14 columns):\n",
      " #   Column                        Non-Null Count  Dtype  \n",
      "---  ------                        --------------  -----  \n",
      " 0   Proposal                      62 non-null     object \n",
      " 1   SCORE                         62 non-null     float64\n",
      " 2   Votes cast                    62 non-null     float64\n",
      " 3   YES                           62 non-null     int64  \n",
      " 4   NO                            62 non-null     int64  \n",
      " 5   Result                        62 non-null     int64  \n",
      " 6   Meets approval threshold      62 non-null     object \n",
      " 7   REQUESTED $                   62 non-null     int64  \n",
      " 8   STATUS                        62 non-null     object \n",
      " 9   FUND DEPLETION                62 non-null     int64  \n",
      " 10  Reason for not funded status  41 non-null     object \n",
      " 11  challenge                     62 non-null     object \n",
      " 12  Budget                        62 non-null     int64  \n",
      " 13  REQUESTED %                   62 non-null     float64\n",
      "dtypes: float64(3), int64(6), object(5)\n",
      "memory usage: 6.9+ KB\n"
     ]
    },
    {
     "data": {
      "text/plain": [
       "None"
      ]
     },
     "metadata": {},
     "output_type": "display_data"
    },
    {
     "name": "stdout",
     "output_type": "stream",
     "text": [
      ">CHALLENGE: Seeding Cardanos Grassroots DeF\n",
      "<class 'pandas.core.frame.DataFrame'>\n",
      "RangeIndex: 16 entries, 0 to 15\n",
      "Data columns (total 14 columns):\n",
      " #   Column                        Non-Null Count  Dtype  \n",
      "---  ------                        --------------  -----  \n",
      " 0   Proposal                      16 non-null     object \n",
      " 1   SCORE                         16 non-null     float64\n",
      " 2   Votes cast                    16 non-null     float64\n",
      " 3   YES                           16 non-null     int64  \n",
      " 4   NO                            16 non-null     int64  \n",
      " 5   Result                        16 non-null     int64  \n",
      " 6   Meets approval threshold      16 non-null     object \n",
      " 7   REQUESTED $                   16 non-null     int64  \n",
      " 8   STATUS                        16 non-null     object \n",
      " 9   FUND DEPLETION                16 non-null     int64  \n",
      " 10  Reason for not funded status  9 non-null      object \n",
      " 11  challenge                     16 non-null     object \n",
      " 12  Budget                        16 non-null     int64  \n",
      " 13  REQUESTED %                   16 non-null     float64\n",
      "dtypes: float64(3), int64(6), object(5)\n",
      "memory usage: 1.9+ KB\n"
     ]
    },
    {
     "data": {
      "text/plain": [
       "None"
      ]
     },
     "metadata": {},
     "output_type": "display_data"
    },
    {
     "name": "stdout",
     "output_type": "stream",
     "text": [
      ">CHALLENGE: Fund8 challenge setting\n",
      "<class 'pandas.core.frame.DataFrame'>\n",
      "RangeIndex: 67 entries, 0 to 66\n",
      "Data columns (total 14 columns):\n",
      " #   Column                        Non-Null Count  Dtype  \n",
      "---  ------                        --------------  -----  \n",
      " 0   Proposal                      67 non-null     object \n",
      " 1   SCORE                         67 non-null     float64\n",
      " 2   Votes cast                    67 non-null     float64\n",
      " 3   YES                           67 non-null     int64  \n",
      " 4   NO                            67 non-null     int64  \n",
      " 5   Result                        67 non-null     int64  \n",
      " 6   Meets approval threshold      67 non-null     object \n",
      " 7   REQUESTED $                   67 non-null     int64  \n",
      " 8   STATUS                        67 non-null     object \n",
      " 9   FUND DEPLETION                67 non-null     int64  \n",
      " 10  Reason for not funded status  45 non-null     object \n",
      " 11  challenge                     67 non-null     object \n",
      " 12  Budget                        67 non-null     int64  \n",
      " 13  REQUESTED %                   67 non-null     float64\n",
      "dtypes: float64(3), int64(6), object(5)\n",
      "memory usage: 7.5+ KB\n"
     ]
    },
    {
     "data": {
      "text/plain": [
       "None"
      ]
     },
     "metadata": {},
     "output_type": "display_data"
    },
    {
     "name": "stdout",
     "output_type": "stream",
     "text": [
      ">CHALLENGE: Sponsored by leftovers\n",
      "<class 'pandas.core.frame.DataFrame'>\n",
      "RangeIndex: 324 entries, 0 to 323\n",
      "Data columns (total 14 columns):\n",
      " #   Column                        Non-Null Count  Dtype  \n",
      "---  ------                        --------------  -----  \n",
      " 0   Proposal                      324 non-null    object \n",
      " 1   SCORE                         324 non-null    float64\n",
      " 2   Votes cast                    324 non-null    float64\n",
      " 3   YES                           324 non-null    int64  \n",
      " 4   NO                            324 non-null    int64  \n",
      " 5   Result                        324 non-null    int64  \n",
      " 6   Meets approval threshold      324 non-null    object \n",
      " 7   REQUESTED $                   324 non-null    int64  \n",
      " 8   STATUS                        324 non-null    object \n",
      " 9   FUND DEPLETION                324 non-null    int64  \n",
      " 10  Reason for not funded status  321 non-null    object \n",
      " 11  challenge                     324 non-null    object \n",
      " 12  Budget                        324 non-null    int64  \n",
      " 13  REQUESTED %                   324 non-null    float64\n",
      "dtypes: float64(3), int64(6), object(5)\n",
      "memory usage: 35.6+ KB\n"
     ]
    },
    {
     "data": {
      "text/plain": [
       "None"
      ]
     },
     "metadata": {},
     "output_type": "display_data"
    },
    {
     "name": "stdout",
     "output_type": "stream",
     "text": [
      "\n",
      " >> FUND: f8\n",
      ">CHALLENGE: Accelerate Decentralized Identi\n",
      "<class 'pandas.core.frame.DataFrame'>\n",
      "RangeIndex: 38 entries, 0 to 37\n",
      "Data columns (total 14 columns):\n",
      " #   Column                        Non-Null Count  Dtype  \n",
      "---  ------                        --------------  -----  \n",
      " 0   Proposal                      38 non-null     object \n",
      " 1   SCORE                         38 non-null     float64\n",
      " 2   Votes cast                    38 non-null     float64\n",
      " 3   YES                           38 non-null     int64  \n",
      " 4   NO                            38 non-null     int64  \n",
      " 5   Result                        38 non-null     int64  \n",
      " 6   Meets approval threshold      38 non-null     object \n",
      " 7   REQUESTED $                   38 non-null     int64  \n",
      " 8   STATUS                        38 non-null     object \n",
      " 9   FUND DEPLETION                38 non-null     int64  \n",
      " 10  Reason for not funded status  26 non-null     object \n",
      " 11  challenge                     38 non-null     object \n",
      " 12  Budget                        38 non-null     int64  \n",
      " 13  REQUESTED %                   38 non-null     float64\n",
      "dtypes: float64(3), int64(6), object(5)\n",
      "memory usage: 4.3+ KB\n"
     ]
    },
    {
     "data": {
      "text/plain": [
       "None"
      ]
     },
     "metadata": {},
     "output_type": "display_data"
    },
    {
     "name": "stdout",
     "output_type": "stream",
     "text": [
      ">CHALLENGE: Business Solutions (B2B & B2C)\n",
      "<class 'pandas.core.frame.DataFrame'>\n",
      "RangeIndex: 84 entries, 0 to 83\n",
      "Data columns (total 14 columns):\n",
      " #   Column                        Non-Null Count  Dtype  \n",
      "---  ------                        --------------  -----  \n",
      " 0   Proposal                      84 non-null     object \n",
      " 1   SCORE                         84 non-null     float64\n",
      " 2   Votes cast                    84 non-null     float64\n",
      " 3   YES                           84 non-null     int64  \n",
      " 4   NO                            84 non-null     int64  \n",
      " 5   Result                        84 non-null     int64  \n",
      " 6   Meets approval threshold      84 non-null     object \n",
      " 7   REQUESTED $                   84 non-null     int64  \n",
      " 8   STATUS                        84 non-null     object \n",
      " 9   FUND DEPLETION                84 non-null     int64  \n",
      " 10  Reason for not funded status  62 non-null     object \n",
      " 11  challenge                     84 non-null     object \n",
      " 12  Budget                        84 non-null     int64  \n",
      " 13  REQUESTED %                   84 non-null     float64\n",
      "dtypes: float64(3), int64(6), object(5)\n",
      "memory usage: 9.3+ KB\n"
     ]
    },
    {
     "data": {
      "text/plain": [
       "None"
      ]
     },
     "metadata": {},
     "output_type": "display_data"
    },
    {
     "name": "stdout",
     "output_type": "stream",
     "text": [
      ">CHALLENGE: Cardano scaling solutions\n",
      "<class 'pandas.core.frame.DataFrame'>\n",
      "RangeIndex: 16 entries, 0 to 15\n",
      "Data columns (total 14 columns):\n",
      " #   Column                        Non-Null Count  Dtype  \n",
      "---  ------                        --------------  -----  \n",
      " 0   Proposal                      16 non-null     object \n",
      " 1   SCORE                         16 non-null     float64\n",
      " 2   Votes cast                    16 non-null     float64\n",
      " 3   YES                           16 non-null     int64  \n",
      " 4   NO                            16 non-null     int64  \n",
      " 5   Result                        16 non-null     int64  \n",
      " 6   Meets approval threshold      16 non-null     object \n",
      " 7   REQUESTED $                   16 non-null     int64  \n",
      " 8   STATUS                        16 non-null     object \n",
      " 9   FUND DEPLETION                16 non-null     int64  \n",
      " 10  Reason for not funded status  6 non-null      object \n",
      " 11  challenge                     16 non-null     object \n",
      " 12  Budget                        16 non-null     int64  \n",
      " 13  REQUESTED %                   16 non-null     float64\n",
      "dtypes: float64(3), int64(6), object(5)\n",
      "memory usage: 1.9+ KB\n"
     ]
    },
    {
     "data": {
      "text/plain": [
       "None"
      ]
     },
     "metadata": {},
     "output_type": "display_data"
    },
    {
     "name": "stdout",
     "output_type": "stream",
     "text": [
      ">CHALLENGE: Community Advisor Improvements\n",
      "<class 'pandas.core.frame.DataFrame'>\n",
      "RangeIndex: 12 entries, 0 to 11\n",
      "Data columns (total 14 columns):\n",
      " #   Column                        Non-Null Count  Dtype  \n",
      "---  ------                        --------------  -----  \n",
      " 0   Proposal                      12 non-null     object \n",
      " 1   SCORE                         12 non-null     float64\n",
      " 2   Votes cast                    12 non-null     float64\n",
      " 3   YES                           12 non-null     int64  \n",
      " 4   NO                            12 non-null     int64  \n",
      " 5   Result                        12 non-null     int64  \n",
      " 6   Meets approval threshold      12 non-null     object \n",
      " 7   REQUESTED $                   12 non-null     int64  \n",
      " 8   STATUS                        12 non-null     object \n",
      " 9   FUND DEPLETION                12 non-null     int64  \n",
      " 10  Reason for not funded status  3 non-null      object \n",
      " 11  challenge                     12 non-null     object \n",
      " 12  Budget                        12 non-null     int64  \n",
      " 13  REQUESTED %                   12 non-null     float64\n",
      "dtypes: float64(3), int64(6), object(5)\n",
      "memory usage: 1.4+ KB\n"
     ]
    },
    {
     "data": {
      "text/plain": [
       "None"
      ]
     },
     "metadata": {},
     "output_type": "display_data"
    },
    {
     "name": "stdout",
     "output_type": "stream",
     "text": [
      ">CHALLENGE: Cross-Chain Collaboration\n",
      "<class 'pandas.core.frame.DataFrame'>\n",
      "RangeIndex: 52 entries, 0 to 51\n",
      "Data columns (total 14 columns):\n",
      " #   Column                        Non-Null Count  Dtype  \n",
      "---  ------                        --------------  -----  \n",
      " 0   Proposal                      52 non-null     object \n",
      " 1   SCORE                         52 non-null     float64\n",
      " 2   Votes cast                    52 non-null     float64\n",
      " 3   YES                           52 non-null     int64  \n",
      " 4   NO                            52 non-null     int64  \n",
      " 5   Result                        52 non-null     int64  \n",
      " 6   Meets approval threshold      52 non-null     object \n",
      " 7   REQUESTED $                   52 non-null     int64  \n",
      " 8   STATUS                        52 non-null     object \n",
      " 9   FUND DEPLETION                52 non-null     int64  \n",
      " 10  Reason for not funded status  35 non-null     object \n",
      " 11  challenge                     52 non-null     object \n",
      " 12  Budget                        52 non-null     int64  \n",
      " 13  REQUESTED %                   52 non-null     float64\n",
      "dtypes: float64(3), int64(6), object(5)\n",
      "memory usage: 5.8+ KB\n"
     ]
    },
    {
     "data": {
      "text/plain": [
       "None"
      ]
     },
     "metadata": {},
     "output_type": "display_data"
    },
    {
     "name": "stdout",
     "output_type": "stream",
     "text": [
      ">CHALLENGE: DApps and Integrations\n",
      "<class 'pandas.core.frame.DataFrame'>\n",
      "RangeIndex: 137 entries, 0 to 136\n",
      "Data columns (total 14 columns):\n",
      " #   Column                        Non-Null Count  Dtype  \n",
      "---  ------                        --------------  -----  \n",
      " 0   Proposal                      137 non-null    object \n",
      " 1   SCORE                         137 non-null    float64\n",
      " 2   Votes cast                    137 non-null    float64\n",
      " 3   YES                           137 non-null    int64  \n",
      " 4   NO                            137 non-null    int64  \n",
      " 5   Result                        137 non-null    int64  \n",
      " 6   Meets approval threshold      137 non-null    object \n",
      " 7   REQUESTED $                   137 non-null    int64  \n",
      " 8   STATUS                        137 non-null    object \n",
      " 9   FUND DEPLETION                137 non-null    int64  \n",
      " 10  Reason for not funded status  100 non-null    object \n",
      " 11  challenge                     137 non-null    object \n",
      " 12  Budget                        137 non-null    int64  \n",
      " 13  REQUESTED %                   137 non-null    float64\n",
      "dtypes: float64(3), int64(6), object(5)\n",
      "memory usage: 15.1+ KB\n"
     ]
    },
    {
     "data": {
      "text/plain": [
       "None"
      ]
     },
     "metadata": {},
     "output_type": "display_data"
    },
    {
     "name": "stdout",
     "output_type": "stream",
     "text": [
      ">CHALLENGE: Developer Ecosystem\n",
      "<class 'pandas.core.frame.DataFrame'>\n",
      "RangeIndex: 49 entries, 0 to 48\n",
      "Data columns (total 14 columns):\n",
      " #   Column                        Non-Null Count  Dtype  \n",
      "---  ------                        --------------  -----  \n",
      " 0   Proposal                      49 non-null     object \n",
      " 1   SCORE                         49 non-null     float64\n",
      " 2   Votes cast                    49 non-null     float64\n",
      " 3   YES                           49 non-null     int64  \n",
      " 4   NO                            49 non-null     int64  \n",
      " 5   Result                        49 non-null     int64  \n",
      " 6   Meets approval threshold      49 non-null     object \n",
      " 7   REQUESTED $                   49 non-null     int64  \n",
      " 8   STATUS                        49 non-null     object \n",
      " 9   FUND DEPLETION                49 non-null     int64  \n",
      " 10  Reason for not funded status  29 non-null     object \n",
      " 11  challenge                     49 non-null     object \n",
      " 12  Budget                        49 non-null     int64  \n",
      " 13  REQUESTED %                   49 non-null     float64\n",
      "dtypes: float64(3), int64(6), object(5)\n",
      "memory usage: 5.5+ KB\n"
     ]
    },
    {
     "data": {
      "text/plain": [
       "None"
      ]
     },
     "metadata": {},
     "output_type": "display_data"
    },
    {
     "name": "stdout",
     "output_type": "stream",
     "text": [
      ">CHALLENGE: Film + Media (FAM) creatives un\n",
      "<class 'pandas.core.frame.DataFrame'>\n",
      "RangeIndex: 34 entries, 0 to 33\n",
      "Data columns (total 14 columns):\n",
      " #   Column                        Non-Null Count  Dtype  \n",
      "---  ------                        --------------  -----  \n",
      " 0   Proposal                      34 non-null     object \n",
      " 1   SCORE                         34 non-null     float64\n",
      " 2   Votes cast                    34 non-null     float64\n",
      " 3   YES                           34 non-null     int64  \n",
      " 4   NO                            34 non-null     int64  \n",
      " 5   Result                        34 non-null     int64  \n",
      " 6   Meets approval threshold      34 non-null     object \n",
      " 7   REQUESTED $                   34 non-null     int64  \n",
      " 8   STATUS                        34 non-null     object \n",
      " 9   FUND DEPLETION                34 non-null     int64  \n",
      " 10  Reason for not funded status  25 non-null     object \n",
      " 11  challenge                     34 non-null     object \n",
      " 12  Budget                        34 non-null     int64  \n",
      " 13  REQUESTED %                   34 non-null     float64\n",
      "dtypes: float64(3), int64(6), object(5)\n",
      "memory usage: 3.8+ KB\n"
     ]
    },
    {
     "data": {
      "text/plain": [
       "None"
      ]
     },
     "metadata": {},
     "output_type": "display_data"
    },
    {
     "name": "stdout",
     "output_type": "stream",
     "text": [
      ">CHALLENGE: Gamers On - Chained\n",
      "<class 'pandas.core.frame.DataFrame'>\n",
      "RangeIndex: 63 entries, 0 to 62\n",
      "Data columns (total 14 columns):\n",
      " #   Column                        Non-Null Count  Dtype  \n",
      "---  ------                        --------------  -----  \n",
      " 0   Proposal                      63 non-null     object \n",
      " 1   SCORE                         63 non-null     float64\n",
      " 2   Votes cast                    63 non-null     float64\n",
      " 3   YES                           63 non-null     int64  \n",
      " 4   NO                            63 non-null     int64  \n",
      " 5   Result                        63 non-null     int64  \n",
      " 6   Meets approval threshold      63 non-null     object \n",
      " 7   REQUESTED $                   63 non-null     int64  \n",
      " 8   STATUS                        63 non-null     object \n",
      " 9   FUND DEPLETION                63 non-null     int64  \n",
      " 10  Reason for not funded status  49 non-null     object \n",
      " 11  challenge                     63 non-null     object \n",
      " 12  Budget                        63 non-null     int64  \n",
      " 13  REQUESTED %                   63 non-null     float64\n",
      "dtypes: float64(3), int64(6), object(5)\n",
      "memory usage: 7.0+ KB\n"
     ]
    },
    {
     "data": {
      "text/plain": [
       "None"
      ]
     },
     "metadata": {},
     "output_type": "display_data"
    },
    {
     "name": "stdout",
     "output_type": "stream",
     "text": [
      ">CHALLENGE: Grow Africa, Grow Cardano\n",
      "<class 'pandas.core.frame.DataFrame'>\n",
      "RangeIndex: 56 entries, 0 to 55\n",
      "Data columns (total 14 columns):\n",
      " #   Column                        Non-Null Count  Dtype  \n",
      "---  ------                        --------------  -----  \n",
      " 0   Proposal                      56 non-null     object \n",
      " 1   SCORE                         56 non-null     float64\n",
      " 2   Votes cast                    56 non-null     float64\n",
      " 3   YES                           56 non-null     int64  \n",
      " 4   NO                            56 non-null     int64  \n",
      " 5   Result                        56 non-null     int64  \n",
      " 6   Meets approval threshold      56 non-null     object \n",
      " 7   REQUESTED $                   56 non-null     int64  \n",
      " 8   STATUS                        56 non-null     object \n",
      " 9   FUND DEPLETION                56 non-null     int64  \n",
      " 10  Reason for not funded status  43 non-null     object \n",
      " 11  challenge                     56 non-null     object \n",
      " 12  Budget                        56 non-null     int64  \n",
      " 13  REQUESTED %                   56 non-null     float64\n",
      "dtypes: float64(3), int64(6), object(5)\n",
      "memory usage: 6.2+ KB\n"
     ]
    },
    {
     "data": {
      "text/plain": [
       "None"
      ]
     },
     "metadata": {},
     "output_type": "display_data"
    },
    {
     "name": "stdout",
     "output_type": "stream",
     "text": [
      ">CHALLENGE: Grow East Asia, Grow Cardano\n",
      "<class 'pandas.core.frame.DataFrame'>\n",
      "RangeIndex: 34 entries, 0 to 33\n",
      "Data columns (total 14 columns):\n",
      " #   Column                        Non-Null Count  Dtype  \n",
      "---  ------                        --------------  -----  \n",
      " 0   Proposal                      34 non-null     object \n",
      " 1   SCORE                         34 non-null     float64\n",
      " 2   Votes cast                    34 non-null     float64\n",
      " 3   YES                           34 non-null     int64  \n",
      " 4   NO                            34 non-null     int64  \n",
      " 5   Result                        34 non-null     int64  \n",
      " 6   Meets approval threshold      34 non-null     object \n",
      " 7   REQUESTED $                   34 non-null     int64  \n",
      " 8   STATUS                        34 non-null     object \n",
      " 9   FUND DEPLETION                34 non-null     int64  \n",
      " 10  Reason for not funded status  24 non-null     object \n",
      " 11  challenge                     34 non-null     object \n",
      " 12  Budget                        34 non-null     int64  \n",
      " 13  REQUESTED %                   34 non-null     float64\n",
      "dtypes: float64(3), int64(6), object(5)\n",
      "memory usage: 3.8+ KB\n"
     ]
    },
    {
     "data": {
      "text/plain": [
       "None"
      ]
     },
     "metadata": {},
     "output_type": "display_data"
    },
    {
     "name": "stdout",
     "output_type": "stream",
     "text": [
      ">CHALLENGE: Grow India, Grow Cardano\n",
      "<class 'pandas.core.frame.DataFrame'>\n",
      "RangeIndex: 34 entries, 0 to 33\n",
      "Data columns (total 14 columns):\n",
      " #   Column                        Non-Null Count  Dtype  \n",
      "---  ------                        --------------  -----  \n",
      " 0   Proposal                      34 non-null     object \n",
      " 1   SCORE                         34 non-null     float64\n",
      " 2   Votes cast                    34 non-null     float64\n",
      " 3   YES                           34 non-null     int64  \n",
      " 4   NO                            34 non-null     int64  \n",
      " 5   Result                        34 non-null     int64  \n",
      " 6   Meets approval threshold      34 non-null     object \n",
      " 7   REQUESTED $                   34 non-null     int64  \n",
      " 8   STATUS                        34 non-null     object \n",
      " 9   FUND DEPLETION                34 non-null     int64  \n",
      " 10  Reason for not funded status  24 non-null     object \n",
      " 11  challenge                     34 non-null     object \n",
      " 12  Budget                        34 non-null     int64  \n",
      " 13  REQUESTED %                   34 non-null     float64\n",
      "dtypes: float64(3), int64(6), object(5)\n",
      "memory usage: 3.8+ KB\n"
     ]
    },
    {
     "data": {
      "text/plain": [
       "None"
      ]
     },
     "metadata": {},
     "output_type": "display_data"
    },
    {
     "name": "stdout",
     "output_type": "stream",
     "text": [
      ">CHALLENGE: Improve and Grow Auditability\n",
      "<class 'pandas.core.frame.DataFrame'>\n",
      "RangeIndex: 22 entries, 0 to 21\n",
      "Data columns (total 14 columns):\n",
      " #   Column                        Non-Null Count  Dtype  \n",
      "---  ------                        --------------  -----  \n",
      " 0   Proposal                      22 non-null     object \n",
      " 1   SCORE                         22 non-null     float64\n",
      " 2   Votes cast                    22 non-null     float64\n",
      " 3   YES                           22 non-null     int64  \n",
      " 4   NO                            22 non-null     int64  \n",
      " 5   Result                        22 non-null     int64  \n",
      " 6   Meets approval threshold      22 non-null     object \n",
      " 7   REQUESTED $                   22 non-null     int64  \n",
      " 8   STATUS                        22 non-null     object \n",
      " 9   FUND DEPLETION                22 non-null     int64  \n",
      " 10  Reason for not funded status  16 non-null     object \n",
      " 11  challenge                     22 non-null     object \n",
      " 12  Budget                        22 non-null     int64  \n",
      " 13  REQUESTED %                   22 non-null     float64\n",
      "dtypes: float64(3), int64(6), object(5)\n",
      "memory usage: 2.5+ KB\n"
     ]
    },
    {
     "data": {
      "text/plain": [
       "None"
      ]
     },
     "metadata": {},
     "output_type": "display_data"
    },
    {
     "name": "stdout",
     "output_type": "stream",
     "text": [
      ">CHALLENGE: Lobbying for favorable legislat\n",
      "<class 'pandas.core.frame.DataFrame'>\n",
      "RangeIndex: 23 entries, 0 to 22\n",
      "Data columns (total 14 columns):\n",
      " #   Column                        Non-Null Count  Dtype  \n",
      "---  ------                        --------------  -----  \n",
      " 0   Proposal                      23 non-null     object \n",
      " 1   SCORE                         23 non-null     float64\n",
      " 2   Votes cast                    23 non-null     float64\n",
      " 3   YES                           23 non-null     int64  \n",
      " 4   NO                            23 non-null     int64  \n",
      " 5   Result                        23 non-null     int64  \n",
      " 6   Meets approval threshold      23 non-null     object \n",
      " 7   REQUESTED $                   23 non-null     int64  \n",
      " 8   STATUS                        23 non-null     object \n",
      " 9   FUND DEPLETION                23 non-null     int64  \n",
      " 10  Reason for not funded status  11 non-null     object \n",
      " 11  challenge                     23 non-null     object \n",
      " 12  Budget                        23 non-null     int64  \n",
      " 13  REQUESTED %                   23 non-null     float64\n",
      "dtypes: float64(3), int64(6), object(5)\n",
      "memory usage: 2.6+ KB\n"
     ]
    },
    {
     "data": {
      "text/plain": [
       "None"
      ]
     },
     "metadata": {},
     "output_type": "display_data"
    },
    {
     "name": "stdout",
     "output_type": "stream",
     "text": [
      ">CHALLENGE: Miscellaneous Challenge\n",
      "<class 'pandas.core.frame.DataFrame'>\n",
      "RangeIndex: 88 entries, 0 to 87\n",
      "Data columns (total 14 columns):\n",
      " #   Column                        Non-Null Count  Dtype  \n",
      "---  ------                        --------------  -----  \n",
      " 0   Proposal                      88 non-null     object \n",
      " 1   SCORE                         88 non-null     float64\n",
      " 2   Votes cast                    88 non-null     float64\n",
      " 3   YES                           88 non-null     int64  \n",
      " 4   NO                            88 non-null     int64  \n",
      " 5   Result                        88 non-null     int64  \n",
      " 6   Meets approval threshold      88 non-null     object \n",
      " 7   REQUESTED $                   88 non-null     int64  \n",
      " 8   STATUS                        88 non-null     object \n",
      " 9   FUND DEPLETION                88 non-null     int64  \n",
      " 10  Reason for not funded status  64 non-null     object \n",
      " 11  challenge                     88 non-null     object \n",
      " 12  Budget                        88 non-null     int64  \n",
      " 13  REQUESTED %                   88 non-null     float64\n",
      "dtypes: float64(3), int64(6), object(5)\n",
      "memory usage: 9.8+ KB\n"
     ]
    },
    {
     "data": {
      "text/plain": [
       "None"
      ]
     },
     "metadata": {},
     "output_type": "display_data"
    },
    {
     "name": "stdout",
     "output_type": "stream",
     "text": [
      ">CHALLENGE: Nation Building Dapps\n",
      "<class 'pandas.core.frame.DataFrame'>\n",
      "RangeIndex: 44 entries, 0 to 43\n",
      "Data columns (total 14 columns):\n",
      " #   Column                        Non-Null Count  Dtype  \n",
      "---  ------                        --------------  -----  \n",
      " 0   Proposal                      44 non-null     object \n",
      " 1   SCORE                         44 non-null     float64\n",
      " 2   Votes cast                    44 non-null     float64\n",
      " 3   YES                           44 non-null     int64  \n",
      " 4   NO                            44 non-null     int64  \n",
      " 5   Result                        44 non-null     int64  \n",
      " 6   Meets approval threshold      44 non-null     object \n",
      " 7   REQUESTED $                   44 non-null     int64  \n",
      " 8   STATUS                        44 non-null     object \n",
      " 9   FUND DEPLETION                44 non-null     int64  \n",
      " 10  Reason for not funded status  28 non-null     object \n",
      " 11  challenge                     44 non-null     object \n",
      " 12  Budget                        44 non-null     int64  \n",
      " 13  REQUESTED %                   44 non-null     float64\n",
      "dtypes: float64(3), int64(6), object(5)\n",
      "memory usage: 4.9+ KB\n"
     ]
    },
    {
     "data": {
      "text/plain": [
       "None"
      ]
     },
     "metadata": {},
     "output_type": "display_data"
    },
    {
     "name": "stdout",
     "output_type": "stream",
     "text": [
      ">CHALLENGE: New Member Onboarding\n",
      "<class 'pandas.core.frame.DataFrame'>\n",
      "RangeIndex: 40 entries, 0 to 39\n",
      "Data columns (total 14 columns):\n",
      " #   Column                        Non-Null Count  Dtype  \n",
      "---  ------                        --------------  -----  \n",
      " 0   Proposal                      40 non-null     object \n",
      " 1   SCORE                         40 non-null     float64\n",
      " 2   Votes cast                    40 non-null     float64\n",
      " 3   YES                           40 non-null     int64  \n",
      " 4   NO                            40 non-null     int64  \n",
      " 5   Result                        40 non-null     int64  \n",
      " 6   Meets approval threshold      40 non-null     object \n",
      " 7   REQUESTED $                   40 non-null     int64  \n",
      " 8   STATUS                        40 non-null     object \n",
      " 9   FUND DEPLETION                40 non-null     int64  \n",
      " 10  Reason for not funded status  24 non-null     object \n",
      " 11  challenge                     40 non-null     object \n",
      " 12  Budget                        40 non-null     int64  \n",
      " 13  REQUESTED %                   40 non-null     float64\n",
      "dtypes: float64(3), int64(6), object(5)\n",
      "memory usage: 4.5+ KB\n"
     ]
    },
    {
     "data": {
      "text/plain": [
       "None"
      ]
     },
     "metadata": {},
     "output_type": "display_data"
    },
    {
     "name": "stdout",
     "output_type": "stream",
     "text": [
      ">CHALLENGE: Open Source Development Ecosyst\n",
      "<class 'pandas.core.frame.DataFrame'>\n",
      "RangeIndex: 86 entries, 0 to 85\n",
      "Data columns (total 14 columns):\n",
      " #   Column                        Non-Null Count  Dtype  \n",
      "---  ------                        --------------  -----  \n",
      " 0   Proposal                      86 non-null     object \n",
      " 1   SCORE                         86 non-null     float64\n",
      " 2   Votes cast                    86 non-null     float64\n",
      " 3   YES                           86 non-null     int64  \n",
      " 4   NO                            86 non-null     int64  \n",
      " 5   Result                        86 non-null     int64  \n",
      " 6   Meets approval threshold      86 non-null     object \n",
      " 7   REQUESTED $                   86 non-null     int64  \n",
      " 8   STATUS                        86 non-null     object \n",
      " 9   FUND DEPLETION                86 non-null     int64  \n",
      " 10  Reason for not funded status  47 non-null     object \n",
      " 11  challenge                     86 non-null     object \n",
      " 12  Budget                        86 non-null     int64  \n",
      " 13  REQUESTED %                   86 non-null     float64\n",
      "dtypes: float64(3), int64(6), object(5)\n",
      "memory usage: 9.5+ KB\n"
     ]
    },
    {
     "data": {
      "text/plain": [
       "None"
      ]
     },
     "metadata": {},
     "output_type": "display_data"
    },
    {
     "name": "stdout",
     "output_type": "stream",
     "text": [
      ">CHALLENGE: Open Standards & Interoperabili\n",
      "<class 'pandas.core.frame.DataFrame'>\n",
      "RangeIndex: 28 entries, 0 to 27\n",
      "Data columns (total 14 columns):\n",
      " #   Column                        Non-Null Count  Dtype  \n",
      "---  ------                        --------------  -----  \n",
      " 0   Proposal                      28 non-null     object \n",
      " 1   SCORE                         28 non-null     float64\n",
      " 2   Votes cast                    28 non-null     float64\n",
      " 3   YES                           28 non-null     int64  \n",
      " 4   NO                            28 non-null     int64  \n",
      " 5   Result                        28 non-null     int64  \n",
      " 6   Meets approval threshold      28 non-null     object \n",
      " 7   REQUESTED $                   28 non-null     int64  \n",
      " 8   STATUS                        28 non-null     object \n",
      " 9   FUND DEPLETION                28 non-null     int64  \n",
      " 10  Reason for not funded status  12 non-null     object \n",
      " 11  challenge                     28 non-null     object \n",
      " 12  Budget                        28 non-null     int64  \n",
      " 13  REQUESTED %                   28 non-null     float64\n",
      "dtypes: float64(3), int64(6), object(5)\n",
      "memory usage: 3.2+ KB\n"
     ]
    },
    {
     "data": {
      "text/plain": [
       "None"
      ]
     },
     "metadata": {},
     "output_type": "display_data"
    },
    {
     "name": "stdout",
     "output_type": "stream",
     "text": [
      ">CHALLENGE: Scale-UP Cardanos Community Hub\n",
      "<class 'pandas.core.frame.DataFrame'>\n",
      "RangeIndex: 68 entries, 0 to 67\n",
      "Data columns (total 14 columns):\n",
      " #   Column                        Non-Null Count  Dtype  \n",
      "---  ------                        --------------  -----  \n",
      " 0   Proposal                      68 non-null     object \n",
      " 1   SCORE                         68 non-null     float64\n",
      " 2   Votes cast                    68 non-null     float64\n",
      " 3   YES                           68 non-null     int64  \n",
      " 4   NO                            68 non-null     int64  \n",
      " 5   Result                        68 non-null     int64  \n",
      " 6   Meets approval threshold      68 non-null     object \n",
      " 7   REQUESTED $                   68 non-null     int64  \n",
      " 8   STATUS                        68 non-null     object \n",
      " 9   FUND DEPLETION                68 non-null     int64  \n",
      " 10  Reason for not funded status  43 non-null     object \n",
      " 11  challenge                     68 non-null     object \n",
      " 12  Budget                        68 non-null     int64  \n",
      " 13  REQUESTED %                   68 non-null     float64\n",
      "dtypes: float64(3), int64(6), object(5)\n",
      "memory usage: 7.6+ KB\n"
     ]
    },
    {
     "data": {
      "text/plain": [
       "None"
      ]
     },
     "metadata": {},
     "output_type": "display_data"
    },
    {
     "name": "stdout",
     "output_type": "stream",
     "text": [
      ">CHALLENGE: Self-Sovereign Identity\n",
      "<class 'pandas.core.frame.DataFrame'>\n",
      "RangeIndex: 28 entries, 0 to 27\n",
      "Data columns (total 14 columns):\n",
      " #   Column                        Non-Null Count  Dtype  \n",
      "---  ------                        --------------  -----  \n",
      " 0   Proposal                      28 non-null     object \n",
      " 1   SCORE                         28 non-null     float64\n",
      " 2   Votes cast                    28 non-null     float64\n",
      " 3   YES                           28 non-null     int64  \n",
      " 4   NO                            28 non-null     int64  \n",
      " 5   Result                        28 non-null     int64  \n",
      " 6   Meets approval threshold      28 non-null     object \n",
      " 7   REQUESTED $                   28 non-null     int64  \n",
      " 8   STATUS                        28 non-null     object \n",
      " 9   FUND DEPLETION                28 non-null     int64  \n",
      " 10  Reason for not funded status  13 non-null     object \n",
      " 11  challenge                     28 non-null     object \n",
      " 12  Budget                        28 non-null     int64  \n",
      " 13  REQUESTED %                   28 non-null     float64\n",
      "dtypes: float64(3), int64(6), object(5)\n",
      "memory usage: 3.2+ KB\n"
     ]
    },
    {
     "data": {
      "text/plain": [
       "None"
      ]
     },
     "metadata": {},
     "output_type": "display_data"
    },
    {
     "name": "stdout",
     "output_type": "stream",
     "text": [
      ">CHALLENGE: The Great Migration (from Ether\n",
      "<class 'pandas.core.frame.DataFrame'>\n",
      "RangeIndex: 22 entries, 0 to 21\n",
      "Data columns (total 14 columns):\n",
      " #   Column                        Non-Null Count  Dtype  \n",
      "---  ------                        --------------  -----  \n",
      " 0   Proposal                      22 non-null     object \n",
      " 1   SCORE                         22 non-null     float64\n",
      " 2   Votes cast                    22 non-null     float64\n",
      " 3   YES                           22 non-null     int64  \n",
      " 4   NO                            22 non-null     int64  \n",
      " 5   Result                        22 non-null     int64  \n",
      " 6   Meets approval threshold      22 non-null     object \n",
      " 7   REQUESTED $                   22 non-null     int64  \n",
      " 8   STATUS                        22 non-null     object \n",
      " 9   FUND DEPLETION                22 non-null     int64  \n",
      " 10  Reason for not funded status  15 non-null     object \n",
      " 11  challenge                     22 non-null     object \n",
      " 12  Budget                        22 non-null     int64  \n",
      " 13  REQUESTED %                   22 non-null     float64\n",
      "dtypes: float64(3), int64(6), object(5)\n",
      "memory usage: 2.5+ KB\n"
     ]
    },
    {
     "data": {
      "text/plain": [
       "None"
      ]
     },
     "metadata": {},
     "output_type": "display_data"
    },
    {
     "name": "stdout",
     "output_type": "stream",
     "text": [
      ">CHALLENGE: Fund9 challenge setting\n",
      "<class 'pandas.core.frame.DataFrame'>\n",
      "RangeIndex: 76 entries, 0 to 75\n",
      "Data columns (total 14 columns):\n",
      " #   Column                        Non-Null Count  Dtype  \n",
      "---  ------                        --------------  -----  \n",
      " 0   Proposal                      76 non-null     object \n",
      " 1   SCORE                         76 non-null     float64\n",
      " 2   Votes cast                    76 non-null     float64\n",
      " 3   YES                           76 non-null     int64  \n",
      " 4   NO                            76 non-null     int64  \n",
      " 5   Result                        76 non-null     int64  \n",
      " 6   Meets approval threshold      76 non-null     object \n",
      " 7   REQUESTED $                   76 non-null     int64  \n",
      " 8   STATUS                        76 non-null     object \n",
      " 9   FUND DEPLETION                76 non-null     int64  \n",
      " 10  Reason for not funded status  64 non-null     object \n",
      " 11  challenge                     76 non-null     object \n",
      " 12  Budget                        76 non-null     int64  \n",
      " 13  REQUESTED %                   76 non-null     float64\n",
      "dtypes: float64(3), int64(6), object(5)\n",
      "memory usage: 8.4+ KB\n"
     ]
    },
    {
     "data": {
      "text/plain": [
       "None"
      ]
     },
     "metadata": {},
     "output_type": "display_data"
    },
    {
     "name": "stdout",
     "output_type": "stream",
     "text": [
      ">CHALLENGE: Funded by leftovers\n",
      "<class 'pandas.core.frame.DataFrame'>\n",
      "RangeIndex: 487 entries, 0 to 486\n",
      "Data columns (total 14 columns):\n",
      " #   Column                        Non-Null Count  Dtype  \n",
      "---  ------                        --------------  -----  \n",
      " 0   Proposal                      487 non-null    object \n",
      " 1   SCORE                         487 non-null    float64\n",
      " 2   Votes cast                    487 non-null    float64\n",
      " 3   YES                           487 non-null    int64  \n",
      " 4   NO                            487 non-null    int64  \n",
      " 5   Result                        487 non-null    int64  \n",
      " 6   Meets approval threshold      487 non-null    object \n",
      " 7   REQUESTED $                   487 non-null    int64  \n",
      " 8   STATUS                        487 non-null    object \n",
      " 9   FUND DEPLETION                487 non-null    int64  \n",
      " 10  Reason for not funded status  479 non-null    object \n",
      " 11  challenge                     487 non-null    object \n",
      " 12  Budget                        487 non-null    int64  \n",
      " 13  REQUESTED %                   487 non-null    float64\n",
      "dtypes: float64(3), int64(6), object(5)\n",
      "memory usage: 53.4+ KB\n"
     ]
    },
    {
     "data": {
      "text/plain": [
       "None"
      ]
     },
     "metadata": {},
     "output_type": "display_data"
    }
   ],
   "source": [
    "for fund in funds:\n",
    "    print('\\n >> FUND: {}'.format(fund))\n",
    "    display_info(fund)"
   ]
  },
  {
   "cell_type": "markdown",
   "id": "c0fdb093",
   "metadata": {},
   "source": [
    "# RESULTS DATAFRAMES"
   ]
  },
  {
   "cell_type": "code",
   "execution_count": 25,
   "id": "09324b11",
   "metadata": {
    "scrolled": false
   },
   "outputs": [
    {
     "name": "stdout",
     "output_type": "stream",
     "text": [
      "\n",
      "\n",
      "FUND: f3\n"
     ]
    },
    {
     "data": {
      "text/html": [
       "<div>\n",
       "<style scoped>\n",
       "    .dataframe tbody tr th:only-of-type {\n",
       "        vertical-align: middle;\n",
       "    }\n",
       "\n",
       "    .dataframe tbody tr th {\n",
       "        vertical-align: top;\n",
       "    }\n",
       "\n",
       "    .dataframe thead th {\n",
       "        text-align: right;\n",
       "    }\n",
       "</style>\n",
       "<table border=\"1\" class=\"dataframe\">\n",
       "  <thead>\n",
       "    <tr style=\"text-align: right;\">\n",
       "      <th></th>\n",
       "      <th>challenge</th>\n",
       "      <th>Budget</th>\n",
       "      <th>Proposal</th>\n",
       "      <th>YES</th>\n",
       "      <th>NO</th>\n",
       "      <th>Result</th>\n",
       "      <th>STATUS</th>\n",
       "      <th>REQUESTED $</th>\n",
       "      <th>REQUESTED %</th>\n",
       "    </tr>\n",
       "  </thead>\n",
       "  <tbody>\n",
       "    <tr>\n",
       "      <th>0</th>\n",
       "      <td>DApp creation</td>\n",
       "      <td>200000</td>\n",
       "      <td>Liqwid:Cardano DeFi Liquidity Pools</td>\n",
       "      <td>1600000000</td>\n",
       "      <td>18217050</td>\n",
       "      <td>1581782950</td>\n",
       "      <td>FUNDED</td>\n",
       "      <td>53000</td>\n",
       "      <td>26.5000</td>\n",
       "    </tr>\n",
       "    <tr>\n",
       "      <th>1</th>\n",
       "      <td>DApp creation</td>\n",
       "      <td>200000</td>\n",
       "      <td>Ada Tx to Trigger IoT + IO HW Spins</td>\n",
       "      <td>787000000</td>\n",
       "      <td>58830495</td>\n",
       "      <td>728169505</td>\n",
       "      <td>FUNDED</td>\n",
       "      <td>33000</td>\n",
       "      <td>16.5000</td>\n",
       "    </tr>\n",
       "    <tr>\n",
       "      <th>2</th>\n",
       "      <td>DApp creation</td>\n",
       "      <td>200000</td>\n",
       "      <td>Comprehensive NFT Framework Collab</td>\n",
       "      <td>693000000</td>\n",
       "      <td>45804734</td>\n",
       "      <td>647195266</td>\n",
       "      <td>FUNDED</td>\n",
       "      <td>48965</td>\n",
       "      <td>24.4825</td>\n",
       "    </tr>\n",
       "  </tbody>\n",
       "</table>\n",
       "</div>"
      ],
      "text/plain": [
       "       challenge  Budget                             Proposal         YES  \\\n",
       "0  DApp creation  200000  Liqwid:Cardano DeFi Liquidity Pools  1600000000   \n",
       "1  DApp creation  200000  Ada Tx to Trigger IoT + IO HW Spins   787000000   \n",
       "2  DApp creation  200000   Comprehensive NFT Framework Collab   693000000   \n",
       "\n",
       "         NO      Result  STATUS  REQUESTED $  REQUESTED %  \n",
       "0  18217050  1581782950  FUNDED        53000      26.5000  \n",
       "1  58830495   728169505  FUNDED        33000      16.5000  \n",
       "2  45804734   647195266  FUNDED        48965      24.4825  "
      ]
     },
     "metadata": {},
     "output_type": "display_data"
    },
    {
     "name": "stdout",
     "output_type": "stream",
     "text": [
      "<class 'pandas.core.frame.DataFrame'>\n",
      "Int64Index: 150 entries, 0 to 26\n",
      "Data columns (total 9 columns):\n",
      " #   Column       Non-Null Count  Dtype  \n",
      "---  ------       --------------  -----  \n",
      " 0   challenge    150 non-null    object \n",
      " 1   Budget       150 non-null    int64  \n",
      " 2   Proposal     150 non-null    object \n",
      " 3   YES          150 non-null    int64  \n",
      " 4   NO           150 non-null    int64  \n",
      " 5   Result       150 non-null    int64  \n",
      " 6   STATUS       150 non-null    object \n",
      " 7   REQUESTED $  150 non-null    int64  \n",
      " 8   REQUESTED %  150 non-null    float64\n",
      "dtypes: float64(1), int64(5), object(3)\n",
      "memory usage: 11.7+ KB\n",
      "None\n",
      "\n",
      ">> Unique challenges: ['DApp creation', 'Developer ecosystem', 'Community choice']\n",
      "# 3\n",
      "\n",
      "\n",
      "FUND: f4\n"
     ]
    },
    {
     "data": {
      "text/html": [
       "<div>\n",
       "<style scoped>\n",
       "    .dataframe tbody tr th:only-of-type {\n",
       "        vertical-align: middle;\n",
       "    }\n",
       "\n",
       "    .dataframe tbody tr th {\n",
       "        vertical-align: top;\n",
       "    }\n",
       "\n",
       "    .dataframe thead th {\n",
       "        text-align: right;\n",
       "    }\n",
       "</style>\n",
       "<table border=\"1\" class=\"dataframe\">\n",
       "  <thead>\n",
       "    <tr style=\"text-align: right;\">\n",
       "      <th></th>\n",
       "      <th>challenge</th>\n",
       "      <th>Budget</th>\n",
       "      <th>Proposal</th>\n",
       "      <th>SCORE</th>\n",
       "      <th>YES</th>\n",
       "      <th>NO</th>\n",
       "      <th>Result</th>\n",
       "      <th>STATUS</th>\n",
       "      <th>REQUESTED $</th>\n",
       "      <th>REQUESTED %</th>\n",
       "    </tr>\n",
       "  </thead>\n",
       "  <tbody>\n",
       "    <tr>\n",
       "      <th>0</th>\n",
       "      <td>DApp&amp;Integrations</td>\n",
       "      <td>200000</td>\n",
       "      <td>Haskell Devs for Liqwid Plutus SC's</td>\n",
       "      <td>4.87</td>\n",
       "      <td>987682507</td>\n",
       "      <td>42852579</td>\n",
       "      <td>944829928</td>\n",
       "      <td>FUNDED</td>\n",
       "      <td>36500</td>\n",
       "      <td>18.25</td>\n",
       "    </tr>\n",
       "    <tr>\n",
       "      <th>1</th>\n",
       "      <td>DApp&amp;Integrations</td>\n",
       "      <td>200000</td>\n",
       "      <td>Cardano On-Chain Voting</td>\n",
       "      <td>4.33</td>\n",
       "      <td>374916832</td>\n",
       "      <td>55806397</td>\n",
       "      <td>319110435</td>\n",
       "      <td>FUNDED</td>\n",
       "      <td>15000</td>\n",
       "      <td>7.50</td>\n",
       "    </tr>\n",
       "    <tr>\n",
       "      <th>2</th>\n",
       "      <td>DApp&amp;Integrations</td>\n",
       "      <td>200000</td>\n",
       "      <td>Littercoin - Mass Adoption</td>\n",
       "      <td>4.44</td>\n",
       "      <td>285715266</td>\n",
       "      <td>118436548</td>\n",
       "      <td>167278718</td>\n",
       "      <td>FUNDED</td>\n",
       "      <td>50000</td>\n",
       "      <td>25.00</td>\n",
       "    </tr>\n",
       "  </tbody>\n",
       "</table>\n",
       "</div>"
      ],
      "text/plain": [
       "           challenge  Budget                             Proposal  SCORE  \\\n",
       "0  DApp&Integrations  200000  Haskell Devs for Liqwid Plutus SC's   4.87   \n",
       "1  DApp&Integrations  200000              Cardano On-Chain Voting   4.33   \n",
       "2  DApp&Integrations  200000           Littercoin - Mass Adoption   4.44   \n",
       "\n",
       "         YES         NO     Result  STATUS  REQUESTED $  REQUESTED %  \n",
       "0  987682507   42852579  944829928  FUNDED        36500        18.25  \n",
       "1  374916832   55806397  319110435  FUNDED        15000         7.50  \n",
       "2  285715266  118436548  167278718  FUNDED        50000        25.00  "
      ]
     },
     "metadata": {},
     "output_type": "display_data"
    },
    {
     "name": "stdout",
     "output_type": "stream",
     "text": [
      "<class 'pandas.core.frame.DataFrame'>\n",
      "Int64Index: 303 entries, 0 to 25\n",
      "Data columns (total 10 columns):\n",
      " #   Column       Non-Null Count  Dtype  \n",
      "---  ------       --------------  -----  \n",
      " 0   challenge    303 non-null    object \n",
      " 1   Budget       303 non-null    int64  \n",
      " 2   Proposal     303 non-null    object \n",
      " 3   SCORE        303 non-null    float64\n",
      " 4   YES          303 non-null    int64  \n",
      " 5   NO           303 non-null    int64  \n",
      " 6   Result       303 non-null    int64  \n",
      " 7   STATUS       303 non-null    object \n",
      " 8   REQUESTED $  303 non-null    int64  \n",
      " 9   REQUESTED %  303 non-null    float64\n",
      "dtypes: float64(2), int64(5), object(3)\n",
      "memory usage: 26.0+ KB\n",
      "None\n",
      "\n",
      ">> Unique challenges: ['DApp&Integrations', 'Developer ecosystem', 'Distributed decision making', 'Proposer Outreach', 'Catalyst Value Onboarding', 'Local Community Centers', 'Fund6 Challenge Setting', 'Sponsored by leftovers']\n",
      "# 8\n",
      "\n",
      "\n",
      "FUND: f5\n"
     ]
    },
    {
     "data": {
      "text/html": [
       "<div>\n",
       "<style scoped>\n",
       "    .dataframe tbody tr th:only-of-type {\n",
       "        vertical-align: middle;\n",
       "    }\n",
       "\n",
       "    .dataframe tbody tr th {\n",
       "        vertical-align: top;\n",
       "    }\n",
       "\n",
       "    .dataframe thead th {\n",
       "        text-align: right;\n",
       "    }\n",
       "</style>\n",
       "<table border=\"1\" class=\"dataframe\">\n",
       "  <thead>\n",
       "    <tr style=\"text-align: right;\">\n",
       "      <th></th>\n",
       "      <th>challenge</th>\n",
       "      <th>Budget</th>\n",
       "      <th>Proposal</th>\n",
       "      <th>SCORE</th>\n",
       "      <th>YES</th>\n",
       "      <th>NO</th>\n",
       "      <th>Unique Yes</th>\n",
       "      <th>Unique No</th>\n",
       "      <th>Result</th>\n",
       "      <th>STATUS</th>\n",
       "      <th>REQUESTED $</th>\n",
       "      <th>REQUESTED %</th>\n",
       "    </tr>\n",
       "  </thead>\n",
       "  <tbody>\n",
       "    <tr>\n",
       "      <th>0</th>\n",
       "      <td>Developer ecosystem</td>\n",
       "      <td>600000</td>\n",
       "      <td>Testnet Cardanoscan Explorer</td>\n",
       "      <td>5.00</td>\n",
       "      <td>885478111</td>\n",
       "      <td>27844494</td>\n",
       "      <td>4863</td>\n",
       "      <td>168</td>\n",
       "      <td>857633617</td>\n",
       "      <td>FUNDED</td>\n",
       "      <td>7500</td>\n",
       "      <td>1.250000</td>\n",
       "    </tr>\n",
       "    <tr>\n",
       "      <th>1</th>\n",
       "      <td>Developer ecosystem</td>\n",
       "      <td>600000</td>\n",
       "      <td>Cardano Rust SDK update for Alonzo</td>\n",
       "      <td>4.54</td>\n",
       "      <td>554450995</td>\n",
       "      <td>21710291</td>\n",
       "      <td>2153</td>\n",
       "      <td>102</td>\n",
       "      <td>532740704</td>\n",
       "      <td>FUNDED</td>\n",
       "      <td>50000</td>\n",
       "      <td>8.333333</td>\n",
       "    </tr>\n",
       "    <tr>\n",
       "      <th>2</th>\n",
       "      <td>Developer ecosystem</td>\n",
       "      <td>600000</td>\n",
       "      <td>C# SDK for Blockfrost API</td>\n",
       "      <td>4.76</td>\n",
       "      <td>563268896</td>\n",
       "      <td>53313915</td>\n",
       "      <td>2392</td>\n",
       "      <td>132</td>\n",
       "      <td>509954981</td>\n",
       "      <td>FUNDED</td>\n",
       "      <td>9000</td>\n",
       "      <td>1.500000</td>\n",
       "    </tr>\n",
       "  </tbody>\n",
       "</table>\n",
       "</div>"
      ],
      "text/plain": [
       "             challenge  Budget                            Proposal  SCORE  \\\n",
       "0  Developer ecosystem  600000        Testnet Cardanoscan Explorer   5.00   \n",
       "1  Developer ecosystem  600000  Cardano Rust SDK update for Alonzo   4.54   \n",
       "2  Developer ecosystem  600000           C# SDK for Blockfrost API   4.76   \n",
       "\n",
       "         YES        NO  Unique Yes  Unique No     Result  STATUS  REQUESTED $  \\\n",
       "0  885478111  27844494        4863        168  857633617  FUNDED         7500   \n",
       "1  554450995  21710291        2153        102  532740704  FUNDED        50000   \n",
       "2  563268896  53313915        2392        132  509954981  FUNDED         9000   \n",
       "\n",
       "   REQUESTED %  \n",
       "0     1.250000  \n",
       "1     8.333333  \n",
       "2     1.500000  "
      ]
     },
     "metadata": {},
     "output_type": "display_data"
    },
    {
     "name": "stdout",
     "output_type": "stream",
     "text": [
      "<class 'pandas.core.frame.DataFrame'>\n",
      "Int64Index: 305 entries, 0 to 38\n",
      "Data columns (total 12 columns):\n",
      " #   Column       Non-Null Count  Dtype  \n",
      "---  ------       --------------  -----  \n",
      " 0   challenge    305 non-null    object \n",
      " 1   Budget       305 non-null    int64  \n",
      " 2   Proposal     305 non-null    object \n",
      " 3   SCORE        305 non-null    float64\n",
      " 4   YES          305 non-null    int64  \n",
      " 5   NO           305 non-null    int64  \n",
      " 6   Unique Yes   305 non-null    int64  \n",
      " 7   Unique No    305 non-null    int64  \n",
      " 8   Result       305 non-null    int64  \n",
      " 9   STATUS       305 non-null    object \n",
      " 10  REQUESTED $  305 non-null    int64  \n",
      " 11  REQUESTED %  305 non-null    float64\n",
      "dtypes: float64(2), int64(7), object(3)\n",
      "memory usage: 31.0+ KB\n",
      "None\n",
      "\n",
      ">> Unique challenges: ['Developer ecosystem', 'DApp&Integrations', 'Distributed decision making', 'Proposer Outreach', 'Catalyst Value Onboarding', 'Metadata challenge', 'Grow Africa, Grow Cardano wv', 'Scale-UP Cardanos DeFi Ecosyste', 'Fund7 Challenge Setting wv', 'Sponsored by leftovers']\n",
      "# 10\n",
      "\n",
      "\n",
      "FUND: f6\n"
     ]
    },
    {
     "data": {
      "text/html": [
       "<div>\n",
       "<style scoped>\n",
       "    .dataframe tbody tr th:only-of-type {\n",
       "        vertical-align: middle;\n",
       "    }\n",
       "\n",
       "    .dataframe tbody tr th {\n",
       "        vertical-align: top;\n",
       "    }\n",
       "\n",
       "    .dataframe thead th {\n",
       "        text-align: right;\n",
       "    }\n",
       "</style>\n",
       "<table border=\"1\" class=\"dataframe\">\n",
       "  <thead>\n",
       "    <tr style=\"text-align: right;\">\n",
       "      <th></th>\n",
       "      <th>challenge</th>\n",
       "      <th>Budget</th>\n",
       "      <th>Proposal</th>\n",
       "      <th>SCORE</th>\n",
       "      <th>YES</th>\n",
       "      <th>NO</th>\n",
       "      <th>Result</th>\n",
       "      <th>STATUS</th>\n",
       "      <th>REQUESTED $</th>\n",
       "      <th>REQUESTED %</th>\n",
       "    </tr>\n",
       "  </thead>\n",
       "  <tbody>\n",
       "    <tr>\n",
       "      <th>0</th>\n",
       "      <td>Developer ecosystem</td>\n",
       "      <td>1005000</td>\n",
       "      <td>Software as a Service for Cardano</td>\n",
       "      <td>5.0</td>\n",
       "      <td>637293223</td>\n",
       "      <td>28405633</td>\n",
       "      <td>608887590</td>\n",
       "      <td>FUNDED</td>\n",
       "      <td>60000</td>\n",
       "      <td>5.970149</td>\n",
       "    </tr>\n",
       "    <tr>\n",
       "      <th>1</th>\n",
       "      <td>Developer ecosystem</td>\n",
       "      <td>1005000</td>\n",
       "      <td>Plutus PAB Typescript SDK</td>\n",
       "      <td>5.0</td>\n",
       "      <td>407234809</td>\n",
       "      <td>19995040</td>\n",
       "      <td>387239769</td>\n",
       "      <td>FUNDED</td>\n",
       "      <td>35000</td>\n",
       "      <td>3.482587</td>\n",
       "    </tr>\n",
       "    <tr>\n",
       "      <th>2</th>\n",
       "      <td>Developer ecosystem</td>\n",
       "      <td>1005000</td>\n",
       "      <td>Gravatar for ADA Wallets</td>\n",
       "      <td>5.0</td>\n",
       "      <td>401288824</td>\n",
       "      <td>47664488</td>\n",
       "      <td>353624336</td>\n",
       "      <td>FUNDED</td>\n",
       "      <td>87700</td>\n",
       "      <td>8.726368</td>\n",
       "    </tr>\n",
       "  </tbody>\n",
       "</table>\n",
       "</div>"
      ],
      "text/plain": [
       "             challenge   Budget                           Proposal  SCORE  \\\n",
       "0  Developer ecosystem  1005000  Software as a Service for Cardano    5.0   \n",
       "1  Developer ecosystem  1005000          Plutus PAB Typescript SDK    5.0   \n",
       "2  Developer ecosystem  1005000           Gravatar for ADA Wallets    5.0   \n",
       "\n",
       "         YES        NO     Result  STATUS  REQUESTED $  REQUESTED %  \n",
       "0  637293223  28405633  608887590  FUNDED        60000     5.970149  \n",
       "1  407234809  19995040  387239769  FUNDED        35000     3.482587  \n",
       "2  401288824  47664488  353624336  FUNDED        87700     8.726368  "
      ]
     },
     "metadata": {},
     "output_type": "display_data"
    },
    {
     "name": "stdout",
     "output_type": "stream",
     "text": [
      "<class 'pandas.core.frame.DataFrame'>\n",
      "Int64Index: 885 entries, 0 to 176\n",
      "Data columns (total 10 columns):\n",
      " #   Column       Non-Null Count  Dtype  \n",
      "---  ------       --------------  -----  \n",
      " 0   challenge    885 non-null    object \n",
      " 1   Budget       885 non-null    int64  \n",
      " 2   Proposal     885 non-null    object \n",
      " 3   SCORE        885 non-null    float64\n",
      " 4   YES          885 non-null    int64  \n",
      " 5   NO           885 non-null    int64  \n",
      " 6   Result       885 non-null    int64  \n",
      " 7   STATUS       885 non-null    object \n",
      " 8   REQUESTED $  885 non-null    int64  \n",
      " 9   REQUESTED %  885 non-null    float64\n",
      "dtypes: float64(2), int64(5), object(3)\n",
      "memory usage: 76.1+ KB\n",
      "None\n",
      "\n",
      ">> Unique challenges: ['Developer ecosystem', 'DApps & Integrations', 'Distributed decision making', 'Proposer outreach', 'Catalyst value onboarding', 'Metadata', 'Grow Africa, Grow Cardano', 'Scale-UP Cardano’s DeFi Ecosyst', 'Cardano Emerging Threat Alarm', 'Multilingual resources', 'DeFi and Microlending for Afric', 'DLT Entrepreneurship Toolbox', 'Partnerships for Global Adoptio', 'NFT Business models', 'Atala PRISM DID Mass-Scale Adop', 'Disaster When all is at stake', 'Scale-UP Cardano’s Community Hu', 'Improve and Grow Auditability', 'Fund7 challenge setting', 'Sponsored by leftovers']\n",
      "# 20\n",
      "\n",
      "\n",
      "FUND: f7\n"
     ]
    },
    {
     "data": {
      "text/html": [
       "<div>\n",
       "<style scoped>\n",
       "    .dataframe tbody tr th:only-of-type {\n",
       "        vertical-align: middle;\n",
       "    }\n",
       "\n",
       "    .dataframe tbody tr th {\n",
       "        vertical-align: top;\n",
       "    }\n",
       "\n",
       "    .dataframe thead th {\n",
       "        text-align: right;\n",
       "    }\n",
       "</style>\n",
       "<table border=\"1\" class=\"dataframe\">\n",
       "  <thead>\n",
       "    <tr style=\"text-align: right;\">\n",
       "      <th></th>\n",
       "      <th>challenge</th>\n",
       "      <th>Budget</th>\n",
       "      <th>Proposal</th>\n",
       "      <th>SCORE</th>\n",
       "      <th>YES</th>\n",
       "      <th>NO</th>\n",
       "      <th>Result</th>\n",
       "      <th>STATUS</th>\n",
       "      <th>REQUESTED $</th>\n",
       "      <th>REQUESTED %</th>\n",
       "    </tr>\n",
       "  </thead>\n",
       "  <tbody>\n",
       "    <tr>\n",
       "      <th>0</th>\n",
       "      <td>A.I. &amp; SingularityNet a $5T mar</td>\n",
       "      <td>500000.0</td>\n",
       "      <td>NuNet: Decentralized SPO Computing</td>\n",
       "      <td>4.92</td>\n",
       "      <td>199732782</td>\n",
       "      <td>1123600</td>\n",
       "      <td>198609182</td>\n",
       "      <td>FUNDED</td>\n",
       "      <td>120000</td>\n",
       "      <td>24.0</td>\n",
       "    </tr>\n",
       "    <tr>\n",
       "      <th>1</th>\n",
       "      <td>A.I. &amp; SingularityNet a $5T mar</td>\n",
       "      <td>500000.0</td>\n",
       "      <td>Sustainable AI anti-fakenews system</td>\n",
       "      <td>4.39</td>\n",
       "      <td>98489203</td>\n",
       "      <td>5323561</td>\n",
       "      <td>93165642</td>\n",
       "      <td>FUNDED</td>\n",
       "      <td>110000</td>\n",
       "      <td>22.0</td>\n",
       "    </tr>\n",
       "    <tr>\n",
       "      <th>2</th>\n",
       "      <td>A.I. &amp; SingularityNet a $5T mar</td>\n",
       "      <td>500000.0</td>\n",
       "      <td>Identify patterns on Transaction</td>\n",
       "      <td>4.29</td>\n",
       "      <td>84237620</td>\n",
       "      <td>3344431</td>\n",
       "      <td>80893189</td>\n",
       "      <td>FUNDED</td>\n",
       "      <td>30000</td>\n",
       "      <td>6.0</td>\n",
       "    </tr>\n",
       "  </tbody>\n",
       "</table>\n",
       "</div>"
      ],
      "text/plain": [
       "                         challenge    Budget  \\\n",
       "0  A.I. & SingularityNet a $5T mar  500000.0   \n",
       "1  A.I. & SingularityNet a $5T mar  500000.0   \n",
       "2  A.I. & SingularityNet a $5T mar  500000.0   \n",
       "\n",
       "                              Proposal  SCORE        YES       NO     Result  \\\n",
       "0   NuNet: Decentralized SPO Computing   4.92  199732782  1123600  198609182   \n",
       "1  Sustainable AI anti-fakenews system   4.39   98489203  5323561   93165642   \n",
       "2     Identify patterns on Transaction   4.29   84237620  3344431   80893189   \n",
       "\n",
       "   STATUS  REQUESTED $  REQUESTED %  \n",
       "0  FUNDED       120000         24.0  \n",
       "1  FUNDED       110000         22.0  \n",
       "2  FUNDED        30000          6.0  "
      ]
     },
     "metadata": {},
     "output_type": "display_data"
    },
    {
     "name": "stdout",
     "output_type": "stream",
     "text": [
      "<class 'pandas.core.frame.DataFrame'>\n",
      "Int64Index: 1259 entries, 0 to 323\n",
      "Data columns (total 10 columns):\n",
      " #   Column       Non-Null Count  Dtype  \n",
      "---  ------       --------------  -----  \n",
      " 0   challenge    1259 non-null   object \n",
      " 1   Budget       1203 non-null   float64\n",
      " 2   Proposal     1259 non-null   object \n",
      " 3   SCORE        1259 non-null   float64\n",
      " 4   YES          1259 non-null   int64  \n",
      " 5   NO           1259 non-null   int64  \n",
      " 6   Result       1259 non-null   int64  \n",
      " 7   STATUS       1259 non-null   object \n",
      " 8   REQUESTED $  1259 non-null   int64  \n",
      " 9   REQUESTED %  1203 non-null   float64\n",
      "dtypes: float64(3), int64(4), object(3)\n",
      "memory usage: 108.2+ KB\n",
      "None\n",
      "\n",
      ">> Unique challenges: ['A.I. & SingularityNet a $5T mar', 'Accelerate Decentralized Identi', 'Boosting Cardanos DeFi', 'Catalyst - Rapid Funding Mechan', 'Catalyst Accelerator & Mentors', 'Catalyst Natives COTI Pay with ', 'Community Events', 'Connecting Japan日本 Community', 'DAOs ❤ Cardano', 'DApps & Integrations', 'Disarm cyber disinformation att', 'Gamers On-Chained', 'Global Sustainable Indep. SPOs', 'Grow Latin America, Grow Cardan', 'Improve and Grow Auditability', 'Lobbying for favorable legislat', 'MiniLow-Budget Dapps & Integrat', 'Miscellaneous Challenge', 'Multilingual resources', 'Nation Building Dapps', 'New SPO Business Opportunities', 'Open Source Developer Ecosystem', 'Scale-UP Cardanos Community Hub', 'Seeding Cardanos Grassroots DeF', 'Fund8 challenge setting', 'Sponsored by leftovers']\n",
      "# 26\n",
      "\n",
      "\n",
      "FUND: f8\n"
     ]
    },
    {
     "data": {
      "text/html": [
       "<div>\n",
       "<style scoped>\n",
       "    .dataframe tbody tr th:only-of-type {\n",
       "        vertical-align: middle;\n",
       "    }\n",
       "\n",
       "    .dataframe tbody tr th {\n",
       "        vertical-align: top;\n",
       "    }\n",
       "\n",
       "    .dataframe thead th {\n",
       "        text-align: right;\n",
       "    }\n",
       "</style>\n",
       "<table border=\"1\" class=\"dataframe\">\n",
       "  <thead>\n",
       "    <tr style=\"text-align: right;\">\n",
       "      <th></th>\n",
       "      <th>challenge</th>\n",
       "      <th>Budget</th>\n",
       "      <th>Proposal</th>\n",
       "      <th>SCORE</th>\n",
       "      <th>YES</th>\n",
       "      <th>NO</th>\n",
       "      <th>Result</th>\n",
       "      <th>STATUS</th>\n",
       "      <th>REQUESTED $</th>\n",
       "      <th>REQUESTED %</th>\n",
       "    </tr>\n",
       "  </thead>\n",
       "  <tbody>\n",
       "    <tr>\n",
       "      <th>0</th>\n",
       "      <td>Accelerate Decentralized Identi</td>\n",
       "      <td>500000</td>\n",
       "      <td>Universal Resolver for did:prism</td>\n",
       "      <td>5.00</td>\n",
       "      <td>148830926</td>\n",
       "      <td>562903</td>\n",
       "      <td>148268023</td>\n",
       "      <td>FUNDED</td>\n",
       "      <td>6425</td>\n",
       "      <td>1.285</td>\n",
       "    </tr>\n",
       "    <tr>\n",
       "      <th>1</th>\n",
       "      <td>Accelerate Decentralized Identi</td>\n",
       "      <td>500000</td>\n",
       "      <td>PeopleCert DevOps Pilot on Cardano</td>\n",
       "      <td>5.00</td>\n",
       "      <td>132934798</td>\n",
       "      <td>1985422</td>\n",
       "      <td>130949376</td>\n",
       "      <td>FUNDED</td>\n",
       "      <td>46200</td>\n",
       "      <td>9.240</td>\n",
       "    </tr>\n",
       "    <tr>\n",
       "      <th>2</th>\n",
       "      <td>Accelerate Decentralized Identi</td>\n",
       "      <td>500000</td>\n",
       "      <td>Visual DID &amp; Credential Builder</td>\n",
       "      <td>4.83</td>\n",
       "      <td>125276050</td>\n",
       "      <td>981839</td>\n",
       "      <td>124294211</td>\n",
       "      <td>FUNDED</td>\n",
       "      <td>25000</td>\n",
       "      <td>5.000</td>\n",
       "    </tr>\n",
       "  </tbody>\n",
       "</table>\n",
       "</div>"
      ],
      "text/plain": [
       "                         challenge  Budget  \\\n",
       "0  Accelerate Decentralized Identi  500000   \n",
       "1  Accelerate Decentralized Identi  500000   \n",
       "2  Accelerate Decentralized Identi  500000   \n",
       "\n",
       "                             Proposal  SCORE        YES       NO     Result  \\\n",
       "0    Universal Resolver for did:prism   5.00  148830926   562903  148268023   \n",
       "1  PeopleCert DevOps Pilot on Cardano   5.00  132934798  1985422  130949376   \n",
       "2     Visual DID & Credential Builder   4.83  125276050   981839  124294211   \n",
       "\n",
       "   STATUS  REQUESTED $  REQUESTED %  \n",
       "0  FUNDED         6425        1.285  \n",
       "1  FUNDED        46200        9.240  \n",
       "2  FUNDED        25000        5.000  "
      ]
     },
     "metadata": {},
     "output_type": "display_data"
    },
    {
     "name": "stdout",
     "output_type": "stream",
     "text": [
      "<class 'pandas.core.frame.DataFrame'>\n",
      "Int64Index: 1621 entries, 0 to 486\n",
      "Data columns (total 10 columns):\n",
      " #   Column       Non-Null Count  Dtype  \n",
      "---  ------       --------------  -----  \n",
      " 0   challenge    1621 non-null   object \n",
      " 1   Budget       1621 non-null   int64  \n",
      " 2   Proposal     1621 non-null   object \n",
      " 3   SCORE        1621 non-null   float64\n",
      " 4   YES          1621 non-null   int64  \n",
      " 5   NO           1621 non-null   int64  \n",
      " 6   Result       1621 non-null   int64  \n",
      " 7   STATUS       1621 non-null   object \n",
      " 8   REQUESTED $  1621 non-null   int64  \n",
      " 9   REQUESTED %  1621 non-null   float64\n",
      "dtypes: float64(2), int64(5), object(3)\n",
      "memory usage: 139.3+ KB\n",
      "None\n",
      "\n",
      ">> Unique challenges: ['Accelerate Decentralized Identi', 'Business Solutions (B2B & B2C)', 'Cardano scaling solutions', 'Community Advisor Improvements', 'Cross-Chain Collaboration', 'DApps and Integrations', 'Developer Ecosystem', 'Film + Media (FAM) creatives un', 'Gamers On - Chained', 'Grow Africa, Grow Cardano', 'Grow East Asia, Grow Cardano', 'Grow India, Grow Cardano', 'Improve and Grow Auditability', 'Lobbying for favorable legislat', 'Miscellaneous Challenge', 'Nation Building Dapps', 'New Member Onboarding', 'Open Source Development Ecosyst', 'Open Standards & Interoperabili', 'Scale-UP Cardanos Community Hub', 'Self-Sovereign Identity', 'The Great Migration (from Ether', 'Fund9 challenge setting', 'Funded by leftovers']\n",
      "# 24\n"
     ]
    }
   ],
   "source": [
    "def display_results():\n",
    "    for fund in funds:\n",
    "        print(\"\\n\\nFUND: {}\".format(fund))\n",
    "        display(cat_obj[fund].results.head(3))\n",
    "        print(cat_obj[fund].results.info())\n",
    "        print('\\n>> Unique challenges: {}'.format(list(cat_obj[fund].results.challenge.unique())))\n",
    "        print('# {}'.format(len(list(cat_obj[fund].results.challenge.unique()))))\n",
    "display_results()"
   ]
  },
  {
   "cell_type": "code",
   "execution_count": null,
   "id": "da79a4ea",
   "metadata": {},
   "outputs": [],
   "source": []
  },
  {
   "cell_type": "code",
   "execution_count": null,
   "id": "9f83178b",
   "metadata": {},
   "outputs": [],
   "source": []
  },
  {
   "cell_type": "code",
   "execution_count": null,
   "id": "946b2afb",
   "metadata": {},
   "outputs": [],
   "source": []
  },
  {
   "cell_type": "code",
   "execution_count": null,
   "id": "709116d7",
   "metadata": {},
   "outputs": [],
   "source": []
  },
  {
   "cell_type": "code",
   "execution_count": null,
   "id": "bc474b3a",
   "metadata": {},
   "outputs": [],
   "source": []
  },
  {
   "cell_type": "code",
   "execution_count": null,
   "id": "0f6346ff",
   "metadata": {},
   "outputs": [],
   "source": []
  }
 ],
 "metadata": {
  "kernelspec": {
   "display_name": "Python 3 (ipykernel)",
   "language": "python",
   "name": "python3"
  },
  "language_info": {
   "codemirror_mode": {
    "name": "ipython",
    "version": 3
   },
   "file_extension": ".py",
   "mimetype": "text/x-python",
   "name": "python",
   "nbconvert_exporter": "python",
   "pygments_lexer": "ipython3",
   "version": "3.9.7"
  }
 },
 "nbformat": 4,
 "nbformat_minor": 5
}

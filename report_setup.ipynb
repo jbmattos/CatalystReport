{
 "cells": [
  {
   "cell_type": "code",
   "execution_count": 1,
   "id": "685cfc3d",
   "metadata": {},
   "outputs": [],
   "source": [
    "import numpy as np\n",
    "import pandas as pd\n",
    "\n",
    "# review\n",
    "import itertools\n",
    "import json\n",
    "import matplotlib.backends.backend_pdf\n",
    "import pathlib\n",
    "import seaborn as sns\n",
    "\n",
    "from matplotlib import pyplot as plt\n",
    "from matplotlib.gridspec import SubplotSpec\n",
    "from matplotlib.pylab import rcParams\n",
    "from mpl_toolkits.axes_grid1 import make_axes_locatable\n",
    "\n",
    "from catalyst_fund_eda import CatalystFundEDA\n",
    "# from catalyst_report import CatalystReport\n",
    "\n",
    "palette_status = {\"FUNDED\": '#0570b0', # blue\n",
    "                 \"NOT FUNDED\": '#cb181d', # red\n",
    "                 \"NOT APPROVED\": '#ec7014'} # orange"
   ]
  },
  {
   "cell_type": "markdown",
   "id": "6a8b6a11",
   "metadata": {},
   "source": [
    "# CATALYST FUND EDA"
   ]
  },
  {
   "cell_type": "code",
   "execution_count": null,
   "id": "bfdc3409",
   "metadata": {
    "scrolled": true
   },
   "outputs": [],
   "source": [
    "# load CatalystFundEAD objects\n",
    "catalyst_f_eda = {}\n",
    "for f in available_data().keys():\n",
    "    catalyst_f_eda[f] = CatalystFundEDA(f)\n",
    "    \n",
    "    print('\\n-----------------')\n",
    "    print(' FUND: ', catalyst_f_eda[f].fund)\n",
    "    print('\\nChallenges:')\n",
    "    display(catalyst_f_eda[f].challenges)"
   ]
  },
  {
   "cell_type": "code",
   "execution_count": null,
   "id": "a750c990",
   "metadata": {},
   "outputs": [],
   "source": [
    "eg = 'f5'\n",
    "fund_obj = catalyst_f_eda[eg]\n",
    "print('>> e.g. FUND DEFAULT RESULTS')\n",
    "display(fund_obj.results.head(2))\n",
    "print('\\n>> e.g. CHALLANGE-SPECIFIC RESULTS')\n",
    "display(fund_obj.get_challenge_results(fund_obj.challenges[0]).head(2))"
   ]
  },
  {
   "cell_type": "markdown",
   "id": "57d2210c",
   "metadata": {},
   "source": [
    "## Fund Statistics"
   ]
  },
  {
   "cell_type": "code",
   "execution_count": null,
   "id": "6363be00",
   "metadata": {},
   "outputs": [],
   "source": [
    "'''\n",
    "Statistics of Funded, Not Funded and Not Approved proposals: \n",
    "    average score, \n",
    "    a minimum score of a Funded proposal in each challenge, \n",
    "    maximum score of a Not Funded proposal in each challenge, \n",
    "    absolute numbers and percentages of Funded, \n",
    "    Not Funded and Not Approved proposals\n",
    "'''"
   ]
  },
  {
   "cell_type": "markdown",
   "id": "3d327829",
   "metadata": {},
   "source": [
    "### Distribution and Table"
   ]
  },
  {
   "cell_type": "code",
   "execution_count": null,
   "id": "5696594c",
   "metadata": {},
   "outputs": [],
   "source": [
    "f='f5'\n",
    "fund_obj = catalyst_f_eda[f]\n",
    "fund_obj.plot_distribution()\n",
    "fund_obj.get_statistics(feats=['SCORE', 'REQUESTED %'], metrics=['count', 'count%', 'mean', 'min', 'max'])"
   ]
  },
  {
   "cell_type": "code",
   "execution_count": null,
   "id": "17aa7b29",
   "metadata": {},
   "outputs": [],
   "source": [
    "f='f6'\n",
    "fund_obj = catalyst_f_eda[f]\n",
    "fund_obj.plot_distribution()\n",
    "fund_obj.get_statistics(feats=['SCORE', 'REQUESTED %'], metrics=['count', 'count%', 'mean', 'min', 'max'])"
   ]
  },
  {
   "cell_type": "code",
   "execution_count": null,
   "id": "8fd379db",
   "metadata": {},
   "outputs": [],
   "source": [
    "f='f8'\n",
    "fund_obj = catalyst_f_eda[f]\n",
    "fund_obj.plot_distribution('REQUESTED %')\n",
    "fund_obj.get_statistics(feats=['SCORE', 'REQUESTED %'], metrics=['count', 'count%', 'mean', 'min', 'max'])"
   ]
  },
  {
   "cell_type": "markdown",
   "id": "a832f030",
   "metadata": {},
   "source": [
    "### SWARM PLOT"
   ]
  },
  {
   "cell_type": "code",
   "execution_count": null,
   "id": "60662ccd",
   "metadata": {},
   "outputs": [],
   "source": [
    "f='f5'\n",
    "fund_obj = catalyst_f_eda[f]\n",
    "fund_obj.plot_swarm()"
   ]
  },
  {
   "cell_type": "code",
   "execution_count": null,
   "id": "dd380f82",
   "metadata": {},
   "outputs": [],
   "source": [
    "f='f7'\n",
    "fund_obj = catalyst_f_eda[f]\n",
    "fund_obj.plot_swarm()"
   ]
  },
  {
   "cell_type": "code",
   "execution_count": null,
   "id": "cd52ef51",
   "metadata": {},
   "outputs": [],
   "source": [
    "f='f4'\n",
    "fund_obj = catalyst_f_eda[f]\n",
    "fund_obj.plot_swarm('REQUESTED $')"
   ]
  },
  {
   "cell_type": "markdown",
   "id": "770de159",
   "metadata": {},
   "source": [
    "### LM PLOTS"
   ]
  },
  {
   "cell_type": "code",
   "execution_count": null,
   "id": "a3b74aea",
   "metadata": {},
   "outputs": [],
   "source": [
    "f='f5'\n",
    "fund_obj = catalyst_f_eda[f]\n",
    "x_feat = 'SCORE'\n",
    "y_feat = 'REQUESTED %'\n",
    "fit_reg = False\n",
    "fund_obj.plot_lm(x_feat, y_feat)"
   ]
  },
  {
   "cell_type": "code",
   "execution_count": null,
   "id": "cd4c0b35",
   "metadata": {},
   "outputs": [],
   "source": [
    "f='f5'\n",
    "fund_obj = catalyst_f_eda[f]\n",
    "x_feat = 'REQUESTED %'\n",
    "y_feat = 'Unique No'\n",
    "fit_reg = True\n",
    "fund_obj.plot_lm(x_feat, y_feat, fit_reg)"
   ]
  },
  {
   "cell_type": "code",
   "execution_count": null,
   "id": "f58ebbac",
   "metadata": {},
   "outputs": [],
   "source": [
    " f='f5'\n",
    "fund_obj = catalyst_f_eda[f]\n",
    "x_feat = 'SCORE'\n",
    "y_feat = 'Unique Yes'\n",
    "fit_reg = True\n",
    "fund_obj.plot_lm(x_feat, y_feat, fit_reg)"
   ]
  },
  {
   "cell_type": "markdown",
   "id": "bd24a148",
   "metadata": {},
   "source": [
    "### "
   ]
  },
  {
   "cell_type": "code",
   "execution_count": null,
   "id": "e48aaf2d",
   "metadata": {},
   "outputs": [],
   "source": []
  },
  {
   "cell_type": "code",
   "execution_count": null,
   "id": "2adb3006",
   "metadata": {},
   "outputs": [],
   "source": []
  },
  {
   "cell_type": "code",
   "execution_count": null,
   "id": "97175553",
   "metadata": {},
   "outputs": [],
   "source": []
  },
  {
   "cell_type": "code",
   "execution_count": null,
   "id": "edd4ed6d",
   "metadata": {},
   "outputs": [],
   "source": []
  },
  {
   "cell_type": "code",
   "execution_count": null,
   "id": "3550105f",
   "metadata": {},
   "outputs": [],
   "source": []
  },
  {
   "cell_type": "markdown",
   "id": "d53315a1",
   "metadata": {},
   "source": [
    "# CATALYST REPORT"
   ]
  },
  {
   "cell_type": "code",
   "execution_count": null,
   "id": "23d92251",
   "metadata": {},
   "outputs": [],
   "source": [
    "rprt = CatalystReport()"
   ]
  },
  {
   "cell_type": "code",
   "execution_count": null,
   "id": "b2795402",
   "metadata": {},
   "outputs": [],
   "source": [
    "rprt.funds"
   ]
  },
  {
   "cell_type": "markdown",
   "id": "65209524",
   "metadata": {},
   "source": [
    "## Evolution()"
   ]
  },
  {
   "cell_type": "code",
   "execution_count": null,
   "id": "44275794",
   "metadata": {},
   "outputs": [],
   "source": [
    "'''\n",
    "Evolution of Catalyst over time. Numbers of: \n",
    "    proposals, \n",
    "    challenges, \n",
    "    active CAs, \n",
    "    active vCAs, \n",
    "    voting power, \n",
    "    unique wallets\n",
    "'''\n",
    "f = 'f5'"
   ]
  },
  {
   "cell_type": "code",
   "execution_count": null,
   "id": "76073287",
   "metadata": {
    "scrolled": true
   },
   "outputs": [],
   "source": [
    "catalyst_f_eda[f].get_results()"
   ]
  },
  {
   "cell_type": "code",
   "execution_count": null,
   "id": "df658e2a",
   "metadata": {},
   "outputs": [],
   "source": [
    "catalyst_f_eda[f].proposals"
   ]
  },
  {
   "cell_type": "code",
   "execution_count": null,
   "id": "91630bfc",
   "metadata": {},
   "outputs": [],
   "source": [
    "catalyst_f_eda[f].challenges"
   ]
  },
  {
   "cell_type": "markdown",
   "id": "6f164aa1",
   "metadata": {},
   "source": [
    "#### df_evolution"
   ]
  },
  {
   "cell_type": "code",
   "execution_count": null,
   "id": "1e8860ae",
   "metadata": {},
   "outputs": [],
   "source": [
    "prop_evol = pd.Series(map(lambda c: c.proposals.shape[0], catalyst_f_eda.values()), \n",
    "                      index=catalyst_f_eda.keys(),\n",
    "                      name='proposals_evolution',\n",
    "                      dtype=int)\n",
    "ch_evol = pd.Series(map(lambda c: c.challenges.shape[0], catalyst_f_eda.values()), \n",
    "                      index=catalyst_f_eda.keys(),\n",
    "                      name='challenges_evolution',\n",
    "                      dtype=int)\n",
    "df_evol = pd.concat([prop_evol,\n",
    "                    ch_evol], \n",
    "                    axis='columns', ignore_index=False)\n",
    "df_evol"
   ]
  },
  {
   "cell_type": "markdown",
   "id": "506bafaa",
   "metadata": {},
   "source": [
    "### Plot all evolution time series"
   ]
  },
  {
   "cell_type": "code",
   "execution_count": null,
   "id": "f702a288",
   "metadata": {},
   "outputs": [],
   "source": [
    "# # set figure\n",
    "# rcParams[\"font.size\"] = 20\n",
    "# rows = 1\n",
    "# cols = len(df_evol.columns)\n",
    "# rcParams['figure.figsize'] = 9*cols, 6*rows\n",
    "# fig, axes = plt.subplots(nrows=rows, ncols=cols, num='plot_evol', clear=True, sharex=True, sharey=False)\n",
    "\n",
    "# for idx, metric in enumerate(df_evol.columns):\n",
    "    \n",
    "#     ax = axes[idx]\n",
    "#     df_evol[metric].plot(kind='bar', ax=ax, color='#045a8d')\n",
    "    \n",
    "#     ax.set_title('{}'.format(metric.replace('_',' ').capitalize()))\n",
    "#     if idx==0: ax.set_ylabel('Count')\n",
    "#     else: ax.set_ylabel('')\n",
    "#     ax.set_xlabel('Funds')\n",
    "#     ax.spines['top'].set_visible(False)\n",
    "#     ax.spines['right'].set_visible(False)\n",
    "# #     plt.subplots_adjust(wspace=0.05)\n",
    "rprt.plot_evolution()"
   ]
  },
  {
   "cell_type": "markdown",
   "id": "c638a987",
   "metadata": {},
   "source": [
    "### Single evolution plot"
   ]
  },
  {
   "cell_type": "code",
   "execution_count": null,
   "id": "c4a698e0",
   "metadata": {},
   "outputs": [],
   "source": [
    "feat = 'proposals_evolution'\n",
    "\n",
    "# # set figure\n",
    "# rcParams[\"font.size\"] = 20\n",
    "# rcParams['figure.figsize'] = 9, 6\n",
    "# fig, ax = plt.subplots(nrows=1, ncols=1, num='plot_sing_evol', clear=True)\n",
    "\n",
    "# df_evol[feat].plot(kind='bar', ax=ax, color='#045a8d')\n",
    "\n",
    "# # set axes\n",
    "# ax.set_ylabel('Count')\n",
    "# ax.set_xlabel('Funds')\n",
    "\n",
    "# ax.set_title('{}'.format(feat.replace('_',' ').capitalize()))\n",
    "# ax.spines['top'].set_visible(False)\n",
    "# ax.spines['right'].set_visible(False)\n",
    "\n",
    "# # plt.subplots_adjust(wspace=0.05)\n",
    "\n",
    "# # if save:\n",
    "# #     pass\n",
    "rprt.plot_single_evolution(feat)"
   ]
  },
  {
   "cell_type": "code",
   "execution_count": null,
   "id": "a15546b6",
   "metadata": {},
   "outputs": [],
   "source": []
  },
  {
   "cell_type": "code",
   "execution_count": null,
   "id": "816360ce",
   "metadata": {},
   "outputs": [],
   "source": []
  },
  {
   "cell_type": "code",
   "execution_count": null,
   "id": "d46c75d0",
   "metadata": {},
   "outputs": [],
   "source": []
  },
  {
   "cell_type": "code",
   "execution_count": null,
   "id": "e5bf2505",
   "metadata": {},
   "outputs": [],
   "source": []
  },
  {
   "cell_type": "code",
   "execution_count": null,
   "id": "1dc094b5",
   "metadata": {},
   "outputs": [],
   "source": []
  },
  {
   "cell_type": "code",
   "execution_count": null,
   "id": "20baa69f",
   "metadata": {},
   "outputs": [],
   "source": [
    "# set figure\n",
    "rcParams[\"font.size\"] = 40\n",
    "rows = 1\n",
    "cols = len(ALGS)\n",
    "rcParams['figure.figsize'] = 9*cols, 6*rows\n",
    "fig, axes = plt.subplots(nrows=rows, ncols=cols, num=db, clear=True, sharex=True, sharey=True)\n",
    "\n",
    "\n",
    "for col_id, alg in enumerate(ALGS):\n",
    "\n",
    "    color_it = itertools.cycle(self.COLORS)\n",
    "\n",
    "    #load km-estimates file\n",
    "    if alg in self.ESMAM_VARS:\n",
    "        kmModels = pd.DataFrame(dic_matrix[alg][db][str(exp)])\n",
    "    else:\n",
    "        kmModels = pd.DataFrame(dic_matrix[alg][db])\n",
    "\n",
    "    x = kmModels.times.values\n",
    "    columns = list(kmModels.columns)\n",
    "    columns.remove('times')\n",
    "\n",
    "    ax = axes[col_id]\n",
    "    for column in columns:\n",
    "        if column == \"population\":\n",
    "            ax.plot(x, kmModels[column], color='k', label='{}'.format(column), linestyle=':')\n",
    "        else:\n",
    "            ax.plot(x, kmModels[column], label='{}'.format(column), color=next(color_it))\n",
    "\n",
    "    ax.set_title('{}'.format(alg))\n",
    "    if col_id==0:\n",
    "        ax.set_xlabel('Time')\n",
    "        ax.set_ylabel('Survival probability')\n",
    "    else:\n",
    "        ax.set_xlabel('')\n",
    "        ax.set_ylabel('')\n",
    "    ax.set_ylim([0, 1])\n",
    "    ax.set_yticks([0.5,1])\n",
    "    ax.set_xlim([0, x[-1]+3])\n",
    "    ax.spines['top'].set_visible(False)\n",
    "    ax.spines['right'].set_visible(False)\n",
    "    ax.legend().set_visible(False)\n",
    "    plt.xticks([])\n",
    "    plt.subplots_adjust(wspace=0.05)"
   ]
  }
 ],
 "metadata": {
  "kernelspec": {
   "display_name": "Python 3 (ipykernel)",
   "language": "python",
   "name": "python3"
  },
  "language_info": {
   "codemirror_mode": {
    "name": "ipython",
    "version": 3
   },
   "file_extension": ".py",
   "mimetype": "text/x-python",
   "name": "python",
   "nbconvert_exporter": "python",
   "pygments_lexer": "ipython3",
   "version": "3.9.7"
  }
 },
 "nbformat": 4,
 "nbformat_minor": 5
}

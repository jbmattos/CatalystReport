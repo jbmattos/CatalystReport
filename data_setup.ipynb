{
 "cells": [
  {
   "cell_type": "code",
   "execution_count": 1,
   "id": "7015c615-5a7e-41ef-ba1e-4a78aca35018",
   "metadata": {},
   "outputs": [],
   "source": [
    "import numpy as np\n",
    "import pandas as pd\n",
    "import warnings\n",
    "from catalyst_voting_results import CatalystVotingResults"
   ]
  },
  {
   "cell_type": "code",
   "execution_count": 2,
   "id": "53ec4e76",
   "metadata": {
    "scrolled": true
   },
   "outputs": [
    {
     "name": "stdout",
     "output_type": "stream",
     "text": [
      "<class 'pandas.core.frame.DataFrame'>\n",
      "RangeIndex: 1259 entries, 0 to 1258\n",
      "Data columns (total 10 columns):\n",
      " #   Column       Non-Null Count  Dtype  \n",
      "---  ------       --------------  -----  \n",
      " 0   challenge    1259 non-null   object \n",
      " 1   Budget       1259 non-null   int64  \n",
      " 2   Proposal     1259 non-null   object \n",
      " 3   SCORE        1259 non-null   float64\n",
      " 4   YES          1259 non-null   int64  \n",
      " 5   NO           1259 non-null   int64  \n",
      " 6   Result       1259 non-null   int64  \n",
      " 7   STATUS       1259 non-null   object \n",
      " 8   REQUESTED $  1259 non-null   int64  \n",
      " 9   REQUESTED %  1259 non-null   float64\n",
      "dtypes: float64(2), int64(5), object(3)\n",
      "memory usage: 98.5+ KB\n"
     ]
    },
    {
     "data": {
      "text/plain": [
       "None"
      ]
     },
     "metadata": {},
     "output_type": "display_data"
    },
    {
     "data": {
      "text/html": [
       "<div>\n",
       "<style scoped>\n",
       "    .dataframe tbody tr th:only-of-type {\n",
       "        vertical-align: middle;\n",
       "    }\n",
       "\n",
       "    .dataframe tbody tr th {\n",
       "        vertical-align: top;\n",
       "    }\n",
       "\n",
       "    .dataframe thead th {\n",
       "        text-align: right;\n",
       "    }\n",
       "</style>\n",
       "<table border=\"1\" class=\"dataframe\">\n",
       "  <thead>\n",
       "    <tr style=\"text-align: right;\">\n",
       "      <th></th>\n",
       "      <th>challenge</th>\n",
       "      <th>budget</th>\n",
       "    </tr>\n",
       "  </thead>\n",
       "  <tbody>\n",
       "    <tr>\n",
       "      <th>0</th>\n",
       "      <td>Catalyst Natives COTI: Pay with ADA Plug-in</td>\n",
       "      <td>100000</td>\n",
       "    </tr>\n",
       "    <tr>\n",
       "      <th>1</th>\n",
       "      <td>Boosting Cardano's DeFi</td>\n",
       "      <td>500000</td>\n",
       "    </tr>\n",
       "    <tr>\n",
       "      <th>2</th>\n",
       "      <td>Community Events</td>\n",
       "      <td>200000</td>\n",
       "    </tr>\n",
       "    <tr>\n",
       "      <th>3</th>\n",
       "      <td>Lobbying for favorable legislation</td>\n",
       "      <td>75000</td>\n",
       "    </tr>\n",
       "    <tr>\n",
       "      <th>4</th>\n",
       "      <td>Catalyst - Rapid Funding Mechanisms</td>\n",
       "      <td>250000</td>\n",
       "    </tr>\n",
       "    <tr>\n",
       "      <th>5</th>\n",
       "      <td>DAOs &lt;3 Cardano</td>\n",
       "      <td>500000</td>\n",
       "    </tr>\n",
       "    <tr>\n",
       "      <th>6</th>\n",
       "      <td>Connecting Japan/日本 Community</td>\n",
       "      <td>50000</td>\n",
       "    </tr>\n",
       "    <tr>\n",
       "      <th>7</th>\n",
       "      <td>Disarm cyber disinformation attacks</td>\n",
       "      <td>100000</td>\n",
       "    </tr>\n",
       "    <tr>\n",
       "      <th>8</th>\n",
       "      <td>DApps &amp; Integrations</td>\n",
       "      <td>250000</td>\n",
       "    </tr>\n",
       "    <tr>\n",
       "      <th>9</th>\n",
       "      <td>Gamers On-Chained</td>\n",
       "      <td>250000</td>\n",
       "    </tr>\n",
       "    <tr>\n",
       "      <th>10</th>\n",
       "      <td>Grow Latin America, Grow Cardano</td>\n",
       "      <td>500000</td>\n",
       "    </tr>\n",
       "    <tr>\n",
       "      <th>11</th>\n",
       "      <td>Seeding Cardano's Grassroots DeFi</td>\n",
       "      <td>200000</td>\n",
       "    </tr>\n",
       "    <tr>\n",
       "      <th>12</th>\n",
       "      <td>Scale-UP Cardano's Community Hubs</td>\n",
       "      <td>350000</td>\n",
       "    </tr>\n",
       "    <tr>\n",
       "      <th>13</th>\n",
       "      <td>New SPO Business Opportunities</td>\n",
       "      <td>250000</td>\n",
       "    </tr>\n",
       "    <tr>\n",
       "      <th>14</th>\n",
       "      <td>Global Sustainable Indep. SPO's</td>\n",
       "      <td>100000</td>\n",
       "    </tr>\n",
       "    <tr>\n",
       "      <th>15</th>\n",
       "      <td>A.I. &amp; SingularityNet a $5T market</td>\n",
       "      <td>500000</td>\n",
       "    </tr>\n",
       "    <tr>\n",
       "      <th>16</th>\n",
       "      <td>Miscellaneous Challenge</td>\n",
       "      <td>200000</td>\n",
       "    </tr>\n",
       "    <tr>\n",
       "      <th>17</th>\n",
       "      <td>Nation Building Dapps</td>\n",
       "      <td>600000</td>\n",
       "    </tr>\n",
       "    <tr>\n",
       "      <th>18</th>\n",
       "      <td>Mini/Low-Budget Dapps &amp;Integrations</td>\n",
       "      <td>200000</td>\n",
       "    </tr>\n",
       "    <tr>\n",
       "      <th>19</th>\n",
       "      <td>Open Source Developer Ecosystem</td>\n",
       "      <td>200000</td>\n",
       "    </tr>\n",
       "    <tr>\n",
       "      <th>20</th>\n",
       "      <td>Multilingual resources</td>\n",
       "      <td>100000</td>\n",
       "    </tr>\n",
       "    <tr>\n",
       "      <th>21</th>\n",
       "      <td>Improve and Grow Auditability</td>\n",
       "      <td>100000</td>\n",
       "    </tr>\n",
       "    <tr>\n",
       "      <th>22</th>\n",
       "      <td>Atala PRISM</td>\n",
       "      <td>425000</td>\n",
       "    </tr>\n",
       "    <tr>\n",
       "      <th>23</th>\n",
       "      <td>Catalyst Accelerator &amp; Mentors</td>\n",
       "      <td>500000</td>\n",
       "    </tr>\n",
       "    <tr>\n",
       "      <th>24</th>\n",
       "      <td>Fund8 Challenge Setting</td>\n",
       "      <td>12800000</td>\n",
       "    </tr>\n",
       "    <tr>\n",
       "      <th>25</th>\n",
       "      <td>Sum of the leftovers</td>\n",
       "      <td>147668</td>\n",
       "    </tr>\n",
       "  </tbody>\n",
       "</table>\n",
       "</div>"
      ],
      "text/plain": [
       "                                      challenge    budget\n",
       "0   Catalyst Natives COTI: Pay with ADA Plug-in    100000\n",
       "1                       Boosting Cardano's DeFi    500000\n",
       "2                              Community Events    200000\n",
       "3            Lobbying for favorable legislation     75000\n",
       "4           Catalyst - Rapid Funding Mechanisms    250000\n",
       "5                               DAOs <3 Cardano    500000\n",
       "6                 Connecting Japan/日本 Community     50000\n",
       "7           Disarm cyber disinformation attacks    100000\n",
       "8                          DApps & Integrations    250000\n",
       "9                             Gamers On-Chained    250000\n",
       "10             Grow Latin America, Grow Cardano    500000\n",
       "11            Seeding Cardano's Grassroots DeFi    200000\n",
       "12            Scale-UP Cardano's Community Hubs    350000\n",
       "13               New SPO Business Opportunities    250000\n",
       "14              Global Sustainable Indep. SPO's    100000\n",
       "15           A.I. & SingularityNet a $5T market    500000\n",
       "16                      Miscellaneous Challenge    200000\n",
       "17                        Nation Building Dapps    600000\n",
       "18          Mini/Low-Budget Dapps &Integrations    200000\n",
       "19              Open Source Developer Ecosystem    200000\n",
       "20                       Multilingual resources    100000\n",
       "21                Improve and Grow Auditability    100000\n",
       "22                                  Atala PRISM    425000\n",
       "23               Catalyst Accelerator & Mentors    500000\n",
       "24                      Fund8 Challenge Setting  12800000\n",
       "25                         Sum of the leftovers    147668"
      ]
     },
     "metadata": {},
     "output_type": "display_data"
    }
   ],
   "source": [
    "cat=CatalystVotingResults('f7')\n",
    "display(cat.results.info())\n",
    "display(cat.validation)"
   ]
  },
  {
   "cell_type": "code",
   "execution_count": null,
   "id": "fda55220",
   "metadata": {},
   "outputs": [],
   "source": []
  },
  {
   "cell_type": "code",
   "execution_count": null,
   "id": "971b8b0d",
   "metadata": {},
   "outputs": [],
   "source": []
  },
  {
   "cell_type": "code",
   "execution_count": null,
   "id": "fe1585a1",
   "metadata": {},
   "outputs": [],
   "source": []
  },
  {
   "cell_type": "markdown",
   "id": "f190a6e1-2858-45cc-bb52-8b80f4b99236",
   "metadata": {},
   "source": [
    "# DIRECTLY FILE_PATH INFO"
   ]
  },
  {
   "cell_type": "markdown",
   "id": "50ae65f0-e12a-4940-9f71-d7cedce41f49",
   "metadata": {
    "tags": []
   },
   "source": [
    "## LOAD XLSX DATA FROM ALL FUNDS INTO < pd.ExcelFile >"
   ]
  },
  {
   "cell_type": "code",
   "execution_count": null,
   "id": "05a7766d-6510-4c76-b23c-1cd1c692bbaf",
   "metadata": {},
   "outputs": [],
   "source": [
    "path = \"/home/julianabmattos/GitRepositories/CatalystReport/data/data_files/\"\n",
    "funds = ['f3','f4','f5','f6','f7','f8']\n",
    "files = [\"Fund3 Voting results.xlsx\",\n",
    "         \"Fund4 Voting results.xlsx\",\n",
    "         \"Fund5 Voting results.xlsx\",\n",
    "         \"Fund6 Voting results.xlsx\",\n",
    "         \"Fund7 Voting results.xlsx\",\n",
    "         \"Fund8 Voting results.xlsx\"]\n",
    "dbs_from_xls = {}\n",
    "for f, file in zip(funds, files):\n",
    "    dbs_from_xls[f] = pd.ExcelFile(path+file)\n",
    "print('Funds loaded: {}'.format(list(dbs_from_xls.keys())))"
   ]
  },
  {
   "cell_type": "markdown",
   "id": "3c15d43b-3208-4044-aa9c-94eccc757f80",
   "metadata": {},
   "source": [
    "## SHEETS NAMES: the challenges from each fund"
   ]
  },
  {
   "cell_type": "code",
   "execution_count": null,
   "id": "24ff280b-bf4a-4178-9d16-95cc746ee42e",
   "metadata": {},
   "outputs": [],
   "source": [
    "sheets = {}\n",
    "print('Sheets by fund:\\n')\n",
    "for f, xls in dbs_from_xls.items():\n",
    "    sheets[f] = list(dbs_from_xls[f].sheet_names)\n",
    "    print(\"{}: {}\".format(f, sheets[f]))\n",
    "    print(len(sheets[f]))\n",
    "    print()"
   ]
  },
  {
   "cell_type": "markdown",
   "id": "2f5b96e9-e22c-4c4e-acd7-72924613264b",
   "metadata": {},
   "source": [
    "# VALIDATION DATAFRAME"
   ]
  },
  {
   "cell_type": "markdown",
   "id": "f0187e0a",
   "metadata": {},
   "source": [
    "## RAW VALIDATION DATA"
   ]
  },
  {
   "cell_type": "code",
   "execution_count": null,
   "id": "4ee51dcb-d0ad-474a-9b79-38e86e0c7aba",
   "metadata": {},
   "outputs": [],
   "source": [
    "data_xls = {}\n",
    "for fund in funds:\n",
    "\n",
    "    if 'validation' in sheets[f]:\n",
    "        df_valid = dbs_from_xls[f].parse(sheet_name='validation')\n",
    "    elif 'Validation' in sheets[f]:\n",
    "        df_valid = dbs_from_xls[f].parse(sheet_name='Validation')\n",
    "    else:\n",
    "        df_valid = None\n",
    "\n",
    "    print(\">> FUND: {}\".format(fund))\n",
    "    print('Challenges/sheets: {}'.format(list(sheets[f])))\n",
    "    print('#Challenges/sheets: {}'.format(len(list(sheets[f]))))\n",
    "    print('Validation df:')\n",
    "    display(df_valid)"
   ]
  },
  {
   "cell_type": "markdown",
   "id": "f756ddee-98de-420d-8bf1-c03967fe71eb",
   "metadata": {},
   "source": [
    "## VALIDATION DF SETUP: CATALYST-RESULTS OBJECTS\n",
    "df format: pd.DataFrames.columns = [challanges, budget]\\\n",
    "**All formatted validation dfs from f3-f8 match the data online**"
   ]
  },
  {
   "cell_type": "code",
   "execution_count": null,
   "id": "d0e25ca8-c120-4984-b69b-0f938aaad9a1",
   "metadata": {},
   "outputs": [],
   "source": [
    "VALIDATION_COLS = ['challange', 'budget']\n",
    "def __default_setup(df:pd.DataFrame) -> pd.DataFrame:\n",
    "    df.columns = VALIDATION_COLS\n",
    "    df.dropna(subset=['challange'],inplace=True)\n",
    "    df.reset_index(drop=True, inplace=True)\n",
    "    df['budget'] = df['budget'].astype(int)\n",
    "    return df"
   ]
  },
  {
   "cell_type": "markdown",
   "id": "3f194d6b-f298-40b4-afbe-5dcacd446b44",
   "metadata": {},
   "source": [
    "### FUND: F3"
   ]
  },
  {
   "cell_type": "code",
   "execution_count": null,
   "id": "52bca85c-783f-4ad4-a971-5b40a08369eb",
   "metadata": {},
   "outputs": [],
   "source": [
    "fund = 'f3'\n",
    "print('#Raw Challenges/sheets (validation/withdraws included): {}\\n'.format(len(list(sheets[fund]))))\n",
    "df = get_catalyst_data(fund).validation.copy()\n",
    "\n",
    "# df = df.iloc[:-1].copy()\n",
    "# func_format = lambda s: s.split('(')[1].split(')')[0] if isinstance(s, str) else s\n",
    "# df.iloc[:,0] = df.iloc[:,0].map(func_format)\n",
    "# df = __default_setup(df)\n",
    "\n",
    "display(df)\n",
    "df.info()"
   ]
  },
  {
   "cell_type": "markdown",
   "id": "58f8a6d4-763f-4bfd-b2e1-97a27b717412",
   "metadata": {},
   "source": [
    "### FUND: F4"
   ]
  },
  {
   "cell_type": "code",
   "execution_count": null,
   "id": "7cbcf853-de89-442e-a8ea-4eeea416d845",
   "metadata": {},
   "outputs": [],
   "source": [
    "fund = 'f4'\n",
    "print('#Raw Challenges/sheets (validation/withdraws included): {}\\n'.format(len(list(sheets[fund]))))\n",
    "df = get_catalyst_data(fund).validation.copy()\n",
    "\n",
    "# func_format = lambda s: s.split('(')[1].split(')')[0] if isinstance(s, str) else s\n",
    "# df.iloc[9:16,0] = df.iloc[9:16,0].map(func_format)\n",
    "# df = __default_setup(df)\n",
    "\n",
    "display(df)\n",
    "df.info()"
   ]
  },
  {
   "cell_type": "markdown",
   "id": "7f681464-eca8-48be-98b3-a47fc53eb546",
   "metadata": {},
   "source": [
    "### FUND: F5"
   ]
  },
  {
   "cell_type": "code",
   "execution_count": null,
   "id": "98107213-c3f6-408c-991c-a4b07b6db835",
   "metadata": {},
   "outputs": [],
   "source": [
    "fund = 'f5'\n",
    "print('#Raw Challenges/sheets (validation/withdraws included): {}\\n'.format(len(list(sheets[fund]))))\n",
    "df = get_catalyst_data(fund).validation.copy()\n",
    "\n",
    "# func_format = lambda s: s.split('(')[1].split(')')[0] if isinstance(s, str) else s\n",
    "# df.iloc[9:18,0] = df.iloc[9:18,0].map(func_format)\n",
    "# df = __default_setup(df)\n",
    "\n",
    "display(df)\n",
    "df.info()"
   ]
  },
  {
   "cell_type": "markdown",
   "id": "7d83bac9-5658-429c-8ebc-82519860618b",
   "metadata": {},
   "source": [
    "### FUND: F6"
   ]
  },
  {
   "cell_type": "code",
   "execution_count": null,
   "id": "7ee1d47a-feb0-4027-8a87-e5b6ebb97013",
   "metadata": {},
   "outputs": [],
   "source": [
    "fund = 'f6'\n",
    "print('#Raw Challenges/sheets (validation/withdraws included): {}\\n'.format(len(list(sheets[fund]))))\n",
    "df = get_catalyst_data(fund).validation.copy()\n",
    "\n",
    "# df = df.iloc[:-2].copy()\n",
    "# df.drop(columns='Fund size:', inplace=True)\n",
    "# df = __default_setup(df)\n",
    "\n",
    "display(df)\n",
    "df.info()"
   ]
  },
  {
   "cell_type": "markdown",
   "id": "71e4ea6e-3a1c-4380-9c8d-ac7877b4bfb3",
   "metadata": {},
   "source": [
    "### FUND: F7"
   ]
  },
  {
   "cell_type": "code",
   "execution_count": null,
   "id": "d4777f9d-4649-4d73-a8c8-bea3f2db9a4f",
   "metadata": {},
   "outputs": [],
   "source": [
    "fund = 'f7'\n",
    "print('#Raw Challenges/sheets (validation/withdraws included): {}\\n'.format(len(list(sheets[fund]))))\n",
    "df = get_catalyst_data(fund).validation.copy()\n",
    "\n",
    "# df.drop(columns=['Fund size:','Unnamed: 3'],inplace=True)\n",
    "# df = __default_setup(df)\n",
    "\n",
    "display(df)\n",
    "df.info()"
   ]
  },
  {
   "cell_type": "markdown",
   "id": "c5419ebf-8d9d-4f1c-b524-71ffd0587a6f",
   "metadata": {},
   "source": [
    "### FUND: F8"
   ]
  },
  {
   "cell_type": "code",
   "execution_count": null,
   "id": "6907d1f6-51f0-4fb7-a254-49214555833a",
   "metadata": {},
   "outputs": [],
   "source": [
    "fund = 'f8'\n",
    "print('#Raw Challenges/sheets (validation/withdraws included): {}\\n'.format(len(list(sheets[fund]))))\n",
    "df = get_catalyst_data(fund).validation.copy()\n",
    "\n",
    "# df.drop(columns=['Fund size:'],inplace=True)\n",
    "# df = __default_setup(df)\n",
    "\n",
    "display(df)\n",
    "df.info()"
   ]
  },
  {
   "cell_type": "markdown",
   "id": "7f0aa287",
   "metadata": {},
   "source": [
    "### OVEFRVIEW ON CATALYST-RESULTS OBJS"
   ]
  },
  {
   "cell_type": "code",
   "execution_count": null,
   "id": "f35ee225",
   "metadata": {},
   "outputs": [],
   "source": [
    "cat_obj = {} # to store CatalystData objects\n",
    "for fund in funds:\n",
    "    cat_obj[fund] = get_catalyst_data(fund)\n",
    "    \n",
    "    print('\\nFUND: {}'.format(fund))\n",
    "    print(\"#CHALLANGES: {}\".format(len(list(cat_obj[fund].data.keys()))))\n",
    "    print(\"#CHALLANGES: {}\".format(list(cat_obj[fund].data.keys())))\n",
    "    print(\"VALIDATION: {}\".format(type(cat_obj[fund].validation)))\n",
    "    print(\"WITHDRAWALS: {}\".format(type(cat_obj[fund].withdrawals)))"
   ]
  },
  {
   "cell_type": "markdown",
   "id": "24ea7a31",
   "metadata": {},
   "source": [
    "# INPUT CHALLANGE NAME & BUDGET:\n",
    "## Identification of inconsistent Challenge's name between DataFrame-key and Validation\n",
    "Inconsistent names where inputed to a mapping dictionary"
   ]
  },
  {
   "cell_type": "code",
   "execution_count": null,
   "id": "499eb972",
   "metadata": {},
   "outputs": [],
   "source": [
    "def check_budget(data):\n",
    "    print('\\n EXTRACTED BUDGETS:')\n",
    "    for ch in data.data.keys():\n",
    "        print('>> Challenge: {}'.format(ch))\n",
    "        try:\n",
    "            bud = data.validation.loc[data.validation.challenge==ch]['budget'].item()\n",
    "        except:\n",
    "            bud = np.nan\n",
    "        print('budget: ', bud)\n",
    "                          \n",
    "    display(data.validation)\n",
    "    return"
   ]
  },
  {
   "cell_type": "markdown",
   "id": "b449cd22",
   "metadata": {},
   "source": [
    "### FUND: F3"
   ]
  },
  {
   "cell_type": "code",
   "execution_count": null,
   "id": "87f1916e",
   "metadata": {},
   "outputs": [],
   "source": [
    "fund = 'f3'\n",
    "data = cat_obj[fund]\n",
    "print(\"Data challenges: \", list(data.data.keys()))\n",
    "print(\"Validation challenges: {}\".format(list(data.validation.challenge.values)))\n",
    "\n",
    "check_budget(data)"
   ]
  },
  {
   "cell_type": "markdown",
   "id": "9b13e63b",
   "metadata": {},
   "source": [
    "### FUND: F4"
   ]
  },
  {
   "cell_type": "code",
   "execution_count": null,
   "id": "dd82f451",
   "metadata": {},
   "outputs": [],
   "source": [
    "fund = 'f4'\n",
    "data = cat_obj[fund]\n",
    "print(\"Data challanges: \", list(data.data.keys()))\n",
    "print(\"Validation challanges: {}\".format(list(data.validation.challenge.values)))\n",
    "\n",
    "check_budget(data)"
   ]
  },
  {
   "cell_type": "markdown",
   "id": "b528fa6f",
   "metadata": {},
   "source": [
    "### FUND: F5"
   ]
  },
  {
   "cell_type": "code",
   "execution_count": null,
   "id": "00916d20",
   "metadata": {},
   "outputs": [],
   "source": [
    "fund = 'f5'\n",
    "data = cat_obj[fund]\n",
    "print(\"Data challanges: \", list(data.data.keys()))\n",
    "print(\"Validation challanges: {}\".format(list(data.validation.challenge.values)))\n",
    "\n",
    "check_budget(data)"
   ]
  },
  {
   "cell_type": "markdown",
   "id": "f4c71acf",
   "metadata": {},
   "source": [
    "### FUND: F6"
   ]
  },
  {
   "cell_type": "code",
   "execution_count": null,
   "id": "20139c8a",
   "metadata": {},
   "outputs": [],
   "source": [
    "fund = 'f6'\n",
    "data = cat_obj[fund]\n",
    "print(\"Data challanges: \", list(data.data.keys()))\n",
    "print(\"Validation challanges: {}\".format(list(data.validation.challenge.values)))\n",
    "\n",
    "check_budget(data)"
   ]
  },
  {
   "cell_type": "markdown",
   "id": "83984ed0",
   "metadata": {},
   "source": [
    "### FUND: F7"
   ]
  },
  {
   "cell_type": "code",
   "execution_count": null,
   "id": "0074c2d6",
   "metadata": {},
   "outputs": [],
   "source": [
    "fund = 'f7'\n",
    "data = cat_obj[fund]\n",
    "print(\"Data challanges: \", list(data.data.keys()))\n",
    "print(\"Validation challanges: {}\".format(list(data.validation.challenge.values)))\n",
    "\n",
    "check_budget(data)"
   ]
  },
  {
   "cell_type": "markdown",
   "id": "e9245691",
   "metadata": {},
   "source": [
    "### FUND: F8"
   ]
  },
  {
   "cell_type": "code",
   "execution_count": null,
   "id": "ee48526f",
   "metadata": {},
   "outputs": [],
   "source": [
    "fund = 'f8'\n",
    "data = cat_obj[fund]\n",
    "print(\"Data challanges: \", list(data.data.keys()))\n",
    "print(\"Validation challanges: {}\".format(list(data.validation.challenge.values)))\n",
    "\n",
    "check_budget(data)"
   ]
  },
  {
   "cell_type": "markdown",
   "id": "2b0991cc",
   "metadata": {},
   "source": [
    "# CHALLENGE'S DATA\n",
    "Information analysis from CatalystData objects"
   ]
  },
  {
   "cell_type": "code",
   "execution_count": null,
   "id": "6c3551a7",
   "metadata": {},
   "outputs": [],
   "source": [
    "DEFAULT_COLS = ['Proposal', 'SCORE', 'YES', 'NO', 'Unique Yes', 'Unique No', 'Result','STATUS','REQUESTED $', 'challenge', 'Budget']\n",
    "CURRENCY_COLS = ['YES', 'NO', 'Result']\n",
    "def print_ch(fund):\n",
    "    print(\"#CHALLANGES: {}\".format(len(cat_obj[fund].data.keys())))\n",
    "    for ch, df in cat_obj[fund].data.items():\n",
    "        print('\\nCHALLANGE: {}'.format(ch))\n",
    "        print(\"columns: {}\".format(list(df.columns)))\n",
    "        print(\"Missing defaults: {}\".format(set(DEFAULT_COLS) - set(cat_obj[fund].data[ch].columns)))\n",
    "def view_currency_cols(fund):\n",
    "    for ch, df in cat_obj[fund].data.items():\n",
    "        print('>CHALLENGE: {}'.format(ch))\n",
    "        display(df[CURRENCY_COLS].head(3))\n",
    "def print_requested(fund):\n",
    "    for ch, df in cat_obj[fund].data.items():\n",
    "        print('>CHALLENGE: {}'.format(ch))\n",
    "        display(df['REQUESTED $'].head(3))\n",
    "def display_info(fund):\n",
    "    for ch, df in cat_obj[fund].data.items():\n",
    "        print('>CHALLENGE: {}'.format(ch))\n",
    "        display(df.info())"
   ]
  },
  {
   "cell_type": "markdown",
   "id": "42bc02be",
   "metadata": {},
   "source": [
    "## ALL CHALLENGES ALL FUNDS...\n",
    "### Identify necessary features formatting"
   ]
  },
  {
   "cell_type": "markdown",
   "id": "1b307b19",
   "metadata": {},
   "source": [
    "#### Currency features format"
   ]
  },
  {
   "cell_type": "code",
   "execution_count": null,
   "id": "601ab281",
   "metadata": {},
   "outputs": [],
   "source": [
    "for fund in funds:\n",
    "    print('\\n >> FUND: {}'.format(fund))\n",
    "    view_currency_cols(fund)"
   ]
  },
  {
   "cell_type": "markdown",
   "id": "14828259",
   "metadata": {},
   "source": [
    "#### 'REQUESTED \\$' FEATURE "
   ]
  },
  {
   "cell_type": "code",
   "execution_count": null,
   "id": "ec170ef2",
   "metadata": {},
   "outputs": [],
   "source": [
    "for fund in funds:\n",
    "    print('\\n >> FUND: {}'.format(fund))\n",
    "    print_requested(fund)"
   ]
  },
  {
   "cell_type": "markdown",
   "id": "2d1ac211",
   "metadata": {},
   "source": [
    "#### Columns vs Missing default-columns"
   ]
  },
  {
   "cell_type": "code",
   "execution_count": null,
   "id": "6fe37aaa",
   "metadata": {
    "scrolled": true
   },
   "outputs": [],
   "source": [
    "for fund in funds:\n",
    "    print('\\n >> FUND: {}'.format(fund))\n",
    "    print_ch(fund)"
   ]
  },
  {
   "cell_type": "markdown",
   "id": "248793df",
   "metadata": {},
   "source": [
    "#### DataFrame.info()"
   ]
  },
  {
   "cell_type": "code",
   "execution_count": null,
   "id": "ffb58d68",
   "metadata": {},
   "outputs": [],
   "source": [
    "for fund in funds:\n",
    "    print('\\n >> FUND: {}'.format(fund))\n",
    "    display_info(fund)"
   ]
  },
  {
   "cell_type": "markdown",
   "id": "c0fdb093",
   "metadata": {},
   "source": [
    "# RESULTS DATAFRAMES"
   ]
  },
  {
   "cell_type": "code",
   "execution_count": null,
   "id": "09324b11",
   "metadata": {},
   "outputs": [],
   "source": [
    "def display_results():\n",
    "    for fund in funds:\n",
    "        print(\"\\n\\nFUND: {}\".format(fund))\n",
    "        display(cat_obj[fund].results.head(3))\n",
    "        print(cat_obj[fund].results.info())\n",
    "        print('\\n>> Unique challenges: {}'.format(list(cat_obj[fund].results.challenge.unique())))\n",
    "        print('# {}'.format(len(list(cat_obj[fund].results.challenge.unique()))))\n",
    "display_results()"
   ]
  },
  {
   "cell_type": "code",
   "execution_count": null,
   "id": "da79a4ea",
   "metadata": {},
   "outputs": [],
   "source": []
  },
  {
   "cell_type": "code",
   "execution_count": null,
   "id": "9f83178b",
   "metadata": {},
   "outputs": [],
   "source": []
  },
  {
   "cell_type": "code",
   "execution_count": null,
   "id": "946b2afb",
   "metadata": {},
   "outputs": [],
   "source": []
  },
  {
   "cell_type": "code",
   "execution_count": null,
   "id": "709116d7",
   "metadata": {},
   "outputs": [],
   "source": []
  },
  {
   "cell_type": "code",
   "execution_count": null,
   "id": "bc474b3a",
   "metadata": {},
   "outputs": [],
   "source": []
  },
  {
   "cell_type": "code",
   "execution_count": null,
   "id": "0f6346ff",
   "metadata": {},
   "outputs": [],
   "source": []
  }
 ],
 "metadata": {
  "kernelspec": {
   "display_name": "Python 3 (ipykernel)",
   "language": "python",
   "name": "python3"
  },
  "language_info": {
   "codemirror_mode": {
    "name": "ipython",
    "version": 3
   },
   "file_extension": ".py",
   "mimetype": "text/x-python",
   "name": "python",
   "nbconvert_exporter": "python",
   "pygments_lexer": "ipython3",
   "version": "3.9.7"
  }
 },
 "nbformat": 4,
 "nbformat_minor": 5
}

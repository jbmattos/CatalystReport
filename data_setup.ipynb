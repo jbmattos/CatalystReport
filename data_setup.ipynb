{
 "cells": [
  {
   "cell_type": "code",
   "execution_count": 1,
   "id": "7015c615-5a7e-41ef-ba1e-4a78aca35018",
   "metadata": {},
   "outputs": [],
   "source": [
    "import numpy as np\n",
    "import pandas as pd\n",
    "import warnings\n",
    "from catalyst_votingresults import CatalystVotingResults\n",
    "from catalyst_assessments import CatalystAssessments"
   ]
  },
  {
   "cell_type": "markdown",
   "id": "87c03e80",
   "metadata": {},
   "source": [
    "# =================\n",
    "# LOAD DATA\n",
    "## DIRECTLY FILE_PATH INFO\n",
    "# ================="
   ]
  },
  {
   "cell_type": "markdown",
   "id": "408b58ad",
   "metadata": {
    "tags": []
   },
   "source": [
    "# LOAD XLSX DATA FROM ALL FUNDS INTO < pd.ExcelFile >"
   ]
  },
  {
   "cell_type": "markdown",
   "id": "13181904",
   "metadata": {},
   "source": [
    "### ASSESSMENTS"
   ]
  },
  {
   "cell_type": "code",
   "execution_count": 4,
   "id": "860d6a37",
   "metadata": {},
   "outputs": [
    {
     "name": "stdout",
     "output_type": "stream",
     "text": [
      "Funds loaded: ['f4', 'f5', 'f6', 'f7']\n"
     ]
    }
   ],
   "source": [
    "PATH = \"/home/julianabmattos/GitRepositories/CatalystReport/data/datafiles_assessments/\"\n",
    "TYPE = \"ASSESSMENTS\"\n",
    "FUNDS_FILES = {      \n",
    "    # \"f3\": PATH+\"Fund3 Voting results.xlsx\",\n",
    "    \"f4\": PATH+\"Final_vCA Aggregated - fund4.xlsx\",\n",
    "    \"f5\": PATH+\"vCA Aggregated - Fund 5.xlsx\",\n",
    "    \"f6\": PATH+\"vCA Aggregated - Fund 6.xlsx\",\n",
    "    \"f7\": PATH+\"vCA Aggregated - Fund 7.xlsx\",\n",
    "    # \"f8\": PATH+\"vCA Aggregated - Fund 5.xlsx\"\n",
    "}\n",
    "dbs_from_xls = {}\n",
    "for f, file in FUNDS_FILES.items():\n",
    "    dbs_from_xls[f] = pd.ExcelFile(file)\n",
    "print('Funds loaded: {}'.format(list(dbs_from_xls.keys())))"
   ]
  },
  {
   "cell_type": "markdown",
   "id": "5dedaca1",
   "metadata": {},
   "source": [
    "### VOTING RESULTS"
   ]
  },
  {
   "cell_type": "code",
   "execution_count": null,
   "id": "fe18e4b0",
   "metadata": {},
   "outputs": [],
   "source": [
    "# path = \"/home/julianabmattos/GitRepositories/CatalystReport/data/datafiles_votingresults/\"\n",
    "# TYPE = \"VOTING RESULTS\"\n",
    "# funds = ['f3','f4','f5','f6','f7','f8']\n",
    "# files = [\"Fund3 Voting results.xlsx\",\n",
    "#          \"Fund4 Voting results.xlsx\",\n",
    "#          \"Fund5 Voting results.xlsx\",\n",
    "#          \"Fund6 Voting results.xlsx\",\n",
    "#          \"Fund7 Voting results.xlsx\",\n",
    "#          \"Fund8 Voting results.xlsx\"]\n",
    "# dbs_from_xls = {}\n",
    "# for f, file in zip(funds, files):\n",
    "#     dbs_from_xls[f] = pd.ExcelFile(path+file)\n",
    "# print('Funds loaded: {}'.format(list(dbs_from_xls.keys())))"
   ]
  },
  {
   "cell_type": "markdown",
   "id": "3c15d43b-3208-4044-aa9c-94eccc757f80",
   "metadata": {},
   "source": [
    "## SHEETS NAMES"
   ]
  },
  {
   "cell_type": "code",
   "execution_count": 5,
   "id": "24ff280b-bf4a-4178-9d16-95cc746ee42e",
   "metadata": {
    "scrolled": true
   },
   "outputs": [
    {
     "name": "stdout",
     "output_type": "stream",
     "text": [
      "Data source: ASSESSMENTS\n",
      "Sheets by fund:\n",
      "\n",
      "f4: ['Aggregated', 'Valid Assessments', 'Excluded Assessments', 'Excluded assessors', 'vCA Master File Fund 4-Niek Sja', 'vCA Master File Fund 4 - Piesar', 'Copy of vCA Master File Fund 4 ', 'vCA Master File Fund 4 - Seroto', 'vCA Master File Fund 4 - Filip', 'Sheet2', 'vCA Master File Fund 4 - Heinz ', 'Sheet3', 'vCA Master File Fund 4 - Vladim', 'vCA Master File Fund 4 - Rodrig', 'vCA Master File Fund 4 - Lucio', 'vCA Master File Fund 4 Rene Met', 'vCA Master File Fund 4 - Simon ', 'vCA Master File Fund 4 - Vi2zz4', 'vCA Master File Fund 4 - Ilija ', 'vCA-Fund 4-RaghuRam', 'vCA Master File Fund 4 - Danny', 'vCA Master File Fund 4 - Victor', 'vCA Master File Fund 4_stachowi', 'vCA Master File Fund 4 - 2072 A']\n",
      "# 24\n",
      "\n",
      "f5: ['Sheet1', 'Valid Assessments', 'Community Advisors', 'Excluded Assessments', 'Veteran Community Advisors', 'Proposals']\n",
      "# 6\n",
      "\n",
      "f6: ['Instructions', 'Aggregated', 'Valid Assessments', 'Proposals scores', 'Excluded Assessments', 'Veteran Community Advisors', 'vCA Aggregated']\n",
      "# 7\n",
      "\n",
      "f7: ['Instructions', 'Aggregated', 'Valid Assessments (excluding Na', 'Valid Assessments (F7 Catalyst ', 'Proposals scores', 'Excluded Assessments', 'Veteran Community Advisors', 'vCA Aggregated', 'Withdrawals prior voting']\n",
      "# 9\n",
      "\n"
     ]
    }
   ],
   "source": [
    "sheets = {}\n",
    "print(\"Data source: {}\".format(TYPE))\n",
    "print('Sheets by fund:\\n')\n",
    "for f, xls in dbs_from_xls.items():\n",
    "    sheets[f] = list(dbs_from_xls[f].sheet_names)\n",
    "    print(\"{}: {}\".format(f, sheets[f]))\n",
    "    print('#',len(sheets[f]))\n",
    "    print()"
   ]
  },
  {
   "cell_type": "code",
   "execution_count": 11,
   "id": "b7e3d6eb",
   "metadata": {},
   "outputs": [
    {
     "data": {
      "text/html": [
       "<div>\n",
       "<style scoped>\n",
       "    .dataframe tbody tr th:only-of-type {\n",
       "        vertical-align: middle;\n",
       "    }\n",
       "\n",
       "    .dataframe tbody tr th {\n",
       "        vertical-align: top;\n",
       "    }\n",
       "\n",
       "    .dataframe thead th {\n",
       "        text-align: right;\n",
       "    }\n",
       "</style>\n",
       "<table border=\"1\" class=\"dataframe\">\n",
       "  <thead>\n",
       "    <tr style=\"text-align: right;\">\n",
       "      <th></th>\n",
       "      <th>id</th>\n",
       "      <th>Idea Title</th>\n",
       "      <th>Challenge</th>\n",
       "      <th>proposal_id</th>\n",
       "      <th>Idea URL</th>\n",
       "      <th>Assessor</th>\n",
       "      <th>Impact / Alignment Note</th>\n",
       "      <th>Impact / Alignment Rating</th>\n",
       "      <th>Feasibility Note</th>\n",
       "      <th>Feasibility Rating</th>\n",
       "      <th>Auditability Note</th>\n",
       "      <th>Auditability Rating</th>\n",
       "      <th>Excellent</th>\n",
       "      <th>Good</th>\n",
       "    </tr>\n",
       "  </thead>\n",
       "  <tbody>\n",
       "    <tr>\n",
       "      <th>0</th>\n",
       "      <td>2</td>\n",
       "      <td>Cardano Caravan for Advisors</td>\n",
       "      <td>F7: Miscellaneous Challenge</td>\n",
       "      <td>385168</td>\n",
       "      <td>https://app.ideascale.com/t/UM5UZBrgO</td>\n",
       "      <td>z_assessor_1000</td>\n",
       "      <td>The proposal is in the miscellaneous category ...</td>\n",
       "      <td>5</td>\n",
       "      <td>The team behind this proposal are well known g...</td>\n",
       "      <td>3</td>\n",
       "      <td>The combination of the team behind the proposa...</td>\n",
       "      <td>5</td>\n",
       "      <td>NaN</td>\n",
       "      <td>x</td>\n",
       "    </tr>\n",
       "    <tr>\n",
       "      <th>1</th>\n",
       "      <td>4</td>\n",
       "      <td>Virtual Portal: Decentralized Place</td>\n",
       "      <td>F7: Gamers On-Chained</td>\n",
       "      <td>385173</td>\n",
       "      <td>https://app.ideascale.com/t/UM5UZBrgT</td>\n",
       "      <td>z_assessor_1002</td>\n",
       "      <td>I think this proposal not much addresses the c...</td>\n",
       "      <td>3</td>\n",
       "      <td>This proposal miss the plan and how it can be ...</td>\n",
       "      <td>1</td>\n",
       "      <td>No, this proposal only shows the main problem ...</td>\n",
       "      <td>2</td>\n",
       "      <td>NaN</td>\n",
       "      <td>x</td>\n",
       "    </tr>\n",
       "    <tr>\n",
       "      <th>2</th>\n",
       "      <td>5</td>\n",
       "      <td>Outreach Campaign</td>\n",
       "      <td>F7: Miscellaneous Challenge</td>\n",
       "      <td>385181</td>\n",
       "      <td>https://app.ideascale.com/t/UM5UZBrgc</td>\n",
       "      <td>z_assessor_1003</td>\n",
       "      <td>I do agree that because a challenge setting fo...</td>\n",
       "      <td>5</td>\n",
       "      <td>From the plan put forward by the proposer I do...</td>\n",
       "      <td>4</td>\n",
       "      <td>For the most part yes, this project promises t...</td>\n",
       "      <td>4</td>\n",
       "      <td>x</td>\n",
       "      <td>NaN</td>\n",
       "    </tr>\n",
       "    <tr>\n",
       "      <th>3</th>\n",
       "      <td>6</td>\n",
       "      <td>Mission driven and Accountable!</td>\n",
       "      <td>F7: Global Sustainable Indep. SPO's</td>\n",
       "      <td>385189</td>\n",
       "      <td>https://app.ideascale.com/t/UM5UZBrgk</td>\n",
       "      <td>z_assessor_1003</td>\n",
       "      <td>I think the proposal overall meets the challen...</td>\n",
       "      <td>5</td>\n",
       "      <td>For the amount of Ada requested, and the early...</td>\n",
       "      <td>5</td>\n",
       "      <td>I feel that more could be elaborated on for pr...</td>\n",
       "      <td>3</td>\n",
       "      <td>x</td>\n",
       "      <td>NaN</td>\n",
       "    </tr>\n",
       "    <tr>\n",
       "      <th>4</th>\n",
       "      <td>8</td>\n",
       "      <td>Milkomeda Accelerator</td>\n",
       "      <td>F7: Catalyst Accelerator &amp; Mentors</td>\n",
       "      <td>385196</td>\n",
       "      <td>https://app.ideascale.com/t/UM5UZBrgr</td>\n",
       "      <td>z_assessor_1005</td>\n",
       "      <td>This proposal aligns well with the category an...</td>\n",
       "      <td>5</td>\n",
       "      <td>The dcSpark team has a consistent track record...</td>\n",
       "      <td>5</td>\n",
       "      <td>More information specific to their overall imp...</td>\n",
       "      <td>4</td>\n",
       "      <td>NaN</td>\n",
       "      <td>x</td>\n",
       "    </tr>\n",
       "    <tr>\n",
       "      <th>...</th>\n",
       "      <td>...</td>\n",
       "      <td>...</td>\n",
       "      <td>...</td>\n",
       "      <td>...</td>\n",
       "      <td>...</td>\n",
       "      <td>...</td>\n",
       "      <td>...</td>\n",
       "      <td>...</td>\n",
       "      <td>...</td>\n",
       "      <td>...</td>\n",
       "      <td>...</td>\n",
       "      <td>...</td>\n",
       "      <td>...</td>\n",
       "      <td>...</td>\n",
       "    </tr>\n",
       "    <tr>\n",
       "      <th>4974</th>\n",
       "      <td>10318</td>\n",
       "      <td>Game Asset Management - [Revelar]</td>\n",
       "      <td>F7: Gamers On-Chained</td>\n",
       "      <td>383911</td>\n",
       "      <td>https://cardano.ideascale.com/a/dtd/383911-48088</td>\n",
       "      <td>z_assessor_298</td>\n",
       "      <td>The idea of having one place to manage all gam...</td>\n",
       "      <td>5</td>\n",
       "      <td>There are 6 people already committed in the te...</td>\n",
       "      <td>5</td>\n",
       "      <td>There are good time-framed KPIs with already d...</td>\n",
       "      <td>5</td>\n",
       "      <td>NaN</td>\n",
       "      <td>x</td>\n",
       "    </tr>\n",
       "    <tr>\n",
       "      <th>4975</th>\n",
       "      <td>10319</td>\n",
       "      <td>Game Asset Management - [Revelar]</td>\n",
       "      <td>F7: Gamers On-Chained</td>\n",
       "      <td>383911</td>\n",
       "      <td>https://cardano.ideascale.com/a/dtd/383911-48088</td>\n",
       "      <td>z_assessor_67</td>\n",
       "      <td>Such a UI sounds valuable for the Cardano gami...</td>\n",
       "      <td>5</td>\n",
       "      <td>More technical details would be appreciated to...</td>\n",
       "      <td>3</td>\n",
       "      <td>use of funds, deliverables, measurables, and t...</td>\n",
       "      <td>5</td>\n",
       "      <td>NaN</td>\n",
       "      <td>x</td>\n",
       "    </tr>\n",
       "    <tr>\n",
       "      <th>4976</th>\n",
       "      <td>10320</td>\n",
       "      <td>Open Data Public Notary</td>\n",
       "      <td>F7: Nation Building Dapps</td>\n",
       "      <td>385029</td>\n",
       "      <td>https://cardano.ideascale.com/a/dtd/385029-48088</td>\n",
       "      <td>z_assessor_20</td>\n",
       "      <td>Building a public notary tool on the Cardano B...</td>\n",
       "      <td>5</td>\n",
       "      <td>The team has provided all the necessary inform...</td>\n",
       "      <td>5</td>\n",
       "      <td>The budget is very well detailed, the delivera...</td>\n",
       "      <td>4</td>\n",
       "      <td>NaN</td>\n",
       "      <td>x</td>\n",
       "    </tr>\n",
       "    <tr>\n",
       "      <th>4977</th>\n",
       "      <td>10321</td>\n",
       "      <td>Game Asset Minting Logic [Revelar]</td>\n",
       "      <td>F7: Gamers On-Chained</td>\n",
       "      <td>383920</td>\n",
       "      <td>https://cardano.ideascale.com/a/dtd/383920-48088</td>\n",
       "      <td>z_assessor_460</td>\n",
       "      <td>\\nThe problem needing to be solved has been id...</td>\n",
       "      <td>5</td>\n",
       "      <td>\\nThe proposer has  provided evidence of relev...</td>\n",
       "      <td>4</td>\n",
       "      <td>\\nIs there clearly laid out a roadmap with mil...</td>\n",
       "      <td>5</td>\n",
       "      <td>NaN</td>\n",
       "      <td>x</td>\n",
       "    </tr>\n",
       "    <tr>\n",
       "      <th>4978</th>\n",
       "      <td>10322</td>\n",
       "      <td>Game Asset Management - [Revelar]</td>\n",
       "      <td>F7: Gamers On-Chained</td>\n",
       "      <td>383911</td>\n",
       "      <td>https://cardano.ideascale.com/a/dtd/383911-48088</td>\n",
       "      <td>z_assessor_546</td>\n",
       "      <td>There are 15 minutes to go for the flash asses...</td>\n",
       "      <td>5</td>\n",
       "      <td>The team has added a lot of details about the ...</td>\n",
       "      <td>5</td>\n",
       "      <td>We have a timeline with goals for 3, 6 and 12 ...</td>\n",
       "      <td>5</td>\n",
       "      <td>NaN</td>\n",
       "      <td>x</td>\n",
       "    </tr>\n",
       "  </tbody>\n",
       "</table>\n",
       "<p>4979 rows × 14 columns</p>\n",
       "</div>"
      ],
      "text/plain": [
       "         id                           Idea Title  \\\n",
       "0         2         Cardano Caravan for Advisors   \n",
       "1         4  Virtual Portal: Decentralized Place   \n",
       "2         5                    Outreach Campaign   \n",
       "3         6      Mission driven and Accountable!   \n",
       "4         8                Milkomeda Accelerator   \n",
       "...     ...                                  ...   \n",
       "4974  10318    Game Asset Management - [Revelar]   \n",
       "4975  10319    Game Asset Management - [Revelar]   \n",
       "4976  10320              Open Data Public Notary   \n",
       "4977  10321   Game Asset Minting Logic [Revelar]   \n",
       "4978  10322    Game Asset Management - [Revelar]   \n",
       "\n",
       "                                Challenge  proposal_id  \\\n",
       "0             F7: Miscellaneous Challenge       385168   \n",
       "1                   F7: Gamers On-Chained       385173   \n",
       "2             F7: Miscellaneous Challenge       385181   \n",
       "3     F7: Global Sustainable Indep. SPO's       385189   \n",
       "4      F7: Catalyst Accelerator & Mentors       385196   \n",
       "...                                   ...          ...   \n",
       "4974                F7: Gamers On-Chained       383911   \n",
       "4975                F7: Gamers On-Chained       383911   \n",
       "4976            F7: Nation Building Dapps       385029   \n",
       "4977                F7: Gamers On-Chained       383920   \n",
       "4978                F7: Gamers On-Chained       383911   \n",
       "\n",
       "                                              Idea URL         Assessor  \\\n",
       "0                https://app.ideascale.com/t/UM5UZBrgO  z_assessor_1000   \n",
       "1                https://app.ideascale.com/t/UM5UZBrgT  z_assessor_1002   \n",
       "2                https://app.ideascale.com/t/UM5UZBrgc  z_assessor_1003   \n",
       "3                https://app.ideascale.com/t/UM5UZBrgk  z_assessor_1003   \n",
       "4                https://app.ideascale.com/t/UM5UZBrgr  z_assessor_1005   \n",
       "...                                                ...              ...   \n",
       "4974  https://cardano.ideascale.com/a/dtd/383911-48088   z_assessor_298   \n",
       "4975  https://cardano.ideascale.com/a/dtd/383911-48088    z_assessor_67   \n",
       "4976  https://cardano.ideascale.com/a/dtd/385029-48088    z_assessor_20   \n",
       "4977  https://cardano.ideascale.com/a/dtd/383920-48088   z_assessor_460   \n",
       "4978  https://cardano.ideascale.com/a/dtd/383911-48088   z_assessor_546   \n",
       "\n",
       "                                Impact / Alignment Note  \\\n",
       "0     The proposal is in the miscellaneous category ...   \n",
       "1     I think this proposal not much addresses the c...   \n",
       "2     I do agree that because a challenge setting fo...   \n",
       "3     I think the proposal overall meets the challen...   \n",
       "4     This proposal aligns well with the category an...   \n",
       "...                                                 ...   \n",
       "4974  The idea of having one place to manage all gam...   \n",
       "4975  Such a UI sounds valuable for the Cardano gami...   \n",
       "4976  Building a public notary tool on the Cardano B...   \n",
       "4977  \\nThe problem needing to be solved has been id...   \n",
       "4978  There are 15 minutes to go for the flash asses...   \n",
       "\n",
       "      Impact / Alignment Rating  \\\n",
       "0                             5   \n",
       "1                             3   \n",
       "2                             5   \n",
       "3                             5   \n",
       "4                             5   \n",
       "...                         ...   \n",
       "4974                          5   \n",
       "4975                          5   \n",
       "4976                          5   \n",
       "4977                          5   \n",
       "4978                          5   \n",
       "\n",
       "                                       Feasibility Note  Feasibility Rating  \\\n",
       "0     The team behind this proposal are well known g...                   3   \n",
       "1     This proposal miss the plan and how it can be ...                   1   \n",
       "2     From the plan put forward by the proposer I do...                   4   \n",
       "3     For the amount of Ada requested, and the early...                   5   \n",
       "4     The dcSpark team has a consistent track record...                   5   \n",
       "...                                                 ...                 ...   \n",
       "4974  There are 6 people already committed in the te...                   5   \n",
       "4975  More technical details would be appreciated to...                   3   \n",
       "4976  The team has provided all the necessary inform...                   5   \n",
       "4977  \\nThe proposer has  provided evidence of relev...                   4   \n",
       "4978  The team has added a lot of details about the ...                   5   \n",
       "\n",
       "                                      Auditability Note  Auditability Rating  \\\n",
       "0     The combination of the team behind the proposa...                    5   \n",
       "1     No, this proposal only shows the main problem ...                    2   \n",
       "2     For the most part yes, this project promises t...                    4   \n",
       "3     I feel that more could be elaborated on for pr...                    3   \n",
       "4     More information specific to their overall imp...                    4   \n",
       "...                                                 ...                  ...   \n",
       "4974  There are good time-framed KPIs with already d...                    5   \n",
       "4975  use of funds, deliverables, measurables, and t...                    5   \n",
       "4976  The budget is very well detailed, the delivera...                    4   \n",
       "4977  \\nIs there clearly laid out a roadmap with mil...                    5   \n",
       "4978  We have a timeline with goals for 3, 6 and 12 ...                    5   \n",
       "\n",
       "     Excellent Good  \n",
       "0          NaN    x  \n",
       "1          NaN    x  \n",
       "2            x  NaN  \n",
       "3            x  NaN  \n",
       "4          NaN    x  \n",
       "...        ...  ...  \n",
       "4974       NaN    x  \n",
       "4975       NaN    x  \n",
       "4976       NaN    x  \n",
       "4977       NaN    x  \n",
       "4978       NaN    x  \n",
       "\n",
       "[4979 rows x 14 columns]"
      ]
     },
     "execution_count": 11,
     "metadata": {},
     "output_type": "execute_result"
    }
   ],
   "source": [
    "dbs_from_xls['f7'].parse(sheet_name='Valid Assessments (excluding Na')"
   ]
  },
  {
   "cell_type": "markdown",
   "id": "ee1cc60d",
   "metadata": {},
   "source": [
    "# ====================\n",
    "#    ASSESSMENTS DEV\n",
    "# ===================="
   ]
  },
  {
   "cell_type": "code",
   "execution_count": null,
   "id": "b5ae3edb",
   "metadata": {},
   "outputs": [],
   "source": [
    "fass6 = CatalystAssessments('f6')\n",
    "\n",
    "fass6.data['assessments'].head().info()"
   ]
  },
  {
   "cell_type": "code",
   "execution_count": null,
   "id": "6955c448",
   "metadata": {
    "scrolled": true
   },
   "outputs": [],
   "source": [
    "f='f6'\n",
    "df = dbs_from_xls[f].parse(sheet_name='vCA Aggregated')\n",
    "display(df.info())\n",
    "df.head(3)"
   ]
  },
  {
   "cell_type": "code",
   "execution_count": null,
   "id": "fc928449",
   "metadata": {},
   "outputs": [],
   "source": [
    "f='f7'\n",
    "df = dbs_from_xls[f].parse(sheet_name='vCA Aggregated')\n",
    "display(df.info())\n",
    "df.head(3)"
   ]
  },
  {
   "cell_type": "code",
   "execution_count": null,
   "id": "8cff6d97",
   "metadata": {},
   "outputs": [],
   "source": [
    "fass7 = CatalystAssessments('f7')\n",
    "\n",
    "fass7.data['assessments'].head().info()"
   ]
  },
  {
   "cell_type": "code",
   "execution_count": null,
   "id": "f1d1c30e",
   "metadata": {},
   "outputs": [],
   "source": []
  },
  {
   "cell_type": "code",
   "execution_count": 2,
   "id": "9dc4fd98",
   "metadata": {},
   "outputs": [
    {
     "name": "stdout",
     "output_type": "stream",
     "text": [
      "<class 'pandas.core.frame.DataFrame'>\n",
      "RangeIndex: 5 entries, 0 to 4\n",
      "Data columns (total 9 columns):\n",
      " #   Column                 Non-Null Count  Dtype  \n",
      "---  ------                 --------------  -----  \n",
      " 0   assessor               5 non-null      object \n",
      " 1   total                  5 non-null      int64  \n",
      " 2   blanks                 5 non-null      int64  \n",
      " 3   blankPercentage        5 non-null      object \n",
      " 4   excluded               5 non-null      bool   \n",
      " 5   Yellow Card            5 non-null      int64  \n",
      " 6   Red Card               5 non-null      int64  \n",
      " 7   Constructive Feedback  4 non-null      float64\n",
      " 8   note                   1 non-null      object \n",
      "dtypes: bool(1), float64(1), int64(4), object(3)\n",
      "memory usage: 453.0+ bytes\n"
     ]
    }
   ],
   "source": [
    "fass5 = CatalystAssessments('f5')\n",
    "\n",
    "fass5.data['CAs'].head().info()"
   ]
  },
  {
   "cell_type": "code",
   "execution_count": 3,
   "id": "95451725",
   "metadata": {},
   "outputs": [
    {
     "data": {
      "text/html": [
       "<div>\n",
       "<style scoped>\n",
       "    .dataframe tbody tr th:only-of-type {\n",
       "        vertical-align: middle;\n",
       "    }\n",
       "\n",
       "    .dataframe tbody tr th {\n",
       "        vertical-align: top;\n",
       "    }\n",
       "\n",
       "    .dataframe thead th {\n",
       "        text-align: right;\n",
       "    }\n",
       "</style>\n",
       "<table border=\"1\" class=\"dataframe\">\n",
       "  <thead>\n",
       "    <tr style=\"text-align: right;\">\n",
       "      <th></th>\n",
       "      <th>assessor</th>\n",
       "      <th>total</th>\n",
       "      <th>blanks</th>\n",
       "      <th>blankPercentage</th>\n",
       "      <th>excluded</th>\n",
       "      <th>Yellow Card</th>\n",
       "      <th>Red Card</th>\n",
       "      <th>Constructive Feedback</th>\n",
       "      <th>note</th>\n",
       "    </tr>\n",
       "  </thead>\n",
       "  <tbody>\n",
       "    <tr>\n",
       "      <th>0</th>\n",
       "      <td>z_assessor_1</td>\n",
       "      <td>6</td>\n",
       "      <td>0</td>\n",
       "      <td>.%</td>\n",
       "      <td>False</td>\n",
       "      <td>2</td>\n",
       "      <td>0</td>\n",
       "      <td>12.0</td>\n",
       "      <td>NaN</td>\n",
       "    </tr>\n",
       "    <tr>\n",
       "      <th>1</th>\n",
       "      <td>z_assessor_10</td>\n",
       "      <td>813</td>\n",
       "      <td>763</td>\n",
       "      <td>93.85%</td>\n",
       "      <td>True</td>\n",
       "      <td>0</td>\n",
       "      <td>0</td>\n",
       "      <td>NaN</td>\n",
       "      <td>proposers or coproposers</td>\n",
       "    </tr>\n",
       "    <tr>\n",
       "      <th>2</th>\n",
       "      <td>z_assessor_100</td>\n",
       "      <td>15</td>\n",
       "      <td>0</td>\n",
       "      <td>.%</td>\n",
       "      <td>False</td>\n",
       "      <td>6</td>\n",
       "      <td>0</td>\n",
       "      <td>2.0</td>\n",
       "      <td>NaN</td>\n",
       "    </tr>\n",
       "  </tbody>\n",
       "</table>\n",
       "</div>"
      ],
      "text/plain": [
       "         assessor  total  blanks blankPercentage  excluded  Yellow Card  \\\n",
       "0    z_assessor_1      6       0              .%     False            2   \n",
       "1   z_assessor_10    813     763          93.85%      True            0   \n",
       "2  z_assessor_100     15       0              .%     False            6   \n",
       "\n",
       "   Red Card  Constructive Feedback                      note  \n",
       "0         0                   12.0                       NaN  \n",
       "1         0                    NaN  proposers or coproposers  \n",
       "2         0                    2.0                       NaN  "
      ]
     },
     "execution_count": 3,
     "metadata": {},
     "output_type": "execute_result"
    }
   ],
   "source": [
    "fass5.data['CAs'].head(3)"
   ]
  },
  {
   "cell_type": "markdown",
   "id": "026ca0f8",
   "metadata": {},
   "source": [
    "# ====================\n",
    "# VOTING RESULTS DEV\n",
    "# ===================="
   ]
  },
  {
   "cell_type": "markdown",
   "id": "2f5b96e9-e22c-4c4e-acd7-72924613264b",
   "metadata": {},
   "source": [
    "# VALIDATION DATAFRAME"
   ]
  },
  {
   "cell_type": "markdown",
   "id": "f0187e0a",
   "metadata": {},
   "source": [
    "## RAW VALIDATION DATA"
   ]
  },
  {
   "cell_type": "code",
   "execution_count": null,
   "id": "4ee51dcb-d0ad-474a-9b79-38e86e0c7aba",
   "metadata": {},
   "outputs": [],
   "source": [
    "data_xls = {}\n",
    "for fund in funds:\n",
    "\n",
    "    if 'validation' in sheets[f]:\n",
    "        df_valid = dbs_from_xls[f].parse(sheet_name='validation')\n",
    "    elif 'Validation' in sheets[f]:\n",
    "        df_valid = dbs_from_xls[f].parse(sheet_name='Validation')\n",
    "    else:\n",
    "        df_valid = None\n",
    "\n",
    "    print(\">> FUND: {}\".format(fund))\n",
    "    print('Challenges/sheets: {}'.format(list(sheets[f])))\n",
    "    print('#Challenges/sheets: {}'.format(len(list(sheets[f]))))\n",
    "    print('Validation df:')\n",
    "    display(df_valid)"
   ]
  },
  {
   "cell_type": "markdown",
   "id": "f756ddee-98de-420d-8bf1-c03967fe71eb",
   "metadata": {},
   "source": [
    "## VALIDATION DF SETUP: CATALYST-RESULTS OBJECTS\n",
    "df format: pd.DataFrames.columns = [challanges, budget]\\\n",
    "**All formatted validation dfs from f3-f8 match the data online**"
   ]
  },
  {
   "cell_type": "code",
   "execution_count": null,
   "id": "d0e25ca8-c120-4984-b69b-0f938aaad9a1",
   "metadata": {},
   "outputs": [],
   "source": [
    "VALIDATION_COLS = ['challange', 'budget']\n",
    "def __default_setup(df:pd.DataFrame) -> pd.DataFrame:\n",
    "    df.columns = VALIDATION_COLS\n",
    "    df.dropna(subset=['challange'],inplace=True)\n",
    "    df.reset_index(drop=True, inplace=True)\n",
    "    df['budget'] = df['budget'].astype(int)\n",
    "    return df"
   ]
  },
  {
   "cell_type": "markdown",
   "id": "3f194d6b-f298-40b4-afbe-5dcacd446b44",
   "metadata": {},
   "source": [
    "### FUND: F3"
   ]
  },
  {
   "cell_type": "code",
   "execution_count": null,
   "id": "52bca85c-783f-4ad4-a971-5b40a08369eb",
   "metadata": {},
   "outputs": [],
   "source": [
    "fund = 'f3'\n",
    "print('#Raw Challenges/sheets (validation/withdraws included): {}\\n'.format(len(list(sheets[fund]))))\n",
    "df = CatalystVotingResults(fund).validation.copy()\n",
    "\n",
    "# df = df.iloc[:-1].copy()\n",
    "# func_format = lambda s: s.split('(')[1].split(')')[0] if isinstance(s, str) else s\n",
    "# df.iloc[:,0] = df.iloc[:,0].map(func_format)\n",
    "# df = __default_setup(df)\n",
    "\n",
    "display(df)\n",
    "df.info()"
   ]
  },
  {
   "cell_type": "markdown",
   "id": "58f8a6d4-763f-4bfd-b2e1-97a27b717412",
   "metadata": {},
   "source": [
    "### FUND: F4"
   ]
  },
  {
   "cell_type": "code",
   "execution_count": null,
   "id": "7cbcf853-de89-442e-a8ea-4eeea416d845",
   "metadata": {},
   "outputs": [],
   "source": [
    "fund = 'f4'\n",
    "print('#Raw Challenges/sheets (validation/withdraws included): {}\\n'.format(len(list(sheets[fund]))))\n",
    "df = CatalystVotingResults(fund).validation.copy()\n",
    "\n",
    "# func_format = lambda s: s.split('(')[1].split(')')[0] if isinstance(s, str) else s\n",
    "# df.iloc[9:16,0] = df.iloc[9:16,0].map(func_format)\n",
    "# df = __default_setup(df)\n",
    "\n",
    "display(df)\n",
    "df.info()"
   ]
  },
  {
   "cell_type": "markdown",
   "id": "7f681464-eca8-48be-98b3-a47fc53eb546",
   "metadata": {},
   "source": [
    "### FUND: F5"
   ]
  },
  {
   "cell_type": "code",
   "execution_count": null,
   "id": "98107213-c3f6-408c-991c-a4b07b6db835",
   "metadata": {},
   "outputs": [],
   "source": [
    "fund = 'f5'\n",
    "print('#Raw Challenges/sheets (validation/withdraws included): {}\\n'.format(len(list(sheets[fund]))))\n",
    "df = CatalystVotingResults(fund).validation.copy()\n",
    "\n",
    "# func_format = lambda s: s.split('(')[1].split(')')[0] if isinstance(s, str) else s\n",
    "# df.iloc[9:18,0] = df.iloc[9:18,0].map(func_format)\n",
    "# df = __default_setup(df)\n",
    "\n",
    "display(df)\n",
    "df.info()"
   ]
  },
  {
   "cell_type": "markdown",
   "id": "7d83bac9-5658-429c-8ebc-82519860618b",
   "metadata": {},
   "source": [
    "### FUND: F6"
   ]
  },
  {
   "cell_type": "code",
   "execution_count": null,
   "id": "7ee1d47a-feb0-4027-8a87-e5b6ebb97013",
   "metadata": {},
   "outputs": [],
   "source": [
    "fund = 'f6'\n",
    "print('#Raw Challenges/sheets (validation/withdraws included): {}\\n'.format(len(list(sheets[fund]))))\n",
    "df = get_catalyst_data(fund).validation.copy()\n",
    "\n",
    "# df = df.iloc[:-2].copy()\n",
    "# df.drop(columns='Fund size:', inplace=True)\n",
    "# df = __default_setup(df)\n",
    "\n",
    "display(df)\n",
    "df.info()"
   ]
  },
  {
   "cell_type": "markdown",
   "id": "71e4ea6e-3a1c-4380-9c8d-ac7877b4bfb3",
   "metadata": {},
   "source": [
    "### FUND: F7"
   ]
  },
  {
   "cell_type": "code",
   "execution_count": null,
   "id": "d4777f9d-4649-4d73-a8c8-bea3f2db9a4f",
   "metadata": {},
   "outputs": [],
   "source": [
    "fund = 'f7'\n",
    "print('#Raw Challenges/sheets (validation/withdraws included): {}\\n'.format(len(list(sheets[fund]))))\n",
    "df = get_catalyst_data(fund).validation.copy()\n",
    "\n",
    "# df.drop(columns=['Fund size:','Unnamed: 3'],inplace=True)\n",
    "# df = __default_setup(df)\n",
    "\n",
    "display(df)\n",
    "df.info()"
   ]
  },
  {
   "cell_type": "markdown",
   "id": "c5419ebf-8d9d-4f1c-b524-71ffd0587a6f",
   "metadata": {},
   "source": [
    "### FUND: F8"
   ]
  },
  {
   "cell_type": "code",
   "execution_count": null,
   "id": "6907d1f6-51f0-4fb7-a254-49214555833a",
   "metadata": {},
   "outputs": [],
   "source": [
    "fund = 'f8'\n",
    "print('#Raw Challenges/sheets (validation/withdraws included): {}\\n'.format(len(list(sheets[fund]))))\n",
    "df = get_catalyst_data(fund).validation.copy()\n",
    "\n",
    "# df.drop(columns=['Fund size:'],inplace=True)\n",
    "# df = __default_setup(df)\n",
    "\n",
    "display(df)\n",
    "df.info()"
   ]
  },
  {
   "cell_type": "markdown",
   "id": "7f0aa287",
   "metadata": {},
   "source": [
    "### OVEFRVIEW ON CATALYST-RESULTS OBJS"
   ]
  },
  {
   "cell_type": "code",
   "execution_count": null,
   "id": "f35ee225",
   "metadata": {},
   "outputs": [],
   "source": [
    "cat_obj = {} # to store CatalystData objects\n",
    "for fund in funds:\n",
    "    cat_obj[fund] = get_catalyst_data(fund)\n",
    "    \n",
    "    print('\\nFUND: {}'.format(fund))\n",
    "    print(\"#CHALLANGES: {}\".format(len(list(cat_obj[fund].data.keys()))))\n",
    "    print(\"#CHALLANGES: {}\".format(list(cat_obj[fund].data.keys())))\n",
    "    print(\"VALIDATION: {}\".format(type(cat_obj[fund].validation)))\n",
    "    print(\"WITHDRAWALS: {}\".format(type(cat_obj[fund].withdrawals)))"
   ]
  },
  {
   "cell_type": "markdown",
   "id": "24ea7a31",
   "metadata": {},
   "source": [
    "# INPUT CHALLANGE NAME & BUDGET:\n",
    "## Identification of inconsistent Challenge's name between DataFrame-key and Validation\n",
    "Inconsistent names where inputed to a mapping dictionary"
   ]
  },
  {
   "cell_type": "code",
   "execution_count": null,
   "id": "499eb972",
   "metadata": {},
   "outputs": [],
   "source": [
    "def check_budget(data):\n",
    "    print('\\n EXTRACTED BUDGETS:')\n",
    "    for ch in data.data.keys():\n",
    "        print('>> Challenge: {}'.format(ch))\n",
    "        try:\n",
    "            bud = data.validation.loc[data.validation.challenge==ch]['budget'].item()\n",
    "        except:\n",
    "            bud = np.nan\n",
    "        print('budget: ', bud)\n",
    "                          \n",
    "    display(data.validation)\n",
    "    return"
   ]
  },
  {
   "cell_type": "markdown",
   "id": "b449cd22",
   "metadata": {},
   "source": [
    "### FUND: F3"
   ]
  },
  {
   "cell_type": "code",
   "execution_count": null,
   "id": "87f1916e",
   "metadata": {},
   "outputs": [],
   "source": [
    "fund = 'f3'\n",
    "data = cat_obj[fund]\n",
    "print(\"Data challenges: \", list(data.data.keys()))\n",
    "print(\"Validation challenges: {}\".format(list(data.validation.challenge.values)))\n",
    "\n",
    "check_budget(data)"
   ]
  },
  {
   "cell_type": "markdown",
   "id": "9b13e63b",
   "metadata": {},
   "source": [
    "### FUND: F4"
   ]
  },
  {
   "cell_type": "code",
   "execution_count": null,
   "id": "dd82f451",
   "metadata": {},
   "outputs": [],
   "source": [
    "fund = 'f4'\n",
    "data = cat_obj[fund]\n",
    "print(\"Data challanges: \", list(data.data.keys()))\n",
    "print(\"Validation challanges: {}\".format(list(data.validation.challenge.values)))\n",
    "\n",
    "check_budget(data)"
   ]
  },
  {
   "cell_type": "markdown",
   "id": "b528fa6f",
   "metadata": {},
   "source": [
    "### FUND: F5"
   ]
  },
  {
   "cell_type": "code",
   "execution_count": null,
   "id": "00916d20",
   "metadata": {},
   "outputs": [],
   "source": [
    "fund = 'f5'\n",
    "data = cat_obj[fund]\n",
    "print(\"Data challanges: \", list(data.data.keys()))\n",
    "print(\"Validation challanges: {}\".format(list(data.validation.challenge.values)))\n",
    "\n",
    "check_budget(data)"
   ]
  },
  {
   "cell_type": "markdown",
   "id": "f4c71acf",
   "metadata": {},
   "source": [
    "### FUND: F6"
   ]
  },
  {
   "cell_type": "code",
   "execution_count": null,
   "id": "20139c8a",
   "metadata": {},
   "outputs": [],
   "source": [
    "fund = 'f6'\n",
    "data = cat_obj[fund]\n",
    "print(\"Data challanges: \", list(data.data.keys()))\n",
    "print(\"Validation challanges: {}\".format(list(data.validation.challenge.values)))\n",
    "\n",
    "check_budget(data)"
   ]
  },
  {
   "cell_type": "markdown",
   "id": "83984ed0",
   "metadata": {},
   "source": [
    "### FUND: F7"
   ]
  },
  {
   "cell_type": "code",
   "execution_count": null,
   "id": "0074c2d6",
   "metadata": {},
   "outputs": [],
   "source": [
    "fund = 'f7'\n",
    "data = cat_obj[fund]\n",
    "print(\"Data challanges: \", list(data.data.keys()))\n",
    "print(\"Validation challanges: {}\".format(list(data.validation.challenge.values)))\n",
    "\n",
    "check_budget(data)"
   ]
  },
  {
   "cell_type": "markdown",
   "id": "e9245691",
   "metadata": {},
   "source": [
    "### FUND: F8"
   ]
  },
  {
   "cell_type": "code",
   "execution_count": null,
   "id": "ee48526f",
   "metadata": {},
   "outputs": [],
   "source": [
    "fund = 'f8'\n",
    "data = cat_obj[fund]\n",
    "print(\"Data challanges: \", list(data.data.keys()))\n",
    "print(\"Validation challanges: {}\".format(list(data.validation.challenge.values)))\n",
    "\n",
    "check_budget(data)"
   ]
  },
  {
   "cell_type": "markdown",
   "id": "2b0991cc",
   "metadata": {},
   "source": [
    "# CHALLENGE'S DATA\n",
    "Information analysis from CatalystData objects"
   ]
  },
  {
   "cell_type": "code",
   "execution_count": null,
   "id": "6c3551a7",
   "metadata": {},
   "outputs": [],
   "source": [
    "DEFAULT_COLS = ['Proposal', 'SCORE', 'YES', 'NO', 'Unique Yes', 'Unique No', 'Result','STATUS','REQUESTED $', 'challenge', 'Budget']\n",
    "CURRENCY_COLS = ['YES', 'NO', 'Result']\n",
    "def print_ch(fund):\n",
    "    print(\"#CHALLANGES: {}\".format(len(cat_obj[fund].data.keys())))\n",
    "    for ch, df in cat_obj[fund].data.items():\n",
    "        print('\\nCHALLANGE: {}'.format(ch))\n",
    "        print(\"columns: {}\".format(list(df.columns)))\n",
    "        print(\"Missing defaults: {}\".format(set(DEFAULT_COLS) - set(cat_obj[fund].data[ch].columns)))\n",
    "def view_currency_cols(fund):\n",
    "    for ch, df in cat_obj[fund].data.items():\n",
    "        print('>CHALLENGE: {}'.format(ch))\n",
    "        display(df[CURRENCY_COLS].head(3))\n",
    "def print_requested(fund):\n",
    "    for ch, df in cat_obj[fund].data.items():\n",
    "        print('>CHALLENGE: {}'.format(ch))\n",
    "        display(df['REQUESTED $'].head(3))\n",
    "def display_info(fund):\n",
    "    for ch, df in cat_obj[fund].data.items():\n",
    "        print('>CHALLENGE: {}'.format(ch))\n",
    "        display(df.info())"
   ]
  },
  {
   "cell_type": "markdown",
   "id": "42bc02be",
   "metadata": {},
   "source": [
    "## ALL CHALLENGES ALL FUNDS...\n",
    "### Identify necessary features formatting"
   ]
  },
  {
   "cell_type": "markdown",
   "id": "1b307b19",
   "metadata": {},
   "source": [
    "#### Currency features format"
   ]
  },
  {
   "cell_type": "code",
   "execution_count": null,
   "id": "601ab281",
   "metadata": {},
   "outputs": [],
   "source": [
    "for fund in funds:\n",
    "    print('\\n >> FUND: {}'.format(fund))\n",
    "    view_currency_cols(fund)"
   ]
  },
  {
   "cell_type": "markdown",
   "id": "14828259",
   "metadata": {},
   "source": [
    "#### 'REQUESTED \\$' FEATURE "
   ]
  },
  {
   "cell_type": "code",
   "execution_count": null,
   "id": "ec170ef2",
   "metadata": {},
   "outputs": [],
   "source": [
    "for fund in funds:\n",
    "    print('\\n >> FUND: {}'.format(fund))\n",
    "    print_requested(fund)"
   ]
  },
  {
   "cell_type": "markdown",
   "id": "2d1ac211",
   "metadata": {},
   "source": [
    "#### Columns vs Missing default-columns"
   ]
  },
  {
   "cell_type": "code",
   "execution_count": null,
   "id": "6fe37aaa",
   "metadata": {
    "scrolled": true
   },
   "outputs": [],
   "source": [
    "for fund in funds:\n",
    "    print('\\n >> FUND: {}'.format(fund))\n",
    "    print_ch(fund)"
   ]
  },
  {
   "cell_type": "markdown",
   "id": "248793df",
   "metadata": {},
   "source": [
    "#### DataFrame.info()"
   ]
  },
  {
   "cell_type": "code",
   "execution_count": null,
   "id": "ffb58d68",
   "metadata": {},
   "outputs": [],
   "source": [
    "for fund in funds:\n",
    "    print('\\n >> FUND: {}'.format(fund))\n",
    "    display_info(fund)"
   ]
  },
  {
   "cell_type": "markdown",
   "id": "c0fdb093",
   "metadata": {},
   "source": [
    "# RESULTS DATAFRAMES"
   ]
  },
  {
   "cell_type": "code",
   "execution_count": null,
   "id": "09324b11",
   "metadata": {},
   "outputs": [],
   "source": [
    "def display_results():\n",
    "    for fund in funds:\n",
    "        print(\"\\n\\nFUND: {}\".format(fund))\n",
    "        display(cat_obj[fund].results.head(3))\n",
    "        print(cat_obj[fund].results.info())\n",
    "        print('\\n>> Unique challenges: {}'.format(list(cat_obj[fund].results.challenge.unique())))\n",
    "        print('# {}'.format(len(list(cat_obj[fund].results.challenge.unique()))))\n",
    "display_results()"
   ]
  },
  {
   "cell_type": "code",
   "execution_count": null,
   "id": "da79a4ea",
   "metadata": {},
   "outputs": [],
   "source": []
  },
  {
   "cell_type": "code",
   "execution_count": null,
   "id": "9f83178b",
   "metadata": {},
   "outputs": [],
   "source": []
  },
  {
   "cell_type": "code",
   "execution_count": null,
   "id": "946b2afb",
   "metadata": {},
   "outputs": [],
   "source": []
  },
  {
   "cell_type": "code",
   "execution_count": null,
   "id": "709116d7",
   "metadata": {},
   "outputs": [],
   "source": []
  },
  {
   "cell_type": "code",
   "execution_count": null,
   "id": "bc474b3a",
   "metadata": {},
   "outputs": [],
   "source": []
  },
  {
   "cell_type": "code",
   "execution_count": null,
   "id": "0f6346ff",
   "metadata": {},
   "outputs": [],
   "source": []
  }
 ],
 "metadata": {
  "kernelspec": {
   "display_name": "Python 3 (ipykernel)",
   "language": "python",
   "name": "python3"
  },
  "language_info": {
   "codemirror_mode": {
    "name": "ipython",
    "version": 3
   },
   "file_extension": ".py",
   "mimetype": "text/x-python",
   "name": "python",
   "nbconvert_exporter": "python",
   "pygments_lexer": "ipython3",
   "version": "3.9.7"
  }
 },
 "nbformat": 4,
 "nbformat_minor": 5
}
